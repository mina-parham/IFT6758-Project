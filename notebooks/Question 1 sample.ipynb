{
 "cells": [
  {
   "cell_type": "markdown",
   "id": "dedd5bb0-0c41-4e99-9e13-0aabaeac9bba",
   "metadata": {},
   "source": [
    "# Sample code for Question 1\n",
    "\n",
    "This notebook shows how you can use the provided Python function to pull player stats from an online website.\n",
    "This function lives in a custom package that is provided to you in this repository.\n",
    "You are encouraged to leverage this package as a skeleton and add all of your reusable code, functions, etc. into relevant modules.\n",
    "This makes collaboration much easier as the package could be seen as a \"single source of truth\" to pull data, create visualizations, etc. rather than relying on a jumble of notebooks.\n",
    "You can still run into trouble if branches are not frequently merged as work progresses, so try to not let your branches diverge too much."
   ]
  },
  {
   "cell_type": "code",
   "execution_count": 19,
   "id": "51fe610c-9647-48a6-a49c-c0ee26d5b28b",
   "metadata": {},
   "outputs": [],
   "source": [
    "from ift6758.data import get_player_stats\n",
    "import sys"
   ]
  },
  {
   "cell_type": "markdown",
   "id": "64ac3fbd-9100-43df-b100-b3589a34602b",
   "metadata": {},
   "source": [
    "If the above doesn't work for you, make sure you've installed the repo as specified in the readme file. \n",
    "Essentially you must make sure that your environment is setup (either through conda or virtualenv), and then install it using:\n",
    "\n",
    "```bash\n",
    "pip install -e /path/to/repo \n",
    "```\n",
    "\n",
    "The nice thing using this approach is if you have your environment activated, you can import modules from anywhere on your system!"
   ]
  },
  {
   "cell_type": "code",
   "execution_count": 7,
   "id": "663c6229-089f-4244-945e-e81540698e3e",
   "metadata": {},
   "outputs": [
    {
     "name": "stdout",
     "output_type": "stream",
     "text": [
      "Retrieving data from 'https://www.hockey-reference.com/leagues/NHL_2016_goalies.html'...\n"
     ]
    }
   ],
   "source": [
    "df = get_player_stats(2016, 'goalies')"
   ]
  },
  {
   "cell_type": "markdown",
   "id": "f2288804-5936-45f8-b186-bc9bccbbaf4d",
   "metadata": {},
   "source": [
    "If you're curious, this function uses the `pd.read_html()` method ([doc](https://pandas.pydata.org/pandas-docs/stable/reference/api/pandas.read_html.html)), which internally uses [Beautiful Soup](https://www.crummy.com/software/BeautifulSoup/bs4/doc/) to parse HTML data."
   ]
  },
  {
   "cell_type": "code",
   "execution_count": 8,
   "id": "78f8a1a2-8262-4966-9a8d-38b1e516e2c8",
   "metadata": {},
   "outputs": [
    {
     "data": {
      "text/html": [
       "<div>\n",
       "<style scoped>\n",
       "    .dataframe tbody tr th:only-of-type {\n",
       "        vertical-align: middle;\n",
       "    }\n",
       "\n",
       "    .dataframe tbody tr th {\n",
       "        vertical-align: top;\n",
       "    }\n",
       "\n",
       "    .dataframe thead th {\n",
       "        text-align: right;\n",
       "    }\n",
       "</style>\n",
       "<table border=\"1\" class=\"dataframe\">\n",
       "  <thead>\n",
       "    <tr style=\"text-align: right;\">\n",
       "      <th></th>\n",
       "      <th>Rk</th>\n",
       "      <th>Player</th>\n",
       "      <th>Age</th>\n",
       "      <th>Tm</th>\n",
       "      <th>GP</th>\n",
       "      <th>GS</th>\n",
       "      <th>W</th>\n",
       "      <th>L</th>\n",
       "      <th>T/O</th>\n",
       "      <th>GA</th>\n",
       "      <th>...</th>\n",
       "      <th>MIN</th>\n",
       "      <th>QS</th>\n",
       "      <th>QS%</th>\n",
       "      <th>RBS</th>\n",
       "      <th>GA%-</th>\n",
       "      <th>GSAA</th>\n",
       "      <th>G</th>\n",
       "      <th>A</th>\n",
       "      <th>PTS</th>\n",
       "      <th>PIM</th>\n",
       "    </tr>\n",
       "  </thead>\n",
       "  <tbody>\n",
       "    <tr>\n",
       "      <th>0</th>\n",
       "      <td>1</td>\n",
       "      <td>Jake Allen</td>\n",
       "      <td>25</td>\n",
       "      <td>STL</td>\n",
       "      <td>47</td>\n",
       "      <td>44</td>\n",
       "      <td>26</td>\n",
       "      <td>15</td>\n",
       "      <td>3</td>\n",
       "      <td>101</td>\n",
       "      <td>...</td>\n",
       "      <td>2583</td>\n",
       "      <td>26</td>\n",
       "      <td>.591</td>\n",
       "      <td>6</td>\n",
       "      <td>94</td>\n",
       "      <td>6.28</td>\n",
       "      <td>0</td>\n",
       "      <td>0</td>\n",
       "      <td>0</td>\n",
       "      <td>0</td>\n",
       "    </tr>\n",
       "    <tr>\n",
       "      <th>1</th>\n",
       "      <td>2</td>\n",
       "      <td>Frederik Andersen</td>\n",
       "      <td>26</td>\n",
       "      <td>ANA</td>\n",
       "      <td>43</td>\n",
       "      <td>37</td>\n",
       "      <td>22</td>\n",
       "      <td>9</td>\n",
       "      <td>7</td>\n",
       "      <td>88</td>\n",
       "      <td>...</td>\n",
       "      <td>2298</td>\n",
       "      <td>24</td>\n",
       "      <td>.649</td>\n",
       "      <td>5</td>\n",
       "      <td>95</td>\n",
       "      <td>4.46</td>\n",
       "      <td>0</td>\n",
       "      <td>1</td>\n",
       "      <td>1</td>\n",
       "      <td>2</td>\n",
       "    </tr>\n",
       "    <tr>\n",
       "      <th>2</th>\n",
       "      <td>3</td>\n",
       "      <td>Craig Anderson</td>\n",
       "      <td>34</td>\n",
       "      <td>OTT</td>\n",
       "      <td>60</td>\n",
       "      <td>60</td>\n",
       "      <td>31</td>\n",
       "      <td>23</td>\n",
       "      <td>5</td>\n",
       "      <td>161</td>\n",
       "      <td>...</td>\n",
       "      <td>3477</td>\n",
       "      <td>31</td>\n",
       "      <td>.517</td>\n",
       "      <td>8</td>\n",
       "      <td>99</td>\n",
       "      <td>2.05</td>\n",
       "      <td>0</td>\n",
       "      <td>2</td>\n",
       "      <td>2</td>\n",
       "      <td>0</td>\n",
       "    </tr>\n",
       "    <tr>\n",
       "      <th>3</th>\n",
       "      <td>4</td>\n",
       "      <td>Richard Bachman</td>\n",
       "      <td>28</td>\n",
       "      <td>VAN</td>\n",
       "      <td>1</td>\n",
       "      <td>1</td>\n",
       "      <td>1</td>\n",
       "      <td>0</td>\n",
       "      <td>0</td>\n",
       "      <td>3</td>\n",
       "      <td>...</td>\n",
       "      <td>60</td>\n",
       "      <td>0</td>\n",
       "      <td>.000</td>\n",
       "      <td>0</td>\n",
       "      <td>NaN</td>\n",
       "      <td>NaN</td>\n",
       "      <td>0</td>\n",
       "      <td>0</td>\n",
       "      <td>0</td>\n",
       "      <td>0</td>\n",
       "    </tr>\n",
       "    <tr>\n",
       "      <th>4</th>\n",
       "      <td>5</td>\n",
       "      <td>Niklas Bäckström</td>\n",
       "      <td>37</td>\n",
       "      <td>CGY</td>\n",
       "      <td>4</td>\n",
       "      <td>3</td>\n",
       "      <td>2</td>\n",
       "      <td>2</td>\n",
       "      <td>0</td>\n",
       "      <td>13</td>\n",
       "      <td>...</td>\n",
       "      <td>233</td>\n",
       "      <td>2</td>\n",
       "      <td>.667</td>\n",
       "      <td>1</td>\n",
       "      <td>NaN</td>\n",
       "      <td>NaN</td>\n",
       "      <td>0</td>\n",
       "      <td>0</td>\n",
       "      <td>0</td>\n",
       "      <td>0</td>\n",
       "    </tr>\n",
       "  </tbody>\n",
       "</table>\n",
       "<p>5 rows × 26 columns</p>\n",
       "</div>"
      ],
      "text/plain": [
       "  Rk             Player Age   Tm  GP  GS   W   L T/O   GA  ...   MIN  QS  \\\n",
       "0  1         Jake Allen  25  STL  47  44  26  15   3  101  ...  2583  26   \n",
       "1  2  Frederik Andersen  26  ANA  43  37  22   9   7   88  ...  2298  24   \n",
       "2  3     Craig Anderson  34  OTT  60  60  31  23   5  161  ...  3477  31   \n",
       "3  4    Richard Bachman  28  VAN   1   1   1   0   0    3  ...    60   0   \n",
       "4  5   Niklas Bäckström  37  CGY   4   3   2   2   0   13  ...   233   2   \n",
       "\n",
       "    QS% RBS GA%-  GSAA  G  A PTS PIM  \n",
       "0  .591   6   94  6.28  0  0   0   0  \n",
       "1  .649   5   95  4.46  0  1   1   2  \n",
       "2  .517   8   99  2.05  0  2   2   0  \n",
       "3  .000   0  NaN   NaN  0  0   0   0  \n",
       "4  .667   1  NaN   NaN  0  0   0   0  \n",
       "\n",
       "[5 rows x 26 columns]"
      ]
     },
     "execution_count": 8,
     "metadata": {},
     "output_type": "execute_result"
    }
   ],
   "source": [
    "df.head()"
   ]
  },
  {
   "cell_type": "markdown",
   "id": "90f63419-b4fa-4458-ae44-7c104b573b03",
   "metadata": {},
   "source": [
    "## Q1 - Intento"
   ]
  },
  {
   "cell_type": "code",
   "execution_count": 2,
   "id": "302ad2b9",
   "metadata": {},
   "outputs": [],
   "source": [
    "sys.path.append('../ift6758/data/')\n",
    "from get_data import get_games_data"
   ]
  },
  {
   "cell_type": "code",
   "execution_count": null,
   "id": "c255b511",
   "metadata": {},
   "outputs": [],
   "source": [
    "data = get_games_data(2017, 2018, './json')"
   ]
  },
  {
   "cell_type": "markdown",
   "id": "e30cf8d1-c6e6-4e29-a6bf-a108176aa67a",
   "metadata": {},
   "source": [
    "Game IDs\n",
    "\n",
    "The first 4 digits identify the season of the game (ie. 2017 for the 2017-2018 season). The next 2 digits give the type of game, where 01 = preseason, 02 = regular season, 03 = playoffs, 04 = all-star. The final 4 digits identify the specific game number. For regular season and preseason games, this ranges from 0001 to the number of games played. (1271 for seasons with 31 teams (2017 and onwards) and 1230 for seasons with 30 teams). For playoff games, the 2nd digit of the specific number gives the round of the playoffs, the 3rd digit specifies the matchup, and the 4th digit specifies the game (out of 7)."
   ]
  },
  {
   "cell_type": "code",
   "execution_count": 51,
   "id": "6719236a-6adc-4f1a-ab0d-409972ab1b7d",
   "metadata": {},
   "outputs": [
    {
     "name": "stdout",
     "output_type": "stream",
     "text": [
      "Retrieving data from 'http://statsapi.web.nhl.com/api/v1/game/2017030146/feed/live'...\n"
     ]
    }
   ],
   "source": [
    "a = get_game_data('2017030146')"
   ]
  },
  {
   "cell_type": "code",
   "execution_count": 89,
   "id": "01eb06c3-d30a-441c-80d9-d84159bfe477",
   "metadata": {},
   "outputs": [],
   "source": [
    "a;"
   ]
  },
  {
   "cell_type": "code",
   "execution_count": 53,
   "id": "180fe1c9-445a-4acc-8dfe-0141b291843f",
   "metadata": {},
   "outputs": [
    {
     "data": {
      "text/plain": [
       "dict_keys(['copyright', 'gamePk', 'link', 'metaData', 'gameData', 'liveData'])"
      ]
     },
     "execution_count": 53,
     "metadata": {},
     "output_type": "execute_result"
    }
   ],
   "source": [
    "a.keys()"
   ]
  },
  {
   "cell_type": "code",
   "execution_count": 61,
   "id": "b76f9b6e-f40e-4118-93f0-478b41a3beb0",
   "metadata": {},
   "outputs": [
    {
     "data": {
      "text/plain": [
       "dict_keys(['game', 'datetime', 'status', 'teams', 'players', 'venue'])"
      ]
     },
     "execution_count": 61,
     "metadata": {},
     "output_type": "execute_result"
    }
   ],
   "source": [
    "a['gameData'].keys()"
   ]
  },
  {
   "cell_type": "code",
   "execution_count": 66,
   "id": "97f138a9-9156-47f2-85f4-3bd06643d6ac",
   "metadata": {},
   "outputs": [
    {
     "data": {
      "text/plain": [
       "dict_keys(['plays', 'linescore', 'boxscore', 'decisions'])"
      ]
     },
     "execution_count": 66,
     "metadata": {},
     "output_type": "execute_result"
    }
   ],
   "source": [
    "a['liveData'].keys()"
   ]
  },
  {
   "cell_type": "code",
   "execution_count": 67,
   "id": "c7dcb8f2-0957-43f3-8065-6cbdc1a4974a",
   "metadata": {},
   "outputs": [
    {
     "data": {
      "text/plain": [
       "dict_keys(['allPlays', 'scoringPlays', 'penaltyPlays', 'playsByPeriod', 'currentPlay'])"
      ]
     },
     "execution_count": 67,
     "metadata": {},
     "output_type": "execute_result"
    }
   ],
   "source": [
    "a['liveData']['plays'].keys()"
   ]
  },
  {
   "cell_type": "code",
   "execution_count": 75,
   "id": "cf044c2e-1019-423d-95c2-0ffd8999d725",
   "metadata": {},
   "outputs": [],
   "source": [
    "b = a['liveData']['plays']['allPlays']"
   ]
  },
  {
   "cell_type": "code",
   "execution_count": 76,
   "id": "adb78452-c99b-40b6-b278-25689704a94e",
   "metadata": {},
   "outputs": [
    {
     "data": {
      "text/plain": [
       "list"
      ]
     },
     "execution_count": 76,
     "metadata": {},
     "output_type": "execute_result"
    }
   ],
   "source": [
    "type(b)"
   ]
  },
  {
   "cell_type": "code",
   "execution_count": 77,
   "id": "2f3b117f-4b9c-455f-9f11-890c2ec87d10",
   "metadata": {},
   "outputs": [
    {
     "data": {
      "text/plain": [
       "321"
      ]
     },
     "execution_count": 77,
     "metadata": {},
     "output_type": "execute_result"
    }
   ],
   "source": [
    "len(b)"
   ]
  },
  {
   "cell_type": "code",
   "execution_count": 90,
   "id": "0c5e2d5a-7117-4735-904b-3ca37f6d47e5",
   "metadata": {},
   "outputs": [],
   "source": [
    "b;"
   ]
  },
  {
   "cell_type": "code",
   "execution_count": 88,
   "id": "85376119-ee17-4812-a2ee-3b60585d0009",
   "metadata": {},
   "outputs": [
    {
     "data": {
      "text/plain": [
       "'Blocked Shot'"
      ]
     },
     "execution_count": 88,
     "metadata": {},
     "output_type": "execute_result"
    }
   ],
   "source": [
    "b[5]['result']['event']"
   ]
  },
  {
   "cell_type": "code",
   "execution_count": 130,
   "id": "6d34bd4c-8d0d-4e7a-9d41-f8c9f32c972d",
   "metadata": {},
   "outputs": [
    {
     "data": {
      "text/plain": [
       "{'x': -46.0, 'y': 18.0}"
      ]
     },
     "execution_count": 130,
     "metadata": {},
     "output_type": "execute_result"
    }
   ],
   "source": [
    "b[5]['coordinates']"
   ]
  },
  {
   "cell_type": "code",
   "execution_count": 129,
   "id": "9692d914-25e8-4612-9830-9245004e77fa",
   "metadata": {},
   "outputs": [
    {
     "data": {
      "text/plain": [
       "-46.0"
      ]
     },
     "execution_count": 129,
     "metadata": {},
     "output_type": "execute_result"
    }
   ],
   "source": [
    "b[5]['coordinates']['x']"
   ]
  },
  {
   "cell_type": "code",
   "execution_count": 92,
   "id": "4ad23198-dbfd-4401-bdc7-cf35a08df5ff",
   "metadata": {},
   "outputs": [],
   "source": [
    "c = b[0]"
   ]
  },
  {
   "cell_type": "code",
   "execution_count": 93,
   "id": "7eafe1ef-dabf-492b-9bdb-d667cef54d1b",
   "metadata": {},
   "outputs": [
    {
     "data": {
      "text/plain": [
       "dict"
      ]
     },
     "execution_count": 93,
     "metadata": {},
     "output_type": "execute_result"
    }
   ],
   "source": [
    "type(c)"
   ]
  },
  {
   "cell_type": "code",
   "execution_count": 101,
   "id": "8a1c0624-248e-4c10-9727-b28f3290fd41",
   "metadata": {},
   "outputs": [
    {
     "data": {
      "text/plain": [
       "dict_keys(['result', 'about', 'coordinates'])"
      ]
     },
     "execution_count": 101,
     "metadata": {},
     "output_type": "execute_result"
    }
   ],
   "source": [
    "c.keys()"
   ]
  },
  {
   "cell_type": "code",
   "execution_count": 104,
   "id": "f793ad99-4e9d-47f2-9582-c42554835291",
   "metadata": {},
   "outputs": [],
   "source": [
    "df2 = pd.DataFrame.from_dict(c, orient=\"index\")"
   ]
  },
  {
   "cell_type": "code",
   "execution_count": 105,
   "id": "c9823ce8-7de8-4db1-b256-ee32e8b7924d",
   "metadata": {},
   "outputs": [
    {
     "data": {
      "text/html": [
       "<div>\n",
       "<style scoped>\n",
       "    .dataframe tbody tr th:only-of-type {\n",
       "        vertical-align: middle;\n",
       "    }\n",
       "\n",
       "    .dataframe tbody tr th {\n",
       "        vertical-align: top;\n",
       "    }\n",
       "\n",
       "    .dataframe thead th {\n",
       "        text-align: right;\n",
       "    }\n",
       "</style>\n",
       "<table border=\"1\" class=\"dataframe\">\n",
       "  <thead>\n",
       "    <tr style=\"text-align: right;\">\n",
       "      <th></th>\n",
       "      <th>event</th>\n",
       "      <th>eventCode</th>\n",
       "      <th>eventTypeId</th>\n",
       "      <th>description</th>\n",
       "      <th>eventIdx</th>\n",
       "      <th>eventId</th>\n",
       "      <th>period</th>\n",
       "      <th>periodType</th>\n",
       "      <th>ordinalNum</th>\n",
       "      <th>periodTime</th>\n",
       "      <th>periodTimeRemaining</th>\n",
       "      <th>dateTime</th>\n",
       "      <th>goals</th>\n",
       "    </tr>\n",
       "  </thead>\n",
       "  <tbody>\n",
       "    <tr>\n",
       "      <th>result</th>\n",
       "      <td>Game Scheduled</td>\n",
       "      <td>PHI1</td>\n",
       "      <td>GAME_SCHEDULED</td>\n",
       "      <td>Game Scheduled</td>\n",
       "      <td>NaN</td>\n",
       "      <td>NaN</td>\n",
       "      <td>NaN</td>\n",
       "      <td>NaN</td>\n",
       "      <td>NaN</td>\n",
       "      <td>NaN</td>\n",
       "      <td>NaN</td>\n",
       "      <td>NaN</td>\n",
       "      <td>NaN</td>\n",
       "    </tr>\n",
       "    <tr>\n",
       "      <th>about</th>\n",
       "      <td>NaN</td>\n",
       "      <td>NaN</td>\n",
       "      <td>NaN</td>\n",
       "      <td>NaN</td>\n",
       "      <td>0.0</td>\n",
       "      <td>1.0</td>\n",
       "      <td>1.0</td>\n",
       "      <td>REGULAR</td>\n",
       "      <td>1st</td>\n",
       "      <td>00:00</td>\n",
       "      <td>20:00</td>\n",
       "      <td>2018-04-22T18:17:18Z</td>\n",
       "      <td>{'away': 0, 'home': 0}</td>\n",
       "    </tr>\n",
       "  </tbody>\n",
       "</table>\n",
       "</div>"
      ],
      "text/plain": [
       "                 event eventCode     eventTypeId     description  eventIdx  \\\n",
       "result  Game Scheduled      PHI1  GAME_SCHEDULED  Game Scheduled       NaN   \n",
       "about              NaN       NaN             NaN             NaN       0.0   \n",
       "\n",
       "        eventId  period periodType ordinalNum periodTime periodTimeRemaining  \\\n",
       "result      NaN     NaN        NaN        NaN        NaN                 NaN   \n",
       "about       1.0     1.0    REGULAR        1st      00:00               20:00   \n",
       "\n",
       "                    dateTime                   goals  \n",
       "result                   NaN                     NaN  \n",
       "about   2018-04-22T18:17:18Z  {'away': 0, 'home': 0}  "
      ]
     },
     "execution_count": 105,
     "metadata": {},
     "output_type": "execute_result"
    }
   ],
   "source": [
    "df2"
   ]
  },
  {
   "cell_type": "code",
   "execution_count": 118,
   "id": "2b77976a-7b21-4c7c-94aa-4926fb6a9ad8",
   "metadata": {},
   "outputs": [],
   "source": [
    "teams_url = 'http://statsapi.web.nhl.com/api/v1/game/2017030178/feed/live'\n",
    "\n",
    "team_response = requests.get(teams_url)"
   ]
  },
  {
   "cell_type": "code",
   "execution_count": 120,
   "id": "3818f81d-42f7-458e-b251-0f23f767b667",
   "metadata": {},
   "outputs": [],
   "source": [
    "ej = (team_response.status_code)"
   ]
  },
  {
   "cell_type": "code",
   "execution_count": 121,
   "id": "2a1403a8-bac0-4d5b-8c26-f06fd6da51be",
   "metadata": {},
   "outputs": [
    {
     "data": {
      "text/plain": [
       "int"
      ]
     },
     "execution_count": 121,
     "metadata": {},
     "output_type": "execute_result"
    }
   ],
   "source": [
    "type(ej)"
   ]
  },
  {
   "cell_type": "code",
   "execution_count": null,
   "id": "acf4ffe9-8818-4887-9842-5bb0da55a3f5",
   "metadata": {},
   "outputs": [],
   "source": []
  }
 ],
 "metadata": {
  "kernelspec": {
   "display_name": "Python 3.7.13 ('ift6758-venv': venv)",
   "language": "python",
   "name": "python3"
  },
  "language_info": {
   "codemirror_mode": {
    "name": "ipython",
    "version": 3
   },
   "file_extension": ".py",
   "mimetype": "text/x-python",
   "name": "python",
   "nbconvert_exporter": "python",
   "pygments_lexer": "ipython3",
   "version": "3.7.13"
  },
  "vscode": {
   "interpreter": {
    "hash": "4fe09ca73dc1ade44e280cf68c07d4ecd7044d18ad21a05d48a82d6559a11209"
   }
  }
 },
 "nbformat": 4,
 "nbformat_minor": 5
}
