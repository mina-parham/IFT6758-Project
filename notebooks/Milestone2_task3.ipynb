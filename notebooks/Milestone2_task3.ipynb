{
 "cells": [
  {
   "cell_type": "code",
   "execution_count": 139,
   "id": "1ba5b78b-5eae-42ab-971d-9c7236a3e345",
   "metadata": {},
   "outputs": [],
   "source": [
    "import sys\n",
    "import pandas as pd\n",
    "import numpy as np\n",
    "sys.path.append('../ift6758/data/')\n",
    "from get_data import get_games_data"
   ]
  },
  {
   "cell_type": "code",
   "execution_count": 140,
   "id": "8d478bb1-c384-413a-a561-8193c8391d19",
   "metadata": {},
   "outputs": [],
   "source": [
    "train_2015_2018 = pd.read_csv('./milestone2_csvs/tidy_train_2015_2018.csv')"
   ]
  },
  {
   "cell_type": "code",
   "execution_count": 141,
   "id": "460d7419-2976-4de4-92d4-ad96a9fa8b7f",
   "metadata": {},
   "outputs": [],
   "source": [
    "test_2019_2020 = pd.read_csv('./milestone2_csvs/tidy_test_2019_2020.csv')"
   ]
  },
  {
   "cell_type": "code",
   "execution_count": 142,
   "id": "989cdf08-fc86-4ae3-872c-4ac0cd0d95f1",
   "metadata": {},
   "outputs": [
    {
     "data": {
      "text/html": [
       "<div>\n",
       "<style scoped>\n",
       "    .dataframe tbody tr th:only-of-type {\n",
       "        vertical-align: middle;\n",
       "    }\n",
       "\n",
       "    .dataframe tbody tr th {\n",
       "        vertical-align: top;\n",
       "    }\n",
       "\n",
       "    .dataframe thead th {\n",
       "        text-align: right;\n",
       "    }\n",
       "</style>\n",
       "<table border=\"1\" class=\"dataframe\">\n",
       "  <thead>\n",
       "    <tr style=\"text-align: right;\">\n",
       "      <th></th>\n",
       "      <th>event_idx</th>\n",
       "      <th>period_time</th>\n",
       "      <th>period</th>\n",
       "      <th>game_id</th>\n",
       "      <th>team_away_name</th>\n",
       "      <th>team_home_name</th>\n",
       "      <th>is_goal</th>\n",
       "      <th>coordinate_x</th>\n",
       "      <th>coordinate_y</th>\n",
       "      <th>shot_type</th>\n",
       "      <th>strength</th>\n",
       "      <th>shooter_name</th>\n",
       "      <th>goalie_name</th>\n",
       "      <th>empty_net</th>\n",
       "      <th>team_name</th>\n",
       "      <th>distance</th>\n",
       "      <th>angle</th>\n",
       "    </tr>\n",
       "  </thead>\n",
       "  <tbody>\n",
       "    <tr>\n",
       "      <th>0</th>\n",
       "      <td>7</td>\n",
       "      <td>00:51</td>\n",
       "      <td>1</td>\n",
       "      <td>2015020001</td>\n",
       "      <td>Montréal Canadiens</td>\n",
       "      <td>Toronto Maple Leafs</td>\n",
       "      <td>0</td>\n",
       "      <td>-55.0</td>\n",
       "      <td>6.0</td>\n",
       "      <td>Wrist Shot</td>\n",
       "      <td>NaN</td>\n",
       "      <td>Brad Boyes</td>\n",
       "      <td>Brad Boyes</td>\n",
       "      <td>0</td>\n",
       "      <td>Toronto Maple Leafs</td>\n",
       "      <td>34.5254</td>\n",
       "      <td>0.1087</td>\n",
       "    </tr>\n",
       "    <tr>\n",
       "      <th>1</th>\n",
       "      <td>9</td>\n",
       "      <td>01:05</td>\n",
       "      <td>1</td>\n",
       "      <td>2015020001</td>\n",
       "      <td>Montréal Canadiens</td>\n",
       "      <td>Toronto Maple Leafs</td>\n",
       "      <td>0</td>\n",
       "      <td>-79.0</td>\n",
       "      <td>0.0</td>\n",
       "      <td>Snap Shot</td>\n",
       "      <td>NaN</td>\n",
       "      <td>Nazem Kadri</td>\n",
       "      <td>Nazem Kadri</td>\n",
       "      <td>0</td>\n",
       "      <td>Toronto Maple Leafs</td>\n",
       "      <td>10.0000</td>\n",
       "      <td>0.0000</td>\n",
       "    </tr>\n",
       "    <tr>\n",
       "      <th>2</th>\n",
       "      <td>10</td>\n",
       "      <td>01:06</td>\n",
       "      <td>1</td>\n",
       "      <td>2015020001</td>\n",
       "      <td>Montréal Canadiens</td>\n",
       "      <td>Toronto Maple Leafs</td>\n",
       "      <td>0</td>\n",
       "      <td>-75.0</td>\n",
       "      <td>-1.0</td>\n",
       "      <td>Snap Shot</td>\n",
       "      <td>NaN</td>\n",
       "      <td>Nazem Kadri</td>\n",
       "      <td>Nazem Kadri</td>\n",
       "      <td>0</td>\n",
       "      <td>Toronto Maple Leafs</td>\n",
       "      <td>14.0357</td>\n",
       "      <td>0.0133</td>\n",
       "    </tr>\n",
       "    <tr>\n",
       "      <th>3</th>\n",
       "      <td>13</td>\n",
       "      <td>01:53</td>\n",
       "      <td>1</td>\n",
       "      <td>2015020001</td>\n",
       "      <td>Montréal Canadiens</td>\n",
       "      <td>Toronto Maple Leafs</td>\n",
       "      <td>0</td>\n",
       "      <td>-55.0</td>\n",
       "      <td>-36.0</td>\n",
       "      <td>Wrist Shot</td>\n",
       "      <td>NaN</td>\n",
       "      <td>Daniel Winnik</td>\n",
       "      <td>Daniel Winnik</td>\n",
       "      <td>0</td>\n",
       "      <td>Toronto Maple Leafs</td>\n",
       "      <td>49.5177</td>\n",
       "      <td>0.5796</td>\n",
       "    </tr>\n",
       "    <tr>\n",
       "      <th>4</th>\n",
       "      <td>21</td>\n",
       "      <td>02:37</td>\n",
       "      <td>1</td>\n",
       "      <td>2015020001</td>\n",
       "      <td>Montréal Canadiens</td>\n",
       "      <td>Toronto Maple Leafs</td>\n",
       "      <td>0</td>\n",
       "      <td>-61.0</td>\n",
       "      <td>-1.0</td>\n",
       "      <td>Tip-In</td>\n",
       "      <td>NaN</td>\n",
       "      <td>Joffrey Lupul</td>\n",
       "      <td>Joffrey Lupul</td>\n",
       "      <td>0</td>\n",
       "      <td>Toronto Maple Leafs</td>\n",
       "      <td>28.0179</td>\n",
       "      <td>0.0164</td>\n",
       "    </tr>\n",
       "  </tbody>\n",
       "</table>\n",
       "</div>"
      ],
      "text/plain": [
       "   event_idx period_time  period     game_id      team_away_name  \\\n",
       "0          7       00:51       1  2015020001  Montréal Canadiens   \n",
       "1          9       01:05       1  2015020001  Montréal Canadiens   \n",
       "2         10       01:06       1  2015020001  Montréal Canadiens   \n",
       "3         13       01:53       1  2015020001  Montréal Canadiens   \n",
       "4         21       02:37       1  2015020001  Montréal Canadiens   \n",
       "\n",
       "        team_home_name  is_goal  coordinate_x  coordinate_y   shot_type  \\\n",
       "0  Toronto Maple Leafs        0         -55.0           6.0  Wrist Shot   \n",
       "1  Toronto Maple Leafs        0         -79.0           0.0   Snap Shot   \n",
       "2  Toronto Maple Leafs        0         -75.0          -1.0   Snap Shot   \n",
       "3  Toronto Maple Leafs        0         -55.0         -36.0  Wrist Shot   \n",
       "4  Toronto Maple Leafs        0         -61.0          -1.0      Tip-In   \n",
       "\n",
       "  strength   shooter_name    goalie_name  empty_net            team_name  \\\n",
       "0      NaN     Brad Boyes     Brad Boyes          0  Toronto Maple Leafs   \n",
       "1      NaN    Nazem Kadri    Nazem Kadri          0  Toronto Maple Leafs   \n",
       "2      NaN    Nazem Kadri    Nazem Kadri          0  Toronto Maple Leafs   \n",
       "3      NaN  Daniel Winnik  Daniel Winnik          0  Toronto Maple Leafs   \n",
       "4      NaN  Joffrey Lupul  Joffrey Lupul          0  Toronto Maple Leafs   \n",
       "\n",
       "   distance   angle  \n",
       "0   34.5254  0.1087  \n",
       "1   10.0000  0.0000  \n",
       "2   14.0357  0.0133  \n",
       "3   49.5177  0.5796  \n",
       "4   28.0179  0.0164  "
      ]
     },
     "execution_count": 142,
     "metadata": {},
     "output_type": "execute_result"
    }
   ],
   "source": [
    "train_2015_2018.head()"
   ]
  },
  {
   "cell_type": "code",
   "execution_count": 143,
   "id": "aca895fb-75c1-4001-89f8-ed59cefbbd87",
   "metadata": {},
   "outputs": [
    {
     "data": {
      "text/html": [
       "<div>\n",
       "<style scoped>\n",
       "    .dataframe tbody tr th:only-of-type {\n",
       "        vertical-align: middle;\n",
       "    }\n",
       "\n",
       "    .dataframe tbody tr th {\n",
       "        vertical-align: top;\n",
       "    }\n",
       "\n",
       "    .dataframe thead th {\n",
       "        text-align: right;\n",
       "    }\n",
       "</style>\n",
       "<table border=\"1\" class=\"dataframe\">\n",
       "  <thead>\n",
       "    <tr style=\"text-align: right;\">\n",
       "      <th></th>\n",
       "      <th>event_idx</th>\n",
       "      <th>period_time</th>\n",
       "      <th>period</th>\n",
       "      <th>game_id</th>\n",
       "      <th>team_away_name</th>\n",
       "      <th>team_home_name</th>\n",
       "      <th>is_goal</th>\n",
       "      <th>coordinate_x</th>\n",
       "      <th>coordinate_y</th>\n",
       "      <th>shot_type</th>\n",
       "      <th>strength</th>\n",
       "      <th>shooter_name</th>\n",
       "      <th>goalie_name</th>\n",
       "      <th>empty_net</th>\n",
       "      <th>team_name</th>\n",
       "      <th>distance</th>\n",
       "      <th>angle</th>\n",
       "    </tr>\n",
       "  </thead>\n",
       "  <tbody>\n",
       "    <tr>\n",
       "      <th>332737</th>\n",
       "      <td>276</td>\n",
       "      <td>15:22</td>\n",
       "      <td>3</td>\n",
       "      <td>2018030417</td>\n",
       "      <td>St. Louis Blues</td>\n",
       "      <td>Boston Bruins</td>\n",
       "      <td>1</td>\n",
       "      <td>-77.0</td>\n",
       "      <td>7.0</td>\n",
       "      <td>Snap Shot</td>\n",
       "      <td>Even</td>\n",
       "      <td>Zach Sanford</td>\n",
       "      <td>Zach Sanford</td>\n",
       "      <td>0</td>\n",
       "      <td>St. Louis Blues</td>\n",
       "      <td>13.8924</td>\n",
       "      <td>0.0907</td>\n",
       "    </tr>\n",
       "    <tr>\n",
       "      <th>332738</th>\n",
       "      <td>279</td>\n",
       "      <td>15:51</td>\n",
       "      <td>3</td>\n",
       "      <td>2018030417</td>\n",
       "      <td>St. Louis Blues</td>\n",
       "      <td>Boston Bruins</td>\n",
       "      <td>0</td>\n",
       "      <td>-69.0</td>\n",
       "      <td>7.0</td>\n",
       "      <td>Snap Shot</td>\n",
       "      <td>NaN</td>\n",
       "      <td>Alexander Steen</td>\n",
       "      <td>Alexander Steen</td>\n",
       "      <td>0</td>\n",
       "      <td>St. Louis Blues</td>\n",
       "      <td>21.1896</td>\n",
       "      <td>0.1011</td>\n",
       "    </tr>\n",
       "    <tr>\n",
       "      <th>332739</th>\n",
       "      <td>280</td>\n",
       "      <td>15:55</td>\n",
       "      <td>3</td>\n",
       "      <td>2018030417</td>\n",
       "      <td>St. Louis Blues</td>\n",
       "      <td>Boston Bruins</td>\n",
       "      <td>0</td>\n",
       "      <td>-65.0</td>\n",
       "      <td>-4.0</td>\n",
       "      <td>Snap Shot</td>\n",
       "      <td>NaN</td>\n",
       "      <td>Ryan O'Reilly</td>\n",
       "      <td>Ryan O'Reilly</td>\n",
       "      <td>0</td>\n",
       "      <td>St. Louis Blues</td>\n",
       "      <td>24.3311</td>\n",
       "      <td>0.0615</td>\n",
       "    </tr>\n",
       "    <tr>\n",
       "      <th>332740</th>\n",
       "      <td>284</td>\n",
       "      <td>16:50</td>\n",
       "      <td>3</td>\n",
       "      <td>2018030417</td>\n",
       "      <td>St. Louis Blues</td>\n",
       "      <td>Boston Bruins</td>\n",
       "      <td>0</td>\n",
       "      <td>42.0</td>\n",
       "      <td>3.0</td>\n",
       "      <td>Wrist Shot</td>\n",
       "      <td>NaN</td>\n",
       "      <td>Marcus Johansson</td>\n",
       "      <td>Marcus Johansson</td>\n",
       "      <td>0</td>\n",
       "      <td>Boston Bruins</td>\n",
       "      <td>47.0956</td>\n",
       "      <td>0.0713</td>\n",
       "    </tr>\n",
       "    <tr>\n",
       "      <th>332741</th>\n",
       "      <td>289</td>\n",
       "      <td>17:50</td>\n",
       "      <td>3</td>\n",
       "      <td>2018030417</td>\n",
       "      <td>St. Louis Blues</td>\n",
       "      <td>Boston Bruins</td>\n",
       "      <td>1</td>\n",
       "      <td>44.0</td>\n",
       "      <td>24.0</td>\n",
       "      <td>Wrist Shot</td>\n",
       "      <td>Even</td>\n",
       "      <td>Matt Grzelcyk</td>\n",
       "      <td>Matt Grzelcyk</td>\n",
       "      <td>0</td>\n",
       "      <td>Boston Bruins</td>\n",
       "      <td>51.0000</td>\n",
       "      <td>0.4993</td>\n",
       "    </tr>\n",
       "  </tbody>\n",
       "</table>\n",
       "</div>"
      ],
      "text/plain": [
       "        event_idx period_time  period     game_id   team_away_name  \\\n",
       "332737        276       15:22       3  2018030417  St. Louis Blues   \n",
       "332738        279       15:51       3  2018030417  St. Louis Blues   \n",
       "332739        280       15:55       3  2018030417  St. Louis Blues   \n",
       "332740        284       16:50       3  2018030417  St. Louis Blues   \n",
       "332741        289       17:50       3  2018030417  St. Louis Blues   \n",
       "\n",
       "       team_home_name  is_goal  coordinate_x  coordinate_y   shot_type  \\\n",
       "332737  Boston Bruins        1         -77.0           7.0   Snap Shot   \n",
       "332738  Boston Bruins        0         -69.0           7.0   Snap Shot   \n",
       "332739  Boston Bruins        0         -65.0          -4.0   Snap Shot   \n",
       "332740  Boston Bruins        0          42.0           3.0  Wrist Shot   \n",
       "332741  Boston Bruins        1          44.0          24.0  Wrist Shot   \n",
       "\n",
       "       strength      shooter_name       goalie_name  empty_net  \\\n",
       "332737     Even      Zach Sanford      Zach Sanford          0   \n",
       "332738      NaN   Alexander Steen   Alexander Steen          0   \n",
       "332739      NaN     Ryan O'Reilly     Ryan O'Reilly          0   \n",
       "332740      NaN  Marcus Johansson  Marcus Johansson          0   \n",
       "332741     Even     Matt Grzelcyk     Matt Grzelcyk          0   \n",
       "\n",
       "              team_name  distance   angle  \n",
       "332737  St. Louis Blues   13.8924  0.0907  \n",
       "332738  St. Louis Blues   21.1896  0.1011  \n",
       "332739  St. Louis Blues   24.3311  0.0615  \n",
       "332740    Boston Bruins   47.0956  0.0713  \n",
       "332741    Boston Bruins   51.0000  0.4993  "
      ]
     },
     "execution_count": 143,
     "metadata": {},
     "output_type": "execute_result"
    }
   ],
   "source": [
    "train_2015_2018.tail()"
   ]
  },
  {
   "cell_type": "code",
   "execution_count": 144,
   "id": "266fad3c-73e4-42f9-87ca-c95cc0ddd1f1",
   "metadata": {},
   "outputs": [
    {
     "data": {
      "text/html": [
       "<div>\n",
       "<style scoped>\n",
       "    .dataframe tbody tr th:only-of-type {\n",
       "        vertical-align: middle;\n",
       "    }\n",
       "\n",
       "    .dataframe tbody tr th {\n",
       "        vertical-align: top;\n",
       "    }\n",
       "\n",
       "    .dataframe thead th {\n",
       "        text-align: right;\n",
       "    }\n",
       "</style>\n",
       "<table border=\"1\" class=\"dataframe\">\n",
       "  <thead>\n",
       "    <tr style=\"text-align: right;\">\n",
       "      <th></th>\n",
       "      <th>event_idx</th>\n",
       "      <th>period_time</th>\n",
       "      <th>period</th>\n",
       "      <th>game_id</th>\n",
       "      <th>team_away_name</th>\n",
       "      <th>team_home_name</th>\n",
       "      <th>is_goal</th>\n",
       "      <th>coordinate_x</th>\n",
       "      <th>coordinate_y</th>\n",
       "      <th>shot_type</th>\n",
       "      <th>strength</th>\n",
       "      <th>shooter_name</th>\n",
       "      <th>goalie_name</th>\n",
       "      <th>empty_net</th>\n",
       "      <th>team_name</th>\n",
       "      <th>distance</th>\n",
       "      <th>angle</th>\n",
       "    </tr>\n",
       "  </thead>\n",
       "  <tbody>\n",
       "    <tr>\n",
       "      <th>0</th>\n",
       "      <td>4</td>\n",
       "      <td>00:25</td>\n",
       "      <td>1</td>\n",
       "      <td>2019020001</td>\n",
       "      <td>Ottawa Senators</td>\n",
       "      <td>Toronto Maple Leafs</td>\n",
       "      <td>1</td>\n",
       "      <td>85.0</td>\n",
       "      <td>-1.0</td>\n",
       "      <td>Tip-In</td>\n",
       "      <td>Even</td>\n",
       "      <td>Brady Tkachuk</td>\n",
       "      <td>Brady Tkachuk</td>\n",
       "      <td>0</td>\n",
       "      <td>Ottawa Senators</td>\n",
       "      <td>4.1231</td>\n",
       "      <td>0.0118</td>\n",
       "    </tr>\n",
       "    <tr>\n",
       "      <th>1</th>\n",
       "      <td>12</td>\n",
       "      <td>01:31</td>\n",
       "      <td>1</td>\n",
       "      <td>2019020001</td>\n",
       "      <td>Ottawa Senators</td>\n",
       "      <td>Toronto Maple Leafs</td>\n",
       "      <td>0</td>\n",
       "      <td>-32.0</td>\n",
       "      <td>-2.0</td>\n",
       "      <td>Snap Shot</td>\n",
       "      <td>NaN</td>\n",
       "      <td>Morgan Rielly</td>\n",
       "      <td>Morgan Rielly</td>\n",
       "      <td>0</td>\n",
       "      <td>Toronto Maple Leafs</td>\n",
       "      <td>57.0351</td>\n",
       "      <td>0.0624</td>\n",
       "    </tr>\n",
       "    <tr>\n",
       "      <th>2</th>\n",
       "      <td>19</td>\n",
       "      <td>03:23</td>\n",
       "      <td>1</td>\n",
       "      <td>2019020001</td>\n",
       "      <td>Ottawa Senators</td>\n",
       "      <td>Toronto Maple Leafs</td>\n",
       "      <td>0</td>\n",
       "      <td>63.0</td>\n",
       "      <td>-6.0</td>\n",
       "      <td>Snap Shot</td>\n",
       "      <td>NaN</td>\n",
       "      <td>Dylan DeMelo</td>\n",
       "      <td>Dylan DeMelo</td>\n",
       "      <td>0</td>\n",
       "      <td>Ottawa Senators</td>\n",
       "      <td>26.6833</td>\n",
       "      <td>0.0950</td>\n",
       "    </tr>\n",
       "    <tr>\n",
       "      <th>3</th>\n",
       "      <td>22</td>\n",
       "      <td>03:56</td>\n",
       "      <td>1</td>\n",
       "      <td>2019020001</td>\n",
       "      <td>Ottawa Senators</td>\n",
       "      <td>Toronto Maple Leafs</td>\n",
       "      <td>0</td>\n",
       "      <td>-59.0</td>\n",
       "      <td>-20.0</td>\n",
       "      <td>Wrist Shot</td>\n",
       "      <td>NaN</td>\n",
       "      <td>Morgan Rielly</td>\n",
       "      <td>Morgan Rielly</td>\n",
       "      <td>0</td>\n",
       "      <td>Toronto Maple Leafs</td>\n",
       "      <td>36.0555</td>\n",
       "      <td>0.3268</td>\n",
       "    </tr>\n",
       "    <tr>\n",
       "      <th>4</th>\n",
       "      <td>27</td>\n",
       "      <td>04:47</td>\n",
       "      <td>1</td>\n",
       "      <td>2019020001</td>\n",
       "      <td>Ottawa Senators</td>\n",
       "      <td>Toronto Maple Leafs</td>\n",
       "      <td>0</td>\n",
       "      <td>-42.0</td>\n",
       "      <td>-29.0</td>\n",
       "      <td>Slap Shot</td>\n",
       "      <td>NaN</td>\n",
       "      <td>Tyson Barrie</td>\n",
       "      <td>Tyson Barrie</td>\n",
       "      <td>0</td>\n",
       "      <td>Toronto Maple Leafs</td>\n",
       "      <td>55.2268</td>\n",
       "      <td>0.6043</td>\n",
       "    </tr>\n",
       "  </tbody>\n",
       "</table>\n",
       "</div>"
      ],
      "text/plain": [
       "   event_idx period_time  period     game_id   team_away_name  \\\n",
       "0          4       00:25       1  2019020001  Ottawa Senators   \n",
       "1         12       01:31       1  2019020001  Ottawa Senators   \n",
       "2         19       03:23       1  2019020001  Ottawa Senators   \n",
       "3         22       03:56       1  2019020001  Ottawa Senators   \n",
       "4         27       04:47       1  2019020001  Ottawa Senators   \n",
       "\n",
       "        team_home_name  is_goal  coordinate_x  coordinate_y   shot_type  \\\n",
       "0  Toronto Maple Leafs        1          85.0          -1.0      Tip-In   \n",
       "1  Toronto Maple Leafs        0         -32.0          -2.0   Snap Shot   \n",
       "2  Toronto Maple Leafs        0          63.0          -6.0   Snap Shot   \n",
       "3  Toronto Maple Leafs        0         -59.0         -20.0  Wrist Shot   \n",
       "4  Toronto Maple Leafs        0         -42.0         -29.0   Slap Shot   \n",
       "\n",
       "  strength   shooter_name    goalie_name  empty_net            team_name  \\\n",
       "0     Even  Brady Tkachuk  Brady Tkachuk          0      Ottawa Senators   \n",
       "1      NaN  Morgan Rielly  Morgan Rielly          0  Toronto Maple Leafs   \n",
       "2      NaN   Dylan DeMelo   Dylan DeMelo          0      Ottawa Senators   \n",
       "3      NaN  Morgan Rielly  Morgan Rielly          0  Toronto Maple Leafs   \n",
       "4      NaN   Tyson Barrie   Tyson Barrie          0  Toronto Maple Leafs   \n",
       "\n",
       "   distance   angle  \n",
       "0    4.1231  0.0118  \n",
       "1   57.0351  0.0624  \n",
       "2   26.6833  0.0950  \n",
       "3   36.0555  0.3268  \n",
       "4   55.2268  0.6043  "
      ]
     },
     "execution_count": 144,
     "metadata": {},
     "output_type": "execute_result"
    }
   ],
   "source": [
    "test_2019_2020.head()"
   ]
  },
  {
   "cell_type": "code",
   "execution_count": 145,
   "id": "544298ca-d4d4-4985-99dc-7d0307f1fa45",
   "metadata": {},
   "outputs": [
    {
     "data": {
      "text/html": [
       "<div>\n",
       "<style scoped>\n",
       "    .dataframe tbody tr th:only-of-type {\n",
       "        vertical-align: middle;\n",
       "    }\n",
       "\n",
       "    .dataframe tbody tr th {\n",
       "        vertical-align: top;\n",
       "    }\n",
       "\n",
       "    .dataframe thead th {\n",
       "        text-align: right;\n",
       "    }\n",
       "</style>\n",
       "<table border=\"1\" class=\"dataframe\">\n",
       "  <thead>\n",
       "    <tr style=\"text-align: right;\">\n",
       "      <th></th>\n",
       "      <th>event_idx</th>\n",
       "      <th>period_time</th>\n",
       "      <th>period</th>\n",
       "      <th>game_id</th>\n",
       "      <th>team_away_name</th>\n",
       "      <th>team_home_name</th>\n",
       "      <th>is_goal</th>\n",
       "      <th>coordinate_x</th>\n",
       "      <th>coordinate_y</th>\n",
       "      <th>shot_type</th>\n",
       "      <th>strength</th>\n",
       "      <th>shooter_name</th>\n",
       "      <th>goalie_name</th>\n",
       "      <th>empty_net</th>\n",
       "      <th>team_name</th>\n",
       "      <th>distance</th>\n",
       "      <th>angle</th>\n",
       "    </tr>\n",
       "  </thead>\n",
       "  <tbody>\n",
       "    <tr>\n",
       "      <th>73862</th>\n",
       "      <td>319</td>\n",
       "      <td>16:01</td>\n",
       "      <td>3</td>\n",
       "      <td>2019030416</td>\n",
       "      <td>Tampa Bay Lightning</td>\n",
       "      <td>Dallas Stars</td>\n",
       "      <td>0</td>\n",
       "      <td>-59.0</td>\n",
       "      <td>-24.0</td>\n",
       "      <td>Snap Shot</td>\n",
       "      <td>NaN</td>\n",
       "      <td>Anthony Cirelli</td>\n",
       "      <td>Anthony Cirelli</td>\n",
       "      <td>0</td>\n",
       "      <td>Tampa Bay Lightning</td>\n",
       "      <td>38.4187</td>\n",
       "      <td>0.3863</td>\n",
       "    </tr>\n",
       "    <tr>\n",
       "      <th>73863</th>\n",
       "      <td>326</td>\n",
       "      <td>17:20</td>\n",
       "      <td>3</td>\n",
       "      <td>2019030416</td>\n",
       "      <td>Tampa Bay Lightning</td>\n",
       "      <td>Dallas Stars</td>\n",
       "      <td>0</td>\n",
       "      <td>-81.0</td>\n",
       "      <td>3.0</td>\n",
       "      <td>Wrist Shot</td>\n",
       "      <td>NaN</td>\n",
       "      <td>Blake Coleman</td>\n",
       "      <td>Blake Coleman</td>\n",
       "      <td>0</td>\n",
       "      <td>Tampa Bay Lightning</td>\n",
       "      <td>8.5440</td>\n",
       "      <td>0.0370</td>\n",
       "    </tr>\n",
       "    <tr>\n",
       "      <th>73864</th>\n",
       "      <td>333</td>\n",
       "      <td>18:50</td>\n",
       "      <td>3</td>\n",
       "      <td>2019030416</td>\n",
       "      <td>Tampa Bay Lightning</td>\n",
       "      <td>Dallas Stars</td>\n",
       "      <td>0</td>\n",
       "      <td>34.0</td>\n",
       "      <td>-6.0</td>\n",
       "      <td>Snap Shot</td>\n",
       "      <td>NaN</td>\n",
       "      <td>John Klingberg</td>\n",
       "      <td>John Klingberg</td>\n",
       "      <td>0</td>\n",
       "      <td>Dallas Stars</td>\n",
       "      <td>55.3263</td>\n",
       "      <td>0.1747</td>\n",
       "    </tr>\n",
       "    <tr>\n",
       "      <th>73865</th>\n",
       "      <td>341</td>\n",
       "      <td>19:27</td>\n",
       "      <td>3</td>\n",
       "      <td>2019030416</td>\n",
       "      <td>Tampa Bay Lightning</td>\n",
       "      <td>Dallas Stars</td>\n",
       "      <td>0</td>\n",
       "      <td>31.0</td>\n",
       "      <td>10.0</td>\n",
       "      <td>Wrist Shot</td>\n",
       "      <td>NaN</td>\n",
       "      <td>John Klingberg</td>\n",
       "      <td>John Klingberg</td>\n",
       "      <td>0</td>\n",
       "      <td>Dallas Stars</td>\n",
       "      <td>58.8558</td>\n",
       "      <td>0.3120</td>\n",
       "    </tr>\n",
       "    <tr>\n",
       "      <th>73866</th>\n",
       "      <td>343</td>\n",
       "      <td>19:45</td>\n",
       "      <td>3</td>\n",
       "      <td>2019030416</td>\n",
       "      <td>Tampa Bay Lightning</td>\n",
       "      <td>Dallas Stars</td>\n",
       "      <td>0</td>\n",
       "      <td>77.0</td>\n",
       "      <td>0.0</td>\n",
       "      <td>Wrist Shot</td>\n",
       "      <td>NaN</td>\n",
       "      <td>Joe Pavelski</td>\n",
       "      <td>Joe Pavelski</td>\n",
       "      <td>0</td>\n",
       "      <td>Dallas Stars</td>\n",
       "      <td>12.0000</td>\n",
       "      <td>0.0000</td>\n",
       "    </tr>\n",
       "  </tbody>\n",
       "</table>\n",
       "</div>"
      ],
      "text/plain": [
       "       event_idx period_time  period     game_id       team_away_name  \\\n",
       "73862        319       16:01       3  2019030416  Tampa Bay Lightning   \n",
       "73863        326       17:20       3  2019030416  Tampa Bay Lightning   \n",
       "73864        333       18:50       3  2019030416  Tampa Bay Lightning   \n",
       "73865        341       19:27       3  2019030416  Tampa Bay Lightning   \n",
       "73866        343       19:45       3  2019030416  Tampa Bay Lightning   \n",
       "\n",
       "      team_home_name  is_goal  coordinate_x  coordinate_y   shot_type  \\\n",
       "73862   Dallas Stars        0         -59.0         -24.0   Snap Shot   \n",
       "73863   Dallas Stars        0         -81.0           3.0  Wrist Shot   \n",
       "73864   Dallas Stars        0          34.0          -6.0   Snap Shot   \n",
       "73865   Dallas Stars        0          31.0          10.0  Wrist Shot   \n",
       "73866   Dallas Stars        0          77.0           0.0  Wrist Shot   \n",
       "\n",
       "      strength     shooter_name      goalie_name  empty_net  \\\n",
       "73862      NaN  Anthony Cirelli  Anthony Cirelli          0   \n",
       "73863      NaN    Blake Coleman    Blake Coleman          0   \n",
       "73864      NaN   John Klingberg   John Klingberg          0   \n",
       "73865      NaN   John Klingberg   John Klingberg          0   \n",
       "73866      NaN     Joe Pavelski     Joe Pavelski          0   \n",
       "\n",
       "                 team_name  distance   angle  \n",
       "73862  Tampa Bay Lightning   38.4187  0.3863  \n",
       "73863  Tampa Bay Lightning    8.5440  0.0370  \n",
       "73864         Dallas Stars   55.3263  0.1747  \n",
       "73865         Dallas Stars   58.8558  0.3120  \n",
       "73866         Dallas Stars   12.0000  0.0000  "
      ]
     },
     "execution_count": 145,
     "metadata": {},
     "output_type": "execute_result"
    }
   ],
   "source": [
    "test_2019_2020.tail()"
   ]
  },
  {
   "cell_type": "code",
   "execution_count": 146,
   "id": "94879919-0b34-4e34-9c42-5442c4a0069d",
   "metadata": {},
   "outputs": [
    {
     "name": "stderr",
     "output_type": "stream",
     "text": [
      "/tmp/ipykernel_88714/2399475189.py:2: SettingWithCopyWarning: \n",
      "A value is trying to be set on a copy of a slice from a DataFrame.\n",
      "Try using .loc[row_indexer,col_indexer] = value instead\n",
      "\n",
      "See the caveats in the documentation: https://pandas.pydata.org/pandas-docs/stable/user_guide/indexing.html#returning-a-view-versus-a-copy\n",
      "  goal_data['angle'] = goal_data['angle'].apply(lambda x: np.rad2deg(x))\n"
     ]
    },
    {
     "data": {
      "text/html": [
       "<div>\n",
       "<style scoped>\n",
       "    .dataframe tbody tr th:only-of-type {\n",
       "        vertical-align: middle;\n",
       "    }\n",
       "\n",
       "    .dataframe tbody tr th {\n",
       "        vertical-align: top;\n",
       "    }\n",
       "\n",
       "    .dataframe thead th {\n",
       "        text-align: right;\n",
       "    }\n",
       "</style>\n",
       "<table border=\"1\" class=\"dataframe\">\n",
       "  <thead>\n",
       "    <tr style=\"text-align: right;\">\n",
       "      <th></th>\n",
       "      <th>distance</th>\n",
       "      <th>angle</th>\n",
       "      <th>is_goal</th>\n",
       "    </tr>\n",
       "  </thead>\n",
       "  <tbody>\n",
       "    <tr>\n",
       "      <th>0</th>\n",
       "      <td>34.5254</td>\n",
       "      <td>6.228051</td>\n",
       "      <td>0</td>\n",
       "    </tr>\n",
       "    <tr>\n",
       "      <th>1</th>\n",
       "      <td>10.0000</td>\n",
       "      <td>0.000000</td>\n",
       "      <td>0</td>\n",
       "    </tr>\n",
       "    <tr>\n",
       "      <th>2</th>\n",
       "      <td>14.0357</td>\n",
       "      <td>0.762034</td>\n",
       "      <td>0</td>\n",
       "    </tr>\n",
       "    <tr>\n",
       "      <th>3</th>\n",
       "      <td>49.5177</td>\n",
       "      <td>33.208634</td>\n",
       "      <td>0</td>\n",
       "    </tr>\n",
       "    <tr>\n",
       "      <th>4</th>\n",
       "      <td>28.0179</td>\n",
       "      <td>0.939651</td>\n",
       "      <td>0</td>\n",
       "    </tr>\n",
       "    <tr>\n",
       "      <th>...</th>\n",
       "      <td>...</td>\n",
       "      <td>...</td>\n",
       "      <td>...</td>\n",
       "    </tr>\n",
       "    <tr>\n",
       "      <th>332737</th>\n",
       "      <td>13.8924</td>\n",
       "      <td>5.196727</td>\n",
       "      <td>1</td>\n",
       "    </tr>\n",
       "    <tr>\n",
       "      <th>332738</th>\n",
       "      <td>21.1896</td>\n",
       "      <td>5.792603</td>\n",
       "      <td>0</td>\n",
       "    </tr>\n",
       "    <tr>\n",
       "      <th>332739</th>\n",
       "      <td>24.3311</td>\n",
       "      <td>3.523690</td>\n",
       "      <td>0</td>\n",
       "    </tr>\n",
       "    <tr>\n",
       "      <th>332740</th>\n",
       "      <td>47.0956</td>\n",
       "      <td>4.085189</td>\n",
       "      <td>0</td>\n",
       "    </tr>\n",
       "    <tr>\n",
       "      <th>332741</th>\n",
       "      <td>51.0000</td>\n",
       "      <td>28.607783</td>\n",
       "      <td>1</td>\n",
       "    </tr>\n",
       "  </tbody>\n",
       "</table>\n",
       "<p>332742 rows × 3 columns</p>\n",
       "</div>"
      ],
      "text/plain": [
       "        distance      angle  is_goal\n",
       "0        34.5254   6.228051        0\n",
       "1        10.0000   0.000000        0\n",
       "2        14.0357   0.762034        0\n",
       "3        49.5177  33.208634        0\n",
       "4        28.0179   0.939651        0\n",
       "...          ...        ...      ...\n",
       "332737   13.8924   5.196727        1\n",
       "332738   21.1896   5.792603        0\n",
       "332739   24.3311   3.523690        0\n",
       "332740   47.0956   4.085189        0\n",
       "332741   51.0000  28.607783        1\n",
       "\n",
       "[332742 rows x 3 columns]"
      ]
     },
     "execution_count": 146,
     "metadata": {},
     "output_type": "execute_result"
    }
   ],
   "source": [
    "goal_data = train_2015_2018[['distance','angle','is_goal']]\n",
    "goal_data['angle'] = goal_data['angle'].apply(lambda x: np.rad2deg(x))\n",
    "goal_data"
   ]
  },
  {
   "cell_type": "code",
   "execution_count": 147,
   "id": "0882ef03-26af-44b5-95ae-17f2839840a2",
   "metadata": {},
   "outputs": [],
   "source": [
    "import seaborn as sns\n",
    "import matplotlib.pyplot as plt \n",
    "import matplotlib.ticker as mtick"
   ]
  },
  {
   "cell_type": "markdown",
   "id": "06f86776-1ec2-4c21-9ff6-37d3c424006a",
   "metadata": {},
   "source": [
    "# Task 3- Logistic Regression Model"
   ]
  },
  {
   "cell_type": "code",
   "execution_count": 148,
   "id": "cba4ec5f-5629-474e-be35-0c001ae1b6b2",
   "metadata": {},
   "outputs": [],
   "source": [
    "import os"
   ]
  },
  {
   "cell_type": "code",
   "execution_count": 149,
   "id": "cd646f36-8773-427d-8bf1-9d03f2856f10",
   "metadata": {},
   "outputs": [],
   "source": [
    "api_key = os.getenv('api_key')\n",
    "project_name = os.getenv('project_name')\n",
    "workspace = os.getenv('workspace')"
   ]
  },
  {
   "cell_type": "code",
   "execution_count": 150,
   "id": "da39a3e5-6c52-4626-8624-958a0668316a",
   "metadata": {},
   "outputs": [
    {
     "name": "stderr",
     "output_type": "stream",
     "text": [
      "COMET WARNING: As you are running in a Jupyter environment, you will need to call `experiment.end()` when finished to ensure all metrics and code are logged before exiting.\n",
      "COMET INFO: Experiment is live on comet.com https://www.comet.com/nexus10/milestone2-logregmodels/c869e1c95e6a477b80b12b05f1dfee04\n",
      "\n"
     ]
    }
   ],
   "source": [
    "# Import comet_ml at the top of your file\n",
    "from comet_ml import Experiment\n",
    "\n",
    "# Create an experiment with your api key\n",
    "experiment = Experiment(\n",
    "    api_key= api_key,\n",
    "    project_name= project_name,#\"milestone2-logregmodels\",\n",
    "    workspace= workspace,#\"nexus10\",\n",
    ")"
   ]
  },
  {
   "cell_type": "code",
   "execution_count": 151,
   "id": "0c2bd73a-a9c9-478b-a02e-544833268ed1",
   "metadata": {},
   "outputs": [],
   "source": [
    "from sklearn.linear_model import LogisticRegression\n",
    "from sklearn.model_selection import train_test_split\n",
    "from itertools import cycle\n",
    "\n",
    "from sklearn.metrics import accuracy_score, roc_curve, auc\n",
    "from sklearn.multiclass import OneVsRestClassifier\n",
    "from sklearn.metrics import roc_auc_score"
   ]
  },
  {
   "cell_type": "code",
   "execution_count": 152,
   "id": "0b200bf0-ad74-4cf6-842c-b4105e69f6e6",
   "metadata": {},
   "outputs": [
    {
     "data": {
      "text/html": [
       "<div>\n",
       "<style scoped>\n",
       "    .dataframe tbody tr th:only-of-type {\n",
       "        vertical-align: middle;\n",
       "    }\n",
       "\n",
       "    .dataframe tbody tr th {\n",
       "        vertical-align: top;\n",
       "    }\n",
       "\n",
       "    .dataframe thead th {\n",
       "        text-align: right;\n",
       "    }\n",
       "</style>\n",
       "<table border=\"1\" class=\"dataframe\">\n",
       "  <thead>\n",
       "    <tr style=\"text-align: right;\">\n",
       "      <th></th>\n",
       "      <th>distance</th>\n",
       "      <th>angle</th>\n",
       "      <th>is_goal</th>\n",
       "    </tr>\n",
       "  </thead>\n",
       "  <tbody>\n",
       "    <tr>\n",
       "      <th>0</th>\n",
       "      <td>34.5254</td>\n",
       "      <td>0.1087</td>\n",
       "      <td>0</td>\n",
       "    </tr>\n",
       "    <tr>\n",
       "      <th>1</th>\n",
       "      <td>10.0000</td>\n",
       "      <td>0.0000</td>\n",
       "      <td>0</td>\n",
       "    </tr>\n",
       "    <tr>\n",
       "      <th>2</th>\n",
       "      <td>14.0357</td>\n",
       "      <td>0.0133</td>\n",
       "      <td>0</td>\n",
       "    </tr>\n",
       "    <tr>\n",
       "      <th>3</th>\n",
       "      <td>49.5177</td>\n",
       "      <td>0.5796</td>\n",
       "      <td>0</td>\n",
       "    </tr>\n",
       "    <tr>\n",
       "      <th>4</th>\n",
       "      <td>28.0179</td>\n",
       "      <td>0.0164</td>\n",
       "      <td>0</td>\n",
       "    </tr>\n",
       "    <tr>\n",
       "      <th>...</th>\n",
       "      <td>...</td>\n",
       "      <td>...</td>\n",
       "      <td>...</td>\n",
       "    </tr>\n",
       "    <tr>\n",
       "      <th>332737</th>\n",
       "      <td>13.8924</td>\n",
       "      <td>0.0907</td>\n",
       "      <td>1</td>\n",
       "    </tr>\n",
       "    <tr>\n",
       "      <th>332738</th>\n",
       "      <td>21.1896</td>\n",
       "      <td>0.1011</td>\n",
       "      <td>0</td>\n",
       "    </tr>\n",
       "    <tr>\n",
       "      <th>332739</th>\n",
       "      <td>24.3311</td>\n",
       "      <td>0.0615</td>\n",
       "      <td>0</td>\n",
       "    </tr>\n",
       "    <tr>\n",
       "      <th>332740</th>\n",
       "      <td>47.0956</td>\n",
       "      <td>0.0713</td>\n",
       "      <td>0</td>\n",
       "    </tr>\n",
       "    <tr>\n",
       "      <th>332741</th>\n",
       "      <td>51.0000</td>\n",
       "      <td>0.4993</td>\n",
       "      <td>1</td>\n",
       "    </tr>\n",
       "  </tbody>\n",
       "</table>\n",
       "<p>332742 rows × 3 columns</p>\n",
       "</div>"
      ],
      "text/plain": [
       "        distance   angle  is_goal\n",
       "0        34.5254  0.1087        0\n",
       "1        10.0000  0.0000        0\n",
       "2        14.0357  0.0133        0\n",
       "3        49.5177  0.5796        0\n",
       "4        28.0179  0.0164        0\n",
       "...          ...     ...      ...\n",
       "332737   13.8924  0.0907        1\n",
       "332738   21.1896  0.1011        0\n",
       "332739   24.3311  0.0615        0\n",
       "332740   47.0956  0.0713        0\n",
       "332741   51.0000  0.4993        1\n",
       "\n",
       "[332742 rows x 3 columns]"
      ]
     },
     "execution_count": 152,
     "metadata": {},
     "output_type": "execute_result"
    }
   ],
   "source": [
    "goal_data3 = train_2015_2018[['distance','angle','is_goal']]\n",
    "goal_data3"
   ]
  },
  {
   "cell_type": "code",
   "execution_count": 153,
   "id": "d94a8804-9a59-4a9d-8f6d-bf12a06bfcd3",
   "metadata": {},
   "outputs": [],
   "source": [
    "goal_data3 = goal_data3.dropna()"
   ]
  },
  {
   "cell_type": "markdown",
   "id": "29201010-7d27-4fe1-8fe4-eefcdf061bf7",
   "metadata": {},
   "source": [
    "## Experiment 1"
   ]
  },
  {
   "cell_type": "code",
   "execution_count": 154,
   "id": "ec74c637-4621-4794-a6ec-b7a99eda169f",
   "metadata": {},
   "outputs": [],
   "source": [
    "X = np.array(goal_data3[['distance','angle']])\n",
    "Y = np.array(goal_data3[['is_goal']])"
   ]
  },
  {
   "cell_type": "code",
   "execution_count": 155,
   "id": "56d4aa94-7b9e-42aa-a033-4045d0cc014d",
   "metadata": {},
   "outputs": [],
   "source": [
    "rng = np.random.RandomState(0)"
   ]
  },
  {
   "cell_type": "code",
   "execution_count": 156,
   "id": "425df198-e968-42d5-95da-69d33294eb27",
   "metadata": {},
   "outputs": [],
   "source": [
    "X_train, X_test, y_train, y_test = train_test_split(X, Y, test_size=0.2, random_state=rng)"
   ]
  },
  {
   "cell_type": "code",
   "execution_count": 157,
   "id": "1b6b902a-7896-4c54-89d3-480ece3fd4fe",
   "metadata": {},
   "outputs": [],
   "source": [
    "X_train_1 = X_train[:,0]\n",
    "X_train_1 = X_train_1.reshape(-1,1)\n",
    "X_test_1 = X_test[:,0]\n",
    "X_test_1 = X_test_1.reshape(-1,1)"
   ]
  },
  {
   "cell_type": "code",
   "execution_count": 158,
   "id": "e17f87c0-8ae4-4ca6-8713-30dc3e8aa435",
   "metadata": {},
   "outputs": [],
   "source": [
    "X_train_2 = X_train[:,1]\n",
    "X_train_2 = X_train_2.reshape(-1,1)\n",
    "X_test_2 = X_test[:,1]\n",
    "X_test_2 = X_test_2.reshape(-1,1)"
   ]
  },
  {
   "cell_type": "code",
   "execution_count": 159,
   "id": "2761ca26-e26e-4728-876f-a905784326b9",
   "metadata": {},
   "outputs": [],
   "source": [
    "X_train_3 = X_train\n",
    "X_test_3 = X_test"
   ]
  },
  {
   "cell_type": "code",
   "execution_count": 160,
   "id": "0fa045ea-6345-4ed7-a45d-56fd13f1a33a",
   "metadata": {},
   "outputs": [
    {
     "data": {
      "text/plain": [
       "(266177, 1)"
      ]
     },
     "execution_count": 160,
     "metadata": {},
     "output_type": "execute_result"
    }
   ],
   "source": [
    "np.shape(X_train_1)"
   ]
  },
  {
   "cell_type": "code",
   "execution_count": 161,
   "id": "0c548095-53b5-4f9a-8dc4-d0a69b3d3fb8",
   "metadata": {},
   "outputs": [
    {
     "name": "stderr",
     "output_type": "stream",
     "text": [
      "/home/nexus10/miniconda3/envs/ift6758-conda-env/lib/python3.10/site-packages/sklearn/utils/validation.py:1111: DataConversionWarning: A column-vector y was passed when a 1d array was expected. Please change the shape of y to (n_samples, ), for example using ravel().\n",
      "  y = column_or_1d(y, warn=True)\n"
     ]
    },
    {
     "data": {
      "text/html": [
       "<style>#sk-container-id-7 {color: black;background-color: white;}#sk-container-id-7 pre{padding: 0;}#sk-container-id-7 div.sk-toggleable {background-color: white;}#sk-container-id-7 label.sk-toggleable__label {cursor: pointer;display: block;width: 100%;margin-bottom: 0;padding: 0.3em;box-sizing: border-box;text-align: center;}#sk-container-id-7 label.sk-toggleable__label-arrow:before {content: \"▸\";float: left;margin-right: 0.25em;color: #696969;}#sk-container-id-7 label.sk-toggleable__label-arrow:hover:before {color: black;}#sk-container-id-7 div.sk-estimator:hover label.sk-toggleable__label-arrow:before {color: black;}#sk-container-id-7 div.sk-toggleable__content {max-height: 0;max-width: 0;overflow: hidden;text-align: left;background-color: #f0f8ff;}#sk-container-id-7 div.sk-toggleable__content pre {margin: 0.2em;color: black;border-radius: 0.25em;background-color: #f0f8ff;}#sk-container-id-7 input.sk-toggleable__control:checked~div.sk-toggleable__content {max-height: 200px;max-width: 100%;overflow: auto;}#sk-container-id-7 input.sk-toggleable__control:checked~label.sk-toggleable__label-arrow:before {content: \"▾\";}#sk-container-id-7 div.sk-estimator input.sk-toggleable__control:checked~label.sk-toggleable__label {background-color: #d4ebff;}#sk-container-id-7 div.sk-label input.sk-toggleable__control:checked~label.sk-toggleable__label {background-color: #d4ebff;}#sk-container-id-7 input.sk-hidden--visually {border: 0;clip: rect(1px 1px 1px 1px);clip: rect(1px, 1px, 1px, 1px);height: 1px;margin: -1px;overflow: hidden;padding: 0;position: absolute;width: 1px;}#sk-container-id-7 div.sk-estimator {font-family: monospace;background-color: #f0f8ff;border: 1px dotted black;border-radius: 0.25em;box-sizing: border-box;margin-bottom: 0.5em;}#sk-container-id-7 div.sk-estimator:hover {background-color: #d4ebff;}#sk-container-id-7 div.sk-parallel-item::after {content: \"\";width: 100%;border-bottom: 1px solid gray;flex-grow: 1;}#sk-container-id-7 div.sk-label:hover label.sk-toggleable__label {background-color: #d4ebff;}#sk-container-id-7 div.sk-serial::before {content: \"\";position: absolute;border-left: 1px solid gray;box-sizing: border-box;top: 0;bottom: 0;left: 50%;z-index: 0;}#sk-container-id-7 div.sk-serial {display: flex;flex-direction: column;align-items: center;background-color: white;padding-right: 0.2em;padding-left: 0.2em;position: relative;}#sk-container-id-7 div.sk-item {position: relative;z-index: 1;}#sk-container-id-7 div.sk-parallel {display: flex;align-items: stretch;justify-content: center;background-color: white;position: relative;}#sk-container-id-7 div.sk-item::before, #sk-container-id-7 div.sk-parallel-item::before {content: \"\";position: absolute;border-left: 1px solid gray;box-sizing: border-box;top: 0;bottom: 0;left: 50%;z-index: -1;}#sk-container-id-7 div.sk-parallel-item {display: flex;flex-direction: column;z-index: 1;position: relative;background-color: white;}#sk-container-id-7 div.sk-parallel-item:first-child::after {align-self: flex-end;width: 50%;}#sk-container-id-7 div.sk-parallel-item:last-child::after {align-self: flex-start;width: 50%;}#sk-container-id-7 div.sk-parallel-item:only-child::after {width: 0;}#sk-container-id-7 div.sk-dashed-wrapped {border: 1px dashed gray;margin: 0 0.4em 0.5em 0.4em;box-sizing: border-box;padding-bottom: 0.4em;background-color: white;}#sk-container-id-7 div.sk-label label {font-family: monospace;font-weight: bold;display: inline-block;line-height: 1.2em;}#sk-container-id-7 div.sk-label-container {text-align: center;}#sk-container-id-7 div.sk-container {/* jupyter's `normalize.less` sets `[hidden] { display: none; }` but bootstrap.min.css set `[hidden] { display: none !important; }` so we also need the `!important` here to be able to override the default hidden behavior on the sphinx rendered scikit-learn.org. See: https://github.com/scikit-learn/scikit-learn/issues/21755 */display: inline-block !important;position: relative;}#sk-container-id-7 div.sk-text-repr-fallback {display: none;}</style><div id=\"sk-container-id-7\" class=\"sk-top-container\"><div class=\"sk-text-repr-fallback\"><pre>LogisticRegression()</pre><b>In a Jupyter environment, please rerun this cell to show the HTML representation or trust the notebook. <br />On GitHub, the HTML representation is unable to render, please try loading this page with nbviewer.org.</b></div><div class=\"sk-container\" hidden><div class=\"sk-item\"><div class=\"sk-estimator sk-toggleable\"><input class=\"sk-toggleable__control sk-hidden--visually\" id=\"sk-estimator-id-7\" type=\"checkbox\" checked><label for=\"sk-estimator-id-7\" class=\"sk-toggleable__label sk-toggleable__label-arrow\">LogisticRegression</label><div class=\"sk-toggleable__content\"><pre>LogisticRegression()</pre></div></div></div></div></div>"
      ],
      "text/plain": [
       "LogisticRegression()"
      ]
     },
     "execution_count": 161,
     "metadata": {},
     "output_type": "execute_result"
    }
   ],
   "source": [
    "logistic = LogisticRegression()\n",
    "logistic.fit(X_train_1,y_train)"
   ]
  },
  {
   "cell_type": "code",
   "execution_count": 162,
   "id": "d5123316-418a-491d-ab52-8bb8e565fe5e",
   "metadata": {},
   "outputs": [],
   "source": [
    "y_pred_1 = logistic.predict(X_test_1)"
   ]
  },
  {
   "cell_type": "code",
   "execution_count": 163,
   "id": "af46e8c8-da4d-48f5-8039-e20bfc55241b",
   "metadata": {},
   "outputs": [
    {
     "data": {
      "text/plain": [
       "0.9057479900818994"
      ]
     },
     "execution_count": 163,
     "metadata": {},
     "output_type": "execute_result"
    }
   ],
   "source": [
    "acc_ex1 = accuracy_score(y_test,y_pred_1)\n",
    "experiment.log_metric(\"validation accuracy LR Shot's Distance\", acc_ex1)\n",
    "experiment.log_confusion_matrix(y_test,y_pred_1)\n",
    "acc_ex1"
   ]
  },
  {
   "cell_type": "code",
   "execution_count": 164,
   "id": "2a40c25e-a6ac-418e-8ce9-6365eba67fc9",
   "metadata": {},
   "outputs": [],
   "source": [
    "prob_1_predicted = logistic.predict_proba(X_test_1)"
   ]
  },
  {
   "cell_type": "code",
   "execution_count": 165,
   "id": "5c9f2c7c-eb54-49f6-ae19-989443459c34",
   "metadata": {},
   "outputs": [
    {
     "data": {
      "text/plain": [
       "array([[0.81042303, 0.18957697],\n",
       "       [0.96680626, 0.03319374],\n",
       "       [0.90917433, 0.09082567],\n",
       "       ...,\n",
       "       [0.9658731 , 0.0341269 ],\n",
       "       [0.95466476, 0.04533524],\n",
       "       [0.85717887, 0.14282113]])"
      ]
     },
     "execution_count": 165,
     "metadata": {},
     "output_type": "execute_result"
    }
   ],
   "source": [
    "prob_1_predicted"
   ]
  },
  {
   "cell_type": "markdown",
   "id": "f273f1e9-54e5-4ff8-9f98-86b84b5947e2",
   "metadata": {},
   "source": [
    "## Experiment 2"
   ]
  },
  {
   "cell_type": "code",
   "execution_count": 166,
   "id": "74c862d9-7dad-4d60-8dbf-513be07136b9",
   "metadata": {},
   "outputs": [
    {
     "name": "stderr",
     "output_type": "stream",
     "text": [
      "/home/nexus10/miniconda3/envs/ift6758-conda-env/lib/python3.10/site-packages/sklearn/utils/validation.py:1111: DataConversionWarning: A column-vector y was passed when a 1d array was expected. Please change the shape of y to (n_samples, ), for example using ravel().\n",
      "  y = column_or_1d(y, warn=True)\n"
     ]
    },
    {
     "data": {
      "text/html": [
       "<style>#sk-container-id-8 {color: black;background-color: white;}#sk-container-id-8 pre{padding: 0;}#sk-container-id-8 div.sk-toggleable {background-color: white;}#sk-container-id-8 label.sk-toggleable__label {cursor: pointer;display: block;width: 100%;margin-bottom: 0;padding: 0.3em;box-sizing: border-box;text-align: center;}#sk-container-id-8 label.sk-toggleable__label-arrow:before {content: \"▸\";float: left;margin-right: 0.25em;color: #696969;}#sk-container-id-8 label.sk-toggleable__label-arrow:hover:before {color: black;}#sk-container-id-8 div.sk-estimator:hover label.sk-toggleable__label-arrow:before {color: black;}#sk-container-id-8 div.sk-toggleable__content {max-height: 0;max-width: 0;overflow: hidden;text-align: left;background-color: #f0f8ff;}#sk-container-id-8 div.sk-toggleable__content pre {margin: 0.2em;color: black;border-radius: 0.25em;background-color: #f0f8ff;}#sk-container-id-8 input.sk-toggleable__control:checked~div.sk-toggleable__content {max-height: 200px;max-width: 100%;overflow: auto;}#sk-container-id-8 input.sk-toggleable__control:checked~label.sk-toggleable__label-arrow:before {content: \"▾\";}#sk-container-id-8 div.sk-estimator input.sk-toggleable__control:checked~label.sk-toggleable__label {background-color: #d4ebff;}#sk-container-id-8 div.sk-label input.sk-toggleable__control:checked~label.sk-toggleable__label {background-color: #d4ebff;}#sk-container-id-8 input.sk-hidden--visually {border: 0;clip: rect(1px 1px 1px 1px);clip: rect(1px, 1px, 1px, 1px);height: 1px;margin: -1px;overflow: hidden;padding: 0;position: absolute;width: 1px;}#sk-container-id-8 div.sk-estimator {font-family: monospace;background-color: #f0f8ff;border: 1px dotted black;border-radius: 0.25em;box-sizing: border-box;margin-bottom: 0.5em;}#sk-container-id-8 div.sk-estimator:hover {background-color: #d4ebff;}#sk-container-id-8 div.sk-parallel-item::after {content: \"\";width: 100%;border-bottom: 1px solid gray;flex-grow: 1;}#sk-container-id-8 div.sk-label:hover label.sk-toggleable__label {background-color: #d4ebff;}#sk-container-id-8 div.sk-serial::before {content: \"\";position: absolute;border-left: 1px solid gray;box-sizing: border-box;top: 0;bottom: 0;left: 50%;z-index: 0;}#sk-container-id-8 div.sk-serial {display: flex;flex-direction: column;align-items: center;background-color: white;padding-right: 0.2em;padding-left: 0.2em;position: relative;}#sk-container-id-8 div.sk-item {position: relative;z-index: 1;}#sk-container-id-8 div.sk-parallel {display: flex;align-items: stretch;justify-content: center;background-color: white;position: relative;}#sk-container-id-8 div.sk-item::before, #sk-container-id-8 div.sk-parallel-item::before {content: \"\";position: absolute;border-left: 1px solid gray;box-sizing: border-box;top: 0;bottom: 0;left: 50%;z-index: -1;}#sk-container-id-8 div.sk-parallel-item {display: flex;flex-direction: column;z-index: 1;position: relative;background-color: white;}#sk-container-id-8 div.sk-parallel-item:first-child::after {align-self: flex-end;width: 50%;}#sk-container-id-8 div.sk-parallel-item:last-child::after {align-self: flex-start;width: 50%;}#sk-container-id-8 div.sk-parallel-item:only-child::after {width: 0;}#sk-container-id-8 div.sk-dashed-wrapped {border: 1px dashed gray;margin: 0 0.4em 0.5em 0.4em;box-sizing: border-box;padding-bottom: 0.4em;background-color: white;}#sk-container-id-8 div.sk-label label {font-family: monospace;font-weight: bold;display: inline-block;line-height: 1.2em;}#sk-container-id-8 div.sk-label-container {text-align: center;}#sk-container-id-8 div.sk-container {/* jupyter's `normalize.less` sets `[hidden] { display: none; }` but bootstrap.min.css set `[hidden] { display: none !important; }` so we also need the `!important` here to be able to override the default hidden behavior on the sphinx rendered scikit-learn.org. See: https://github.com/scikit-learn/scikit-learn/issues/21755 */display: inline-block !important;position: relative;}#sk-container-id-8 div.sk-text-repr-fallback {display: none;}</style><div id=\"sk-container-id-8\" class=\"sk-top-container\"><div class=\"sk-text-repr-fallback\"><pre>LogisticRegression()</pre><b>In a Jupyter environment, please rerun this cell to show the HTML representation or trust the notebook. <br />On GitHub, the HTML representation is unable to render, please try loading this page with nbviewer.org.</b></div><div class=\"sk-container\" hidden><div class=\"sk-item\"><div class=\"sk-estimator sk-toggleable\"><input class=\"sk-toggleable__control sk-hidden--visually\" id=\"sk-estimator-id-8\" type=\"checkbox\" checked><label for=\"sk-estimator-id-8\" class=\"sk-toggleable__label sk-toggleable__label-arrow\">LogisticRegression</label><div class=\"sk-toggleable__content\"><pre>LogisticRegression()</pre></div></div></div></div></div>"
      ],
      "text/plain": [
       "LogisticRegression()"
      ]
     },
     "execution_count": 166,
     "metadata": {},
     "output_type": "execute_result"
    }
   ],
   "source": [
    "logistic2 = LogisticRegression()\n",
    "logistic2.fit(X_train_2,y_train)"
   ]
  },
  {
   "cell_type": "code",
   "execution_count": 167,
   "id": "ff53a90f-3c12-4c20-936b-8aa69472b24f",
   "metadata": {},
   "outputs": [],
   "source": [
    "y_pred_2 = logistic2.predict(X_test_2)"
   ]
  },
  {
   "cell_type": "code",
   "execution_count": 168,
   "id": "0b0737d9-4d26-4b95-90fb-38a65d94241a",
   "metadata": {},
   "outputs": [
    {
     "data": {
      "text/plain": [
       "0.9057479900818994"
      ]
     },
     "execution_count": 168,
     "metadata": {},
     "output_type": "execute_result"
    }
   ],
   "source": [
    "acc_ex2 = accuracy_score(y_test,y_pred_2)\n",
    "experiment.log_metric(\"validation accuracy LR Shot's Angle\", acc_ex2)\n",
    "experiment.log_confusion_matrix(y_test,y_pred_2)\n",
    "acc_ex2"
   ]
  },
  {
   "cell_type": "code",
   "execution_count": 169,
   "id": "106ae1d5-8090-491e-b819-d8e977d92ff5",
   "metadata": {},
   "outputs": [],
   "source": [
    "prob_2_predicted = logistic2.predict_proba(X_test_2)"
   ]
  },
  {
   "cell_type": "code",
   "execution_count": 170,
   "id": "dbb8850c-523f-40eb-ab4d-b86c5f59f921",
   "metadata": {},
   "outputs": [
    {
     "data": {
      "text/plain": [
       "array([[0.83767571, 0.16232429],\n",
       "       [0.95794491, 0.04205509],\n",
       "       [0.91140648, 0.08859352],\n",
       "       ...,\n",
       "       [0.89237646, 0.10762354],\n",
       "       [0.94260643, 0.05739357],\n",
       "       [0.85235102, 0.14764898]])"
      ]
     },
     "execution_count": 170,
     "metadata": {},
     "output_type": "execute_result"
    }
   ],
   "source": [
    "prob_2_predicted "
   ]
  },
  {
   "cell_type": "markdown",
   "id": "f84dd4e4-7a60-49a6-acb1-fb8ec2165ec9",
   "metadata": {},
   "source": [
    "## Experiment 3"
   ]
  },
  {
   "cell_type": "code",
   "execution_count": 171,
   "id": "4462bf1a-6b98-4f54-9e71-d0334648dc06",
   "metadata": {},
   "outputs": [
    {
     "name": "stderr",
     "output_type": "stream",
     "text": [
      "/home/nexus10/miniconda3/envs/ift6758-conda-env/lib/python3.10/site-packages/sklearn/utils/validation.py:1111: DataConversionWarning: A column-vector y was passed when a 1d array was expected. Please change the shape of y to (n_samples, ), for example using ravel().\n",
      "  y = column_or_1d(y, warn=True)\n"
     ]
    },
    {
     "data": {
      "text/html": [
       "<style>#sk-container-id-9 {color: black;background-color: white;}#sk-container-id-9 pre{padding: 0;}#sk-container-id-9 div.sk-toggleable {background-color: white;}#sk-container-id-9 label.sk-toggleable__label {cursor: pointer;display: block;width: 100%;margin-bottom: 0;padding: 0.3em;box-sizing: border-box;text-align: center;}#sk-container-id-9 label.sk-toggleable__label-arrow:before {content: \"▸\";float: left;margin-right: 0.25em;color: #696969;}#sk-container-id-9 label.sk-toggleable__label-arrow:hover:before {color: black;}#sk-container-id-9 div.sk-estimator:hover label.sk-toggleable__label-arrow:before {color: black;}#sk-container-id-9 div.sk-toggleable__content {max-height: 0;max-width: 0;overflow: hidden;text-align: left;background-color: #f0f8ff;}#sk-container-id-9 div.sk-toggleable__content pre {margin: 0.2em;color: black;border-radius: 0.25em;background-color: #f0f8ff;}#sk-container-id-9 input.sk-toggleable__control:checked~div.sk-toggleable__content {max-height: 200px;max-width: 100%;overflow: auto;}#sk-container-id-9 input.sk-toggleable__control:checked~label.sk-toggleable__label-arrow:before {content: \"▾\";}#sk-container-id-9 div.sk-estimator input.sk-toggleable__control:checked~label.sk-toggleable__label {background-color: #d4ebff;}#sk-container-id-9 div.sk-label input.sk-toggleable__control:checked~label.sk-toggleable__label {background-color: #d4ebff;}#sk-container-id-9 input.sk-hidden--visually {border: 0;clip: rect(1px 1px 1px 1px);clip: rect(1px, 1px, 1px, 1px);height: 1px;margin: -1px;overflow: hidden;padding: 0;position: absolute;width: 1px;}#sk-container-id-9 div.sk-estimator {font-family: monospace;background-color: #f0f8ff;border: 1px dotted black;border-radius: 0.25em;box-sizing: border-box;margin-bottom: 0.5em;}#sk-container-id-9 div.sk-estimator:hover {background-color: #d4ebff;}#sk-container-id-9 div.sk-parallel-item::after {content: \"\";width: 100%;border-bottom: 1px solid gray;flex-grow: 1;}#sk-container-id-9 div.sk-label:hover label.sk-toggleable__label {background-color: #d4ebff;}#sk-container-id-9 div.sk-serial::before {content: \"\";position: absolute;border-left: 1px solid gray;box-sizing: border-box;top: 0;bottom: 0;left: 50%;z-index: 0;}#sk-container-id-9 div.sk-serial {display: flex;flex-direction: column;align-items: center;background-color: white;padding-right: 0.2em;padding-left: 0.2em;position: relative;}#sk-container-id-9 div.sk-item {position: relative;z-index: 1;}#sk-container-id-9 div.sk-parallel {display: flex;align-items: stretch;justify-content: center;background-color: white;position: relative;}#sk-container-id-9 div.sk-item::before, #sk-container-id-9 div.sk-parallel-item::before {content: \"\";position: absolute;border-left: 1px solid gray;box-sizing: border-box;top: 0;bottom: 0;left: 50%;z-index: -1;}#sk-container-id-9 div.sk-parallel-item {display: flex;flex-direction: column;z-index: 1;position: relative;background-color: white;}#sk-container-id-9 div.sk-parallel-item:first-child::after {align-self: flex-end;width: 50%;}#sk-container-id-9 div.sk-parallel-item:last-child::after {align-self: flex-start;width: 50%;}#sk-container-id-9 div.sk-parallel-item:only-child::after {width: 0;}#sk-container-id-9 div.sk-dashed-wrapped {border: 1px dashed gray;margin: 0 0.4em 0.5em 0.4em;box-sizing: border-box;padding-bottom: 0.4em;background-color: white;}#sk-container-id-9 div.sk-label label {font-family: monospace;font-weight: bold;display: inline-block;line-height: 1.2em;}#sk-container-id-9 div.sk-label-container {text-align: center;}#sk-container-id-9 div.sk-container {/* jupyter's `normalize.less` sets `[hidden] { display: none; }` but bootstrap.min.css set `[hidden] { display: none !important; }` so we also need the `!important` here to be able to override the default hidden behavior on the sphinx rendered scikit-learn.org. See: https://github.com/scikit-learn/scikit-learn/issues/21755 */display: inline-block !important;position: relative;}#sk-container-id-9 div.sk-text-repr-fallback {display: none;}</style><div id=\"sk-container-id-9\" class=\"sk-top-container\"><div class=\"sk-text-repr-fallback\"><pre>LogisticRegression()</pre><b>In a Jupyter environment, please rerun this cell to show the HTML representation or trust the notebook. <br />On GitHub, the HTML representation is unable to render, please try loading this page with nbviewer.org.</b></div><div class=\"sk-container\" hidden><div class=\"sk-item\"><div class=\"sk-estimator sk-toggleable\"><input class=\"sk-toggleable__control sk-hidden--visually\" id=\"sk-estimator-id-9\" type=\"checkbox\" checked><label for=\"sk-estimator-id-9\" class=\"sk-toggleable__label sk-toggleable__label-arrow\">LogisticRegression</label><div class=\"sk-toggleable__content\"><pre>LogisticRegression()</pre></div></div></div></div></div>"
      ],
      "text/plain": [
       "LogisticRegression()"
      ]
     },
     "execution_count": 171,
     "metadata": {},
     "output_type": "execute_result"
    }
   ],
   "source": [
    "logistic3 = LogisticRegression()\n",
    "logistic3.fit(X_train_3,y_train)"
   ]
  },
  {
   "cell_type": "code",
   "execution_count": 172,
   "id": "f8779b4f-d699-4111-9199-136f8a71a0ad",
   "metadata": {},
   "outputs": [],
   "source": [
    "y_pred_3 = logistic3.predict(X_test_3)"
   ]
  },
  {
   "cell_type": "code",
   "execution_count": 173,
   "id": "cd43981c-d935-45bd-b74f-6406067b0731",
   "metadata": {},
   "outputs": [
    {
     "data": {
      "text/plain": [
       "0.9057479900818994"
      ]
     },
     "execution_count": 173,
     "metadata": {},
     "output_type": "execute_result"
    }
   ],
   "source": [
    "acc_ex3 = accuracy_score(y_test,y_pred_3)\n",
    "experiment.log_metric(\"validation accuracy LR Shot's Distance and Angle\", acc_ex3)\n",
    "experiment.log_confusion_matrix(y_test,y_pred_3)\n",
    "acc_ex3"
   ]
  },
  {
   "cell_type": "code",
   "execution_count": 174,
   "id": "736ac4af-c68a-4d29-b224-a0d95f57de1b",
   "metadata": {},
   "outputs": [],
   "source": [
    "prob_3_predicted = logistic3.predict_proba(X_test_3)"
   ]
  },
  {
   "cell_type": "code",
   "execution_count": 175,
   "id": "e26d571e-0b7b-4e56-b19c-078a04a573ac",
   "metadata": {},
   "outputs": [
    {
     "data": {
      "text/plain": [
       "array([[0.81079323, 0.18920677],\n",
       "       [0.96703739, 0.03296261],\n",
       "       [0.91097501, 0.08902499],\n",
       "       ...,\n",
       "       [0.94284343, 0.05715657],\n",
       "       [0.95309389, 0.04690611],\n",
       "       [0.84710514, 0.15289486]])"
      ]
     },
     "execution_count": 175,
     "metadata": {},
     "output_type": "execute_result"
    }
   ],
   "source": [
    "prob_3_predicted"
   ]
  },
  {
   "cell_type": "markdown",
   "id": "ff22f49f-855f-4796-915f-3db83d7b7de9",
   "metadata": {},
   "source": [
    "### ROC Plots"
   ]
  },
  {
   "cell_type": "code",
   "execution_count": 176,
   "id": "a96dccee-a0d0-48f9-ba8e-ead54427fba2",
   "metadata": {},
   "outputs": [],
   "source": [
    "#ns_probs = [0 for _ in range(len(y_test))]"
   ]
  },
  {
   "cell_type": "code",
   "execution_count": 177,
   "id": "fc2ef5be-269a-47f3-8a2d-4dbe2ea494f9",
   "metadata": {},
   "outputs": [],
   "source": [
    "ns_probs = np.random.uniform(low=0.0, high=1.0, size=(len(y_test)))"
   ]
  },
  {
   "cell_type": "code",
   "execution_count": 178,
   "id": "e1e49e9b-995e-4857-b1c5-916028d2f0f9",
   "metadata": {},
   "outputs": [],
   "source": [
    "lr1_probs = prob_1_predicted\n",
    "lr1_probs = lr1_probs[:, 1]"
   ]
  },
  {
   "cell_type": "code",
   "execution_count": 179,
   "id": "a6e19fa8-5149-4254-873d-24aff61b3cd7",
   "metadata": {},
   "outputs": [],
   "source": [
    "lr2_probs = prob_2_predicted\n",
    "lr2_probs = lr2_probs[:, 1]"
   ]
  },
  {
   "cell_type": "code",
   "execution_count": 180,
   "id": "0b1a0b07-d1af-4266-8fe4-ae2a23576bda",
   "metadata": {},
   "outputs": [],
   "source": [
    "lr3_probs = prob_3_predicted\n",
    "lr3_probs = lr3_probs[:, 1]"
   ]
  },
  {
   "cell_type": "code",
   "execution_count": 181,
   "id": "57a75bbf-1b59-4f7b-bf5b-d58318c76316",
   "metadata": {},
   "outputs": [],
   "source": [
    "ns_auc = np.round((roc_auc_score(y_test, ns_probs)),4)\n",
    "experiment.log_metric(\"AUC Score Random Baseline\", ns_auc)\n",
    "lr1_auc = np.round((roc_auc_score(y_test, lr1_probs)),4)\n",
    "experiment.log_metric(\"AUC Score LR Shot's Distance\", lr1_auc)\n",
    "lr2_auc = np.round((roc_auc_score(y_test, lr2_probs)),4)\n",
    "experiment.log_metric(\"AUC Score LR Shot's Angle\", lr2_auc)\n",
    "lr3_auc = np.round((roc_auc_score(y_test, lr3_probs)),4)\n",
    "experiment.log_metric(\"AUC Score LR Shot's Distance and Angle\", lr3_auc)"
   ]
  },
  {
   "cell_type": "code",
   "execution_count": 182,
   "id": "d8d4de20-d7ea-4c1d-811b-44c31b72adca",
   "metadata": {},
   "outputs": [],
   "source": [
    "ns_fpr, ns_tpr, _ = roc_curve(y_test, ns_probs)\n",
    "lr1_fpr, lr1_tpr, _ = roc_curve(y_test, lr1_probs)\n",
    "lr2_fpr, lr2_tpr, _ = roc_curve(y_test, lr2_probs)\n",
    "lr3_fpr, lr3_tpr, _ = roc_curve(y_test, lr3_probs)"
   ]
  },
  {
   "cell_type": "code",
   "execution_count": 183,
   "id": "e70b7d6b-5252-4830-86f1-9531c8069eb6",
   "metadata": {},
   "outputs": [
    {
     "data": {
      "text/plain": [
       "{'web': 'https://www.comet.com/api/asset/download?assetId=7cbf84a8bc294599a43f37011f0e04bf&experimentKey=c869e1c95e6a477b80b12b05f1dfee04',\n",
       " 'api': 'https://www.comet.com/api/rest/v2/experiment/asset/get-asset?assetId=7cbf84a8bc294599a43f37011f0e04bf&experimentKey=c869e1c95e6a477b80b12b05f1dfee04',\n",
       " 'assetId': '7cbf84a8bc294599a43f37011f0e04bf'}"
      ]
     },
     "execution_count": 183,
     "metadata": {},
     "output_type": "execute_result"
    }
   ],
   "source": [
    "experiment.log_curve(f\"roc-curve-class- Random Baseline\", ns_fpr, ns_tpr)\n",
    "experiment.log_curve(f\"roc-curve-class- Logistic Regression Distance\",lr1_fpr, lr1_tpr)\n",
    "experiment.log_curve(f\"roc-curve-class- Logistic Regression Angle\",lr2_fpr, lr2_tpr)\n",
    "experiment.log_curve(f\"roc-curve-class- Logistic Regression Dist + Ang\",lr3_fpr, lr3_tpr)"
   ]
  },
  {
   "cell_type": "code",
   "execution_count": 184,
   "id": "a073c2c0-a972-412b-9ecc-8a0eb0f74c30",
   "metadata": {},
   "outputs": [
    {
     "data": {
      "image/png": "[encoded data removed]",
      "text/plain": [
       "<Figure size 640x480 with 1 Axes>"
      ]
     },
     "metadata": {},
     "output_type": "display_data"
    }
   ],
   "source": [
    "plt.plot(ns_fpr, ns_tpr, linestyle='--',linewidth=1, markersize=1, label=f\"Random Baseline AUC Score: {ns_auc}\")\n",
    "plt.plot(lr1_fpr, lr1_tpr, marker='o', linewidth=1, markersize=1,label=f\"LR Distance AUC Score: {lr1_auc}\")\n",
    "plt.plot(lr2_fpr, lr2_tpr, marker='*', linewidth=1, markersize=1,label=f\"LR Angle AUC Score: {lr2_auc}\")\n",
    "plt.plot(lr3_fpr, lr3_tpr, marker='.', linewidth=1, markersize=1,label=f\"LR Dist+Ang AUC Score: {lr3_auc}\")\n",
    "plt.title('Logistic Regession Models - Receiver Operating Characteristic (ROC) curves')\n",
    "plt.xlabel('False Positive Rate')\n",
    "plt.ylabel('True Positive Rate')\n",
    "plt.grid()\n",
    "plt.legend()\n",
    "plt.show()"
   ]
  },
  {
   "cell_type": "markdown",
   "id": "ede4f8b8-a5d2-48e0-9f59-1649cfaad26f",
   "metadata": {},
   "source": [
    "### Goal rate (#goals / (#no_goals + #goals)) as a function of the shot probability model percentile"
   ]
  },
  {
   "cell_type": "code",
   "execution_count": 185,
   "id": "825c74e5-5375-435d-a983-f12921aea2c3",
   "metadata": {},
   "outputs": [],
   "source": [
    "import seaborn as sns\n",
    "import probscale"
   ]
  },
  {
   "cell_type": "code",
   "execution_count": 186,
   "id": "085f95a1-57c1-421c-93a0-6bbb2a53f43b",
   "metadata": {},
   "outputs": [],
   "source": [
    "df_prob_goals = pd.DataFrame()"
   ]
  },
  {
   "cell_type": "code",
   "execution_count": 187,
   "id": "00364249-11ee-42d9-8131-d3c20c6dbc6d",
   "metadata": {},
   "outputs": [],
   "source": [
    "df_prob_goals['y_prob_rm'] = ns_probs\n",
    "df_prob_goals['y_prob_lr1'] = lr1_probs\n",
    "df_prob_goals['y_prob_lr2'] = lr2_probs\n",
    "df_prob_goals['y_prob_lr3'] = lr3_probs\n",
    "df_prob_goals['y_test'] = y_test"
   ]
  },
  {
   "cell_type": "code",
   "execution_count": 188,
   "id": "3a0de87c-54db-477d-8cde-67e55589be88",
   "metadata": {},
   "outputs": [
    {
     "data": {
      "text/html": [
       "<div>\n",
       "<style scoped>\n",
       "    .dataframe tbody tr th:only-of-type {\n",
       "        vertical-align: middle;\n",
       "    }\n",
       "\n",
       "    .dataframe tbody tr th {\n",
       "        vertical-align: top;\n",
       "    }\n",
       "\n",
       "    .dataframe thead th {\n",
       "        text-align: right;\n",
       "    }\n",
       "</style>\n",
       "<table border=\"1\" class=\"dataframe\">\n",
       "  <thead>\n",
       "    <tr style=\"text-align: right;\">\n",
       "      <th></th>\n",
       "      <th>y_prob_rm</th>\n",
       "      <th>y_prob_lr1</th>\n",
       "      <th>y_prob_lr2</th>\n",
       "      <th>y_prob_lr3</th>\n",
       "      <th>y_test</th>\n",
       "    </tr>\n",
       "  </thead>\n",
       "  <tbody>\n",
       "    <tr>\n",
       "      <th>0</th>\n",
       "      <td>0.906592</td>\n",
       "      <td>0.189577</td>\n",
       "      <td>0.162324</td>\n",
       "      <td>0.189207</td>\n",
       "      <td>0</td>\n",
       "    </tr>\n",
       "    <tr>\n",
       "      <th>1</th>\n",
       "      <td>0.049724</td>\n",
       "      <td>0.033194</td>\n",
       "      <td>0.042055</td>\n",
       "      <td>0.032963</td>\n",
       "      <td>0</td>\n",
       "    </tr>\n",
       "    <tr>\n",
       "      <th>2</th>\n",
       "      <td>0.897790</td>\n",
       "      <td>0.090826</td>\n",
       "      <td>0.088594</td>\n",
       "      <td>0.089025</td>\n",
       "      <td>0</td>\n",
       "    </tr>\n",
       "    <tr>\n",
       "      <th>3</th>\n",
       "      <td>0.201996</td>\n",
       "      <td>0.105318</td>\n",
       "      <td>0.074529</td>\n",
       "      <td>0.088225</td>\n",
       "      <td>0</td>\n",
       "    </tr>\n",
       "    <tr>\n",
       "      <th>4</th>\n",
       "      <td>0.096440</td>\n",
       "      <td>0.154320</td>\n",
       "      <td>0.154565</td>\n",
       "      <td>0.163829</td>\n",
       "      <td>1</td>\n",
       "    </tr>\n",
       "  </tbody>\n",
       "</table>\n",
       "</div>"
      ],
      "text/plain": [
       "   y_prob_rm  y_prob_lr1  y_prob_lr2  y_prob_lr3  y_test\n",
       "0   0.906592    0.189577    0.162324    0.189207       0\n",
       "1   0.049724    0.033194    0.042055    0.032963       0\n",
       "2   0.897790    0.090826    0.088594    0.089025       0\n",
       "3   0.201996    0.105318    0.074529    0.088225       0\n",
       "4   0.096440    0.154320    0.154565    0.163829       1"
      ]
     },
     "execution_count": 188,
     "metadata": {},
     "output_type": "execute_result"
    }
   ],
   "source": [
    "df_prob_goals.head()"
   ]
  },
  {
   "cell_type": "code",
   "execution_count": 189,
   "id": "21e6c1e1-b786-4890-84dd-ea6f57c60844",
   "metadata": {},
   "outputs": [],
   "source": [
    "d = np.sort(df_prob_goals['y_prob_rm'])\n",
    "d1 = np.sort(df_prob_goals['y_prob_lr1'])\n",
    "d2 = np.sort(df_prob_goals['y_prob_lr2'])\n",
    "d3 = np.sort(df_prob_goals['y_prob_lr3'])\n",
    "\n",
    "# Percentile values\n",
    "p = np.array([0.0, 10.0, 20.0, 30.0, 40.0, 50.0, 60.0, 70.0,80.0,90.0,100.0])\n",
    "\n",
    "\n",
    "perc = np.percentile(d, p)\n",
    "perc1 = np.percentile(d1, p)\n",
    "perc2 = np.percentile(d2, p)\n",
    "perc3 = np.percentile(d3, p)"
   ]
  },
  {
   "cell_type": "code",
   "execution_count": 205,
   "id": "603fee48-3083-41de-b36d-0857e53e5eff",
   "metadata": {},
   "outputs": [],
   "source": [
    "def plot_gr_perc():\n",
    "    x = pd.cut(df_prob_goals[df_prob_goals['y_test'] == 1]['y_prob_rm'], bins=perc).reset_index()\n",
    "    x =x.groupby('y_prob_rm', as_index=False).size()\n",
    "    x.columns = ['y_prob_rm', 'count']\n",
    "\n",
    "    y = pd.cut(df_prob_goals['y_prob_rm'], bins=perc).reset_index()\n",
    "    y =y.groupby('y_prob_rm', as_index=False).size()\n",
    "    y.columns = ['y_prob_rm', 'count']\n",
    "\n",
    "    x1 = pd.cut(df_prob_goals[df_prob_goals['y_test'] == 1]['y_prob_lr1'], bins=perc1).reset_index()\n",
    "    x1 =x1.groupby('y_prob_lr1', as_index=False).size()\n",
    "    x1.columns = ['y_prob_lr1', 'count']\n",
    "\n",
    "    y1 = pd.cut(df_prob_goals['y_prob_lr1'], bins=perc1).reset_index()\n",
    "    y1 =y1.groupby('y_prob_lr1', as_index=False).size()\n",
    "    y1.columns = ['y_prob_lr1', 'count']\n",
    "\n",
    "    x2 = pd.cut(df_prob_goals[df_prob_goals['y_test'] == 1]['y_prob_lr2'], bins=perc2).reset_index()\n",
    "    x2 =x2.groupby('y_prob_lr2', as_index=False).size()\n",
    "    x2.columns = ['y_prob_lr2', 'count']\n",
    "\n",
    "    y2 = pd.cut(df_prob_goals['y_prob_lr2'], bins=perc2).reset_index()\n",
    "    y2 =y2.groupby('y_prob_lr2', as_index=False).size()\n",
    "    y2.columns = ['y_prob_lr2', 'count']\n",
    "\n",
    "    x3 = pd.cut(df_prob_goals[df_prob_goals['y_test'] == 1]['y_prob_lr3'], bins=perc3).reset_index()\n",
    "    x3 =x3.groupby('y_prob_lr3', as_index=False).size()\n",
    "    x3.columns = ['y_prob_lr3', 'count']\n",
    "\n",
    "    y3 = pd.cut(df_prob_goals['y_prob_lr3'], bins=perc3).reset_index()\n",
    "    y3 =y3.groupby('y_prob_lr3', as_index=False).size()\n",
    "    y3.columns = ['y_prob_lr3', 'count']\n",
    "\n",
    "    sns.set_theme(style=\"white\", palette=None)\n",
    "    sns.lineplot(x=['10','20','30','40','50','60','70','80','90','100' ], y = 100*(x['count'] / y['count']), label = 'Random Uniform Baseline')\n",
    "    sns.lineplot(x=['10','20','30','40','50','60','70','80','90','100' ], y = 100*(x1['count'] / y1['count']), label = 'LR Model - Distance')\n",
    "    sns.lineplot(x=['10','20','30','40','50','60','70','80','90','100' ], y = 100*(x2['count'] / y2['count']), label = 'LR Model - Angle')\n",
    "    sns.lineplot(x=['10','20','30','40','50','60','70','80','90','100' ], y = 100*(x3['count'] / y3['count']), label = 'LR Model - Dist + Ang')\n",
    "    plt.title('Shot probabilty model percentile vs goal rate')\n",
    "    plt.xlabel('Shot probability model percentile')\n",
    "    plt.ylabel(\"Goal rate\")\n",
    "    #ax.set_yscale('prob')\n",
    "    fmt = '%.2f%%' # Format you want the ticks, e.g. '40%'\n",
    "    yticks = mtick.FormatStrFormatter(fmt)\n",
    "    plt.gca().yaxis.set_major_formatter(yticks)\n",
    "    plt.gca().invert_xaxis()\n",
    "    plt.grid()"
   ]
  },
  {
   "cell_type": "code",
   "execution_count": 206,
   "id": "0377e81c-a5fb-4611-94f6-f8bd4922d257",
   "metadata": {},
   "outputs": [
    {
     "data": {
      "image/png": "[encoded data removed]",
      "text/plain": [
       "<Figure size 640x480 with 1 Axes>"
      ]
     },
     "metadata": {},
     "output_type": "display_data"
    }
   ],
   "source": [
    "plot_gr_perc()"
   ]
  },
  {
   "cell_type": "markdown",
   "id": "65b3b705-66f7-48e6-816c-73de593cbfa0",
   "metadata": {},
   "source": [
    "### Cumulative proportion of goals (not shots) as a function of the shot probability model percentile."
   ]
  },
  {
   "cell_type": "code",
   "execution_count": 192,
   "id": "5c102438-47e5-49b6-999b-9b29d889bd63",
   "metadata": {},
   "outputs": [],
   "source": [
    "goals = df_prob_goals[df_prob_goals['y_test']==1]"
   ]
  },
  {
   "cell_type": "code",
   "execution_count": 193,
   "id": "8327f2ec-c5e5-436e-ad33-2f721757d0c7",
   "metadata": {},
   "outputs": [
    {
     "data": {
      "text/html": [
       "<div>\n",
       "<style scoped>\n",
       "    .dataframe tbody tr th:only-of-type {\n",
       "        vertical-align: middle;\n",
       "    }\n",
       "\n",
       "    .dataframe tbody tr th {\n",
       "        vertical-align: top;\n",
       "    }\n",
       "\n",
       "    .dataframe thead th {\n",
       "        text-align: right;\n",
       "    }\n",
       "</style>\n",
       "<table border=\"1\" class=\"dataframe\">\n",
       "  <thead>\n",
       "    <tr style=\"text-align: right;\">\n",
       "      <th></th>\n",
       "      <th>y_prob_rm</th>\n",
       "      <th>y_prob_lr1</th>\n",
       "      <th>y_prob_lr2</th>\n",
       "      <th>y_prob_lr3</th>\n",
       "      <th>y_test</th>\n",
       "    </tr>\n",
       "  </thead>\n",
       "  <tbody>\n",
       "    <tr>\n",
       "      <th>4</th>\n",
       "      <td>0.096440</td>\n",
       "      <td>0.154320</td>\n",
       "      <td>0.154565</td>\n",
       "      <td>0.163829</td>\n",
       "      <td>1</td>\n",
       "    </tr>\n",
       "    <tr>\n",
       "      <th>5</th>\n",
       "      <td>0.009548</td>\n",
       "      <td>0.205681</td>\n",
       "      <td>0.147784</td>\n",
       "      <td>0.188729</td>\n",
       "      <td>1</td>\n",
       "    </tr>\n",
       "    <tr>\n",
       "      <th>21</th>\n",
       "      <td>0.544893</td>\n",
       "      <td>0.142821</td>\n",
       "      <td>0.147649</td>\n",
       "      <td>0.152895</td>\n",
       "      <td>1</td>\n",
       "    </tr>\n",
       "    <tr>\n",
       "      <th>26</th>\n",
       "      <td>0.039124</td>\n",
       "      <td>0.019325</td>\n",
       "      <td>0.010525</td>\n",
       "      <td>0.011181</td>\n",
       "      <td>1</td>\n",
       "    </tr>\n",
       "    <tr>\n",
       "      <th>45</th>\n",
       "      <td>0.451003</td>\n",
       "      <td>0.074433</td>\n",
       "      <td>0.066598</td>\n",
       "      <td>0.067780</td>\n",
       "      <td>1</td>\n",
       "    </tr>\n",
       "    <tr>\n",
       "      <th>...</th>\n",
       "      <td>...</td>\n",
       "      <td>...</td>\n",
       "      <td>...</td>\n",
       "      <td>...</td>\n",
       "      <td>...</td>\n",
       "    </tr>\n",
       "    <tr>\n",
       "      <th>66477</th>\n",
       "      <td>0.752649</td>\n",
       "      <td>0.053034</td>\n",
       "      <td>0.094716</td>\n",
       "      <td>0.068037</td>\n",
       "      <td>1</td>\n",
       "    </tr>\n",
       "    <tr>\n",
       "      <th>66494</th>\n",
       "      <td>0.635254</td>\n",
       "      <td>0.074433</td>\n",
       "      <td>0.066598</td>\n",
       "      <td>0.067780</td>\n",
       "      <td>1</td>\n",
       "    </tr>\n",
       "    <tr>\n",
       "      <th>66496</th>\n",
       "      <td>0.380828</td>\n",
       "      <td>0.133782</td>\n",
       "      <td>0.115477</td>\n",
       "      <td>0.128738</td>\n",
       "      <td>1</td>\n",
       "    </tr>\n",
       "    <tr>\n",
       "      <th>66515</th>\n",
       "      <td>0.030318</td>\n",
       "      <td>0.079595</td>\n",
       "      <td>0.084418</td>\n",
       "      <td>0.080343</td>\n",
       "      <td>1</td>\n",
       "    </tr>\n",
       "    <tr>\n",
       "      <th>66519</th>\n",
       "      <td>0.844906</td>\n",
       "      <td>0.157362</td>\n",
       "      <td>0.181100</td>\n",
       "      <td>0.180732</td>\n",
       "      <td>1</td>\n",
       "    </tr>\n",
       "  </tbody>\n",
       "</table>\n",
       "<p>6272 rows × 5 columns</p>\n",
       "</div>"
      ],
      "text/plain": [
       "       y_prob_rm  y_prob_lr1  y_prob_lr2  y_prob_lr3  y_test\n",
       "4       0.096440    0.154320    0.154565    0.163829       1\n",
       "5       0.009548    0.205681    0.147784    0.188729       1\n",
       "21      0.544893    0.142821    0.147649    0.152895       1\n",
       "26      0.039124    0.019325    0.010525    0.011181       1\n",
       "45      0.451003    0.074433    0.066598    0.067780       1\n",
       "...          ...         ...         ...         ...     ...\n",
       "66477   0.752649    0.053034    0.094716    0.068037       1\n",
       "66494   0.635254    0.074433    0.066598    0.067780       1\n",
       "66496   0.380828    0.133782    0.115477    0.128738       1\n",
       "66515   0.030318    0.079595    0.084418    0.080343       1\n",
       "66519   0.844906    0.157362    0.181100    0.180732       1\n",
       "\n",
       "[6272 rows x 5 columns]"
      ]
     },
     "execution_count": 193,
     "metadata": {},
     "output_type": "execute_result"
    }
   ],
   "source": [
    "goals"
   ]
  },
  {
   "cell_type": "code",
   "execution_count": 194,
   "id": "c8a94db9-cc93-4c04-a87a-bf098fa62508",
   "metadata": {},
   "outputs": [],
   "source": [
    "d_0 = np.sort(goals['y_prob_rm'])\n",
    "d_1 = np.sort(goals['y_prob_lr1'])\n",
    "d_2 = np.sort(goals['y_prob_lr2'])\n",
    "d_3 = np.sort(goals['y_prob_lr3'])\n",
    "\n",
    "# Percentile values\n",
    "p = np.array([0.0, 10.0, 20.0, 30.0, 40.0, 50.0, 60.0, 70.0,80.0,90.0,100.0])\n",
    "\n",
    "\n",
    "perc_0 = np.percentile(d_0, p)\n",
    "perc_1 = np.percentile(d_1, p)\n",
    "perc_2 = np.percentile(d_2, p)\n",
    "perc_3 = np.percentile(d_3, p)"
   ]
  },
  {
   "cell_type": "code",
   "execution_count": 195,
   "id": "748c264a-2f76-4933-843b-dfad4ad9fee3",
   "metadata": {},
   "outputs": [],
   "source": [
    "def plot_partition_perc():\n",
    "    x = pd.cut(goals['y_prob_rm'], bins=perc_0).reset_index()\n",
    "    x =x.groupby('y_prob_rm', as_index=False).size()\n",
    "    x.columns = ['y_prob_rm', 'count']\n",
    "\n",
    "    x1 = pd.cut(goals['y_prob_lr1'], bins=perc_1).reset_index()\n",
    "    x1 =x1.groupby('y_prob_lr1', as_index=False).size()\n",
    "    x1.columns = ['y_prob_lr1', 'count']\n",
    "\n",
    "    x2 = pd.cut(goals['y_prob_lr2'], bins=perc_2).reset_index()\n",
    "    x2 =x2.groupby('y_prob_lr2', as_index=False).size()\n",
    "    x2.columns = ['y_prob_lr2', 'count']\n",
    "\n",
    "\n",
    "    x3 = pd.cut(goals['y_prob_lr3'], bins=perc_3).reset_index()\n",
    "    x3 =x3.groupby('y_prob_lr3', as_index=False).size()\n",
    "    x3.columns = ['y_prob_lr3', 'count']\n",
    "\n",
    "    z = len(goals['y_test'])\n",
    "\n",
    "    sns.set_theme(style=\"white\", palette=None)\n",
    "    sns.lineplot(x=100*np.flip(perc_0[1:]), y = 100*(np.flip((x['count']/z))).cumsum(), label = 'Random Uniform Baseline')\n",
    "    sns.lineplot(x=100*np.flip(perc_1[1:]), y = 100*(np.flip((x1['count']/z))).cumsum(), label = 'LR Model - Distance')\n",
    "    sns.lineplot(x=100*np.flip(perc_2[1:]), y = 100*(np.flip((x2['count']/z))).cumsum(), label = 'LR Model - Angle')\n",
    "    sns.lineplot(x=100*np.flip(perc_3[1:]), y = 100*(np.flip((x3['count']/z))).cumsum(), label = 'LR Model - Dist + Ang')\n",
    "    plt.title('Shot probabilty model percentile vs goal rate')\n",
    "    plt.xlabel('Shot probability model percentile')\n",
    "    plt.ylabel(\"Proportion\")\n",
    "    #plt.yscale('log')\n",
    "    fmt = '%.2f%%' # Format you want the ticks, e.g. '40%'\n",
    "    yticks = mtick.FormatStrFormatter(fmt)\n",
    "    plt.gca().yaxis.set_major_formatter(yticks)\n",
    "    xticks = mtick.FormatStrFormatter(fmt)\n",
    "    plt.gca().xaxis.set_major_formatter(xticks)\n",
    "    plt.gca().invert_xaxis()\n",
    "    plt.grid()"
   ]
  },
  {
   "cell_type": "code",
   "execution_count": 196,
   "id": "ba93da92-e68b-49d8-90a3-c22181d19c20",
   "metadata": {},
   "outputs": [
    {
     "data": {
      "image/png": "[encoded data removed]",
      "text/plain": [
       "<Figure size 640x480 with 1 Axes>"
      ]
     },
     "metadata": {},
     "output_type": "display_data"
    }
   ],
   "source": [
    "plot_partition_perc()"
   ]
  },
  {
   "cell_type": "markdown",
   "id": "143b19ca-c3ce-4986-b811-463717ed257a",
   "metadata": {},
   "source": [
    "### Calibration Plot"
   ]
  },
  {
   "cell_type": "code",
   "execution_count": 197,
   "id": "9f60a8c3-e2fa-4742-b2cd-f1e9f95ff93a",
   "metadata": {},
   "outputs": [],
   "source": [
    "from sklearn.calibration import CalibrationDisplay\n",
    "from sklearn.calibration import calibration_curve\n",
    "import matplotlib.transforms as mtransforms\n",
    "from matplotlib.gridspec import GridSpec"
   ]
  },
  {
   "cell_type": "code",
   "execution_count": 198,
   "id": "5d133168-00db-49c0-af56-b612d3de3764",
   "metadata": {},
   "outputs": [],
   "source": [
    "logreg1_y, logreg1_x = calibration_curve(y_test, lr1_probs, n_bins=20)\n",
    "logreg2_y, logreg2_x = calibration_curve(y_test, lr2_probs, n_bins=20)\n",
    "logreg3_y, logreg3_x = calibration_curve(y_test, lr3_probs, n_bins=20)\n",
    "rc_y, rc_x = calibration_curve(y_test, ns_probs, n_bins=20)"
   ]
  },
  {
   "cell_type": "code",
   "execution_count": 199,
   "id": "71c12744-8811-4e06-95e5-fec7608ab887",
   "metadata": {},
   "outputs": [
    {
     "data": {
      "image/png": "[encoded data removed]",
      "text/plain": [
       "<Figure size 640x480 with 1 Axes>"
      ]
     },
     "metadata": {},
     "output_type": "display_data"
    }
   ],
   "source": [
    "fig, ax = plt.subplots()\n",
    "# only these two lines are calibration curves\n",
    "plt.plot(logreg1_x,logreg1_y, marker='o', linewidth=1, label='LogReg - Distance')\n",
    "plt.plot(logreg2_x,logreg2_y, marker='o', linewidth=1, label='LogReg - Angle')\n",
    "plt.plot(logreg3_x,logreg3_y, marker='o', linewidth=1, label='LogReg - Dist+Ang')\n",
    "plt.plot(rc_x, rc_y, marker='o', linewidth=1, label='Random Uniform Class')\n",
    "\n",
    "# reference line, legends, and axis labels\n",
    "plt.plot([0, 1], [0, 1], linestyle='--', color='black', label='Perfectly calibrated')\n",
    "fig.suptitle('Calibration plot for Logistic Regression Models and Random Uniform Baseline')\n",
    "ax.set_xlabel('Mean predicted probability (Positive class:1)')\n",
    "ax.set_ylabel('Fraction of positives (Positive class:1)')\n",
    "plt.grid()\n",
    "plt.legend()\n",
    "plt.show()"
   ]
  },
  {
   "cell_type": "code",
   "execution_count": 202,
   "id": "65738a1d-247b-4469-8070-b820c814e941",
   "metadata": {},
   "outputs": [],
   "source": [
    "#experiment.end()"
   ]
  },
  {
   "cell_type": "code",
   "execution_count": null,
   "id": "5e5abfb7-91cc-46d2-83a8-3d7bf56a6742",
   "metadata": {},
   "outputs": [],
   "source": []
  },
  {
   "cell_type": "code",
   "execution_count": null,
   "id": "ced0df50-0ef2-4ecf-98cc-41bcc008aa6e",
   "metadata": {},
   "outputs": [],
   "source": []
  }
 ],
 "metadata": {
  "kernelspec": {
   "display_name": "ift6758-conda-env",
   "language": "python",
   "name": "ift6758-conda-env"
  },
  "language_info": {
   "codemirror_mode": {
    "name": "ipython",
    "version": 3
   },
   "file_extension": ".py",
   "mimetype": "text/x-python",
   "name": "python",
   "nbconvert_exporter": "python",
   "pygments_lexer": "ipython3",
   "version": "3.10.6"
  }
 },
 "nbformat": 4,
 "nbformat_minor": 5
}
