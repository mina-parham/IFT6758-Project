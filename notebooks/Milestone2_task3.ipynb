{
 "cells": [
  {
   "cell_type": "code",
   "execution_count": 1,
   "id": "1ba5b78b-5eae-42ab-971d-9c7236a3e345",
   "metadata": {},
   "outputs": [],
   "source": [
    "import sys\n",
    "import pandas as pd\n",
    "import numpy as np\n",
    "sys.path.append('../ift6758/data/')"
   ]
  },
  {
   "cell_type": "code",
   "execution_count": 2,
   "id": "8d478bb1-c384-413a-a561-8193c8391d19",
   "metadata": {},
   "outputs": [],
   "source": [
    "train_2015_2018 = pd.read_csv('./milestone2_csvs/tidy_train_2015_2018.csv')"
   ]
  },
  {
   "cell_type": "code",
   "execution_count": 3,
   "id": "460d7419-2976-4de4-92d4-ad96a9fa8b7f",
   "metadata": {},
   "outputs": [],
   "source": [
    "test_2019_2020 = pd.read_csv('./milestone2_csvs/tidy_test_2019_2020.csv')"
   ]
  },
  {
   "cell_type": "code",
   "execution_count": 4,
   "id": "989cdf08-fc86-4ae3-872c-4ac0cd0d95f1",
   "metadata": {},
   "outputs": [
    {
     "data": {
      "text/html": [
       "<div>\n",
       "<style scoped>\n",
       "    .dataframe tbody tr th:only-of-type {\n",
       "        vertical-align: middle;\n",
       "    }\n",
       "\n",
       "    .dataframe tbody tr th {\n",
       "        vertical-align: top;\n",
       "    }\n",
       "\n",
       "    .dataframe thead th {\n",
       "        text-align: right;\n",
       "    }\n",
       "</style>\n",
       "<table border=\"1\" class=\"dataframe\">\n",
       "  <thead>\n",
       "    <tr style=\"text-align: right;\">\n",
       "      <th></th>\n",
       "      <th>event_idx</th>\n",
       "      <th>period_time</th>\n",
       "      <th>period</th>\n",
       "      <th>game_id</th>\n",
       "      <th>team_away_name</th>\n",
       "      <th>team_home_name</th>\n",
       "      <th>is_goal</th>\n",
       "      <th>coordinate_x</th>\n",
       "      <th>coordinate_y</th>\n",
       "      <th>shot_type</th>\n",
       "      <th>strength</th>\n",
       "      <th>shooter_name</th>\n",
       "      <th>goalie_name</th>\n",
       "      <th>empty_net</th>\n",
       "      <th>team_name</th>\n",
       "      <th>distance</th>\n",
       "      <th>angle</th>\n",
       "      <th>angle_d</th>\n",
       "    </tr>\n",
       "  </thead>\n",
       "  <tbody>\n",
       "    <tr>\n",
       "      <th>0</th>\n",
       "      <td>7</td>\n",
       "      <td>00:51</td>\n",
       "      <td>1</td>\n",
       "      <td>2015020001</td>\n",
       "      <td>Montréal Canadiens</td>\n",
       "      <td>Toronto Maple Leafs</td>\n",
       "      <td>0</td>\n",
       "      <td>-55.0</td>\n",
       "      <td>6.0</td>\n",
       "      <td>Wrist Shot</td>\n",
       "      <td>NaN</td>\n",
       "      <td>Brad Boyes</td>\n",
       "      <td>Brad Boyes</td>\n",
       "      <td>0</td>\n",
       "      <td>Toronto Maple Leafs</td>\n",
       "      <td>34.5254</td>\n",
       "      <td>0.1747</td>\n",
       "      <td>10.009573</td>\n",
       "    </tr>\n",
       "    <tr>\n",
       "      <th>1</th>\n",
       "      <td>9</td>\n",
       "      <td>01:05</td>\n",
       "      <td>1</td>\n",
       "      <td>2015020001</td>\n",
       "      <td>Montréal Canadiens</td>\n",
       "      <td>Toronto Maple Leafs</td>\n",
       "      <td>0</td>\n",
       "      <td>-79.0</td>\n",
       "      <td>0.0</td>\n",
       "      <td>Snap Shot</td>\n",
       "      <td>NaN</td>\n",
       "      <td>Nazem Kadri</td>\n",
       "      <td>Nazem Kadri</td>\n",
       "      <td>0</td>\n",
       "      <td>Toronto Maple Leafs</td>\n",
       "      <td>10.0000</td>\n",
       "      <td>0.0000</td>\n",
       "      <td>0.000000</td>\n",
       "    </tr>\n",
       "    <tr>\n",
       "      <th>2</th>\n",
       "      <td>10</td>\n",
       "      <td>01:06</td>\n",
       "      <td>1</td>\n",
       "      <td>2015020001</td>\n",
       "      <td>Montréal Canadiens</td>\n",
       "      <td>Toronto Maple Leafs</td>\n",
       "      <td>0</td>\n",
       "      <td>-75.0</td>\n",
       "      <td>-1.0</td>\n",
       "      <td>Snap Shot</td>\n",
       "      <td>NaN</td>\n",
       "      <td>Nazem Kadri</td>\n",
       "      <td>Nazem Kadri</td>\n",
       "      <td>0</td>\n",
       "      <td>Toronto Maple Leafs</td>\n",
       "      <td>14.0357</td>\n",
       "      <td>0.0713</td>\n",
       "      <td>4.085189</td>\n",
       "    </tr>\n",
       "    <tr>\n",
       "      <th>3</th>\n",
       "      <td>13</td>\n",
       "      <td>01:53</td>\n",
       "      <td>1</td>\n",
       "      <td>2015020001</td>\n",
       "      <td>Montréal Canadiens</td>\n",
       "      <td>Toronto Maple Leafs</td>\n",
       "      <td>0</td>\n",
       "      <td>-55.0</td>\n",
       "      <td>-36.0</td>\n",
       "      <td>Wrist Shot</td>\n",
       "      <td>NaN</td>\n",
       "      <td>Daniel Winnik</td>\n",
       "      <td>Daniel Winnik</td>\n",
       "      <td>0</td>\n",
       "      <td>Toronto Maple Leafs</td>\n",
       "      <td>49.5177</td>\n",
       "      <td>0.8140</td>\n",
       "      <td>46.638765</td>\n",
       "    </tr>\n",
       "    <tr>\n",
       "      <th>4</th>\n",
       "      <td>21</td>\n",
       "      <td>02:37</td>\n",
       "      <td>1</td>\n",
       "      <td>2015020001</td>\n",
       "      <td>Montréal Canadiens</td>\n",
       "      <td>Toronto Maple Leafs</td>\n",
       "      <td>0</td>\n",
       "      <td>-61.0</td>\n",
       "      <td>-1.0</td>\n",
       "      <td>Tip-In</td>\n",
       "      <td>NaN</td>\n",
       "      <td>Joffrey Lupul</td>\n",
       "      <td>Joffrey Lupul</td>\n",
       "      <td>0</td>\n",
       "      <td>Toronto Maple Leafs</td>\n",
       "      <td>28.0179</td>\n",
       "      <td>0.0357</td>\n",
       "      <td>2.045459</td>\n",
       "    </tr>\n",
       "  </tbody>\n",
       "</table>\n",
       "</div>"
      ],
      "text/plain": [
       "   event_idx period_time  period     game_id      team_away_name  \\\n",
       "0          7       00:51       1  2015020001  Montréal Canadiens   \n",
       "1          9       01:05       1  2015020001  Montréal Canadiens   \n",
       "2         10       01:06       1  2015020001  Montréal Canadiens   \n",
       "3         13       01:53       1  2015020001  Montréal Canadiens   \n",
       "4         21       02:37       1  2015020001  Montréal Canadiens   \n",
       "\n",
       "        team_home_name  is_goal  coordinate_x  coordinate_y   shot_type  \\\n",
       "0  Toronto Maple Leafs        0         -55.0           6.0  Wrist Shot   \n",
       "1  Toronto Maple Leafs        0         -79.0           0.0   Snap Shot   \n",
       "2  Toronto Maple Leafs        0         -75.0          -1.0   Snap Shot   \n",
       "3  Toronto Maple Leafs        0         -55.0         -36.0  Wrist Shot   \n",
       "4  Toronto Maple Leafs        0         -61.0          -1.0      Tip-In   \n",
       "\n",
       "  strength   shooter_name    goalie_name  empty_net            team_name  \\\n",
       "0      NaN     Brad Boyes     Brad Boyes          0  Toronto Maple Leafs   \n",
       "1      NaN    Nazem Kadri    Nazem Kadri          0  Toronto Maple Leafs   \n",
       "2      NaN    Nazem Kadri    Nazem Kadri          0  Toronto Maple Leafs   \n",
       "3      NaN  Daniel Winnik  Daniel Winnik          0  Toronto Maple Leafs   \n",
       "4      NaN  Joffrey Lupul  Joffrey Lupul          0  Toronto Maple Leafs   \n",
       "\n",
       "   distance   angle    angle_d  \n",
       "0   34.5254  0.1747  10.009573  \n",
       "1   10.0000  0.0000   0.000000  \n",
       "2   14.0357  0.0713   4.085189  \n",
       "3   49.5177  0.8140  46.638765  \n",
       "4   28.0179  0.0357   2.045459  "
      ]
     },
     "execution_count": 4,
     "metadata": {},
     "output_type": "execute_result"
    }
   ],
   "source": [
    "train_2015_2018.head()"
   ]
  },
  {
   "cell_type": "code",
   "execution_count": 5,
   "id": "aca895fb-75c1-4001-89f8-ed59cefbbd87",
   "metadata": {},
   "outputs": [
    {
     "data": {
      "text/html": [
       "<div>\n",
       "<style scoped>\n",
       "    .dataframe tbody tr th:only-of-type {\n",
       "        vertical-align: middle;\n",
       "    }\n",
       "\n",
       "    .dataframe tbody tr th {\n",
       "        vertical-align: top;\n",
       "    }\n",
       "\n",
       "    .dataframe thead th {\n",
       "        text-align: right;\n",
       "    }\n",
       "</style>\n",
       "<table border=\"1\" class=\"dataframe\">\n",
       "  <thead>\n",
       "    <tr style=\"text-align: right;\">\n",
       "      <th></th>\n",
       "      <th>event_idx</th>\n",
       "      <th>period_time</th>\n",
       "      <th>period</th>\n",
       "      <th>game_id</th>\n",
       "      <th>team_away_name</th>\n",
       "      <th>team_home_name</th>\n",
       "      <th>is_goal</th>\n",
       "      <th>coordinate_x</th>\n",
       "      <th>coordinate_y</th>\n",
       "      <th>shot_type</th>\n",
       "      <th>strength</th>\n",
       "      <th>shooter_name</th>\n",
       "      <th>goalie_name</th>\n",
       "      <th>empty_net</th>\n",
       "      <th>team_name</th>\n",
       "      <th>distance</th>\n",
       "      <th>angle</th>\n",
       "      <th>angle_d</th>\n",
       "    </tr>\n",
       "  </thead>\n",
       "  <tbody>\n",
       "    <tr>\n",
       "      <th>332737</th>\n",
       "      <td>276</td>\n",
       "      <td>15:22</td>\n",
       "      <td>3</td>\n",
       "      <td>2018030417</td>\n",
       "      <td>St. Louis Blues</td>\n",
       "      <td>Boston Bruins</td>\n",
       "      <td>1</td>\n",
       "      <td>-77.0</td>\n",
       "      <td>7.0</td>\n",
       "      <td>Snap Shot</td>\n",
       "      <td>Even</td>\n",
       "      <td>Zach Sanford</td>\n",
       "      <td>Zach Sanford</td>\n",
       "      <td>0</td>\n",
       "      <td>St. Louis Blues</td>\n",
       "      <td>13.8924</td>\n",
       "      <td>0.5281</td>\n",
       "      <td>30.257901</td>\n",
       "    </tr>\n",
       "    <tr>\n",
       "      <th>332738</th>\n",
       "      <td>279</td>\n",
       "      <td>15:51</td>\n",
       "      <td>3</td>\n",
       "      <td>2018030417</td>\n",
       "      <td>St. Louis Blues</td>\n",
       "      <td>Boston Bruins</td>\n",
       "      <td>0</td>\n",
       "      <td>-69.0</td>\n",
       "      <td>7.0</td>\n",
       "      <td>Snap Shot</td>\n",
       "      <td>NaN</td>\n",
       "      <td>Alexander Steen</td>\n",
       "      <td>Alexander Steen</td>\n",
       "      <td>0</td>\n",
       "      <td>St. Louis Blues</td>\n",
       "      <td>21.1896</td>\n",
       "      <td>0.3367</td>\n",
       "      <td>19.291489</td>\n",
       "    </tr>\n",
       "    <tr>\n",
       "      <th>332739</th>\n",
       "      <td>280</td>\n",
       "      <td>15:55</td>\n",
       "      <td>3</td>\n",
       "      <td>2018030417</td>\n",
       "      <td>St. Louis Blues</td>\n",
       "      <td>Boston Bruins</td>\n",
       "      <td>0</td>\n",
       "      <td>-65.0</td>\n",
       "      <td>-4.0</td>\n",
       "      <td>Snap Shot</td>\n",
       "      <td>NaN</td>\n",
       "      <td>Ryan O'Reilly</td>\n",
       "      <td>Ryan O'Reilly</td>\n",
       "      <td>0</td>\n",
       "      <td>St. Louis Blues</td>\n",
       "      <td>24.3311</td>\n",
       "      <td>0.1651</td>\n",
       "      <td>9.459533</td>\n",
       "    </tr>\n",
       "    <tr>\n",
       "      <th>332740</th>\n",
       "      <td>284</td>\n",
       "      <td>16:50</td>\n",
       "      <td>3</td>\n",
       "      <td>2018030417</td>\n",
       "      <td>St. Louis Blues</td>\n",
       "      <td>Boston Bruins</td>\n",
       "      <td>0</td>\n",
       "      <td>42.0</td>\n",
       "      <td>3.0</td>\n",
       "      <td>Wrist Shot</td>\n",
       "      <td>NaN</td>\n",
       "      <td>Marcus Johansson</td>\n",
       "      <td>Marcus Johansson</td>\n",
       "      <td>0</td>\n",
       "      <td>Boston Bruins</td>\n",
       "      <td>47.0956</td>\n",
       "      <td>0.0637</td>\n",
       "      <td>3.649741</td>\n",
       "    </tr>\n",
       "    <tr>\n",
       "      <th>332741</th>\n",
       "      <td>289</td>\n",
       "      <td>17:50</td>\n",
       "      <td>3</td>\n",
       "      <td>2018030417</td>\n",
       "      <td>St. Louis Blues</td>\n",
       "      <td>Boston Bruins</td>\n",
       "      <td>1</td>\n",
       "      <td>44.0</td>\n",
       "      <td>24.0</td>\n",
       "      <td>Wrist Shot</td>\n",
       "      <td>Even</td>\n",
       "      <td>Matt Grzelcyk</td>\n",
       "      <td>Matt Grzelcyk</td>\n",
       "      <td>0</td>\n",
       "      <td>Boston Bruins</td>\n",
       "      <td>51.0000</td>\n",
       "      <td>0.4900</td>\n",
       "      <td>28.074932</td>\n",
       "    </tr>\n",
       "  </tbody>\n",
       "</table>\n",
       "</div>"
      ],
      "text/plain": [
       "        event_idx period_time  period     game_id   team_away_name  \\\n",
       "332737        276       15:22       3  2018030417  St. Louis Blues   \n",
       "332738        279       15:51       3  2018030417  St. Louis Blues   \n",
       "332739        280       15:55       3  2018030417  St. Louis Blues   \n",
       "332740        284       16:50       3  2018030417  St. Louis Blues   \n",
       "332741        289       17:50       3  2018030417  St. Louis Blues   \n",
       "\n",
       "       team_home_name  is_goal  coordinate_x  coordinate_y   shot_type  \\\n",
       "332737  Boston Bruins        1         -77.0           7.0   Snap Shot   \n",
       "332738  Boston Bruins        0         -69.0           7.0   Snap Shot   \n",
       "332739  Boston Bruins        0         -65.0          -4.0   Snap Shot   \n",
       "332740  Boston Bruins        0          42.0           3.0  Wrist Shot   \n",
       "332741  Boston Bruins        1          44.0          24.0  Wrist Shot   \n",
       "\n",
       "       strength      shooter_name       goalie_name  empty_net  \\\n",
       "332737     Even      Zach Sanford      Zach Sanford          0   \n",
       "332738      NaN   Alexander Steen   Alexander Steen          0   \n",
       "332739      NaN     Ryan O'Reilly     Ryan O'Reilly          0   \n",
       "332740      NaN  Marcus Johansson  Marcus Johansson          0   \n",
       "332741     Even     Matt Grzelcyk     Matt Grzelcyk          0   \n",
       "\n",
       "              team_name  distance   angle    angle_d  \n",
       "332737  St. Louis Blues   13.8924  0.5281  30.257901  \n",
       "332738  St. Louis Blues   21.1896  0.3367  19.291489  \n",
       "332739  St. Louis Blues   24.3311  0.1651   9.459533  \n",
       "332740    Boston Bruins   47.0956  0.0637   3.649741  \n",
       "332741    Boston Bruins   51.0000  0.4900  28.074932  "
      ]
     },
     "execution_count": 5,
     "metadata": {},
     "output_type": "execute_result"
    }
   ],
   "source": [
    "train_2015_2018.tail()"
   ]
  },
  {
   "cell_type": "code",
   "execution_count": 6,
   "id": "266fad3c-73e4-42f9-87ca-c95cc0ddd1f1",
   "metadata": {},
   "outputs": [
    {
     "data": {
      "text/html": [
       "<div>\n",
       "<style scoped>\n",
       "    .dataframe tbody tr th:only-of-type {\n",
       "        vertical-align: middle;\n",
       "    }\n",
       "\n",
       "    .dataframe tbody tr th {\n",
       "        vertical-align: top;\n",
       "    }\n",
       "\n",
       "    .dataframe thead th {\n",
       "        text-align: right;\n",
       "    }\n",
       "</style>\n",
       "<table border=\"1\" class=\"dataframe\">\n",
       "  <thead>\n",
       "    <tr style=\"text-align: right;\">\n",
       "      <th></th>\n",
       "      <th>event_idx</th>\n",
       "      <th>period_time</th>\n",
       "      <th>period</th>\n",
       "      <th>game_id</th>\n",
       "      <th>team_away_name</th>\n",
       "      <th>team_home_name</th>\n",
       "      <th>is_goal</th>\n",
       "      <th>coordinate_x</th>\n",
       "      <th>coordinate_y</th>\n",
       "      <th>shot_type</th>\n",
       "      <th>strength</th>\n",
       "      <th>shooter_name</th>\n",
       "      <th>goalie_name</th>\n",
       "      <th>empty_net</th>\n",
       "      <th>team_name</th>\n",
       "      <th>distance</th>\n",
       "      <th>angle</th>\n",
       "      <th>angle_d</th>\n",
       "    </tr>\n",
       "  </thead>\n",
       "  <tbody>\n",
       "    <tr>\n",
       "      <th>0</th>\n",
       "      <td>4</td>\n",
       "      <td>00:25</td>\n",
       "      <td>1</td>\n",
       "      <td>2019020001</td>\n",
       "      <td>Ottawa Senators</td>\n",
       "      <td>Toronto Maple Leafs</td>\n",
       "      <td>1</td>\n",
       "      <td>85.0</td>\n",
       "      <td>-1.0</td>\n",
       "      <td>Tip-In</td>\n",
       "      <td>Even</td>\n",
       "      <td>Brady Tkachuk</td>\n",
       "      <td>Brady Tkachuk</td>\n",
       "      <td>0</td>\n",
       "      <td>Ottawa Senators</td>\n",
       "      <td>4.1231</td>\n",
       "      <td>0.2450</td>\n",
       "      <td>14.037466</td>\n",
       "    </tr>\n",
       "    <tr>\n",
       "      <th>1</th>\n",
       "      <td>12</td>\n",
       "      <td>01:31</td>\n",
       "      <td>1</td>\n",
       "      <td>2019020001</td>\n",
       "      <td>Ottawa Senators</td>\n",
       "      <td>Toronto Maple Leafs</td>\n",
       "      <td>0</td>\n",
       "      <td>-32.0</td>\n",
       "      <td>-2.0</td>\n",
       "      <td>Snap Shot</td>\n",
       "      <td>NaN</td>\n",
       "      <td>Morgan Rielly</td>\n",
       "      <td>Morgan Rielly</td>\n",
       "      <td>0</td>\n",
       "      <td>Toronto Maple Leafs</td>\n",
       "      <td>57.0351</td>\n",
       "      <td>0.0351</td>\n",
       "      <td>2.011082</td>\n",
       "    </tr>\n",
       "    <tr>\n",
       "      <th>2</th>\n",
       "      <td>19</td>\n",
       "      <td>03:23</td>\n",
       "      <td>1</td>\n",
       "      <td>2019020001</td>\n",
       "      <td>Ottawa Senators</td>\n",
       "      <td>Toronto Maple Leafs</td>\n",
       "      <td>0</td>\n",
       "      <td>63.0</td>\n",
       "      <td>-6.0</td>\n",
       "      <td>Snap Shot</td>\n",
       "      <td>NaN</td>\n",
       "      <td>Dylan DeMelo</td>\n",
       "      <td>Dylan DeMelo</td>\n",
       "      <td>0</td>\n",
       "      <td>Ottawa Senators</td>\n",
       "      <td>26.6833</td>\n",
       "      <td>0.2268</td>\n",
       "      <td>12.994683</td>\n",
       "    </tr>\n",
       "    <tr>\n",
       "      <th>3</th>\n",
       "      <td>22</td>\n",
       "      <td>03:56</td>\n",
       "      <td>1</td>\n",
       "      <td>2019020001</td>\n",
       "      <td>Ottawa Senators</td>\n",
       "      <td>Toronto Maple Leafs</td>\n",
       "      <td>0</td>\n",
       "      <td>-59.0</td>\n",
       "      <td>-20.0</td>\n",
       "      <td>Wrist Shot</td>\n",
       "      <td>NaN</td>\n",
       "      <td>Morgan Rielly</td>\n",
       "      <td>Morgan Rielly</td>\n",
       "      <td>0</td>\n",
       "      <td>Toronto Maple Leafs</td>\n",
       "      <td>36.0555</td>\n",
       "      <td>0.5880</td>\n",
       "      <td>33.689918</td>\n",
       "    </tr>\n",
       "    <tr>\n",
       "      <th>4</th>\n",
       "      <td>27</td>\n",
       "      <td>04:47</td>\n",
       "      <td>1</td>\n",
       "      <td>2019020001</td>\n",
       "      <td>Ottawa Senators</td>\n",
       "      <td>Toronto Maple Leafs</td>\n",
       "      <td>0</td>\n",
       "      <td>-42.0</td>\n",
       "      <td>-29.0</td>\n",
       "      <td>Slap Shot</td>\n",
       "      <td>NaN</td>\n",
       "      <td>Tyson Barrie</td>\n",
       "      <td>Tyson Barrie</td>\n",
       "      <td>0</td>\n",
       "      <td>Toronto Maple Leafs</td>\n",
       "      <td>55.2268</td>\n",
       "      <td>0.5528</td>\n",
       "      <td>31.673107</td>\n",
       "    </tr>\n",
       "  </tbody>\n",
       "</table>\n",
       "</div>"
      ],
      "text/plain": [
       "   event_idx period_time  period     game_id   team_away_name  \\\n",
       "0          4       00:25       1  2019020001  Ottawa Senators   \n",
       "1         12       01:31       1  2019020001  Ottawa Senators   \n",
       "2         19       03:23       1  2019020001  Ottawa Senators   \n",
       "3         22       03:56       1  2019020001  Ottawa Senators   \n",
       "4         27       04:47       1  2019020001  Ottawa Senators   \n",
       "\n",
       "        team_home_name  is_goal  coordinate_x  coordinate_y   shot_type  \\\n",
       "0  Toronto Maple Leafs        1          85.0          -1.0      Tip-In   \n",
       "1  Toronto Maple Leafs        0         -32.0          -2.0   Snap Shot   \n",
       "2  Toronto Maple Leafs        0          63.0          -6.0   Snap Shot   \n",
       "3  Toronto Maple Leafs        0         -59.0         -20.0  Wrist Shot   \n",
       "4  Toronto Maple Leafs        0         -42.0         -29.0   Slap Shot   \n",
       "\n",
       "  strength   shooter_name    goalie_name  empty_net            team_name  \\\n",
       "0     Even  Brady Tkachuk  Brady Tkachuk          0      Ottawa Senators   \n",
       "1      NaN  Morgan Rielly  Morgan Rielly          0  Toronto Maple Leafs   \n",
       "2      NaN   Dylan DeMelo   Dylan DeMelo          0      Ottawa Senators   \n",
       "3      NaN  Morgan Rielly  Morgan Rielly          0  Toronto Maple Leafs   \n",
       "4      NaN   Tyson Barrie   Tyson Barrie          0  Toronto Maple Leafs   \n",
       "\n",
       "   distance   angle    angle_d  \n",
       "0    4.1231  0.2450  14.037466  \n",
       "1   57.0351  0.0351   2.011082  \n",
       "2   26.6833  0.2268  12.994683  \n",
       "3   36.0555  0.5880  33.689918  \n",
       "4   55.2268  0.5528  31.673107  "
      ]
     },
     "execution_count": 6,
     "metadata": {},
     "output_type": "execute_result"
    }
   ],
   "source": [
    "test_2019_2020.head()"
   ]
  },
  {
   "cell_type": "code",
   "execution_count": 7,
   "id": "544298ca-d4d4-4985-99dc-7d0307f1fa45",
   "metadata": {},
   "outputs": [
    {
     "data": {
      "text/html": [
       "<div>\n",
       "<style scoped>\n",
       "    .dataframe tbody tr th:only-of-type {\n",
       "        vertical-align: middle;\n",
       "    }\n",
       "\n",
       "    .dataframe tbody tr th {\n",
       "        vertical-align: top;\n",
       "    }\n",
       "\n",
       "    .dataframe thead th {\n",
       "        text-align: right;\n",
       "    }\n",
       "</style>\n",
       "<table border=\"1\" class=\"dataframe\">\n",
       "  <thead>\n",
       "    <tr style=\"text-align: right;\">\n",
       "      <th></th>\n",
       "      <th>event_idx</th>\n",
       "      <th>period_time</th>\n",
       "      <th>period</th>\n",
       "      <th>game_id</th>\n",
       "      <th>team_away_name</th>\n",
       "      <th>team_home_name</th>\n",
       "      <th>is_goal</th>\n",
       "      <th>coordinate_x</th>\n",
       "      <th>coordinate_y</th>\n",
       "      <th>shot_type</th>\n",
       "      <th>strength</th>\n",
       "      <th>shooter_name</th>\n",
       "      <th>goalie_name</th>\n",
       "      <th>empty_net</th>\n",
       "      <th>team_name</th>\n",
       "      <th>distance</th>\n",
       "      <th>angle</th>\n",
       "      <th>angle_d</th>\n",
       "    </tr>\n",
       "  </thead>\n",
       "  <tbody>\n",
       "    <tr>\n",
       "      <th>73862</th>\n",
       "      <td>319</td>\n",
       "      <td>16:01</td>\n",
       "      <td>3</td>\n",
       "      <td>2019030416</td>\n",
       "      <td>Tampa Bay Lightning</td>\n",
       "      <td>Dallas Stars</td>\n",
       "      <td>0</td>\n",
       "      <td>-59.0</td>\n",
       "      <td>-24.0</td>\n",
       "      <td>Snap Shot</td>\n",
       "      <td>NaN</td>\n",
       "      <td>Anthony Cirelli</td>\n",
       "      <td>Anthony Cirelli</td>\n",
       "      <td>0</td>\n",
       "      <td>Tampa Bay Lightning</td>\n",
       "      <td>38.4187</td>\n",
       "      <td>0.6747</td>\n",
       "      <td>38.657462</td>\n",
       "    </tr>\n",
       "    <tr>\n",
       "      <th>73863</th>\n",
       "      <td>326</td>\n",
       "      <td>17:20</td>\n",
       "      <td>3</td>\n",
       "      <td>2019030416</td>\n",
       "      <td>Tampa Bay Lightning</td>\n",
       "      <td>Dallas Stars</td>\n",
       "      <td>0</td>\n",
       "      <td>-81.0</td>\n",
       "      <td>3.0</td>\n",
       "      <td>Wrist Shot</td>\n",
       "      <td>NaN</td>\n",
       "      <td>Blake Coleman</td>\n",
       "      <td>Blake Coleman</td>\n",
       "      <td>0</td>\n",
       "      <td>Tampa Bay Lightning</td>\n",
       "      <td>8.5440</td>\n",
       "      <td>0.3588</td>\n",
       "      <td>20.557726</td>\n",
       "    </tr>\n",
       "    <tr>\n",
       "      <th>73864</th>\n",
       "      <td>333</td>\n",
       "      <td>18:50</td>\n",
       "      <td>3</td>\n",
       "      <td>2019030416</td>\n",
       "      <td>Tampa Bay Lightning</td>\n",
       "      <td>Dallas Stars</td>\n",
       "      <td>0</td>\n",
       "      <td>34.0</td>\n",
       "      <td>-6.0</td>\n",
       "      <td>Snap Shot</td>\n",
       "      <td>NaN</td>\n",
       "      <td>John Klingberg</td>\n",
       "      <td>John Klingberg</td>\n",
       "      <td>0</td>\n",
       "      <td>Dallas Stars</td>\n",
       "      <td>55.3263</td>\n",
       "      <td>0.1087</td>\n",
       "      <td>6.228051</td>\n",
       "    </tr>\n",
       "    <tr>\n",
       "      <th>73865</th>\n",
       "      <td>341</td>\n",
       "      <td>19:27</td>\n",
       "      <td>3</td>\n",
       "      <td>2019030416</td>\n",
       "      <td>Tampa Bay Lightning</td>\n",
       "      <td>Dallas Stars</td>\n",
       "      <td>0</td>\n",
       "      <td>31.0</td>\n",
       "      <td>10.0</td>\n",
       "      <td>Wrist Shot</td>\n",
       "      <td>NaN</td>\n",
       "      <td>John Klingberg</td>\n",
       "      <td>John Klingberg</td>\n",
       "      <td>0</td>\n",
       "      <td>Dallas Stars</td>\n",
       "      <td>58.8558</td>\n",
       "      <td>0.1707</td>\n",
       "      <td>9.780390</td>\n",
       "    </tr>\n",
       "    <tr>\n",
       "      <th>73866</th>\n",
       "      <td>343</td>\n",
       "      <td>19:45</td>\n",
       "      <td>3</td>\n",
       "      <td>2019030416</td>\n",
       "      <td>Tampa Bay Lightning</td>\n",
       "      <td>Dallas Stars</td>\n",
       "      <td>0</td>\n",
       "      <td>77.0</td>\n",
       "      <td>0.0</td>\n",
       "      <td>Wrist Shot</td>\n",
       "      <td>NaN</td>\n",
       "      <td>Joe Pavelski</td>\n",
       "      <td>Joe Pavelski</td>\n",
       "      <td>0</td>\n",
       "      <td>Dallas Stars</td>\n",
       "      <td>12.0000</td>\n",
       "      <td>0.0000</td>\n",
       "      <td>0.000000</td>\n",
       "    </tr>\n",
       "  </tbody>\n",
       "</table>\n",
       "</div>"
      ],
      "text/plain": [
       "       event_idx period_time  period     game_id       team_away_name  \\\n",
       "73862        319       16:01       3  2019030416  Tampa Bay Lightning   \n",
       "73863        326       17:20       3  2019030416  Tampa Bay Lightning   \n",
       "73864        333       18:50       3  2019030416  Tampa Bay Lightning   \n",
       "73865        341       19:27       3  2019030416  Tampa Bay Lightning   \n",
       "73866        343       19:45       3  2019030416  Tampa Bay Lightning   \n",
       "\n",
       "      team_home_name  is_goal  coordinate_x  coordinate_y   shot_type  \\\n",
       "73862   Dallas Stars        0         -59.0         -24.0   Snap Shot   \n",
       "73863   Dallas Stars        0         -81.0           3.0  Wrist Shot   \n",
       "73864   Dallas Stars        0          34.0          -6.0   Snap Shot   \n",
       "73865   Dallas Stars        0          31.0          10.0  Wrist Shot   \n",
       "73866   Dallas Stars        0          77.0           0.0  Wrist Shot   \n",
       "\n",
       "      strength     shooter_name      goalie_name  empty_net  \\\n",
       "73862      NaN  Anthony Cirelli  Anthony Cirelli          0   \n",
       "73863      NaN    Blake Coleman    Blake Coleman          0   \n",
       "73864      NaN   John Klingberg   John Klingberg          0   \n",
       "73865      NaN   John Klingberg   John Klingberg          0   \n",
       "73866      NaN     Joe Pavelski     Joe Pavelski          0   \n",
       "\n",
       "                 team_name  distance   angle    angle_d  \n",
       "73862  Tampa Bay Lightning   38.4187  0.6747  38.657462  \n",
       "73863  Tampa Bay Lightning    8.5440  0.3588  20.557726  \n",
       "73864         Dallas Stars   55.3263  0.1087   6.228051  \n",
       "73865         Dallas Stars   58.8558  0.1707   9.780390  \n",
       "73866         Dallas Stars   12.0000  0.0000   0.000000  "
      ]
     },
     "execution_count": 7,
     "metadata": {},
     "output_type": "execute_result"
    }
   ],
   "source": [
    "test_2019_2020.tail()"
   ]
  },
  {
   "cell_type": "code",
   "execution_count": 8,
   "id": "94879919-0b34-4e34-9c42-5442c4a0069d",
   "metadata": {},
   "outputs": [
    {
     "name": "stderr",
     "output_type": "stream",
     "text": [
      "/tmp/ipykernel_112029/1994027104.py:2: SettingWithCopyWarning: \n",
      "A value is trying to be set on a copy of a slice from a DataFrame.\n",
      "Try using .loc[row_indexer,col_indexer] = value instead\n",
      "\n",
      "See the caveats in the documentation: https://pandas.pydata.org/pandas-docs/stable/user_guide/indexing.html#returning-a-view-versus-a-copy\n",
      "  goal_data['angle'] = train_2015_2018[['angle_d']]\n"
     ]
    },
    {
     "data": {
      "text/html": [
       "<div>\n",
       "<style scoped>\n",
       "    .dataframe tbody tr th:only-of-type {\n",
       "        vertical-align: middle;\n",
       "    }\n",
       "\n",
       "    .dataframe tbody tr th {\n",
       "        vertical-align: top;\n",
       "    }\n",
       "\n",
       "    .dataframe thead th {\n",
       "        text-align: right;\n",
       "    }\n",
       "</style>\n",
       "<table border=\"1\" class=\"dataframe\">\n",
       "  <thead>\n",
       "    <tr style=\"text-align: right;\">\n",
       "      <th></th>\n",
       "      <th>distance</th>\n",
       "      <th>angle</th>\n",
       "      <th>is_goal</th>\n",
       "    </tr>\n",
       "  </thead>\n",
       "  <tbody>\n",
       "    <tr>\n",
       "      <th>0</th>\n",
       "      <td>34.5254</td>\n",
       "      <td>10.009573</td>\n",
       "      <td>0</td>\n",
       "    </tr>\n",
       "    <tr>\n",
       "      <th>1</th>\n",
       "      <td>10.0000</td>\n",
       "      <td>0.000000</td>\n",
       "      <td>0</td>\n",
       "    </tr>\n",
       "    <tr>\n",
       "      <th>2</th>\n",
       "      <td>14.0357</td>\n",
       "      <td>4.085189</td>\n",
       "      <td>0</td>\n",
       "    </tr>\n",
       "    <tr>\n",
       "      <th>3</th>\n",
       "      <td>49.5177</td>\n",
       "      <td>46.638765</td>\n",
       "      <td>0</td>\n",
       "    </tr>\n",
       "    <tr>\n",
       "      <th>4</th>\n",
       "      <td>28.0179</td>\n",
       "      <td>2.045459</td>\n",
       "      <td>0</td>\n",
       "    </tr>\n",
       "    <tr>\n",
       "      <th>...</th>\n",
       "      <td>...</td>\n",
       "      <td>...</td>\n",
       "      <td>...</td>\n",
       "    </tr>\n",
       "    <tr>\n",
       "      <th>332737</th>\n",
       "      <td>13.8924</td>\n",
       "      <td>30.257901</td>\n",
       "      <td>1</td>\n",
       "    </tr>\n",
       "    <tr>\n",
       "      <th>332738</th>\n",
       "      <td>21.1896</td>\n",
       "      <td>19.291489</td>\n",
       "      <td>0</td>\n",
       "    </tr>\n",
       "    <tr>\n",
       "      <th>332739</th>\n",
       "      <td>24.3311</td>\n",
       "      <td>9.459533</td>\n",
       "      <td>0</td>\n",
       "    </tr>\n",
       "    <tr>\n",
       "      <th>332740</th>\n",
       "      <td>47.0956</td>\n",
       "      <td>3.649741</td>\n",
       "      <td>0</td>\n",
       "    </tr>\n",
       "    <tr>\n",
       "      <th>332741</th>\n",
       "      <td>51.0000</td>\n",
       "      <td>28.074932</td>\n",
       "      <td>1</td>\n",
       "    </tr>\n",
       "  </tbody>\n",
       "</table>\n",
       "<p>332742 rows × 3 columns</p>\n",
       "</div>"
      ],
      "text/plain": [
       "        distance      angle  is_goal\n",
       "0        34.5254  10.009573        0\n",
       "1        10.0000   0.000000        0\n",
       "2        14.0357   4.085189        0\n",
       "3        49.5177  46.638765        0\n",
       "4        28.0179   2.045459        0\n",
       "...          ...        ...      ...\n",
       "332737   13.8924  30.257901        1\n",
       "332738   21.1896  19.291489        0\n",
       "332739   24.3311   9.459533        0\n",
       "332740   47.0956   3.649741        0\n",
       "332741   51.0000  28.074932        1\n",
       "\n",
       "[332742 rows x 3 columns]"
      ]
     },
     "execution_count": 8,
     "metadata": {},
     "output_type": "execute_result"
    }
   ],
   "source": [
    "goal_data = train_2015_2018[['distance','angle','is_goal']]\n",
    "goal_data['angle'] = train_2015_2018[['angle_d']]\n",
    "goal_data"
   ]
  },
  {
   "cell_type": "code",
   "execution_count": 9,
   "id": "0882ef03-26af-44b5-95ae-17f2839840a2",
   "metadata": {},
   "outputs": [],
   "source": [
    "import seaborn as sns\n",
    "import matplotlib.pyplot as plt \n",
    "import matplotlib.ticker as mtick"
   ]
  },
  {
   "cell_type": "markdown",
   "id": "06f86776-1ec2-4c21-9ff6-37d3c424006a",
   "metadata": {},
   "source": [
    "# Task 3- Logistic Regression Model"
   ]
  },
  {
   "cell_type": "code",
   "execution_count": 10,
   "id": "cba4ec5f-5629-474e-be35-0c001ae1b6b2",
   "metadata": {},
   "outputs": [],
   "source": [
    "import os"
   ]
  },
  {
   "cell_type": "code",
   "execution_count": 11,
   "id": "cd646f36-8773-427d-8bf1-9d03f2856f10",
   "metadata": {},
   "outputs": [],
   "source": [
    "api_key = os.getenv('COMET_API_KEY')\n",
    "project_name = os.getenv('project_name')\n",
    "workspace = os.getenv('workspace')"
   ]
  },
  {
   "cell_type": "code",
   "execution_count": 12,
   "id": "da39a3e5-6c52-4626-8624-958a0668316a",
   "metadata": {},
   "outputs": [],
   "source": [
    "# Import comet_ml at the top of your file\n",
    "from comet_ml import Experiment"
   ]
  },
  {
   "cell_type": "code",
   "execution_count": 13,
   "id": "0c2bd73a-a9c9-478b-a02e-544833268ed1",
   "metadata": {},
   "outputs": [],
   "source": [
    "from sklearn.linear_model import LogisticRegression\n",
    "from sklearn.model_selection import train_test_split\n",
    "from itertools import cycle\n",
    "\n",
    "from sklearn.metrics import accuracy_score, roc_curve, auc\n",
    "from sklearn.metrics import roc_auc_score"
   ]
  },
  {
   "cell_type": "code",
   "execution_count": 14,
   "id": "0b200bf0-ad74-4cf6-842c-b4105e69f6e6",
   "metadata": {},
   "outputs": [
    {
     "data": {
      "text/html": [
       "<div>\n",
       "<style scoped>\n",
       "    .dataframe tbody tr th:only-of-type {\n",
       "        vertical-align: middle;\n",
       "    }\n",
       "\n",
       "    .dataframe tbody tr th {\n",
       "        vertical-align: top;\n",
       "    }\n",
       "\n",
       "    .dataframe thead th {\n",
       "        text-align: right;\n",
       "    }\n",
       "</style>\n",
       "<table border=\"1\" class=\"dataframe\">\n",
       "  <thead>\n",
       "    <tr style=\"text-align: right;\">\n",
       "      <th></th>\n",
       "      <th>distance</th>\n",
       "      <th>angle</th>\n",
       "      <th>is_goal</th>\n",
       "    </tr>\n",
       "  </thead>\n",
       "  <tbody>\n",
       "    <tr>\n",
       "      <th>0</th>\n",
       "      <td>34.5254</td>\n",
       "      <td>0.1747</td>\n",
       "      <td>0</td>\n",
       "    </tr>\n",
       "    <tr>\n",
       "      <th>1</th>\n",
       "      <td>10.0000</td>\n",
       "      <td>0.0000</td>\n",
       "      <td>0</td>\n",
       "    </tr>\n",
       "    <tr>\n",
       "      <th>2</th>\n",
       "      <td>14.0357</td>\n",
       "      <td>0.0713</td>\n",
       "      <td>0</td>\n",
       "    </tr>\n",
       "    <tr>\n",
       "      <th>3</th>\n",
       "      <td>49.5177</td>\n",
       "      <td>0.8140</td>\n",
       "      <td>0</td>\n",
       "    </tr>\n",
       "    <tr>\n",
       "      <th>4</th>\n",
       "      <td>28.0179</td>\n",
       "      <td>0.0357</td>\n",
       "      <td>0</td>\n",
       "    </tr>\n",
       "    <tr>\n",
       "      <th>...</th>\n",
       "      <td>...</td>\n",
       "      <td>...</td>\n",
       "      <td>...</td>\n",
       "    </tr>\n",
       "    <tr>\n",
       "      <th>332737</th>\n",
       "      <td>13.8924</td>\n",
       "      <td>0.5281</td>\n",
       "      <td>1</td>\n",
       "    </tr>\n",
       "    <tr>\n",
       "      <th>332738</th>\n",
       "      <td>21.1896</td>\n",
       "      <td>0.3367</td>\n",
       "      <td>0</td>\n",
       "    </tr>\n",
       "    <tr>\n",
       "      <th>332739</th>\n",
       "      <td>24.3311</td>\n",
       "      <td>0.1651</td>\n",
       "      <td>0</td>\n",
       "    </tr>\n",
       "    <tr>\n",
       "      <th>332740</th>\n",
       "      <td>47.0956</td>\n",
       "      <td>0.0637</td>\n",
       "      <td>0</td>\n",
       "    </tr>\n",
       "    <tr>\n",
       "      <th>332741</th>\n",
       "      <td>51.0000</td>\n",
       "      <td>0.4900</td>\n",
       "      <td>1</td>\n",
       "    </tr>\n",
       "  </tbody>\n",
       "</table>\n",
       "<p>332742 rows × 3 columns</p>\n",
       "</div>"
      ],
      "text/plain": [
       "        distance   angle  is_goal\n",
       "0        34.5254  0.1747        0\n",
       "1        10.0000  0.0000        0\n",
       "2        14.0357  0.0713        0\n",
       "3        49.5177  0.8140        0\n",
       "4        28.0179  0.0357        0\n",
       "...          ...     ...      ...\n",
       "332737   13.8924  0.5281        1\n",
       "332738   21.1896  0.3367        0\n",
       "332739   24.3311  0.1651        0\n",
       "332740   47.0956  0.0637        0\n",
       "332741   51.0000  0.4900        1\n",
       "\n",
       "[332742 rows x 3 columns]"
      ]
     },
     "execution_count": 14,
     "metadata": {},
     "output_type": "execute_result"
    }
   ],
   "source": [
    "goal_data3 = train_2015_2018[['distance','angle','is_goal']]\n",
    "goal_data3"
   ]
  },
  {
   "cell_type": "code",
   "execution_count": 15,
   "id": "d94a8804-9a59-4a9d-8f6d-bf12a06bfcd3",
   "metadata": {},
   "outputs": [],
   "source": [
    "goal_data3 = goal_data3.dropna()"
   ]
  },
  {
   "cell_type": "code",
   "execution_count": 16,
   "id": "63f4ae9b-8826-4511-b079-f51ad635af22",
   "metadata": {},
   "outputs": [],
   "source": [
    "X = np.array(goal_data3[['distance','angle']])\n",
    "Y = np.array(goal_data3[['is_goal']])"
   ]
  },
  {
   "cell_type": "code",
   "execution_count": 17,
   "id": "5a72b3d9-87fe-455d-afd3-81dafbc941fc",
   "metadata": {},
   "outputs": [],
   "source": [
    "rng = np.random.RandomState(0)"
   ]
  },
  {
   "cell_type": "code",
   "execution_count": 18,
   "id": "722882a4-aedc-4f4c-bb9c-541eb550b3a9",
   "metadata": {},
   "outputs": [],
   "source": [
    "X_train, X_test, y_train, y_test = train_test_split(X, Y, test_size=0.2, random_state=rng)"
   ]
  },
  {
   "cell_type": "markdown",
   "id": "39b23e44-5d3a-4f30-b25b-f1131bec7cfd",
   "metadata": {},
   "source": [
    "## Random Baseline"
   ]
  },
  {
   "cell_type": "code",
   "execution_count": 19,
   "id": "2ba838fa-17af-4cc3-8d44-29c4b480849f",
   "metadata": {},
   "outputs": [
    {
     "name": "stderr",
     "output_type": "stream",
     "text": [
      "COMET WARNING: As you are running in a Jupyter environment, you will need to call `experiment.end()` when finished to ensure all metrics and code are logged before exiting.\n",
      "COMET INFO: Experiment is live on comet.com https://www.comet.com/ift-6758-2/ift-6758/ab0be1f9583247b893b81beb385e76ca\n",
      "\n"
     ]
    }
   ],
   "source": [
    "experiment = Experiment(\n",
    "    api_key= api_key,\n",
    "    project_name= project_name,\n",
    "    workspace= workspace,\n",
    ")"
   ]
  },
  {
   "cell_type": "code",
   "execution_count": 20,
   "id": "d3cd9093-b581-4120-93fb-625944123092",
   "metadata": {},
   "outputs": [],
   "source": [
    "ns_probs = np.random.uniform(low=0.0, high=1.0, size=(len(y_test)))"
   ]
  },
  {
   "cell_type": "code",
   "execution_count": 21,
   "id": "c001e163-a179-4af0-a316-32ebe1bb0e02",
   "metadata": {},
   "outputs": [],
   "source": [
    "ns_auc = np.round((roc_auc_score(y_test, ns_probs)),4)\n",
    "experiment.log_metric(\"AUC Score Random Baseline\", ns_auc)"
   ]
  },
  {
   "cell_type": "code",
   "execution_count": 22,
   "id": "e76a9e2f-1f3f-4adb-835b-2acd558ba713",
   "metadata": {},
   "outputs": [],
   "source": [
    "ns_fpr, ns_tpr, _ = roc_curve(y_test, ns_probs)"
   ]
  },
  {
   "cell_type": "code",
   "execution_count": 23,
   "id": "2b5d4f2f-d7b2-46dc-8736-8794d3ea9322",
   "metadata": {},
   "outputs": [
    {
     "data": {
      "text/plain": [
       "{'web': 'https://www.comet.com/api/asset/download?assetId=978fd1a33764461db5438ae9a18f826f&experimentKey=ab0be1f9583247b893b81beb385e76ca',\n",
       " 'api': 'https://www.comet.com/api/rest/v2/experiment/asset/get-asset?assetId=978fd1a33764461db5438ae9a18f826f&experimentKey=ab0be1f9583247b893b81beb385e76ca',\n",
       " 'assetId': '978fd1a33764461db5438ae9a18f826f'}"
      ]
     },
     "execution_count": 23,
     "metadata": {},
     "output_type": "execute_result"
    }
   ],
   "source": [
    "experiment.log_curve(f\"roc-curve-class- Random Baseline\", ns_fpr, ns_tpr)"
   ]
  },
  {
   "cell_type": "code",
   "execution_count": 24,
   "id": "5a581f80-b72d-4d50-8ab7-e2254f8c0326",
   "metadata": {},
   "outputs": [
    {
     "name": "stderr",
     "output_type": "stream",
     "text": [
      "COMET INFO: ---------------------------\n",
      "COMET INFO: Comet.ml Experiment Summary\n",
      "COMET INFO: ---------------------------\n",
      "COMET INFO:   Data:\n",
      "COMET INFO:     display_summary_level : 1\n",
      "COMET INFO:     url                   : https://www.comet.com/ift-6758-2/ift-6758/ab0be1f9583247b893b81beb385e76ca\n",
      "COMET INFO:   Metrics:\n",
      "COMET INFO:     AUC Score Random Baseline : 0.5025\n",
      "COMET INFO:   Uploads:\n",
      "COMET INFO:     conda-environment-definition : 1\n",
      "COMET INFO:     conda-info                   : 1\n",
      "COMET INFO:     conda-specification          : 1\n",
      "COMET INFO:     curve                        : 1\n",
      "COMET INFO:     environment details          : 1\n",
      "COMET INFO:     filename                     : 1\n",
      "COMET INFO:     git metadata                 : 1\n",
      "COMET INFO:     git-patch (uncompressed)     : 1 (417.10 KB)\n",
      "COMET INFO:     installed packages           : 1\n",
      "COMET INFO:     notebook                     : 1\n",
      "COMET INFO:     os packages                  : 1\n",
      "COMET INFO:     source_code                  : 1\n",
      "COMET INFO: ---------------------------\n",
      "COMET INFO: Uploading metrics, params, and assets to Comet before program termination (may take several seconds)\n",
      "COMET INFO: The Python SDK has 3600 seconds to finish before aborting...\n"
     ]
    }
   ],
   "source": [
    "experiment.end()"
   ]
  },
  {
   "cell_type": "markdown",
   "id": "29201010-7d27-4fe1-8fe4-eefcdf061bf7",
   "metadata": {},
   "source": [
    "## Experiment 1"
   ]
  },
  {
   "cell_type": "code",
   "execution_count": 25,
   "id": "67e790ca-7249-4e07-ab32-07bbc63b2a9d",
   "metadata": {},
   "outputs": [
    {
     "name": "stderr",
     "output_type": "stream",
     "text": [
      "COMET WARNING: As you are running in a Jupyter environment, you will need to call `experiment.end()` when finished to ensure all metrics and code are logged before exiting.\n",
      "COMET INFO: Experiment is live on comet.com https://www.comet.com/ift-6758-2/ift-6758/79d187bb193345f993e7bb902bf4167f\n",
      "\n"
     ]
    }
   ],
   "source": [
    "experiment = Experiment(\n",
    "    api_key= api_key,\n",
    "    project_name= project_name,\n",
    "    workspace= workspace,\n",
    ")"
   ]
  },
  {
   "cell_type": "code",
   "execution_count": 26,
   "id": "1b6b902a-7896-4c54-89d3-480ece3fd4fe",
   "metadata": {},
   "outputs": [],
   "source": [
    "X_train_1 = X_train[:,0]\n",
    "X_train_1 = X_train_1.reshape(-1,1)\n",
    "X_test_1 = X_test[:,0]\n",
    "X_test_1 = X_test_1.reshape(-1,1)"
   ]
  },
  {
   "cell_type": "code",
   "execution_count": 27,
   "id": "e17f87c0-8ae4-4ca6-8713-30dc3e8aa435",
   "metadata": {},
   "outputs": [],
   "source": [
    "X_train_2 = X_train[:,1]\n",
    "X_train_2 = X_train_2.reshape(-1,1)\n",
    "X_test_2 = X_test[:,1]\n",
    "X_test_2 = X_test_2.reshape(-1,1)"
   ]
  },
  {
   "cell_type": "code",
   "execution_count": 28,
   "id": "2761ca26-e26e-4728-876f-a905784326b9",
   "metadata": {},
   "outputs": [],
   "source": [
    "X_train_3 = X_train\n",
    "X_test_3 = X_test"
   ]
  },
  {
   "cell_type": "code",
   "execution_count": 29,
   "id": "0fa045ea-6345-4ed7-a45d-56fd13f1a33a",
   "metadata": {},
   "outputs": [
    {
     "data": {
      "text/plain": [
       "(266177, 1)"
      ]
     },
     "execution_count": 29,
     "metadata": {},
     "output_type": "execute_result"
    }
   ],
   "source": [
    "np.shape(X_train_1)"
   ]
  },
  {
   "cell_type": "code",
   "execution_count": 30,
   "id": "0c548095-53b5-4f9a-8dc4-d0a69b3d3fb8",
   "metadata": {},
   "outputs": [
    {
     "name": "stderr",
     "output_type": "stream",
     "text": [
      "/home/nexus10/miniconda3/envs/ift6758-conda-env/lib/python3.10/site-packages/sklearn/utils/validation.py:1111: DataConversionWarning: A column-vector y was passed when a 1d array was expected. Please change the shape of y to (n_samples, ), for example using ravel().\n",
      "  y = column_or_1d(y, warn=True)\n"
     ]
    },
    {
     "data": {
      "text/html": [
       "<style>#sk-container-id-1 {color: black;background-color: white;}#sk-container-id-1 pre{padding: 0;}#sk-container-id-1 div.sk-toggleable {background-color: white;}#sk-container-id-1 label.sk-toggleable__label {cursor: pointer;display: block;width: 100%;margin-bottom: 0;padding: 0.3em;box-sizing: border-box;text-align: center;}#sk-container-id-1 label.sk-toggleable__label-arrow:before {content: \"▸\";float: left;margin-right: 0.25em;color: #696969;}#sk-container-id-1 label.sk-toggleable__label-arrow:hover:before {color: black;}#sk-container-id-1 div.sk-estimator:hover label.sk-toggleable__label-arrow:before {color: black;}#sk-container-id-1 div.sk-toggleable__content {max-height: 0;max-width: 0;overflow: hidden;text-align: left;background-color: #f0f8ff;}#sk-container-id-1 div.sk-toggleable__content pre {margin: 0.2em;color: black;border-radius: 0.25em;background-color: #f0f8ff;}#sk-container-id-1 input.sk-toggleable__control:checked~div.sk-toggleable__content {max-height: 200px;max-width: 100%;overflow: auto;}#sk-container-id-1 input.sk-toggleable__control:checked~label.sk-toggleable__label-arrow:before {content: \"▾\";}#sk-container-id-1 div.sk-estimator input.sk-toggleable__control:checked~label.sk-toggleable__label {background-color: #d4ebff;}#sk-container-id-1 div.sk-label input.sk-toggleable__control:checked~label.sk-toggleable__label {background-color: #d4ebff;}#sk-container-id-1 input.sk-hidden--visually {border: 0;clip: rect(1px 1px 1px 1px);clip: rect(1px, 1px, 1px, 1px);height: 1px;margin: -1px;overflow: hidden;padding: 0;position: absolute;width: 1px;}#sk-container-id-1 div.sk-estimator {font-family: monospace;background-color: #f0f8ff;border: 1px dotted black;border-radius: 0.25em;box-sizing: border-box;margin-bottom: 0.5em;}#sk-container-id-1 div.sk-estimator:hover {background-color: #d4ebff;}#sk-container-id-1 div.sk-parallel-item::after {content: \"\";width: 100%;border-bottom: 1px solid gray;flex-grow: 1;}#sk-container-id-1 div.sk-label:hover label.sk-toggleable__label {background-color: #d4ebff;}#sk-container-id-1 div.sk-serial::before {content: \"\";position: absolute;border-left: 1px solid gray;box-sizing: border-box;top: 0;bottom: 0;left: 50%;z-index: 0;}#sk-container-id-1 div.sk-serial {display: flex;flex-direction: column;align-items: center;background-color: white;padding-right: 0.2em;padding-left: 0.2em;position: relative;}#sk-container-id-1 div.sk-item {position: relative;z-index: 1;}#sk-container-id-1 div.sk-parallel {display: flex;align-items: stretch;justify-content: center;background-color: white;position: relative;}#sk-container-id-1 div.sk-item::before, #sk-container-id-1 div.sk-parallel-item::before {content: \"\";position: absolute;border-left: 1px solid gray;box-sizing: border-box;top: 0;bottom: 0;left: 50%;z-index: -1;}#sk-container-id-1 div.sk-parallel-item {display: flex;flex-direction: column;z-index: 1;position: relative;background-color: white;}#sk-container-id-1 div.sk-parallel-item:first-child::after {align-self: flex-end;width: 50%;}#sk-container-id-1 div.sk-parallel-item:last-child::after {align-self: flex-start;width: 50%;}#sk-container-id-1 div.sk-parallel-item:only-child::after {width: 0;}#sk-container-id-1 div.sk-dashed-wrapped {border: 1px dashed gray;margin: 0 0.4em 0.5em 0.4em;box-sizing: border-box;padding-bottom: 0.4em;background-color: white;}#sk-container-id-1 div.sk-label label {font-family: monospace;font-weight: bold;display: inline-block;line-height: 1.2em;}#sk-container-id-1 div.sk-label-container {text-align: center;}#sk-container-id-1 div.sk-container {/* jupyter's `normalize.less` sets `[hidden] { display: none; }` but bootstrap.min.css set `[hidden] { display: none !important; }` so we also need the `!important` here to be able to override the default hidden behavior on the sphinx rendered scikit-learn.org. See: https://github.com/scikit-learn/scikit-learn/issues/21755 */display: inline-block !important;position: relative;}#sk-container-id-1 div.sk-text-repr-fallback {display: none;}</style><div id=\"sk-container-id-1\" class=\"sk-top-container\"><div class=\"sk-text-repr-fallback\"><pre>LogisticRegression()</pre><b>In a Jupyter environment, please rerun this cell to show the HTML representation or trust the notebook. <br />On GitHub, the HTML representation is unable to render, please try loading this page with nbviewer.org.</b></div><div class=\"sk-container\" hidden><div class=\"sk-item\"><div class=\"sk-estimator sk-toggleable\"><input class=\"sk-toggleable__control sk-hidden--visually\" id=\"sk-estimator-id-1\" type=\"checkbox\" checked><label for=\"sk-estimator-id-1\" class=\"sk-toggleable__label sk-toggleable__label-arrow\">LogisticRegression</label><div class=\"sk-toggleable__content\"><pre>LogisticRegression()</pre></div></div></div></div></div>"
      ],
      "text/plain": [
       "LogisticRegression()"
      ]
     },
     "execution_count": 30,
     "metadata": {},
     "output_type": "execute_result"
    }
   ],
   "source": [
    "logistic = LogisticRegression()\n",
    "logistic.fit(X_train_1,y_train)"
   ]
  },
  {
   "cell_type": "code",
   "execution_count": 31,
   "id": "d5123316-418a-491d-ab52-8bb8e565fe5e",
   "metadata": {},
   "outputs": [],
   "source": [
    "y_pred_1 = logistic.predict(X_test_1)"
   ]
  },
  {
   "cell_type": "code",
   "execution_count": 32,
   "id": "af46e8c8-da4d-48f5-8039-e20bfc55241b",
   "metadata": {},
   "outputs": [
    {
     "data": {
      "text/plain": [
       "0.9057479900818994"
      ]
     },
     "execution_count": 32,
     "metadata": {},
     "output_type": "execute_result"
    }
   ],
   "source": [
    "acc_ex1 = accuracy_score(y_test,y_pred_1)\n",
    "experiment.log_metric(\"validation accuracy LR Shot's Distance\", acc_ex1)\n",
    "experiment.log_confusion_matrix(y_test,y_pred_1)\n",
    "acc_ex1"
   ]
  },
  {
   "cell_type": "code",
   "execution_count": 33,
   "id": "2a40c25e-a6ac-418e-8ce9-6365eba67fc9",
   "metadata": {},
   "outputs": [],
   "source": [
    "prob_1_predicted = logistic.predict_proba(X_test_1)"
   ]
  },
  {
   "cell_type": "code",
   "execution_count": 34,
   "id": "5c9f2c7c-eb54-49f6-ae19-989443459c34",
   "metadata": {},
   "outputs": [
    {
     "data": {
      "text/plain": [
       "array([[0.81042303, 0.18957697],\n",
       "       [0.96680626, 0.03319374],\n",
       "       [0.90917433, 0.09082567],\n",
       "       ...,\n",
       "       [0.9658731 , 0.0341269 ],\n",
       "       [0.95466476, 0.04533524],\n",
       "       [0.85717887, 0.14282113]])"
      ]
     },
     "execution_count": 34,
     "metadata": {},
     "output_type": "execute_result"
    }
   ],
   "source": [
    "prob_1_predicted"
   ]
  },
  {
   "cell_type": "code",
   "execution_count": 35,
   "id": "fdab332c-9aa4-4a94-a352-5619e165f5a6",
   "metadata": {},
   "outputs": [],
   "source": [
    "lr1_probs = prob_1_predicted\n",
    "lr1_probs = lr1_probs[:, 1]"
   ]
  },
  {
   "cell_type": "code",
   "execution_count": 36,
   "id": "95d2733d-fab9-46b8-8066-2815a4462b0e",
   "metadata": {},
   "outputs": [],
   "source": [
    "lr1_auc = np.round((roc_auc_score(y_test, lr1_probs)),4)\n",
    "experiment.log_metric(\"AUC Score LR Shot's Distance\", lr1_auc)"
   ]
  },
  {
   "cell_type": "code",
   "execution_count": 37,
   "id": "35d8dcd6-2caf-492f-81a4-536e668599a0",
   "metadata": {},
   "outputs": [],
   "source": [
    "lr1_fpr, lr1_tpr, _ = roc_curve(y_test, lr1_probs)"
   ]
  },
  {
   "cell_type": "code",
   "execution_count": 38,
   "id": "c0acfc93-8c26-4402-a2cd-faf03f8a9bb4",
   "metadata": {},
   "outputs": [
    {
     "data": {
      "text/plain": [
       "{'web': 'https://www.comet.com/api/asset/download?assetId=b98f86a51fa64aaab94dd02e506b5bd5&experimentKey=79d187bb193345f993e7bb902bf4167f',\n",
       " 'api': 'https://www.comet.com/api/rest/v2/experiment/asset/get-asset?assetId=b98f86a51fa64aaab94dd02e506b5bd5&experimentKey=79d187bb193345f993e7bb902bf4167f',\n",
       " 'assetId': 'b98f86a51fa64aaab94dd02e506b5bd5'}"
      ]
     },
     "execution_count": 38,
     "metadata": {},
     "output_type": "execute_result"
    }
   ],
   "source": [
    "experiment.log_curve(f\"roc-curve-class- Logistic Regression Distance\",lr1_fpr, lr1_tpr)"
   ]
  },
  {
   "cell_type": "code",
   "execution_count": 39,
   "id": "d991cc4b-a319-4833-8d37-cc86ba446a07",
   "metadata": {},
   "outputs": [
    {
     "name": "stderr",
     "output_type": "stream",
     "text": [
      "COMET INFO: ---------------------------\n",
      "COMET INFO: Comet.ml Experiment Summary\n",
      "COMET INFO: ---------------------------\n",
      "COMET INFO:   Data:\n",
      "COMET INFO:     display_summary_level : 1\n",
      "COMET INFO:     url                   : https://www.comet.com/ift-6758-2/ift-6758/79d187bb193345f993e7bb902bf4167f\n",
      "COMET INFO:   Metrics:\n",
      "COMET INFO:     AUC Score LR Shot's Distance           : 0.6955\n",
      "COMET INFO:     validation accuracy LR Shot's Distance : 0.9057479900818994\n",
      "COMET INFO:   Parameters:\n",
      "COMET INFO:     C                 : 1.0\n",
      "COMET INFO:     class_weight      : 1\n",
      "COMET INFO:     dual              : False\n",
      "COMET INFO:     fit_intercept     : True\n",
      "COMET INFO:     intercept_scaling : 1\n",
      "COMET INFO:     l1_ratio          : 1\n",
      "COMET INFO:     max_iter          : 100\n",
      "COMET INFO:     multi_class       : auto\n",
      "COMET INFO:     n_jobs            : 1\n",
      "COMET INFO:     penalty           : l2\n",
      "COMET INFO:     random_state      : 1\n",
      "COMET INFO:     solver            : lbfgs\n",
      "COMET INFO:     tol               : 0.0001\n",
      "COMET INFO:     verbose           : 0\n",
      "COMET INFO:     warm_start        : False\n",
      "COMET INFO:   Uploads:\n",
      "COMET INFO:     conda-environment-definition : 1\n",
      "COMET INFO:     conda-info                   : 1\n",
      "COMET INFO:     conda-specification          : 1\n",
      "COMET INFO:     confusion-matrix             : 1\n",
      "COMET INFO:     curve                        : 1\n",
      "COMET INFO:     environment details          : 1\n",
      "COMET INFO:     filename                     : 1\n",
      "COMET INFO:     git metadata                 : 1\n",
      "COMET INFO:     git-patch (uncompressed)     : 1 (417.10 KB)\n",
      "COMET INFO:     installed packages           : 1\n",
      "COMET INFO:     notebook                     : 1\n",
      "COMET INFO:     os packages                  : 1\n",
      "COMET INFO:     source_code                  : 1\n",
      "COMET INFO: ---------------------------\n",
      "COMET INFO: Uploading 1 metrics, params and output messages\n"
     ]
    }
   ],
   "source": [
    "experiment.end()"
   ]
  },
  {
   "cell_type": "markdown",
   "id": "f273f1e9-54e5-4ff8-9f98-86b84b5947e2",
   "metadata": {},
   "source": [
    "## Experiment 2"
   ]
  },
  {
   "cell_type": "code",
   "execution_count": 40,
   "id": "1d200bf0-7e07-46fc-8e53-646358c5e77c",
   "metadata": {},
   "outputs": [
    {
     "name": "stderr",
     "output_type": "stream",
     "text": [
      "COMET WARNING: As you are running in a Jupyter environment, you will need to call `experiment.end()` when finished to ensure all metrics and code are logged before exiting.\n",
      "COMET INFO: Experiment is live on comet.com https://www.comet.com/ift-6758-2/ift-6758/f96a4911cb4c4fe38b757ee3b1ab776f\n",
      "\n"
     ]
    }
   ],
   "source": [
    "experiment = Experiment(\n",
    "    api_key= api_key,\n",
    "    project_name= project_name,\n",
    "    workspace= workspace,\n",
    ")"
   ]
  },
  {
   "cell_type": "code",
   "execution_count": 41,
   "id": "74c862d9-7dad-4d60-8dbf-513be07136b9",
   "metadata": {},
   "outputs": [
    {
     "name": "stderr",
     "output_type": "stream",
     "text": [
      "/home/nexus10/miniconda3/envs/ift6758-conda-env/lib/python3.10/site-packages/sklearn/utils/validation.py:1111: DataConversionWarning: A column-vector y was passed when a 1d array was expected. Please change the shape of y to (n_samples, ), for example using ravel().\n",
      "  y = column_or_1d(y, warn=True)\n"
     ]
    },
    {
     "data": {
      "text/html": [
       "<style>#sk-container-id-3 {color: black;background-color: white;}#sk-container-id-3 pre{padding: 0;}#sk-container-id-3 div.sk-toggleable {background-color: white;}#sk-container-id-3 label.sk-toggleable__label {cursor: pointer;display: block;width: 100%;margin-bottom: 0;padding: 0.3em;box-sizing: border-box;text-align: center;}#sk-container-id-3 label.sk-toggleable__label-arrow:before {content: \"▸\";float: left;margin-right: 0.25em;color: #696969;}#sk-container-id-3 label.sk-toggleable__label-arrow:hover:before {color: black;}#sk-container-id-3 div.sk-estimator:hover label.sk-toggleable__label-arrow:before {color: black;}#sk-container-id-3 div.sk-toggleable__content {max-height: 0;max-width: 0;overflow: hidden;text-align: left;background-color: #f0f8ff;}#sk-container-id-3 div.sk-toggleable__content pre {margin: 0.2em;color: black;border-radius: 0.25em;background-color: #f0f8ff;}#sk-container-id-3 input.sk-toggleable__control:checked~div.sk-toggleable__content {max-height: 200px;max-width: 100%;overflow: auto;}#sk-container-id-3 input.sk-toggleable__control:checked~label.sk-toggleable__label-arrow:before {content: \"▾\";}#sk-container-id-3 div.sk-estimator input.sk-toggleable__control:checked~label.sk-toggleable__label {background-color: #d4ebff;}#sk-container-id-3 div.sk-label input.sk-toggleable__control:checked~label.sk-toggleable__label {background-color: #d4ebff;}#sk-container-id-3 input.sk-hidden--visually {border: 0;clip: rect(1px 1px 1px 1px);clip: rect(1px, 1px, 1px, 1px);height: 1px;margin: -1px;overflow: hidden;padding: 0;position: absolute;width: 1px;}#sk-container-id-3 div.sk-estimator {font-family: monospace;background-color: #f0f8ff;border: 1px dotted black;border-radius: 0.25em;box-sizing: border-box;margin-bottom: 0.5em;}#sk-container-id-3 div.sk-estimator:hover {background-color: #d4ebff;}#sk-container-id-3 div.sk-parallel-item::after {content: \"\";width: 100%;border-bottom: 1px solid gray;flex-grow: 1;}#sk-container-id-3 div.sk-label:hover label.sk-toggleable__label {background-color: #d4ebff;}#sk-container-id-3 div.sk-serial::before {content: \"\";position: absolute;border-left: 1px solid gray;box-sizing: border-box;top: 0;bottom: 0;left: 50%;z-index: 0;}#sk-container-id-3 div.sk-serial {display: flex;flex-direction: column;align-items: center;background-color: white;padding-right: 0.2em;padding-left: 0.2em;position: relative;}#sk-container-id-3 div.sk-item {position: relative;z-index: 1;}#sk-container-id-3 div.sk-parallel {display: flex;align-items: stretch;justify-content: center;background-color: white;position: relative;}#sk-container-id-3 div.sk-item::before, #sk-container-id-3 div.sk-parallel-item::before {content: \"\";position: absolute;border-left: 1px solid gray;box-sizing: border-box;top: 0;bottom: 0;left: 50%;z-index: -1;}#sk-container-id-3 div.sk-parallel-item {display: flex;flex-direction: column;z-index: 1;position: relative;background-color: white;}#sk-container-id-3 div.sk-parallel-item:first-child::after {align-self: flex-end;width: 50%;}#sk-container-id-3 div.sk-parallel-item:last-child::after {align-self: flex-start;width: 50%;}#sk-container-id-3 div.sk-parallel-item:only-child::after {width: 0;}#sk-container-id-3 div.sk-dashed-wrapped {border: 1px dashed gray;margin: 0 0.4em 0.5em 0.4em;box-sizing: border-box;padding-bottom: 0.4em;background-color: white;}#sk-container-id-3 div.sk-label label {font-family: monospace;font-weight: bold;display: inline-block;line-height: 1.2em;}#sk-container-id-3 div.sk-label-container {text-align: center;}#sk-container-id-3 div.sk-container {/* jupyter's `normalize.less` sets `[hidden] { display: none; }` but bootstrap.min.css set `[hidden] { display: none !important; }` so we also need the `!important` here to be able to override the default hidden behavior on the sphinx rendered scikit-learn.org. See: https://github.com/scikit-learn/scikit-learn/issues/21755 */display: inline-block !important;position: relative;}#sk-container-id-3 div.sk-text-repr-fallback {display: none;}</style><div id=\"sk-container-id-3\" class=\"sk-top-container\"><div class=\"sk-text-repr-fallback\"><pre>LogisticRegression()</pre><b>In a Jupyter environment, please rerun this cell to show the HTML representation or trust the notebook. <br />On GitHub, the HTML representation is unable to render, please try loading this page with nbviewer.org.</b></div><div class=\"sk-container\" hidden><div class=\"sk-item\"><div class=\"sk-estimator sk-toggleable\"><input class=\"sk-toggleable__control sk-hidden--visually\" id=\"sk-estimator-id-3\" type=\"checkbox\" checked><label for=\"sk-estimator-id-3\" class=\"sk-toggleable__label sk-toggleable__label-arrow\">LogisticRegression</label><div class=\"sk-toggleable__content\"><pre>LogisticRegression()</pre></div></div></div></div></div>"
      ],
      "text/plain": [
       "LogisticRegression()"
      ]
     },
     "execution_count": 41,
     "metadata": {},
     "output_type": "execute_result"
    }
   ],
   "source": [
    "logistic2 = LogisticRegression()\n",
    "logistic2.fit(X_train_2,y_train)"
   ]
  },
  {
   "cell_type": "code",
   "execution_count": 42,
   "id": "ff53a90f-3c12-4c20-936b-8aa69472b24f",
   "metadata": {},
   "outputs": [],
   "source": [
    "y_pred_2 = logistic2.predict(X_test_2)"
   ]
  },
  {
   "cell_type": "code",
   "execution_count": 43,
   "id": "0b0737d9-4d26-4b95-90fb-38a65d94241a",
   "metadata": {},
   "outputs": [
    {
     "data": {
      "text/plain": [
       "0.9057479900818994"
      ]
     },
     "execution_count": 43,
     "metadata": {},
     "output_type": "execute_result"
    }
   ],
   "source": [
    "acc_ex2 = accuracy_score(y_test,y_pred_2)\n",
    "experiment.log_metric(\"validation accuracy LR Shot's Angle\", acc_ex2)\n",
    "experiment.log_confusion_matrix(y_test,y_pred_2)\n",
    "acc_ex2"
   ]
  },
  {
   "cell_type": "code",
   "execution_count": 44,
   "id": "106ae1d5-8090-491e-b819-d8e977d92ff5",
   "metadata": {},
   "outputs": [],
   "source": [
    "prob_2_predicted = logistic2.predict_proba(X_test_2)"
   ]
  },
  {
   "cell_type": "code",
   "execution_count": 45,
   "id": "dbb8850c-523f-40eb-ab4d-b86c5f59f921",
   "metadata": {},
   "outputs": [
    {
     "data": {
      "text/plain": [
       "array([[0.89758362, 0.10241638],\n",
       "       [0.8958518 , 0.1041482 ],\n",
       "       [0.90915072, 0.09084928],\n",
       "       ...,\n",
       "       [0.8796834 , 0.1203166 ],\n",
       "       [0.89824648, 0.10175352],\n",
       "       [0.89376864, 0.10623136]])"
      ]
     },
     "execution_count": 45,
     "metadata": {},
     "output_type": "execute_result"
    }
   ],
   "source": [
    "prob_2_predicted "
   ]
  },
  {
   "cell_type": "code",
   "execution_count": 46,
   "id": "2f997588-ab17-43c5-87cc-b1a8556d8c8e",
   "metadata": {},
   "outputs": [],
   "source": [
    "lr2_probs = prob_2_predicted\n",
    "lr2_probs = lr2_probs[:, 1]"
   ]
  },
  {
   "cell_type": "code",
   "execution_count": 47,
   "id": "6aff042e-1099-42e1-9663-62e62fc0c5a5",
   "metadata": {},
   "outputs": [],
   "source": [
    "lr2_auc = np.round((roc_auc_score(y_test, lr2_probs)),4)\n",
    "experiment.log_metric(\"AUC Score LR Shot's Angle\", lr2_auc)"
   ]
  },
  {
   "cell_type": "code",
   "execution_count": 48,
   "id": "51aaf00f-33ca-442a-9e07-e6abb5c49eda",
   "metadata": {},
   "outputs": [],
   "source": [
    "lr2_fpr, lr2_tpr, _ = roc_curve(y_test, lr2_probs)"
   ]
  },
  {
   "cell_type": "code",
   "execution_count": 49,
   "id": "75100196-2c56-4768-bcaa-6c73971d5370",
   "metadata": {},
   "outputs": [
    {
     "data": {
      "text/plain": [
       "{'web': 'https://www.comet.com/api/asset/download?assetId=0cb2447ed3f84e9f8aeaf3ec89efbd79&experimentKey=f96a4911cb4c4fe38b757ee3b1ab776f',\n",
       " 'api': 'https://www.comet.com/api/rest/v2/experiment/asset/get-asset?assetId=0cb2447ed3f84e9f8aeaf3ec89efbd79&experimentKey=f96a4911cb4c4fe38b757ee3b1ab776f',\n",
       " 'assetId': '0cb2447ed3f84e9f8aeaf3ec89efbd79'}"
      ]
     },
     "execution_count": 49,
     "metadata": {},
     "output_type": "execute_result"
    }
   ],
   "source": [
    "experiment.log_curve(f\"roc-curve-class- Logistic Regression Angle\",lr2_fpr, lr2_tpr)"
   ]
  },
  {
   "cell_type": "code",
   "execution_count": 50,
   "id": "e8ba3f56-73af-47f3-9409-fe75ab6f1f86",
   "metadata": {},
   "outputs": [
    {
     "name": "stderr",
     "output_type": "stream",
     "text": [
      "COMET INFO: ---------------------------\n",
      "COMET INFO: Comet.ml Experiment Summary\n",
      "COMET INFO: ---------------------------\n",
      "COMET INFO:   Data:\n",
      "COMET INFO:     display_summary_level : 1\n",
      "COMET INFO:     url                   : https://www.comet.com/ift-6758-2/ift-6758/f96a4911cb4c4fe38b757ee3b1ab776f\n",
      "COMET INFO:   Metrics:\n",
      "COMET INFO:     AUC Score LR Shot's Angle           : 0.576\n",
      "COMET INFO:     validation accuracy LR Shot's Angle : 0.9057479900818994\n",
      "COMET INFO:   Parameters:\n",
      "COMET INFO:     C                 : 1.0\n",
      "COMET INFO:     class_weight      : 1\n",
      "COMET INFO:     dual              : False\n",
      "COMET INFO:     fit_intercept     : True\n",
      "COMET INFO:     intercept_scaling : 1\n",
      "COMET INFO:     l1_ratio          : 1\n",
      "COMET INFO:     max_iter          : 100\n",
      "COMET INFO:     multi_class       : auto\n",
      "COMET INFO:     n_jobs            : 1\n",
      "COMET INFO:     penalty           : l2\n",
      "COMET INFO:     random_state      : 1\n",
      "COMET INFO:     solver            : lbfgs\n",
      "COMET INFO:     tol               : 0.0001\n",
      "COMET INFO:     verbose           : 0\n",
      "COMET INFO:     warm_start        : False\n",
      "COMET INFO:   Uploads:\n",
      "COMET INFO:     conda-environment-definition : 1\n",
      "COMET INFO:     conda-info                   : 1\n",
      "COMET INFO:     conda-specification          : 1\n",
      "COMET INFO:     confusion-matrix             : 1\n",
      "COMET INFO:     curve                        : 1\n",
      "COMET INFO:     environment details          : 1\n",
      "COMET INFO:     filename                     : 1\n",
      "COMET INFO:     git metadata                 : 1\n",
      "COMET INFO:     git-patch (uncompressed)     : 1 (417.10 KB)\n",
      "COMET INFO:     installed packages           : 1\n",
      "COMET INFO:     notebook                     : 1\n",
      "COMET INFO:     os packages                  : 1\n",
      "COMET INFO:     source_code                  : 1\n",
      "COMET INFO: ---------------------------\n",
      "COMET INFO: Uploading 1 metrics, params and output messages\n"
     ]
    }
   ],
   "source": [
    "experiment.end()"
   ]
  },
  {
   "cell_type": "markdown",
   "id": "f84dd4e4-7a60-49a6-acb1-fb8ec2165ec9",
   "metadata": {},
   "source": [
    "## Experiment 3"
   ]
  },
  {
   "cell_type": "code",
   "execution_count": 51,
   "id": "7e768ff0-75fa-4fc9-9594-64a8b43ee5de",
   "metadata": {},
   "outputs": [
    {
     "name": "stderr",
     "output_type": "stream",
     "text": [
      "COMET WARNING: As you are running in a Jupyter environment, you will need to call `experiment.end()` when finished to ensure all metrics and code are logged before exiting.\n",
      "COMET INFO: Experiment is live on comet.com https://www.comet.com/ift-6758-2/ift-6758/0d424f25644547d9aba7b59f884e2dcf\n",
      "\n"
     ]
    }
   ],
   "source": [
    "experiment = Experiment(\n",
    "    api_key= api_key,\n",
    "    project_name= project_name,\n",
    "    workspace= workspace,\n",
    ")"
   ]
  },
  {
   "cell_type": "code",
   "execution_count": 52,
   "id": "4462bf1a-6b98-4f54-9e71-d0334648dc06",
   "metadata": {},
   "outputs": [
    {
     "name": "stderr",
     "output_type": "stream",
     "text": [
      "/home/nexus10/miniconda3/envs/ift6758-conda-env/lib/python3.10/site-packages/sklearn/utils/validation.py:1111: DataConversionWarning: A column-vector y was passed when a 1d array was expected. Please change the shape of y to (n_samples, ), for example using ravel().\n",
      "  y = column_or_1d(y, warn=True)\n"
     ]
    },
    {
     "data": {
      "text/html": [
       "<style>#sk-container-id-6 {color: black;background-color: white;}#sk-container-id-6 pre{padding: 0;}#sk-container-id-6 div.sk-toggleable {background-color: white;}#sk-container-id-6 label.sk-toggleable__label {cursor: pointer;display: block;width: 100%;margin-bottom: 0;padding: 0.3em;box-sizing: border-box;text-align: center;}#sk-container-id-6 label.sk-toggleable__label-arrow:before {content: \"▸\";float: left;margin-right: 0.25em;color: #696969;}#sk-container-id-6 label.sk-toggleable__label-arrow:hover:before {color: black;}#sk-container-id-6 div.sk-estimator:hover label.sk-toggleable__label-arrow:before {color: black;}#sk-container-id-6 div.sk-toggleable__content {max-height: 0;max-width: 0;overflow: hidden;text-align: left;background-color: #f0f8ff;}#sk-container-id-6 div.sk-toggleable__content pre {margin: 0.2em;color: black;border-radius: 0.25em;background-color: #f0f8ff;}#sk-container-id-6 input.sk-toggleable__control:checked~div.sk-toggleable__content {max-height: 200px;max-width: 100%;overflow: auto;}#sk-container-id-6 input.sk-toggleable__control:checked~label.sk-toggleable__label-arrow:before {content: \"▾\";}#sk-container-id-6 div.sk-estimator input.sk-toggleable__control:checked~label.sk-toggleable__label {background-color: #d4ebff;}#sk-container-id-6 div.sk-label input.sk-toggleable__control:checked~label.sk-toggleable__label {background-color: #d4ebff;}#sk-container-id-6 input.sk-hidden--visually {border: 0;clip: rect(1px 1px 1px 1px);clip: rect(1px, 1px, 1px, 1px);height: 1px;margin: -1px;overflow: hidden;padding: 0;position: absolute;width: 1px;}#sk-container-id-6 div.sk-estimator {font-family: monospace;background-color: #f0f8ff;border: 1px dotted black;border-radius: 0.25em;box-sizing: border-box;margin-bottom: 0.5em;}#sk-container-id-6 div.sk-estimator:hover {background-color: #d4ebff;}#sk-container-id-6 div.sk-parallel-item::after {content: \"\";width: 100%;border-bottom: 1px solid gray;flex-grow: 1;}#sk-container-id-6 div.sk-label:hover label.sk-toggleable__label {background-color: #d4ebff;}#sk-container-id-6 div.sk-serial::before {content: \"\";position: absolute;border-left: 1px solid gray;box-sizing: border-box;top: 0;bottom: 0;left: 50%;z-index: 0;}#sk-container-id-6 div.sk-serial {display: flex;flex-direction: column;align-items: center;background-color: white;padding-right: 0.2em;padding-left: 0.2em;position: relative;}#sk-container-id-6 div.sk-item {position: relative;z-index: 1;}#sk-container-id-6 div.sk-parallel {display: flex;align-items: stretch;justify-content: center;background-color: white;position: relative;}#sk-container-id-6 div.sk-item::before, #sk-container-id-6 div.sk-parallel-item::before {content: \"\";position: absolute;border-left: 1px solid gray;box-sizing: border-box;top: 0;bottom: 0;left: 50%;z-index: -1;}#sk-container-id-6 div.sk-parallel-item {display: flex;flex-direction: column;z-index: 1;position: relative;background-color: white;}#sk-container-id-6 div.sk-parallel-item:first-child::after {align-self: flex-end;width: 50%;}#sk-container-id-6 div.sk-parallel-item:last-child::after {align-self: flex-start;width: 50%;}#sk-container-id-6 div.sk-parallel-item:only-child::after {width: 0;}#sk-container-id-6 div.sk-dashed-wrapped {border: 1px dashed gray;margin: 0 0.4em 0.5em 0.4em;box-sizing: border-box;padding-bottom: 0.4em;background-color: white;}#sk-container-id-6 div.sk-label label {font-family: monospace;font-weight: bold;display: inline-block;line-height: 1.2em;}#sk-container-id-6 div.sk-label-container {text-align: center;}#sk-container-id-6 div.sk-container {/* jupyter's `normalize.less` sets `[hidden] { display: none; }` but bootstrap.min.css set `[hidden] { display: none !important; }` so we also need the `!important` here to be able to override the default hidden behavior on the sphinx rendered scikit-learn.org. See: https://github.com/scikit-learn/scikit-learn/issues/21755 */display: inline-block !important;position: relative;}#sk-container-id-6 div.sk-text-repr-fallback {display: none;}</style><div id=\"sk-container-id-6\" class=\"sk-top-container\"><div class=\"sk-text-repr-fallback\"><pre>LogisticRegression()</pre><b>In a Jupyter environment, please rerun this cell to show the HTML representation or trust the notebook. <br />On GitHub, the HTML representation is unable to render, please try loading this page with nbviewer.org.</b></div><div class=\"sk-container\" hidden><div class=\"sk-item\"><div class=\"sk-estimator sk-toggleable\"><input class=\"sk-toggleable__control sk-hidden--visually\" id=\"sk-estimator-id-6\" type=\"checkbox\" checked><label for=\"sk-estimator-id-6\" class=\"sk-toggleable__label sk-toggleable__label-arrow\">LogisticRegression</label><div class=\"sk-toggleable__content\"><pre>LogisticRegression()</pre></div></div></div></div></div>"
      ],
      "text/plain": [
       "LogisticRegression()"
      ]
     },
     "execution_count": 52,
     "metadata": {},
     "output_type": "execute_result"
    }
   ],
   "source": [
    "logistic3 = LogisticRegression()\n",
    "logistic3.fit(X_train_3,y_train)"
   ]
  },
  {
   "cell_type": "code",
   "execution_count": 53,
   "id": "f8779b4f-d699-4111-9199-136f8a71a0ad",
   "metadata": {},
   "outputs": [],
   "source": [
    "y_pred_3 = logistic3.predict(X_test_3)"
   ]
  },
  {
   "cell_type": "code",
   "execution_count": 54,
   "id": "cd43981c-d935-45bd-b74f-6406067b0731",
   "metadata": {},
   "outputs": [
    {
     "data": {
      "text/plain": [
       "0.9057479900818994"
      ]
     },
     "execution_count": 54,
     "metadata": {},
     "output_type": "execute_result"
    }
   ],
   "source": [
    "acc_ex3 = accuracy_score(y_test,y_pred_3)\n",
    "experiment.log_metric(\"validation accuracy LR Shot's Distance and Angle\", acc_ex3)\n",
    "experiment.log_confusion_matrix(y_test,y_pred_3)\n",
    "acc_ex3"
   ]
  },
  {
   "cell_type": "code",
   "execution_count": 55,
   "id": "736ac4af-c68a-4d29-b224-a0d95f57de1b",
   "metadata": {},
   "outputs": [],
   "source": [
    "prob_3_predicted = logistic3.predict_proba(X_test_3)"
   ]
  },
  {
   "cell_type": "code",
   "execution_count": 56,
   "id": "e26d571e-0b7b-4e56-b19c-078a04a573ac",
   "metadata": {},
   "outputs": [
    {
     "data": {
      "text/plain": [
       "array([[0.78460872, 0.21539128],\n",
       "       [0.96252012, 0.03747988],\n",
       "       [0.91134273, 0.08865727],\n",
       "       ...,\n",
       "       [0.95340372, 0.04659628],\n",
       "       [0.94994657, 0.05005343],\n",
       "       [0.83095538, 0.16904462]])"
      ]
     },
     "execution_count": 56,
     "metadata": {},
     "output_type": "execute_result"
    }
   ],
   "source": [
    "prob_3_predicted"
   ]
  },
  {
   "cell_type": "code",
   "execution_count": 57,
   "id": "d0f5c0ec-da48-4873-bc0b-cf24302fe101",
   "metadata": {},
   "outputs": [],
   "source": [
    "lr3_probs = prob_3_predicted\n",
    "lr3_probs = lr3_probs[:, 1]"
   ]
  },
  {
   "cell_type": "code",
   "execution_count": 58,
   "id": "a707f8cd-f248-44bc-b98f-2c4af735a503",
   "metadata": {},
   "outputs": [],
   "source": [
    "lr3_auc = np.round((roc_auc_score(y_test, lr3_probs)),4)\n",
    "experiment.log_metric(\"AUC Score LR Shot's Distance and Angle\", lr3_auc)"
   ]
  },
  {
   "cell_type": "code",
   "execution_count": 59,
   "id": "edc86679-a903-48c9-9130-cd84c68e14fc",
   "metadata": {},
   "outputs": [],
   "source": [
    "lr3_fpr, lr3_tpr, _ = roc_curve(y_test, lr3_probs)"
   ]
  },
  {
   "cell_type": "code",
   "execution_count": 60,
   "id": "b3056d7e-611d-41a2-987c-8aec21f62898",
   "metadata": {},
   "outputs": [
    {
     "data": {
      "text/plain": [
       "{'web': 'https://www.comet.com/api/asset/download?assetId=326a15f59a22429e839558e837ff13c1&experimentKey=0d424f25644547d9aba7b59f884e2dcf',\n",
       " 'api': 'https://www.comet.com/api/rest/v2/experiment/asset/get-asset?assetId=326a15f59a22429e839558e837ff13c1&experimentKey=0d424f25644547d9aba7b59f884e2dcf',\n",
       " 'assetId': '326a15f59a22429e839558e837ff13c1'}"
      ]
     },
     "execution_count": 60,
     "metadata": {},
     "output_type": "execute_result"
    }
   ],
   "source": [
    "experiment.log_curve(f\"roc-curve-class- Logistic Regression Dist + Ang\",lr3_fpr, lr3_tpr)"
   ]
  },
  {
   "cell_type": "code",
   "execution_count": 61,
   "id": "9ceee5bc-e004-4586-a9e7-7649f92a00a2",
   "metadata": {},
   "outputs": [
    {
     "name": "stderr",
     "output_type": "stream",
     "text": [
      "COMET INFO: ---------------------------\n",
      "COMET INFO: Comet.ml Experiment Summary\n",
      "COMET INFO: ---------------------------\n",
      "COMET INFO:   Data:\n",
      "COMET INFO:     display_summary_level : 1\n",
      "COMET INFO:     url                   : https://www.comet.com/ift-6758-2/ift-6758/0d424f25644547d9aba7b59f884e2dcf\n",
      "COMET INFO:   Metrics:\n",
      "COMET INFO:     AUC Score LR Shot's Distance and Angle           : 0.7156\n",
      "COMET INFO:     validation accuracy LR Shot's Distance and Angle : 0.9057479900818994\n",
      "COMET INFO:   Parameters:\n",
      "COMET INFO:     C                 : 1.0\n",
      "COMET INFO:     class_weight      : 1\n",
      "COMET INFO:     dual              : False\n",
      "COMET INFO:     fit_intercept     : True\n",
      "COMET INFO:     intercept_scaling : 1\n",
      "COMET INFO:     l1_ratio          : 1\n",
      "COMET INFO:     max_iter          : 100\n",
      "COMET INFO:     multi_class       : auto\n",
      "COMET INFO:     n_jobs            : 1\n",
      "COMET INFO:     penalty           : l2\n",
      "COMET INFO:     random_state      : 1\n",
      "COMET INFO:     solver            : lbfgs\n",
      "COMET INFO:     tol               : 0.0001\n",
      "COMET INFO:     verbose           : 0\n",
      "COMET INFO:     warm_start        : False\n",
      "COMET INFO:   Uploads:\n",
      "COMET INFO:     conda-environment-definition : 1\n",
      "COMET INFO:     conda-info                   : 1\n",
      "COMET INFO:     conda-specification          : 1\n",
      "COMET INFO:     confusion-matrix             : 1\n",
      "COMET INFO:     curve                        : 1\n",
      "COMET INFO:     environment details          : 1\n",
      "COMET INFO:     filename                     : 1\n",
      "COMET INFO:     git metadata                 : 1\n",
      "COMET INFO:     git-patch (uncompressed)     : 1 (417.10 KB)\n",
      "COMET INFO:     installed packages           : 1\n",
      "COMET INFO:     notebook                     : 1\n",
      "COMET INFO:     os packages                  : 1\n",
      "COMET INFO:     source_code                  : 1\n",
      "COMET INFO: ---------------------------\n",
      "COMET INFO: Uploading 1 metrics, params and output messages\n"
     ]
    }
   ],
   "source": [
    "experiment.end()"
   ]
  },
  {
   "cell_type": "markdown",
   "id": "ff22f49f-855f-4796-915f-3db83d7b7de9",
   "metadata": {},
   "source": [
    "### ROC Plots"
   ]
  },
  {
   "cell_type": "code",
   "execution_count": 62,
   "id": "a073c2c0-a972-412b-9ecc-8a0eb0f74c30",
   "metadata": {},
   "outputs": [
    {
     "data": {
      "image/png": "[encoded data removed]",
      "text/plain": [
       "<Figure size 640x480 with 1 Axes>"
      ]
     },
     "metadata": {},
     "output_type": "display_data"
    }
   ],
   "source": [
    "plt.plot(ns_fpr, ns_tpr, linestyle='--',linewidth=1, markersize=1, label=f\"Random Baseline AUC Score: {ns_auc}\")\n",
    "plt.plot(lr1_fpr, lr1_tpr, marker='o', linewidth=1, markersize=1,label=f\"LR Distance AUC Score: {lr1_auc}\")\n",
    "plt.plot(lr2_fpr, lr2_tpr, marker='*', linewidth=1, markersize=1,label=f\"LR Angle AUC Score: {lr2_auc}\")\n",
    "plt.plot(lr3_fpr, lr3_tpr, marker='.', linewidth=1, markersize=1,label=f\"LR Dist+Ang AUC Score: {lr3_auc}\")\n",
    "plt.title('Logistic Regession Models - Receiver Operating Characteristic (ROC) curves')\n",
    "plt.xlabel('False Positive Rate')\n",
    "plt.ylabel('True Positive Rate')\n",
    "plt.grid()\n",
    "plt.legend()\n",
    "plt.show()"
   ]
  },
  {
   "cell_type": "markdown",
   "id": "ede4f8b8-a5d2-48e0-9f59-1649cfaad26f",
   "metadata": {},
   "source": [
    "### Goal rate (#goals / (#no_goals + #goals)) as a function of the shot probability model percentile"
   ]
  },
  {
   "cell_type": "code",
   "execution_count": 63,
   "id": "825c74e5-5375-435d-a983-f12921aea2c3",
   "metadata": {},
   "outputs": [],
   "source": [
    "import seaborn as sns\n",
    "import probscale"
   ]
  },
  {
   "cell_type": "code",
   "execution_count": 64,
   "id": "085f95a1-57c1-421c-93a0-6bbb2a53f43b",
   "metadata": {},
   "outputs": [],
   "source": [
    "df_prob_goals = pd.DataFrame()"
   ]
  },
  {
   "cell_type": "code",
   "execution_count": 65,
   "id": "00364249-11ee-42d9-8131-d3c20c6dbc6d",
   "metadata": {},
   "outputs": [],
   "source": [
    "df_prob_goals['y_prob_rm'] = ns_probs\n",
    "df_prob_goals['y_prob_lr1'] = lr1_probs\n",
    "df_prob_goals['y_prob_lr2'] = lr2_probs\n",
    "df_prob_goals['y_prob_lr3'] = lr3_probs\n",
    "df_prob_goals['y_test'] = y_test"
   ]
  },
  {
   "cell_type": "code",
   "execution_count": 66,
   "id": "3a0de87c-54db-477d-8cde-67e55589be88",
   "metadata": {},
   "outputs": [
    {
     "data": {
      "text/html": [
       "<div>\n",
       "<style scoped>\n",
       "    .dataframe tbody tr th:only-of-type {\n",
       "        vertical-align: middle;\n",
       "    }\n",
       "\n",
       "    .dataframe tbody tr th {\n",
       "        vertical-align: top;\n",
       "    }\n",
       "\n",
       "    .dataframe thead th {\n",
       "        text-align: right;\n",
       "    }\n",
       "</style>\n",
       "<table border=\"1\" class=\"dataframe\">\n",
       "  <thead>\n",
       "    <tr style=\"text-align: right;\">\n",
       "      <th></th>\n",
       "      <th>y_prob_rm</th>\n",
       "      <th>y_prob_lr1</th>\n",
       "      <th>y_prob_lr2</th>\n",
       "      <th>y_prob_lr3</th>\n",
       "      <th>y_test</th>\n",
       "    </tr>\n",
       "  </thead>\n",
       "  <tbody>\n",
       "    <tr>\n",
       "      <th>0</th>\n",
       "      <td>0.909301</td>\n",
       "      <td>0.189577</td>\n",
       "      <td>0.102416</td>\n",
       "      <td>0.215391</td>\n",
       "      <td>0</td>\n",
       "    </tr>\n",
       "    <tr>\n",
       "      <th>1</th>\n",
       "      <td>0.416188</td>\n",
       "      <td>0.033194</td>\n",
       "      <td>0.104148</td>\n",
       "      <td>0.037480</td>\n",
       "      <td>0</td>\n",
       "    </tr>\n",
       "    <tr>\n",
       "      <th>2</th>\n",
       "      <td>0.680580</td>\n",
       "      <td>0.090826</td>\n",
       "      <td>0.090849</td>\n",
       "      <td>0.088657</td>\n",
       "      <td>0</td>\n",
       "    </tr>\n",
       "    <tr>\n",
       "      <th>3</th>\n",
       "      <td>0.945336</td>\n",
       "      <td>0.105318</td>\n",
       "      <td>0.048858</td>\n",
       "      <td>0.048772</td>\n",
       "      <td>0</td>\n",
       "    </tr>\n",
       "    <tr>\n",
       "      <th>4</th>\n",
       "      <td>0.940081</td>\n",
       "      <td>0.154320</td>\n",
       "      <td>0.107950</td>\n",
       "      <td>0.185893</td>\n",
       "      <td>1</td>\n",
       "    </tr>\n",
       "  </tbody>\n",
       "</table>\n",
       "</div>"
      ],
      "text/plain": [
       "   y_prob_rm  y_prob_lr1  y_prob_lr2  y_prob_lr3  y_test\n",
       "0   0.909301    0.189577    0.102416    0.215391       0\n",
       "1   0.416188    0.033194    0.104148    0.037480       0\n",
       "2   0.680580    0.090826    0.090849    0.088657       0\n",
       "3   0.945336    0.105318    0.048858    0.048772       0\n",
       "4   0.940081    0.154320    0.107950    0.185893       1"
      ]
     },
     "execution_count": 66,
     "metadata": {},
     "output_type": "execute_result"
    }
   ],
   "source": [
    "df_prob_goals.head()"
   ]
  },
  {
   "cell_type": "code",
   "execution_count": 67,
   "id": "21e6c1e1-b786-4890-84dd-ea6f57c60844",
   "metadata": {},
   "outputs": [],
   "source": [
    "d = np.sort(df_prob_goals['y_prob_rm'])\n",
    "d1 = np.sort(df_prob_goals['y_prob_lr1'])\n",
    "d2 = np.sort(df_prob_goals['y_prob_lr2'])\n",
    "d3 = np.sort(df_prob_goals['y_prob_lr3'])\n",
    "\n",
    "# Percentile values\n",
    "p = np.array([0.0, 10.0, 20.0, 30.0, 40.0, 50.0, 60.0, 70.0,80.0,90.0,100.0])\n",
    "\n",
    "\n",
    "perc = np.percentile(d, p)\n",
    "perc1 = np.percentile(d1, p)\n",
    "perc2 = np.percentile(d2, p)\n",
    "perc3 = np.percentile(d3, p)"
   ]
  },
  {
   "cell_type": "code",
   "execution_count": 68,
   "id": "603fee48-3083-41de-b36d-0857e53e5eff",
   "metadata": {},
   "outputs": [],
   "source": [
    "def plot_gr_perc():\n",
    "    x = pd.cut(df_prob_goals[df_prob_goals['y_test'] == 1]['y_prob_rm'], bins=perc).reset_index()\n",
    "    x =x.groupby('y_prob_rm', as_index=False).size()\n",
    "    x.columns = ['y_prob_rm', 'count']\n",
    "\n",
    "    y = pd.cut(df_prob_goals['y_prob_rm'], bins=perc).reset_index()\n",
    "    y =y.groupby('y_prob_rm', as_index=False).size()\n",
    "    y.columns = ['y_prob_rm', 'count']\n",
    "\n",
    "    x1 = pd.cut(df_prob_goals[df_prob_goals['y_test'] == 1]['y_prob_lr1'], bins=perc1).reset_index()\n",
    "    x1 =x1.groupby('y_prob_lr1', as_index=False).size()\n",
    "    x1.columns = ['y_prob_lr1', 'count']\n",
    "\n",
    "    y1 = pd.cut(df_prob_goals['y_prob_lr1'], bins=perc1).reset_index()\n",
    "    y1 =y1.groupby('y_prob_lr1', as_index=False).size()\n",
    "    y1.columns = ['y_prob_lr1', 'count']\n",
    "\n",
    "    x2 = pd.cut(df_prob_goals[df_prob_goals['y_test'] == 1]['y_prob_lr2'], bins=perc2).reset_index()\n",
    "    x2 =x2.groupby('y_prob_lr2', as_index=False).size()\n",
    "    x2.columns = ['y_prob_lr2', 'count']\n",
    "\n",
    "    y2 = pd.cut(df_prob_goals['y_prob_lr2'], bins=perc2).reset_index()\n",
    "    y2 =y2.groupby('y_prob_lr2', as_index=False).size()\n",
    "    y2.columns = ['y_prob_lr2', 'count']\n",
    "\n",
    "    x3 = pd.cut(df_prob_goals[df_prob_goals['y_test'] == 1]['y_prob_lr3'], bins=perc3).reset_index()\n",
    "    x3 =x3.groupby('y_prob_lr3', as_index=False).size()\n",
    "    x3.columns = ['y_prob_lr3', 'count']\n",
    "\n",
    "    y3 = pd.cut(df_prob_goals['y_prob_lr3'], bins=perc3).reset_index()\n",
    "    y3 =y3.groupby('y_prob_lr3', as_index=False).size()\n",
    "    y3.columns = ['y_prob_lr3', 'count']\n",
    "\n",
    "    sns.set_theme(style=\"white\", palette=None)\n",
    "    sns.lineplot(x=['10','20','30','40','50','60','70','80','90','100' ], y = 100*(x['count'] / y['count']), label = 'Random Uniform Baseline')\n",
    "    sns.lineplot(x=['10','20','30','40','50','60','70','80','90','100' ], y = 100*(x1['count'] / y1['count']), label = 'LR Model - Distance')\n",
    "    sns.lineplot(x=['10','20','30','40','50','60','70','80','90','100' ], y = 100*(x2['count'] / y2['count']), label = 'LR Model - Angle')\n",
    "    sns.lineplot(x=['10','20','30','40','50','60','70','80','90','100' ], y = 100*(x3['count'] / y3['count']), label = 'LR Model - Dist + Ang')\n",
    "    plt.title('Shot probabilty model percentile vs goal rate')\n",
    "    plt.xlabel('Shot probability model percentile')\n",
    "    plt.ylabel(\"Goal rate\")\n",
    "    #ax.set_yscale('prob')\n",
    "    fmt = '%.2f%%' # Format you want the ticks, e.g. '40%'\n",
    "    yticks = mtick.FormatStrFormatter(fmt)\n",
    "    plt.gca().yaxis.set_major_formatter(yticks)\n",
    "    plt.gca().invert_xaxis()\n",
    "    plt.grid()"
   ]
  },
  {
   "cell_type": "code",
   "execution_count": 69,
   "id": "0377e81c-a5fb-4611-94f6-f8bd4922d257",
   "metadata": {},
   "outputs": [
    {
     "data": {
      "image/png": "[encoded data removed]",
      "text/plain": [
       "<Figure size 640x480 with 1 Axes>"
      ]
     },
     "metadata": {},
     "output_type": "display_data"
    }
   ],
   "source": [
    "plot_gr_perc()"
   ]
  },
  {
   "cell_type": "markdown",
   "id": "65b3b705-66f7-48e6-816c-73de593cbfa0",
   "metadata": {},
   "source": [
    "### Cumulative proportion of goals (not shots) as a function of the shot probability model percentile."
   ]
  },
  {
   "cell_type": "code",
   "execution_count": 70,
   "id": "5c102438-47e5-49b6-999b-9b29d889bd63",
   "metadata": {},
   "outputs": [],
   "source": [
    "goals = df_prob_goals[df_prob_goals['y_test']==1]"
   ]
  },
  {
   "cell_type": "code",
   "execution_count": 71,
   "id": "8327f2ec-c5e5-436e-ad33-2f721757d0c7",
   "metadata": {},
   "outputs": [
    {
     "data": {
      "text/html": [
       "<div>\n",
       "<style scoped>\n",
       "    .dataframe tbody tr th:only-of-type {\n",
       "        vertical-align: middle;\n",
       "    }\n",
       "\n",
       "    .dataframe tbody tr th {\n",
       "        vertical-align: top;\n",
       "    }\n",
       "\n",
       "    .dataframe thead th {\n",
       "        text-align: right;\n",
       "    }\n",
       "</style>\n",
       "<table border=\"1\" class=\"dataframe\">\n",
       "  <thead>\n",
       "    <tr style=\"text-align: right;\">\n",
       "      <th></th>\n",
       "      <th>y_prob_rm</th>\n",
       "      <th>y_prob_lr1</th>\n",
       "      <th>y_prob_lr2</th>\n",
       "      <th>y_prob_lr3</th>\n",
       "      <th>y_test</th>\n",
       "    </tr>\n",
       "  </thead>\n",
       "  <tbody>\n",
       "    <tr>\n",
       "      <th>4</th>\n",
       "      <td>0.940081</td>\n",
       "      <td>0.154320</td>\n",
       "      <td>0.107950</td>\n",
       "      <td>0.185893</td>\n",
       "      <td>1</td>\n",
       "    </tr>\n",
       "    <tr>\n",
       "      <th>5</th>\n",
       "      <td>0.210292</td>\n",
       "      <td>0.205681</td>\n",
       "      <td>0.050436</td>\n",
       "      <td>0.107340</td>\n",
       "      <td>1</td>\n",
       "    </tr>\n",
       "    <tr>\n",
       "      <th>21</th>\n",
       "      <td>0.188595</td>\n",
       "      <td>0.142821</td>\n",
       "      <td>0.106231</td>\n",
       "      <td>0.169045</td>\n",
       "      <td>1</td>\n",
       "    </tr>\n",
       "    <tr>\n",
       "      <th>26</th>\n",
       "      <td>0.508294</td>\n",
       "      <td>0.019325</td>\n",
       "      <td>0.093143</td>\n",
       "      <td>0.018559</td>\n",
       "      <td>1</td>\n",
       "    </tr>\n",
       "    <tr>\n",
       "      <th>45</th>\n",
       "      <td>0.448029</td>\n",
       "      <td>0.074433</td>\n",
       "      <td>0.086148</td>\n",
       "      <td>0.067585</td>\n",
       "      <td>1</td>\n",
       "    </tr>\n",
       "    <tr>\n",
       "      <th>...</th>\n",
       "      <td>...</td>\n",
       "      <td>...</td>\n",
       "      <td>...</td>\n",
       "      <td>...</td>\n",
       "      <td>...</td>\n",
       "    </tr>\n",
       "    <tr>\n",
       "      <th>66477</th>\n",
       "      <td>0.006004</td>\n",
       "      <td>0.053034</td>\n",
       "      <td>0.111127</td>\n",
       "      <td>0.065772</td>\n",
       "      <td>1</td>\n",
       "    </tr>\n",
       "    <tr>\n",
       "      <th>66494</th>\n",
       "      <td>0.248896</td>\n",
       "      <td>0.074433</td>\n",
       "      <td>0.086148</td>\n",
       "      <td>0.067585</td>\n",
       "      <td>1</td>\n",
       "    </tr>\n",
       "    <tr>\n",
       "      <th>66496</th>\n",
       "      <td>0.827776</td>\n",
       "      <td>0.133782</td>\n",
       "      <td>0.085432</td>\n",
       "      <td>0.123082</td>\n",
       "      <td>1</td>\n",
       "    </tr>\n",
       "    <tr>\n",
       "      <th>66515</th>\n",
       "      <td>0.028976</td>\n",
       "      <td>0.079595</td>\n",
       "      <td>0.094729</td>\n",
       "      <td>0.081463</td>\n",
       "      <td>1</td>\n",
       "    </tr>\n",
       "    <tr>\n",
       "      <th>66519</th>\n",
       "      <td>0.000288</td>\n",
       "      <td>0.157362</td>\n",
       "      <td>0.129141</td>\n",
       "      <td>0.230438</td>\n",
       "      <td>1</td>\n",
       "    </tr>\n",
       "  </tbody>\n",
       "</table>\n",
       "<p>6272 rows × 5 columns</p>\n",
       "</div>"
      ],
      "text/plain": [
       "       y_prob_rm  y_prob_lr1  y_prob_lr2  y_prob_lr3  y_test\n",
       "4       0.940081    0.154320    0.107950    0.185893       1\n",
       "5       0.210292    0.205681    0.050436    0.107340       1\n",
       "21      0.188595    0.142821    0.106231    0.169045       1\n",
       "26      0.508294    0.019325    0.093143    0.018559       1\n",
       "45      0.448029    0.074433    0.086148    0.067585       1\n",
       "...          ...         ...         ...         ...     ...\n",
       "66477   0.006004    0.053034    0.111127    0.065772       1\n",
       "66494   0.248896    0.074433    0.086148    0.067585       1\n",
       "66496   0.827776    0.133782    0.085432    0.123082       1\n",
       "66515   0.028976    0.079595    0.094729    0.081463       1\n",
       "66519   0.000288    0.157362    0.129141    0.230438       1\n",
       "\n",
       "[6272 rows x 5 columns]"
      ]
     },
     "execution_count": 71,
     "metadata": {},
     "output_type": "execute_result"
    }
   ],
   "source": [
    "goals"
   ]
  },
  {
   "cell_type": "code",
   "execution_count": 72,
   "id": "c8a94db9-cc93-4c04-a87a-bf098fa62508",
   "metadata": {},
   "outputs": [],
   "source": [
    "d_0 = np.sort(goals['y_prob_rm'])\n",
    "d_1 = np.sort(goals['y_prob_lr1'])\n",
    "d_2 = np.sort(goals['y_prob_lr2'])\n",
    "d_3 = np.sort(goals['y_prob_lr3'])\n",
    "\n",
    "# Percentile values\n",
    "p = np.array([0.0, 10.0, 20.0, 30.0, 40.0, 50.0, 60.0, 70.0,80.0,90.0,100.0])\n",
    "\n",
    "\n",
    "perc_0 = np.percentile(d_0, p)\n",
    "perc_1 = np.percentile(d_1, p)\n",
    "perc_2 = np.percentile(d_2, p)\n",
    "perc_3 = np.percentile(d_3, p)"
   ]
  },
  {
   "cell_type": "code",
   "execution_count": 73,
   "id": "748c264a-2f76-4933-843b-dfad4ad9fee3",
   "metadata": {},
   "outputs": [],
   "source": [
    "def plot_partition_perc():\n",
    "    x = pd.cut(goals['y_prob_rm'], bins=perc_0).reset_index()\n",
    "    x =x.groupby('y_prob_rm', as_index=False).size()\n",
    "    x.columns = ['y_prob_rm', 'count']\n",
    "\n",
    "    x1 = pd.cut(goals['y_prob_lr1'], bins=perc_1).reset_index()\n",
    "    x1 =x1.groupby('y_prob_lr1', as_index=False).size()\n",
    "    x1.columns = ['y_prob_lr1', 'count']\n",
    "\n",
    "    x2 = pd.cut(goals['y_prob_lr2'], bins=perc_2).reset_index()\n",
    "    x2 =x2.groupby('y_prob_lr2', as_index=False).size()\n",
    "    x2.columns = ['y_prob_lr2', 'count']\n",
    "\n",
    "\n",
    "    x3 = pd.cut(goals['y_prob_lr3'], bins=perc_3).reset_index()\n",
    "    x3 =x3.groupby('y_prob_lr3', as_index=False).size()\n",
    "    x3.columns = ['y_prob_lr3', 'count']\n",
    "\n",
    "    z = len(goals['y_test'])\n",
    "\n",
    "    sns.set_theme(style=\"white\", palette=None)\n",
    "    sns.lineplot(x=np.flip(['10','20','30','40','50','60','70','80','90','100' ]), y = (np.flip((x['count']/z))).cumsum(), label = 'Random Uniform Baseline')\n",
    "    sns.lineplot(x=np.flip(['10','20','30','40','50','60','70','80','90','100' ]), y = (np.flip((x1['count']/z))).cumsum(), label = 'LR Model - Distance')\n",
    "    sns.lineplot(x=np.flip(['10','20','30','40','50','60','70','80','90','100' ]), y = (np.flip((x2['count']/z))).cumsum(), label = 'LR Model - Angle')\n",
    "    sns.lineplot(x=np.flip(['10','20','30','40','50','60','70','80','90','100' ]), y = (np.flip((x3['count']/z))).cumsum(), label = 'LR Model - Dist + Ang')\n",
    "    plt.title('Shot probabilty model percentile vs goal rate')\n",
    "    plt.xlabel('Shot probability model percentile')\n",
    "    plt.ylabel(\"Proportion\")\n",
    "    plt.yscale('prob')\n",
    "    plt.gca().yaxis.set_major_formatter(mtick.PercentFormatter(1.0))\n",
    "    #fmt = '%.2f%%' # Format you want the ticks, e.g. '40%'\n",
    "    #yticks = mtick.FormatStrFormatter(fmt)\n",
    "    #plt.gca().yaxis.set_major_formatter(yticks)\n",
    "    #xticks = mtick.FormatStrFormatter(fmt)\n",
    "    #plt.gca().xaxis.set_major_formatter(xticks)\n",
    "    #plt.gca().invert_xaxis()\n",
    "    plt.grid()"
   ]
  },
  {
   "cell_type": "code",
   "execution_count": 74,
   "id": "ba93da92-e68b-49d8-90a3-c22181d19c20",
   "metadata": {},
   "outputs": [
    {
     "data": {
      "image/png": "[encoded data removed]",
      "text/plain": [
       "<Figure size 640x480 with 1 Axes>"
      ]
     },
     "metadata": {},
     "output_type": "display_data"
    }
   ],
   "source": [
    "plot_partition_perc()"
   ]
  },
  {
   "cell_type": "markdown",
   "id": "143b19ca-c3ce-4986-b811-463717ed257a",
   "metadata": {},
   "source": [
    "### Calibration Plot"
   ]
  },
  {
   "cell_type": "code",
   "execution_count": 75,
   "id": "9f60a8c3-e2fa-4742-b2cd-f1e9f95ff93a",
   "metadata": {},
   "outputs": [],
   "source": [
    "from sklearn.calibration import CalibrationDisplay\n",
    "from sklearn.calibration import calibration_curve\n",
    "import matplotlib.transforms as mtransforms\n",
    "from matplotlib.gridspec import GridSpec"
   ]
  },
  {
   "cell_type": "code",
   "execution_count": 76,
   "id": "5d133168-00db-49c0-af56-b612d3de3764",
   "metadata": {},
   "outputs": [],
   "source": [
    "logreg1_y, logreg1_x = calibration_curve(y_test, lr1_probs, n_bins=20)\n",
    "logreg2_y, logreg2_x = calibration_curve(y_test, lr2_probs, n_bins=20)\n",
    "logreg3_y, logreg3_x = calibration_curve(y_test, lr3_probs, n_bins=20)\n",
    "rc_y, rc_x = calibration_curve(y_test, ns_probs, n_bins=20)"
   ]
  },
  {
   "cell_type": "code",
   "execution_count": 77,
   "id": "71c12744-8811-4e06-95e5-fec7608ab887",
   "metadata": {},
   "outputs": [
    {
     "data": {
      "image/png": "[encoded data removed]",
      "text/plain": [
       "<Figure size 640x480 with 1 Axes>"
      ]
     },
     "metadata": {},
     "output_type": "display_data"
    }
   ],
   "source": [
    "fig, ax = plt.subplots()\n",
    "# only these two lines are calibration curves\n",
    "plt.plot(logreg1_x,logreg1_y, marker='o', linewidth=1, label='LogReg - Distance')\n",
    "plt.plot(logreg2_x,logreg2_y, marker='o', linewidth=1, label='LogReg - Angle')\n",
    "plt.plot(logreg3_x,logreg3_y, marker='o', linewidth=1, label='LogReg - Dist+Ang')\n",
    "plt.plot(rc_x, rc_y, marker='o', linewidth=1, label='Random Uniform Class')\n",
    "\n",
    "# reference line, legends, and axis labels\n",
    "plt.plot([0, 1], [0, 1], linestyle='--', color='black', label='Perfectly calibrated')\n",
    "fig.suptitle('Calibration plot for Logistic Regression Models and Random Uniform Baseline')\n",
    "ax.set_xlabel('Mean predicted probability (Positive class:1)')\n",
    "ax.set_ylabel('Fraction of positives (Positive class:1)')\n",
    "plt.grid()\n",
    "plt.legend()\n",
    "plt.show()"
   ]
  },
  {
   "cell_type": "code",
   "execution_count": null,
   "id": "5e5abfb7-91cc-46d2-83a8-3d7bf56a6742",
   "metadata": {},
   "outputs": [],
   "source": []
  }
 ],
 "metadata": {
  "kernelspec": {
   "display_name": "ift6758-conda-env",
   "language": "python",
   "name": "ift6758-conda-env"
  },
  "language_info": {
   "codemirror_mode": {
    "name": "ipython",
    "version": 3
   },
   "file_extension": ".py",
   "mimetype": "text/x-python",
   "name": "python",
   "nbconvert_exporter": "python",
   "pygments_lexer": "ipython3",
   "version": "3.10.6"
  }
 },
 "nbformat": 4,
 "nbformat_minor": 5
}
