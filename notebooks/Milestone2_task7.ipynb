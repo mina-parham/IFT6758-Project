{
 "cells": [
  {
   "cell_type": "code",
<<<<<<< HEAD
   "execution_count": 10,
   "metadata": {},
   "outputs": [],
   "source": [
    "import pandas as pd\n",
    "import numpy as np\n",
    "from comet_ml import API\n"
   ]
  },
  {
   "cell_type": "markdown",
   "metadata": {},
   "source": [
    "## Preprocess the data"
=======
   "execution_count": 39,
   "metadata": {},
   "outputs": [],
   "source": [
    "from comet_ml import Experiment\n",
    "from comet_ml import API\n",
    "import os\n",
    "import warnings\n",
    "import pandas as pd\n",
    "import numpy as np\n",
    "import matplotlib.pyplot as plt\n",
    "import seaborn as sns\n",
    "from joblib import load\n",
    "from sklearn.metrics import brier_score_loss\n",
    "from sklearn.metrics import roc_curve\n",
    "from sklearn.metrics import roc_auc_score\n",
    "from sklearn.metrics import classification_report\n",
    "from sklearn.dummy import DummyClassifier\n",
    "from sklearn.calibration import CalibrationDisplay\n",
    "from sklearn.metrics import confusion_matrix\n",
    "\n",
    "warnings.filterwarnings(\"ignore\")\n",
    "COMET_API_KEY = '6y4mAll2m0GkscF0Z4g7zPvGk'\n",
    "COMET_PROJECT_NAME = 'ift-6758'\n",
    "COMET_WORKSPACE = 'ift-6758-2'"
>>>>>>> 7a3ebc378b0b92eb1ca027d2533c783b416f0bcb
   ]
  },
  {
   "cell_type": "code",
<<<<<<< HEAD
   "execution_count": 6,
=======
   "execution_count": 3,
>>>>>>> 7a3ebc378b0b92eb1ca027d2533c783b416f0bcb
   "metadata": {},
   "outputs": [
    {
     "data": {
      "text/html": [
       "<div>\n",
       "<style scoped>\n",
       "    .dataframe tbody tr th:only-of-type {\n",
       "        vertical-align: middle;\n",
       "    }\n",
       "\n",
       "    .dataframe tbody tr th {\n",
       "        vertical-align: top;\n",
       "    }\n",
       "\n",
       "    .dataframe thead th {\n",
       "        text-align: right;\n",
       "    }\n",
       "</style>\n",
       "<table border=\"1\" class=\"dataframe\">\n",
       "  <thead>\n",
       "    <tr style=\"text-align: right;\">\n",
       "      <th></th>\n",
       "      <th>event_idx</th>\n",
       "      <th>period_time</th>\n",
       "      <th>period</th>\n",
       "      <th>game_id</th>\n",
       "      <th>team_away_name</th>\n",
       "      <th>team_home_name</th>\n",
       "      <th>is_goal</th>\n",
       "      <th>coordinate_x</th>\n",
       "      <th>coordinate_y</th>\n",
       "      <th>shot_type</th>\n",
<<<<<<< HEAD
       "      <th>...</th>\n",
       "      <th>number_friendly</th>\n",
       "      <th>number_opposing</th>\n",
       "      <th>power_play</th>\n",
       "      <th>distance</th>\n",
       "      <th>from_last_distance</th>\n",
       "      <th>angle</th>\n",
       "      <th>last_angle</th>\n",
       "      <th>time_from_last</th>\n",
       "      <th>change_angle</th>\n",
       "      <th>speed</th>\n",
=======
       "      <th>strength</th>\n",
       "      <th>shooter_name</th>\n",
       "      <th>goalie_name</th>\n",
       "      <th>empty_net</th>\n",
       "      <th>team_name</th>\n",
       "      <th>distance</th>\n",
       "      <th>angle</th>\n",
       "      <th>angle_d</th>\n",
>>>>>>> 7a3ebc378b0b92eb1ca027d2533c783b416f0bcb
       "    </tr>\n",
       "  </thead>\n",
       "  <tbody>\n",
       "    <tr>\n",
<<<<<<< HEAD
       "      <th>73862</th>\n",
       "      <td>319</td>\n",
       "      <td>16:01</td>\n",
       "      <td>3</td>\n",
       "      <td>2019020001</td>\n",
       "      <td>Ottawa Senators</td>\n",
       "      <td>Toronto Maple Leafs</td>\n",
       "      <td>0</td>\n",
       "      <td>-59.0</td>\n",
       "      <td>-24.0</td>\n",
       "      <td>Snap Shot</td>\n",
       "      <td>...</td>\n",
       "      <td>5</td>\n",
       "      <td>4</td>\n",
       "      <td>34</td>\n",
       "      <td>38.4187</td>\n",
       "      <td>123.016259</td>\n",
       "      <td>0.6747</td>\n",
       "      <td>0.8050</td>\n",
       "      <td>61</td>\n",
       "      <td>0.0</td>\n",
       "      <td>0.0</td>\n",
       "    </tr>\n",
       "    <tr>\n",
       "      <th>73863</th>\n",
       "      <td>326</td>\n",
       "      <td>17:20</td>\n",
       "      <td>3</td>\n",
=======
       "      <th>0</th>\n",
       "      <td>4</td>\n",
       "      <td>00:25</td>\n",
       "      <td>1</td>\n",
       "      <td>2019020001</td>\n",
       "      <td>Ottawa Senators</td>\n",
       "      <td>Toronto Maple Leafs</td>\n",
       "      <td>1</td>\n",
       "      <td>85.0</td>\n",
       "      <td>-1.0</td>\n",
       "      <td>Tip-In</td>\n",
       "      <td>Even</td>\n",
       "      <td>Brady Tkachuk</td>\n",
       "      <td>Brady Tkachuk</td>\n",
       "      <td>0</td>\n",
       "      <td>Ottawa Senators</td>\n",
       "      <td>4.1231</td>\n",
       "      <td>0.2450</td>\n",
       "      <td>14.037466</td>\n",
       "    </tr>\n",
       "    <tr>\n",
       "      <th>1</th>\n",
       "      <td>12</td>\n",
       "      <td>01:31</td>\n",
       "      <td>1</td>\n",
>>>>>>> 7a3ebc378b0b92eb1ca027d2533c783b416f0bcb
       "      <td>2019020001</td>\n",
       "      <td>Ottawa Senators</td>\n",
       "      <td>Toronto Maple Leafs</td>\n",
       "      <td>0</td>\n",
<<<<<<< HEAD
       "      <td>-81.0</td>\n",
       "      <td>3.0</td>\n",
       "      <td>Wrist Shot</td>\n",
       "      <td>...</td>\n",
       "      <td>5</td>\n",
       "      <td>4</td>\n",
       "      <td>113</td>\n",
       "      <td>8.5440</td>\n",
       "      <td>3.162278</td>\n",
       "      <td>0.3588</td>\n",
       "      <td>0.5880</td>\n",
       "      <td>20</td>\n",
       "      <td>0.0</td>\n",
       "      <td>0.0</td>\n",
       "    </tr>\n",
       "    <tr>\n",
       "      <th>73864</th>\n",
       "      <td>333</td>\n",
       "      <td>18:50</td>\n",
       "      <td>3</td>\n",
=======
       "      <td>-32.0</td>\n",
       "      <td>-2.0</td>\n",
       "      <td>Snap Shot</td>\n",
       "      <td>NaN</td>\n",
       "      <td>Morgan Rielly</td>\n",
       "      <td>Morgan Rielly</td>\n",
       "      <td>0</td>\n",
       "      <td>Toronto Maple Leafs</td>\n",
       "      <td>57.0351</td>\n",
       "      <td>0.0351</td>\n",
       "      <td>2.011082</td>\n",
       "    </tr>\n",
       "    <tr>\n",
       "      <th>2</th>\n",
       "      <td>19</td>\n",
       "      <td>03:23</td>\n",
       "      <td>1</td>\n",
>>>>>>> 7a3ebc378b0b92eb1ca027d2533c783b416f0bcb
       "      <td>2019020001</td>\n",
       "      <td>Ottawa Senators</td>\n",
       "      <td>Toronto Maple Leafs</td>\n",
       "      <td>0</td>\n",
<<<<<<< HEAD
       "      <td>34.0</td>\n",
       "      <td>-6.0</td>\n",
       "      <td>Snap Shot</td>\n",
       "      <td>...</td>\n",
       "      <td>5</td>\n",
       "      <td>5</td>\n",
       "      <td>0</td>\n",
       "      <td>55.3263</td>\n",
       "      <td>58.855756</td>\n",
       "      <td>0.1087</td>\n",
       "      <td>1.3854</td>\n",
       "      <td>50</td>\n",
       "      <td>0.0</td>\n",
       "      <td>0.0</td>\n",
       "    </tr>\n",
       "    <tr>\n",
       "      <th>73865</th>\n",
       "      <td>341</td>\n",
       "      <td>19:27</td>\n",
       "      <td>3</td>\n",
=======
       "      <td>63.0</td>\n",
       "      <td>-6.0</td>\n",
       "      <td>Snap Shot</td>\n",
       "      <td>NaN</td>\n",
       "      <td>Dylan DeMelo</td>\n",
       "      <td>Dylan DeMelo</td>\n",
       "      <td>0</td>\n",
       "      <td>Ottawa Senators</td>\n",
       "      <td>26.6833</td>\n",
       "      <td>0.2268</td>\n",
       "      <td>12.994683</td>\n",
       "    </tr>\n",
       "    <tr>\n",
       "      <th>3</th>\n",
       "      <td>22</td>\n",
       "      <td>03:56</td>\n",
       "      <td>1</td>\n",
>>>>>>> 7a3ebc378b0b92eb1ca027d2533c783b416f0bcb
       "      <td>2019020001</td>\n",
       "      <td>Ottawa Senators</td>\n",
       "      <td>Toronto Maple Leafs</td>\n",
       "      <td>0</td>\n",
<<<<<<< HEAD
       "      <td>31.0</td>\n",
       "      <td>10.0</td>\n",
       "      <td>Wrist Shot</td>\n",
       "      <td>...</td>\n",
       "      <td>5</td>\n",
       "      <td>5</td>\n",
       "      <td>0</td>\n",
       "      <td>58.8558</td>\n",
       "      <td>49.678969</td>\n",
       "      <td>0.1707</td>\n",
       "      <td>0.8330</td>\n",
       "      <td>27</td>\n",
       "      <td>0.0</td>\n",
       "      <td>0.0</td>\n",
       "    </tr>\n",
       "    <tr>\n",
       "      <th>73866</th>\n",
       "      <td>343</td>\n",
       "      <td>19:45</td>\n",
       "      <td>3</td>\n",
=======
       "      <td>-59.0</td>\n",
       "      <td>-20.0</td>\n",
       "      <td>Wrist Shot</td>\n",
       "      <td>NaN</td>\n",
       "      <td>Morgan Rielly</td>\n",
       "      <td>Morgan Rielly</td>\n",
       "      <td>0</td>\n",
       "      <td>Toronto Maple Leafs</td>\n",
       "      <td>36.0555</td>\n",
       "      <td>0.5880</td>\n",
       "      <td>33.689918</td>\n",
       "    </tr>\n",
       "    <tr>\n",
       "      <th>4</th>\n",
       "      <td>27</td>\n",
       "      <td>04:47</td>\n",
       "      <td>1</td>\n",
>>>>>>> 7a3ebc378b0b92eb1ca027d2533c783b416f0bcb
       "      <td>2019020001</td>\n",
       "      <td>Ottawa Senators</td>\n",
       "      <td>Toronto Maple Leafs</td>\n",
       "      <td>0</td>\n",
<<<<<<< HEAD
       "      <td>77.0</td>\n",
       "      <td>0.0</td>\n",
       "      <td>Wrist Shot</td>\n",
       "      <td>...</td>\n",
       "      <td>5</td>\n",
       "      <td>5</td>\n",
       "      <td>0</td>\n",
       "      <td>12.0000</td>\n",
       "      <td>9.899495</td>\n",
       "      <td>0.0000</td>\n",
       "      <td>0.9505</td>\n",
       "      <td>45</td>\n",
       "      <td>0.0</td>\n",
       "      <td>0.0</td>\n",
       "    </tr>\n",
       "  </tbody>\n",
       "</table>\n",
       "<p>5 rows × 32 columns</p>\n",
       "</div>"
      ],
      "text/plain": [
       "       event_idx period_time  period     game_id   team_away_name  \\\n",
       "73862        319       16:01       3  2019020001  Ottawa Senators   \n",
       "73863        326       17:20       3  2019020001  Ottawa Senators   \n",
       "73864        333       18:50       3  2019020001  Ottawa Senators   \n",
       "73865        341       19:27       3  2019020001  Ottawa Senators   \n",
       "73866        343       19:45       3  2019020001  Ottawa Senators   \n",
       "\n",
       "            team_home_name  is_goal  coordinate_x  coordinate_y   shot_type  \\\n",
       "73862  Toronto Maple Leafs        0         -59.0         -24.0   Snap Shot   \n",
       "73863  Toronto Maple Leafs        0         -81.0           3.0  Wrist Shot   \n",
       "73864  Toronto Maple Leafs        0          34.0          -6.0   Snap Shot   \n",
       "73865  Toronto Maple Leafs        0          31.0          10.0  Wrist Shot   \n",
       "73866  Toronto Maple Leafs        0          77.0           0.0  Wrist Shot   \n",
       "\n",
       "       ... number_friendly number_opposing power_play  distance  \\\n",
       "73862  ...               5               4         34   38.4187   \n",
       "73863  ...               5               4        113    8.5440   \n",
       "73864  ...               5               5          0   55.3263   \n",
       "73865  ...               5               5          0   58.8558   \n",
       "73866  ...               5               5          0   12.0000   \n",
       "\n",
       "      from_last_distance   angle last_angle  time_from_last  change_angle  \\\n",
       "73862         123.016259  0.6747     0.8050              61           0.0   \n",
       "73863           3.162278  0.3588     0.5880              20           0.0   \n",
       "73864          58.855756  0.1087     1.3854              50           0.0   \n",
       "73865          49.678969  0.1707     0.8330              27           0.0   \n",
       "73866           9.899495  0.0000     0.9505              45           0.0   \n",
       "\n",
       "       speed  \n",
       "73862    0.0  \n",
       "73863    0.0  \n",
       "73864    0.0  \n",
       "73865    0.0  \n",
       "73866    0.0  \n",
       "\n",
       "[5 rows x 32 columns]"
      ]
     },
     "execution_count": 6,
=======
       "      <td>-42.0</td>\n",
       "      <td>-29.0</td>\n",
       "      <td>Slap Shot</td>\n",
       "      <td>NaN</td>\n",
       "      <td>Tyson Barrie</td>\n",
       "      <td>Tyson Barrie</td>\n",
       "      <td>0</td>\n",
       "      <td>Toronto Maple Leafs</td>\n",
       "      <td>55.2268</td>\n",
       "      <td>0.5528</td>\n",
       "      <td>31.673107</td>\n",
       "    </tr>\n",
       "  </tbody>\n",
       "</table>\n",
       "</div>"
      ],
      "text/plain": [
       "   event_idx period_time  period     game_id   team_away_name  \\\n",
       "0          4       00:25       1  2019020001  Ottawa Senators   \n",
       "1         12       01:31       1  2019020001  Ottawa Senators   \n",
       "2         19       03:23       1  2019020001  Ottawa Senators   \n",
       "3         22       03:56       1  2019020001  Ottawa Senators   \n",
       "4         27       04:47       1  2019020001  Ottawa Senators   \n",
       "\n",
       "        team_home_name  is_goal  coordinate_x  coordinate_y   shot_type  \\\n",
       "0  Toronto Maple Leafs        1          85.0          -1.0      Tip-In   \n",
       "1  Toronto Maple Leafs        0         -32.0          -2.0   Snap Shot   \n",
       "2  Toronto Maple Leafs        0          63.0          -6.0   Snap Shot   \n",
       "3  Toronto Maple Leafs        0         -59.0         -20.0  Wrist Shot   \n",
       "4  Toronto Maple Leafs        0         -42.0         -29.0   Slap Shot   \n",
       "\n",
       "  strength   shooter_name    goalie_name  empty_net            team_name  \\\n",
       "0     Even  Brady Tkachuk  Brady Tkachuk          0      Ottawa Senators   \n",
       "1      NaN  Morgan Rielly  Morgan Rielly          0  Toronto Maple Leafs   \n",
       "2      NaN   Dylan DeMelo   Dylan DeMelo          0      Ottawa Senators   \n",
       "3      NaN  Morgan Rielly  Morgan Rielly          0  Toronto Maple Leafs   \n",
       "4      NaN   Tyson Barrie   Tyson Barrie          0  Toronto Maple Leafs   \n",
       "\n",
       "   distance   angle    angle_d  \n",
       "0    4.1231  0.2450  14.037466  \n",
       "1   57.0351  0.0351   2.011082  \n",
       "2   26.6833  0.2268  12.994683  \n",
       "3   36.0555  0.5880  33.689918  \n",
       "4   55.2268  0.5528  31.673107  "
      ]
     },
     "execution_count": 3,
     "metadata": {},
     "output_type": "execute_result"
    }
   ],
   "source": [
    "# Read the data file name \"/Users/sparshamishra/Documents/GitHub/IFT6758-Project/tidy_test_2019_2020.csv\"\n",
    "df = pd.read_csv(\"/Users/sparshamishra/Documents/GitHub/IFT6758-Project/tidy_test_2019_2020.csv\")\n",
    "df.head()"
   ]
  },
  {
   "cell_type": "code",
   "execution_count": 5,
   "metadata": {},
   "outputs": [],
   "source": [
    "def split_data(data):\n",
    "    \"\"\"\n",
    "    Split the data into two sets based on the game_id starting with `201902` and `201903`\n",
    "    \"\"\"\n",
    "    data_201902 = data[data['game_id'].astype(str).str.startswith('201902')]\n",
    "    data_201903 = data[data['game_id'].astype(str).str.startswith('201903')]\n",
    "    return data_201902, data_201903"
   ]
  },
  {
   "cell_type": "code",
   "execution_count": 99,
   "metadata": {},
   "outputs": [],
   "source": [
    "num_regular = 0\n",
    "num_playoffs = 0\n",
    "num_else = 0\n",
    "\n",
    "g_id = np.array(df['game_id'])\n",
    "\n",
    "for i in range(len(df['game_id'])):\n",
    "    if str(g_id[i]).startswith('201902'):\n",
    "        num_regular += 1\n",
    "    elif str(g_id[i]).startswith('201903'):\n",
    "        num_playoffs += 1\n",
    "    else:\n",
    "        num_else += 1"
   ]
  },
  {
   "cell_type": "code",
   "execution_count": 100,
   "metadata": {},
   "outputs": [
    {
     "name": "stdout",
     "output_type": "stream",
     "text": [
      "Number of regular season games:  68500\n",
      "Number of playoff games:  5367\n",
      "Number of other games:  0\n"
     ]
    }
   ],
   "source": [
    "print(\"Number of regular season games: \", num_regular)\n",
    "print(\"Number of playoff games: \", num_playoffs)\n",
    "print(\"Number of other games: \", num_else)"
   ]
  },
  {
   "cell_type": "code",
   "execution_count": 101,
   "metadata": {},
   "outputs": [
    {
     "data": {
      "text/plain": [
       "(array([0, 1]), array([66745,  7122]))"
      ]
     },
     "execution_count": 101,
     "metadata": {},
     "output_type": "execute_result"
    }
   ],
   "source": [
    "np.unique(df['is_goal'], return_counts=True)"
   ]
  },
  {
   "cell_type": "code",
   "execution_count": 102,
   "metadata": {},
   "outputs": [],
   "source": [
    "regular, playoffs = split_data(df)  "
   ]
  },
  {
   "cell_type": "code",
   "execution_count": 103,
   "metadata": {},
   "outputs": [
    {
     "data": {
      "text/html": [
       "<div>\n",
       "<style scoped>\n",
       "    .dataframe tbody tr th:only-of-type {\n",
       "        vertical-align: middle;\n",
       "    }\n",
       "\n",
       "    .dataframe tbody tr th {\n",
       "        vertical-align: top;\n",
       "    }\n",
       "\n",
       "    .dataframe thead th {\n",
       "        text-align: right;\n",
       "    }\n",
       "</style>\n",
       "<table border=\"1\" class=\"dataframe\">\n",
       "  <thead>\n",
       "    <tr style=\"text-align: right;\">\n",
       "      <th></th>\n",
       "      <th>event_idx</th>\n",
       "      <th>period_time</th>\n",
       "      <th>period</th>\n",
       "      <th>game_id</th>\n",
       "      <th>team_away_name</th>\n",
       "      <th>team_home_name</th>\n",
       "      <th>is_goal</th>\n",
       "      <th>coordinate_x</th>\n",
       "      <th>coordinate_y</th>\n",
       "      <th>shot_type</th>\n",
       "      <th>strength</th>\n",
       "      <th>shooter_name</th>\n",
       "      <th>goalie_name</th>\n",
       "      <th>empty_net</th>\n",
       "      <th>team_name</th>\n",
       "      <th>distance</th>\n",
       "      <th>angle</th>\n",
       "      <th>angle_d</th>\n",
       "    </tr>\n",
       "  </thead>\n",
       "  <tbody>\n",
       "    <tr>\n",
       "      <th>68500</th>\n",
       "      <td>19</td>\n",
       "      <td>02:18</td>\n",
       "      <td>1</td>\n",
       "      <td>2019030111</td>\n",
       "      <td>Montréal Canadiens</td>\n",
       "      <td>Philadelphia Flyers</td>\n",
       "      <td>0</td>\n",
       "      <td>-56.0</td>\n",
       "      <td>-5.0</td>\n",
       "      <td>Snap Shot</td>\n",
       "      <td>NaN</td>\n",
       "      <td>Sean Couturier</td>\n",
       "      <td>Sean Couturier</td>\n",
       "      <td>0</td>\n",
       "      <td>Philadelphia Flyers</td>\n",
       "      <td>33.3766</td>\n",
       "      <td>0.1504</td>\n",
       "      <td>8.617285</td>\n",
       "    </tr>\n",
       "    <tr>\n",
       "      <th>68501</th>\n",
       "      <td>29</td>\n",
       "      <td>04:15</td>\n",
       "      <td>1</td>\n",
       "      <td>2019030111</td>\n",
       "      <td>Montréal Canadiens</td>\n",
       "      <td>Philadelphia Flyers</td>\n",
       "      <td>0</td>\n",
       "      <td>54.0</td>\n",
       "      <td>-26.0</td>\n",
       "      <td>Wrist Shot</td>\n",
       "      <td>NaN</td>\n",
       "      <td>Joel Armia</td>\n",
       "      <td>Joel Armia</td>\n",
       "      <td>0</td>\n",
       "      <td>Montréal Canadiens</td>\n",
       "      <td>43.6005</td>\n",
       "      <td>0.6389</td>\n",
       "      <td>36.606274</td>\n",
       "    </tr>\n",
       "    <tr>\n",
       "      <th>68502</th>\n",
       "      <td>35</td>\n",
       "      <td>04:58</td>\n",
       "      <td>1</td>\n",
       "      <td>2019030111</td>\n",
       "      <td>Montréal Canadiens</td>\n",
       "      <td>Philadelphia Flyers</td>\n",
       "      <td>0</td>\n",
       "      <td>-61.0</td>\n",
       "      <td>38.0</td>\n",
       "      <td>Wrist Shot</td>\n",
       "      <td>NaN</td>\n",
       "      <td>Philippe Myers</td>\n",
       "      <td>Philippe Myers</td>\n",
       "      <td>0</td>\n",
       "      <td>Philadelphia Flyers</td>\n",
       "      <td>47.2017</td>\n",
       "      <td>0.9358</td>\n",
       "      <td>53.617390</td>\n",
       "    </tr>\n",
       "    <tr>\n",
       "      <th>68503</th>\n",
       "      <td>39</td>\n",
       "      <td>05:06</td>\n",
       "      <td>1</td>\n",
       "      <td>2019030111</td>\n",
       "      <td>Montréal Canadiens</td>\n",
       "      <td>Philadelphia Flyers</td>\n",
       "      <td>0</td>\n",
       "      <td>-52.0</td>\n",
       "      <td>-14.0</td>\n",
       "      <td>Slap Shot</td>\n",
       "      <td>NaN</td>\n",
       "      <td>Ivan Provorov</td>\n",
       "      <td>Ivan Provorov</td>\n",
       "      <td>0</td>\n",
       "      <td>Philadelphia Flyers</td>\n",
       "      <td>39.5601</td>\n",
       "      <td>0.3617</td>\n",
       "      <td>20.723883</td>\n",
       "    </tr>\n",
       "    <tr>\n",
       "      <th>68504</th>\n",
       "      <td>49</td>\n",
       "      <td>06:11</td>\n",
       "      <td>1</td>\n",
       "      <td>2019030111</td>\n",
       "      <td>Montréal Canadiens</td>\n",
       "      <td>Philadelphia Flyers</td>\n",
       "      <td>0</td>\n",
       "      <td>-49.0</td>\n",
       "      <td>-32.0</td>\n",
       "      <td>Wrist Shot</td>\n",
       "      <td>NaN</td>\n",
       "      <td>Travis Sanheim</td>\n",
       "      <td>Travis Sanheim</td>\n",
       "      <td>0</td>\n",
       "      <td>Philadelphia Flyers</td>\n",
       "      <td>51.2250</td>\n",
       "      <td>0.6747</td>\n",
       "      <td>38.657462</td>\n",
       "    </tr>\n",
       "  </tbody>\n",
       "</table>\n",
       "</div>"
      ],
      "text/plain": [
       "       event_idx period_time  period     game_id      team_away_name  \\\n",
       "68500         19       02:18       1  2019030111  Montréal Canadiens   \n",
       "68501         29       04:15       1  2019030111  Montréal Canadiens   \n",
       "68502         35       04:58       1  2019030111  Montréal Canadiens   \n",
       "68503         39       05:06       1  2019030111  Montréal Canadiens   \n",
       "68504         49       06:11       1  2019030111  Montréal Canadiens   \n",
       "\n",
       "            team_home_name  is_goal  coordinate_x  coordinate_y   shot_type  \\\n",
       "68500  Philadelphia Flyers        0         -56.0          -5.0   Snap Shot   \n",
       "68501  Philadelphia Flyers        0          54.0         -26.0  Wrist Shot   \n",
       "68502  Philadelphia Flyers        0         -61.0          38.0  Wrist Shot   \n",
       "68503  Philadelphia Flyers        0         -52.0         -14.0   Slap Shot   \n",
       "68504  Philadelphia Flyers        0         -49.0         -32.0  Wrist Shot   \n",
       "\n",
       "      strength    shooter_name     goalie_name  empty_net  \\\n",
       "68500      NaN  Sean Couturier  Sean Couturier          0   \n",
       "68501      NaN      Joel Armia      Joel Armia          0   \n",
       "68502      NaN  Philippe Myers  Philippe Myers          0   \n",
       "68503      NaN   Ivan Provorov   Ivan Provorov          0   \n",
       "68504      NaN  Travis Sanheim  Travis Sanheim          0   \n",
       "\n",
       "                 team_name  distance   angle    angle_d  \n",
       "68500  Philadelphia Flyers   33.3766  0.1504   8.617285  \n",
       "68501   Montréal Canadiens   43.6005  0.6389  36.606274  \n",
       "68502  Philadelphia Flyers   47.2017  0.9358  53.617390  \n",
       "68503  Philadelphia Flyers   39.5601  0.3617  20.723883  \n",
       "68504  Philadelphia Flyers   51.2250  0.6747  38.657462  "
      ]
     },
     "execution_count": 103,
>>>>>>> 7a3ebc378b0b92eb1ca027d2533c783b416f0bcb
     "metadata": {},
     "output_type": "execute_result"
    }
   ],
   "source": [
<<<<<<< HEAD
    "test_data = pd.read_csv(\"test_2019.csv\")\n",
    "test_data = test_data.drop(labels='Unnamed: 0', axis=1).reset_index(drop=True)\n",
    "test_data.tail()"
=======
    "playoffs.head()"
>>>>>>> 7a3ebc378b0b92eb1ca027d2533c783b416f0bcb
   ]
  },
  {
   "cell_type": "code",
<<<<<<< HEAD
   "execution_count": 9,
   "metadata": {},
   "outputs": [],
   "source": [
    "test_data['game_id'] = test_data['game_id'].astype(str)\n",
    "regular_ds = test_data[test_data.game_id.str.contains('^201902')]\n",
    "playoffs_ds = test_data[test_data.game_id.str.contains('^201903')]"
   ]
  },
  {
   "cell_type": "markdown",
   "metadata": {},
   "source": [
    "## 7.1"
=======
   "execution_count": 104,
   "metadata": {},
   "outputs": [
    {
     "data": {
      "text/plain": [
       "(5367, 18)"
      ]
     },
     "execution_count": 104,
     "metadata": {},
     "output_type": "execute_result"
    }
   ],
   "source": [
    "playoffs.shape"
   ]
  },
  {
   "cell_type": "code",
   "execution_count": 105,
   "metadata": {},
   "outputs": [
    {
     "data": {
      "text/plain": [
       "(array([0, 1]), array([61852,  6648]))"
      ]
     },
     "execution_count": 105,
     "metadata": {},
     "output_type": "execute_result"
    }
   ],
   "source": [
    "np.unique(regular['is_goal'], return_counts=True)"
   ]
  },
  {
   "cell_type": "code",
   "execution_count": 106,
   "metadata": {},
   "outputs": [
    {
     "data": {
      "text/plain": [
       "(array([0, 1]), array([4893,  474]))"
      ]
     },
     "execution_count": 106,
     "metadata": {},
     "output_type": "execute_result"
    }
   ],
   "source": [
    "np.unique(playoffs['is_goal'], return_counts=True)"
   ]
  },
  {
   "cell_type": "code",
   "execution_count": 107,
   "metadata": {},
   "outputs": [],
   "source": [
    "regular = regular.dropna()\n",
    "playoffs = playoffs.dropna()"
   ]
  },
  {
   "cell_type": "code",
   "execution_count": 108,
   "metadata": {},
   "outputs": [
    {
     "data": {
      "text/plain": [
       "(473, 18)"
      ]
     },
     "execution_count": 108,
     "metadata": {},
     "output_type": "execute_result"
    }
   ],
   "source": [
    "playoffs.shape"
>>>>>>> 7a3ebc378b0b92eb1ca027d2533c783b416f0bcb
   ]
  },
  {
   "cell_type": "code",
<<<<<<< HEAD
   "execution_count": null,
=======
   "execution_count": 109,
   "metadata": {},
   "outputs": [
    {
     "data": {
      "text/plain": [
       "(6641, 18)"
      ]
     },
     "execution_count": 109,
     "metadata": {},
     "output_type": "execute_result"
    }
   ],
   "source": [
    "regular.shape"
   ]
  },
  {
   "cell_type": "code",
   "execution_count": 110,
   "metadata": {},
   "outputs": [
    {
     "data": {
      "text/plain": [
       "(array([1]), array([473]))"
      ]
     },
     "execution_count": 110,
     "metadata": {},
     "output_type": "execute_result"
    }
   ],
   "source": [
    "np.unique(playoffs['is_goal'], return_counts=True)"
   ]
  },
  {
   "cell_type": "code",
   "execution_count": 111,
   "metadata": {},
   "outputs": [
    {
     "data": {
      "text/plain": [
       "(array([1]), array([6641]))"
      ]
     },
     "execution_count": 111,
     "metadata": {},
     "output_type": "execute_result"
    }
   ],
   "source": [
    "np.unique(regular['is_goal'], return_counts=True)"
   ]
  },
  {
   "cell_type": "code",
   "execution_count": 112,
   "metadata": {},
   "outputs": [],
   "source": [
    "X_regular_dist_angle = np.array(regular[['distance','angle']])\n",
    "Y_regular = np.array(regular[['is_goal']])\n",
    "\n",
    "Y_regular = Y_regular.reshape(-1,1)"
   ]
  },
  {
   "cell_type": "code",
   "execution_count": 113,
   "metadata": {},
   "outputs": [],
   "source": [
    "X_playoffs_dist_angle = np.array(playoffs[['distance','angle']])\n",
    "Y_playoffs = np.array(playoffs[['is_goal']])\n",
    "\n",
    "Y_playoffs = Y_playoffs.reshape(-1,1)"
   ]
  },
  {
   "cell_type": "code",
   "execution_count": 114,
   "metadata": {},
   "outputs": [],
   "source": [
    "X_regular_dist = np.array(regular[['distance']])\n",
    "X_regular_angle = np.array(regular[['angle']])\n",
    "X_playoffs_dist = np.array(playoffs[['distance']])\n",
    "X_playoffs_angle = np.array(playoffs[['angle']])"
   ]
  },
  {
   "cell_type": "code",
   "execution_count": 115,
   "metadata": {},
   "outputs": [
    {
     "data": {
      "text/plain": [
       "(473, 2)"
      ]
     },
     "execution_count": 115,
     "metadata": {},
     "output_type": "execute_result"
    }
   ],
   "source": [
    "X_playoffs_dist_angle.shape"
   ]
  },
  {
   "cell_type": "code",
   "execution_count": 116,
>>>>>>> 7a3ebc378b0b92eb1ca027d2533c783b416f0bcb
   "metadata": {},
   "outputs": [],
   "source": [
    "def get_registered_comet_model(workspace, model, version, output_path):\n",
<<<<<<< HEAD
    "    api = API()\n",
=======
    "    api = API(api_key='6y4mAll2m0GkscF0Z4g7zPvGk')\n",
>>>>>>> 7a3ebc378b0b92eb1ca027d2533c783b416f0bcb
    "    # Download a Registry Model\n",
    "    file = api.download_registry_model({workspace}, model, version, output_path=output_path, expand=True)\n",
    "    return file"
   ]
  },
  {
   "cell_type": "code",
<<<<<<< HEAD
   "execution_count": 19,
=======
   "execution_count": 117,
   "metadata": {},
   "outputs": [
    {
     "name": "stderr",
     "output_type": "stream",
     "text": [
      "COMET INFO: Downloading registry model 'lr-distance-angle', version '1.0.0', stage None from workspace {'ift-6758-2'}...\n",
      "COMET INFO: Unzipping model to '/Users/sparshamishra/Documents/GitHub/IFT6758-Project/tmp' ...\n",
      "COMET INFO: done!\n"
     ]
    }
   ],
   "source": [
    "filename = '../tmp/lr3_pkl.pickle'\n",
    "get_registered_comet_model(COMET_WORKSPACE, 'lr-distance-angle', '1.0.0', '../tmp/')\n",
    "lr_distance_angle = load(filename)\n",
    "\n",
    "preds_lr_dist_angle_regular = lr_distance_angle.predict(X_regular_dist_angle)\n",
    "preds_lr_dist_angle_playoffs = lr_distance_angle.predict(X_playoffs_dist_angle)"
   ]
  },
  {
   "cell_type": "code",
   "execution_count": 118,
   "metadata": {},
   "outputs": [
    {
     "name": "stderr",
     "output_type": "stream",
     "text": [
      "COMET INFO: Downloading registry model 'lr-angle', version '1.0.0', stage None from workspace {'ift-6758-2'}...\n",
      "COMET INFO: Unzipping model to '/Users/sparshamishra/Documents/GitHub/IFT6758-Project/tmp' ...\n",
      "COMET INFO: done!\n"
     ]
    }
   ],
   "source": [
    "filename = '../tmp/lr2_pkl.pickle'\n",
    "get_registered_comet_model(COMET_WORKSPACE, 'lr-angle', '1.0.0', '../tmp/')\n",
    "lr_angle = load(filename)\n",
    "\n",
    "preds_lr_angle_regular = lr_angle.predict(X_regular_angle)\n",
    "preds_lr_angle_playoffs = lr_angle.predict(X_playoffs_angle)"
   ]
  },
  {
   "cell_type": "code",
   "execution_count": 119,
>>>>>>> 7a3ebc378b0b92eb1ca027d2533c783b416f0bcb
   "metadata": {},
   "outputs": [
    {
     "name": "stderr",
     "output_type": "stream",
     "text": [
<<<<<<< HEAD
      "COMET INFO: Downloading registry model 'lr-angle', version '1.0.0', stage None from workspace 'ift-6758-2'...\n",
      "COMET INFO: Unzipping model to '/Users/minaparham/Desktop/course/Data science/IFT6758-Project/notebooks' ...\n",
      "COMET INFO: done!\n",
      "COMET INFO: Downloading registry model 'lr-distance', version '1.0.0', stage None from workspace 'ift-6758-2'...\n",
      "COMET INFO: Unzipping model to '/Users/minaparham/Desktop/course/Data science/IFT6758-Project/notebooks' ...\n",
      "COMET INFO: done!\n",
      "COMET INFO: Downloading registry model 'lr-distance-angle', version '1.0.0', stage None from workspace 'ift-6758-2'...\n",
      "COMET INFO: Unzipping model to '/Users/minaparham/Desktop/course/Data science/IFT6758-Project/notebooks' ...\n",
      "COMET INFO: done!\n",
      "COMET INFO: Downloading registry model 'best-treebased-5-3-h5', version '1.0.0', stage None from workspace 'ift-6758-2'...\n",
      "COMET INFO: Unzipping model to '/Users/minaparham/Desktop/course/Data science/IFT6758-Project/notebooks' ...\n",
=======
      "COMET INFO: Downloading registry model 'lr-distance', version '1.0.0', stage None from workspace {'ift-6758-2'}...\n",
      "COMET INFO: Unzipping model to '/Users/sparshamishra/Documents/GitHub/IFT6758-Project/tmp' ...\n",
>>>>>>> 7a3ebc378b0b92eb1ca027d2533c783b416f0bcb
      "COMET INFO: done!\n"
     ]
    }
   ],
   "source": [
<<<<<<< HEAD
    "api = API(api_key=\"c2REbE8eQaoRTP059ajV8VYn9\")\n",
    "rl_angle_model = api.download_registry_model('ift-6758-2',\"lr-angle\",'1.0.0', output_path = './',expand=True)\n",
    "rl_distance_model = api.download_registry_model('ift-6758-2',\"lr-distance\",'1.0.0', output_path = './',expand=True)\n",
    "rl_angle_distance_model = api.download_registry_model('ift-6758-2',\"lr-distance-angle\",'1.0.0', output_path = './',expand=True)\n",
    "xgb_best = api.download_registry_model('ift-6758-2',\"best-treebased-5-3-h5\",'1.0.0', output_path = './',expand=True)\n",
    "#question 6"
=======
    "filename = '../tmp/lr1_pkl.pickle'\n",
    "get_registered_comet_model(COMET_WORKSPACE, 'lr-distance', '1.0.0', '../tmp/')\n",
    "lr_distance = load(filename)\n",
    "\n",
    "preds_lr_dist_regular = lr_distance.predict(X_regular_dist)\n",
    "preds_lr_dist_playoffs = lr_distance.predict(X_playoffs_dist)"
   ]
  },
  {
   "cell_type": "code",
   "execution_count": 120,
   "metadata": {},
   "outputs": [],
   "source": [
    "from xgboost import XGBClassifier"
   ]
  },
  {
   "cell_type": "code",
   "execution_count": 121,
   "metadata": {},
   "outputs": [],
   "source": [
    "model = XGBClassifier()"
>>>>>>> 7a3ebc378b0b92eb1ca027d2533c783b416f0bcb
   ]
  },
  {
   "cell_type": "code",
<<<<<<< HEAD
   "execution_count": 21,
=======
   "execution_count": 122,
   "metadata": {},
   "outputs": [
    {
     "data": {
      "text/plain": [
       "(6641, 2)"
      ]
     },
     "execution_count": 122,
     "metadata": {},
     "output_type": "execute_result"
    }
   ],
   "source": [
    "X_regular_dist_angle.shape"
   ]
  },
  {
   "cell_type": "code",
   "execution_count": 123,
   "metadata": {},
   "outputs": [],
   "source": [
    "def remove_is_goal(df):\n",
    "    return df.drop(columns=['is_goal'])\n",
    "\n",
    "regular_xgb_1 = remove_is_goal(regular)\n",
    "playoff_xgb_1 = remove_is_goal(playoffs)\n"
   ]
  },
  {
   "cell_type": "code",
   "execution_count": 124,
   "metadata": {},
   "outputs": [],
   "source": [
    "feature = ['period', 'coordinate_x', 'coordinate_y', 'shot_type', 'distance', 'angle', 'last_type', 'last_coord_x', 'last_coord_y', 'time_from_last', 'from_last_distance', 'rebound',\n",
    " 'change_angle', 'speed','power_play', 'number_friendly', 'number_opposing']"
   ]
  },
  {
   "cell_type": "code",
   "execution_count": 125,
   "metadata": {},
   "outputs": [
    {
     "ename": "KeyError",
     "evalue": "\"['last_type', 'last_coord_x', 'last_coord_y', 'time_from_last', 'from_last_distance', 'rebound', 'change_angle', 'speed', 'power_play', 'number_friendly', 'number_opposing'] not in index\"",
     "output_type": "error",
     "traceback": [
      "\u001b[0;31m---------------------------------------------------------------------------\u001b[0m",
      "\u001b[0;31mKeyError\u001b[0m                                  Traceback (most recent call last)",
      "Cell \u001b[0;32mIn [125], line 1\u001b[0m\n\u001b[0;32m----> 1\u001b[0m regular_xgb \u001b[39m=\u001b[39m regular[feature]\n\u001b[1;32m      2\u001b[0m playoff_xgb \u001b[39m=\u001b[39m playoffs[feature]\n",
      "File \u001b[0;32m/Library/Frameworks/Python.framework/Versions/3.9/lib/python3.9/site-packages/pandas/core/frame.py:3811\u001b[0m, in \u001b[0;36mDataFrame.__getitem__\u001b[0;34m(self, key)\u001b[0m\n\u001b[1;32m   3809\u001b[0m     \u001b[39mif\u001b[39;00m is_iterator(key):\n\u001b[1;32m   3810\u001b[0m         key \u001b[39m=\u001b[39m \u001b[39mlist\u001b[39m(key)\n\u001b[0;32m-> 3811\u001b[0m     indexer \u001b[39m=\u001b[39m \u001b[39mself\u001b[39;49m\u001b[39m.\u001b[39;49mcolumns\u001b[39m.\u001b[39;49m_get_indexer_strict(key, \u001b[39m\"\u001b[39;49m\u001b[39mcolumns\u001b[39;49m\u001b[39m\"\u001b[39;49m)[\u001b[39m1\u001b[39m]\n\u001b[1;32m   3813\u001b[0m \u001b[39m# take() does not accept boolean indexers\u001b[39;00m\n\u001b[1;32m   3814\u001b[0m \u001b[39mif\u001b[39;00m \u001b[39mgetattr\u001b[39m(indexer, \u001b[39m\"\u001b[39m\u001b[39mdtype\u001b[39m\u001b[39m\"\u001b[39m, \u001b[39mNone\u001b[39;00m) \u001b[39m==\u001b[39m \u001b[39mbool\u001b[39m:\n",
      "File \u001b[0;32m/Library/Frameworks/Python.framework/Versions/3.9/lib/python3.9/site-packages/pandas/core/indexes/base.py:6108\u001b[0m, in \u001b[0;36mIndex._get_indexer_strict\u001b[0;34m(self, key, axis_name)\u001b[0m\n\u001b[1;32m   6105\u001b[0m \u001b[39melse\u001b[39;00m:\n\u001b[1;32m   6106\u001b[0m     keyarr, indexer, new_indexer \u001b[39m=\u001b[39m \u001b[39mself\u001b[39m\u001b[39m.\u001b[39m_reindex_non_unique(keyarr)\n\u001b[0;32m-> 6108\u001b[0m \u001b[39mself\u001b[39;49m\u001b[39m.\u001b[39;49m_raise_if_missing(keyarr, indexer, axis_name)\n\u001b[1;32m   6110\u001b[0m keyarr \u001b[39m=\u001b[39m \u001b[39mself\u001b[39m\u001b[39m.\u001b[39mtake(indexer)\n\u001b[1;32m   6111\u001b[0m \u001b[39mif\u001b[39;00m \u001b[39misinstance\u001b[39m(key, Index):\n\u001b[1;32m   6112\u001b[0m     \u001b[39m# GH 42790 - Preserve name from an Index\u001b[39;00m\n",
      "File \u001b[0;32m/Library/Frameworks/Python.framework/Versions/3.9/lib/python3.9/site-packages/pandas/core/indexes/base.py:6171\u001b[0m, in \u001b[0;36mIndex._raise_if_missing\u001b[0;34m(self, key, indexer, axis_name)\u001b[0m\n\u001b[1;32m   6168\u001b[0m     \u001b[39mraise\u001b[39;00m \u001b[39mKeyError\u001b[39;00m(\u001b[39mf\u001b[39m\u001b[39m\"\u001b[39m\u001b[39mNone of [\u001b[39m\u001b[39m{\u001b[39;00mkey\u001b[39m}\u001b[39;00m\u001b[39m] are in the [\u001b[39m\u001b[39m{\u001b[39;00maxis_name\u001b[39m}\u001b[39;00m\u001b[39m]\u001b[39m\u001b[39m\"\u001b[39m)\n\u001b[1;32m   6170\u001b[0m not_found \u001b[39m=\u001b[39m \u001b[39mlist\u001b[39m(ensure_index(key)[missing_mask\u001b[39m.\u001b[39mnonzero()[\u001b[39m0\u001b[39m]]\u001b[39m.\u001b[39munique())\n\u001b[0;32m-> 6171\u001b[0m \u001b[39mraise\u001b[39;00m \u001b[39mKeyError\u001b[39;00m(\u001b[39mf\u001b[39m\u001b[39m\"\u001b[39m\u001b[39m{\u001b[39;00mnot_found\u001b[39m}\u001b[39;00m\u001b[39m not in index\u001b[39m\u001b[39m\"\u001b[39m)\n",
      "\u001b[0;31mKeyError\u001b[0m: \"['last_type', 'last_coord_x', 'last_coord_y', 'time_from_last', 'from_last_distance', 'rebound', 'change_angle', 'speed', 'power_play', 'number_friendly', 'number_opposing'] not in index\""
     ]
    }
   ],
   "source": [
    "regular_xgb = regular[feature]\n",
    "playoff_xgb = playoffs[feature]"
   ]
  },
  {
   "cell_type": "code",
   "execution_count": 126,
   "metadata": {},
   "outputs": [
    {
     "data": {
      "text/plain": [
       "17"
      ]
     },
     "execution_count": 126,
     "metadata": {},
     "output_type": "execute_result"
    }
   ],
   "source": [
    "len(['period', 'coordinate_x', 'coordinate_y', 'shot_type', 'distance', 'angle', 'last_type', 'last_coord_x', 'last_coord_y', 'time_from_last', 'from_last_distance', 'rebound', 'change_angle', 'speed', 'power_play', 'number_friendly', 'number_opposing'])"
   ]
  },
  {
   "cell_type": "code",
   "execution_count": 127,
   "metadata": {},
   "outputs": [
    {
     "name": "stderr",
     "output_type": "stream",
     "text": [
      "COMET INFO: Downloading registry model 'best-xgb-model', version '1.0.0', stage None from workspace {'ift-6758-2'}...\n",
      "COMET INFO: Unzipping model to '/Users/sparshamishra/Documents/GitHub/IFT6758-Project/tmp' ...\n",
      "COMET INFO: done!\n"
     ]
    },
    {
     "ename": "ValueError",
     "evalue": "Feature shape mismatch, expected: 17, got 2",
     "output_type": "error",
     "traceback": [
      "\u001b[0;31m---------------------------------------------------------------------------\u001b[0m",
      "\u001b[0;31mValueError\u001b[0m                                Traceback (most recent call last)",
      "Cell \u001b[0;32mIn [127], line 5\u001b[0m\n\u001b[1;32m      2\u001b[0m get_registered_comet_model(COMET_WORKSPACE, \u001b[39m'\u001b[39m\u001b[39mbest-xgb-model\u001b[39m\u001b[39m'\u001b[39m, \u001b[39m'\u001b[39m\u001b[39m1.0.0\u001b[39m\u001b[39m'\u001b[39m, \u001b[39m'\u001b[39m\u001b[39m../tmp/\u001b[39m\u001b[39m'\u001b[39m)\n\u001b[1;32m      3\u001b[0m model\u001b[39m.\u001b[39mload_model(filename)\n\u001b[0;32m----> 5\u001b[0m preds_XGboost_regular \u001b[39m=\u001b[39m model\u001b[39m.\u001b[39;49mpredict(X_regular_dist_angle)\n\u001b[1;32m      6\u001b[0m preds_XGboost_playoffs \u001b[39m=\u001b[39m model\u001b[39m.\u001b[39mpredict(X_playoffs_dist_angle)\n",
      "File \u001b[0;32m/Library/Frameworks/Python.framework/Versions/3.9/lib/python3.9/site-packages/xgboost/sklearn.py:1551\u001b[0m, in \u001b[0;36mXGBClassifier.predict\u001b[0;34m(self, X, output_margin, ntree_limit, validate_features, base_margin, iteration_range)\u001b[0m\n\u001b[1;32m   1541\u001b[0m \u001b[39mdef\u001b[39;00m \u001b[39mpredict\u001b[39m(\n\u001b[1;32m   1542\u001b[0m     \u001b[39mself\u001b[39m,\n\u001b[1;32m   1543\u001b[0m     X: ArrayLike,\n\u001b[0;32m   (...)\u001b[0m\n\u001b[1;32m   1548\u001b[0m     iteration_range: Optional[Tuple[\u001b[39mint\u001b[39m, \u001b[39mint\u001b[39m]] \u001b[39m=\u001b[39m \u001b[39mNone\u001b[39;00m,\n\u001b[1;32m   1549\u001b[0m ) \u001b[39m-\u001b[39m\u001b[39m>\u001b[39m np\u001b[39m.\u001b[39mndarray:\n\u001b[1;32m   1550\u001b[0m     \u001b[39mwith\u001b[39;00m config_context(verbosity\u001b[39m=\u001b[39m\u001b[39mself\u001b[39m\u001b[39m.\u001b[39mverbosity):\n\u001b[0;32m-> 1551\u001b[0m         class_probs \u001b[39m=\u001b[39m \u001b[39msuper\u001b[39;49m()\u001b[39m.\u001b[39;49mpredict(\n\u001b[1;32m   1552\u001b[0m             X\u001b[39m=\u001b[39;49mX,\n\u001b[1;32m   1553\u001b[0m             output_margin\u001b[39m=\u001b[39;49moutput_margin,\n\u001b[1;32m   1554\u001b[0m             ntree_limit\u001b[39m=\u001b[39;49mntree_limit,\n\u001b[1;32m   1555\u001b[0m             validate_features\u001b[39m=\u001b[39;49mvalidate_features,\n\u001b[1;32m   1556\u001b[0m             base_margin\u001b[39m=\u001b[39;49mbase_margin,\n\u001b[1;32m   1557\u001b[0m             iteration_range\u001b[39m=\u001b[39;49miteration_range,\n\u001b[1;32m   1558\u001b[0m         )\n\u001b[1;32m   1559\u001b[0m         \u001b[39mif\u001b[39;00m output_margin:\n\u001b[1;32m   1560\u001b[0m             \u001b[39m# If output_margin is active, simply return the scores\u001b[39;00m\n\u001b[1;32m   1561\u001b[0m             \u001b[39mreturn\u001b[39;00m class_probs\n",
      "File \u001b[0;32m/Library/Frameworks/Python.framework/Versions/3.9/lib/python3.9/site-packages/xgboost/sklearn.py:1140\u001b[0m, in \u001b[0;36mXGBModel.predict\u001b[0;34m(self, X, output_margin, ntree_limit, validate_features, base_margin, iteration_range)\u001b[0m\n\u001b[1;32m   1138\u001b[0m \u001b[39mif\u001b[39;00m \u001b[39mself\u001b[39m\u001b[39m.\u001b[39m_can_use_inplace_predict():\n\u001b[1;32m   1139\u001b[0m     \u001b[39mtry\u001b[39;00m:\n\u001b[0;32m-> 1140\u001b[0m         predts \u001b[39m=\u001b[39m \u001b[39mself\u001b[39;49m\u001b[39m.\u001b[39;49mget_booster()\u001b[39m.\u001b[39;49minplace_predict(\n\u001b[1;32m   1141\u001b[0m             data\u001b[39m=\u001b[39;49mX,\n\u001b[1;32m   1142\u001b[0m             iteration_range\u001b[39m=\u001b[39;49miteration_range,\n\u001b[1;32m   1143\u001b[0m             predict_type\u001b[39m=\u001b[39;49m\u001b[39m\"\u001b[39;49m\u001b[39mmargin\u001b[39;49m\u001b[39m\"\u001b[39;49m \u001b[39mif\u001b[39;49;00m output_margin \u001b[39melse\u001b[39;49;00m \u001b[39m\"\u001b[39;49m\u001b[39mvalue\u001b[39;49m\u001b[39m\"\u001b[39;49m,\n\u001b[1;32m   1144\u001b[0m             missing\u001b[39m=\u001b[39;49m\u001b[39mself\u001b[39;49m\u001b[39m.\u001b[39;49mmissing,\n\u001b[1;32m   1145\u001b[0m             base_margin\u001b[39m=\u001b[39;49mbase_margin,\n\u001b[1;32m   1146\u001b[0m             validate_features\u001b[39m=\u001b[39;49mvalidate_features,\n\u001b[1;32m   1147\u001b[0m         )\n\u001b[1;32m   1148\u001b[0m         \u001b[39mif\u001b[39;00m _is_cupy_array(predts):\n\u001b[1;32m   1149\u001b[0m             \u001b[39mimport\u001b[39;00m \u001b[39mcupy\u001b[39;00m  \u001b[39m# pylint: disable=import-error\u001b[39;00m\n",
      "File \u001b[0;32m/Library/Frameworks/Python.framework/Versions/3.9/lib/python3.9/site-packages/xgboost/core.py:2268\u001b[0m, in \u001b[0;36mBooster.inplace_predict\u001b[0;34m(self, data, iteration_range, predict_type, missing, validate_features, base_margin, strict_shape)\u001b[0m\n\u001b[1;32m   2264\u001b[0m         \u001b[39mraise\u001b[39;00m \u001b[39mTypeError\u001b[39;00m(\n\u001b[1;32m   2265\u001b[0m             \u001b[39m\"\u001b[39m\u001b[39m`shape` attribute is required when `validate_features` is True.\u001b[39m\u001b[39m\"\u001b[39m\n\u001b[1;32m   2266\u001b[0m         )\n\u001b[1;32m   2267\u001b[0m     \u001b[39mif\u001b[39;00m \u001b[39mlen\u001b[39m(data\u001b[39m.\u001b[39mshape) \u001b[39m!=\u001b[39m \u001b[39m1\u001b[39m \u001b[39mand\u001b[39;00m \u001b[39mself\u001b[39m\u001b[39m.\u001b[39mnum_features() \u001b[39m!=\u001b[39m data\u001b[39m.\u001b[39mshape[\u001b[39m1\u001b[39m]:\n\u001b[0;32m-> 2268\u001b[0m         \u001b[39mraise\u001b[39;00m \u001b[39mValueError\u001b[39;00m(\n\u001b[1;32m   2269\u001b[0m             \u001b[39mf\u001b[39m\u001b[39m\"\u001b[39m\u001b[39mFeature shape mismatch, expected: \u001b[39m\u001b[39m{\u001b[39;00m\u001b[39mself\u001b[39m\u001b[39m.\u001b[39mnum_features()\u001b[39m}\u001b[39;00m\u001b[39m, \u001b[39m\u001b[39m\"\u001b[39m\n\u001b[1;32m   2270\u001b[0m             \u001b[39mf\u001b[39m\u001b[39m\"\u001b[39m\u001b[39mgot \u001b[39m\u001b[39m{\u001b[39;00mdata\u001b[39m.\u001b[39mshape[\u001b[39m1\u001b[39m]\u001b[39m}\u001b[39;00m\u001b[39m\"\u001b[39m\n\u001b[1;32m   2271\u001b[0m         )\n\u001b[1;32m   2273\u001b[0m \u001b[39mfrom\u001b[39;00m \u001b[39m.\u001b[39;00m\u001b[39mdata\u001b[39;00m \u001b[39mimport\u001b[39;00m (\n\u001b[1;32m   2274\u001b[0m     _array_interface,\n\u001b[1;32m   2275\u001b[0m     _is_cudf_df,\n\u001b[0;32m   (...)\u001b[0m\n\u001b[1;32m   2278\u001b[0m     _transform_pandas_df,\n\u001b[1;32m   2279\u001b[0m )\n\u001b[1;32m   2281\u001b[0m enable_categorical \u001b[39m=\u001b[39m _has_categorical(\u001b[39mself\u001b[39m, data)\n",
      "\u001b[0;31mValueError\u001b[0m: Feature shape mismatch, expected: 17, got 2"
     ]
    }
   ],
   "source": [
    "filename = '../tmp/best_XGB_model.h5'\n",
    "get_registered_comet_model(COMET_WORKSPACE, 'best-xgb-model', '1.0.0', '../tmp/')\n",
    "model.load_model(filename)\n",
    "\n",
    "preds_XGboost_regular = model.predict(X_regular_dist_angle)\n",
    "preds_XGboost_playoffs = model.predict(X_playoffs_dist_angle)"
   ]
  },
  {
   "cell_type": "code",
   "execution_count": 130,
>>>>>>> 7a3ebc378b0b92eb1ca027d2533c783b416f0bcb
   "metadata": {},
   "outputs": [
    {
     "name": "stdout",
     "output_type": "stream",
     "text": [
<<<<<<< HEAD
      "None\n"
=======
      "Test accuracy: 0.0\n",
      "Brier score: 1.0\n",
      "              precision    recall  f1-score   support\n",
      "\n",
      "    Non-goal       0.00      0.00      0.00       0.0\n",
      "        Goal       0.00      0.00      0.00    6641.0\n",
      "\n",
      "    accuracy                           0.00    6641.0\n",
      "   macro avg       0.00      0.00      0.00    6641.0\n",
      "weighted avg       0.00      0.00      0.00    6641.0\n",
      "\n"
>>>>>>> 7a3ebc378b0b92eb1ca027d2533c783b416f0bcb
     ]
    }
   ],
   "source": [
<<<<<<< HEAD
    "print(rl_angle_distance_model)"
=======
    "'''\n",
    "Logistic Regression Regular with distance and angle\n",
    "'''\n",
    "target_names = ['Non-goal', 'Goal']\n",
    "accuracy1 = lr_distance_angle.score(X_regular_dist_angle, Y_regular)\n",
    "brier1 = brier_score_loss(Y_regular, preds_lr_dist_angle_regular)\n",
    "print(f'Test accuracy: {accuracy1}' )\n",
    "print(f'Brier score: {brier1}' )\n",
    "print(classification_report(Y_regular, preds_lr_dist_angle_regular, target_names=target_names))"
   ]
  },
  {
   "cell_type": "code",
   "execution_count": 131,
   "metadata": {},
   "outputs": [
    {
     "data": {
      "text/plain": [
       "array([[   0,    0],\n",
       "       [6641,    0]])"
      ]
     },
     "execution_count": 131,
     "metadata": {},
     "output_type": "execute_result"
    }
   ],
   "source": [
    "confusion_matrix(Y_regular, preds_lr_dist_angle_regular)"
>>>>>>> 7a3ebc378b0b92eb1ca027d2533c783b416f0bcb
   ]
  },
  {
   "cell_type": "code",
   "execution_count": null,
   "metadata": {},
   "outputs": [],
   "source": []
  }
 ],
 "metadata": {
  "kernelspec": {
<<<<<<< HEAD
   "display_name": "Python 3.7.13 ('ift6758-venv': venv)",
=======
   "display_name": "Python 3.9.6 64-bit",
>>>>>>> 7a3ebc378b0b92eb1ca027d2533c783b416f0bcb
   "language": "python",
   "name": "python3"
  },
  "language_info": {
   "codemirror_mode": {
    "name": "ipython",
    "version": 3
   },
   "file_extension": ".py",
   "mimetype": "text/x-python",
   "name": "python",
   "nbconvert_exporter": "python",
   "pygments_lexer": "ipython3",
<<<<<<< HEAD
   "version": "3.7.13"
=======
   "version": "3.9.6"
>>>>>>> 7a3ebc378b0b92eb1ca027d2533c783b416f0bcb
  },
  "orig_nbformat": 4,
  "vscode": {
   "interpreter": {
<<<<<<< HEAD
    "hash": "4fe09ca73dc1ade44e280cf68c07d4ecd7044d18ad21a05d48a82d6559a11209"
=======
    "hash": "aee8b7b246df8f9039afb4144a1f6fd8d2ca17a180786b69acc140d282b71a49"
>>>>>>> 7a3ebc378b0b92eb1ca027d2533c783b416f0bcb
   }
  }
 },
 "nbformat": 4,
 "nbformat_minor": 2
}
