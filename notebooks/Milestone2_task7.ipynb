{
 "cells": [
  {
   "cell_type": "code",
   "execution_count": 10,
   "metadata": {},
   "outputs": [],
   "source": [
    "import pandas as pd\n",
    "import numpy as np\n",
    "from comet_ml import API\n"
   ]
  },
  {
   "cell_type": "markdown",
   "metadata": {},
   "source": [
    "## Preprocess the data"
   ]
  },
  {
   "cell_type": "code",
   "execution_count": 6,
   "metadata": {},
   "outputs": [
    {
     "data": {
      "text/html": [
       "<div>\n",
       "<style scoped>\n",
       "    .dataframe tbody tr th:only-of-type {\n",
       "        vertical-align: middle;\n",
       "    }\n",
       "\n",
       "    .dataframe tbody tr th {\n",
       "        vertical-align: top;\n",
       "    }\n",
       "\n",
       "    .dataframe thead th {\n",
       "        text-align: right;\n",
       "    }\n",
       "</style>\n",
       "<table border=\"1\" class=\"dataframe\">\n",
       "  <thead>\n",
       "    <tr style=\"text-align: right;\">\n",
       "      <th></th>\n",
       "      <th>event_idx</th>\n",
       "      <th>period_time</th>\n",
       "      <th>period</th>\n",
       "      <th>game_id</th>\n",
       "      <th>team_away_name</th>\n",
       "      <th>team_home_name</th>\n",
       "      <th>is_goal</th>\n",
       "      <th>coordinate_x</th>\n",
       "      <th>coordinate_y</th>\n",
       "      <th>shot_type</th>\n",
       "      <th>...</th>\n",
       "      <th>number_friendly</th>\n",
       "      <th>number_opposing</th>\n",
       "      <th>power_play</th>\n",
       "      <th>distance</th>\n",
       "      <th>from_last_distance</th>\n",
       "      <th>angle</th>\n",
       "      <th>last_angle</th>\n",
       "      <th>time_from_last</th>\n",
       "      <th>change_angle</th>\n",
       "      <th>speed</th>\n",
       "    </tr>\n",
       "  </thead>\n",
       "  <tbody>\n",
       "    <tr>\n",
       "      <th>73862</th>\n",
       "      <td>319</td>\n",
       "      <td>16:01</td>\n",
       "      <td>3</td>\n",
       "      <td>2019020001</td>\n",
       "      <td>Ottawa Senators</td>\n",
       "      <td>Toronto Maple Leafs</td>\n",
       "      <td>0</td>\n",
       "      <td>-59.0</td>\n",
       "      <td>-24.0</td>\n",
       "      <td>Snap Shot</td>\n",
       "      <td>...</td>\n",
       "      <td>5</td>\n",
       "      <td>4</td>\n",
       "      <td>34</td>\n",
       "      <td>38.4187</td>\n",
       "      <td>123.016259</td>\n",
       "      <td>0.6747</td>\n",
       "      <td>0.8050</td>\n",
       "      <td>61</td>\n",
       "      <td>0.0</td>\n",
       "      <td>0.0</td>\n",
       "    </tr>\n",
       "    <tr>\n",
       "      <th>73863</th>\n",
       "      <td>326</td>\n",
       "      <td>17:20</td>\n",
       "      <td>3</td>\n",
       "      <td>2019020001</td>\n",
       "      <td>Ottawa Senators</td>\n",
       "      <td>Toronto Maple Leafs</td>\n",
       "      <td>0</td>\n",
       "      <td>-81.0</td>\n",
       "      <td>3.0</td>\n",
       "      <td>Wrist Shot</td>\n",
       "      <td>...</td>\n",
       "      <td>5</td>\n",
       "      <td>4</td>\n",
       "      <td>113</td>\n",
       "      <td>8.5440</td>\n",
       "      <td>3.162278</td>\n",
       "      <td>0.3588</td>\n",
       "      <td>0.5880</td>\n",
       "      <td>20</td>\n",
       "      <td>0.0</td>\n",
       "      <td>0.0</td>\n",
       "    </tr>\n",
       "    <tr>\n",
       "      <th>73864</th>\n",
       "      <td>333</td>\n",
       "      <td>18:50</td>\n",
       "      <td>3</td>\n",
       "      <td>2019020001</td>\n",
       "      <td>Ottawa Senators</td>\n",
       "      <td>Toronto Maple Leafs</td>\n",
       "      <td>0</td>\n",
       "      <td>34.0</td>\n",
       "      <td>-6.0</td>\n",
       "      <td>Snap Shot</td>\n",
       "      <td>...</td>\n",
       "      <td>5</td>\n",
       "      <td>5</td>\n",
       "      <td>0</td>\n",
       "      <td>55.3263</td>\n",
       "      <td>58.855756</td>\n",
       "      <td>0.1087</td>\n",
       "      <td>1.3854</td>\n",
       "      <td>50</td>\n",
       "      <td>0.0</td>\n",
       "      <td>0.0</td>\n",
       "    </tr>\n",
       "    <tr>\n",
       "      <th>73865</th>\n",
       "      <td>341</td>\n",
       "      <td>19:27</td>\n",
       "      <td>3</td>\n",
       "      <td>2019020001</td>\n",
       "      <td>Ottawa Senators</td>\n",
       "      <td>Toronto Maple Leafs</td>\n",
       "      <td>0</td>\n",
       "      <td>31.0</td>\n",
       "      <td>10.0</td>\n",
       "      <td>Wrist Shot</td>\n",
       "      <td>...</td>\n",
       "      <td>5</td>\n",
       "      <td>5</td>\n",
       "      <td>0</td>\n",
       "      <td>58.8558</td>\n",
       "      <td>49.678969</td>\n",
       "      <td>0.1707</td>\n",
       "      <td>0.8330</td>\n",
       "      <td>27</td>\n",
       "      <td>0.0</td>\n",
       "      <td>0.0</td>\n",
       "    </tr>\n",
       "    <tr>\n",
       "      <th>73866</th>\n",
       "      <td>343</td>\n",
       "      <td>19:45</td>\n",
       "      <td>3</td>\n",
       "      <td>2019020001</td>\n",
       "      <td>Ottawa Senators</td>\n",
       "      <td>Toronto Maple Leafs</td>\n",
       "      <td>0</td>\n",
       "      <td>77.0</td>\n",
       "      <td>0.0</td>\n",
       "      <td>Wrist Shot</td>\n",
       "      <td>...</td>\n",
       "      <td>5</td>\n",
       "      <td>5</td>\n",
       "      <td>0</td>\n",
       "      <td>12.0000</td>\n",
       "      <td>9.899495</td>\n",
       "      <td>0.0000</td>\n",
       "      <td>0.9505</td>\n",
       "      <td>45</td>\n",
       "      <td>0.0</td>\n",
       "      <td>0.0</td>\n",
       "    </tr>\n",
       "  </tbody>\n",
       "</table>\n",
       "<p>5 rows × 32 columns</p>\n",
       "</div>"
      ],
      "text/plain": [
       "       event_idx period_time  period     game_id   team_away_name  \\\n",
       "73862        319       16:01       3  2019020001  Ottawa Senators   \n",
       "73863        326       17:20       3  2019020001  Ottawa Senators   \n",
       "73864        333       18:50       3  2019020001  Ottawa Senators   \n",
       "73865        341       19:27       3  2019020001  Ottawa Senators   \n",
       "73866        343       19:45       3  2019020001  Ottawa Senators   \n",
       "\n",
       "            team_home_name  is_goal  coordinate_x  coordinate_y   shot_type  \\\n",
       "73862  Toronto Maple Leafs        0         -59.0         -24.0   Snap Shot   \n",
       "73863  Toronto Maple Leafs        0         -81.0           3.0  Wrist Shot   \n",
       "73864  Toronto Maple Leafs        0          34.0          -6.0   Snap Shot   \n",
       "73865  Toronto Maple Leafs        0          31.0          10.0  Wrist Shot   \n",
       "73866  Toronto Maple Leafs        0          77.0           0.0  Wrist Shot   \n",
       "\n",
       "       ... number_friendly number_opposing power_play  distance  \\\n",
       "73862  ...               5               4         34   38.4187   \n",
       "73863  ...               5               4        113    8.5440   \n",
       "73864  ...               5               5          0   55.3263   \n",
       "73865  ...               5               5          0   58.8558   \n",
       "73866  ...               5               5          0   12.0000   \n",
       "\n",
       "      from_last_distance   angle last_angle  time_from_last  change_angle  \\\n",
       "73862         123.016259  0.6747     0.8050              61           0.0   \n",
       "73863           3.162278  0.3588     0.5880              20           0.0   \n",
       "73864          58.855756  0.1087     1.3854              50           0.0   \n",
       "73865          49.678969  0.1707     0.8330              27           0.0   \n",
       "73866           9.899495  0.0000     0.9505              45           0.0   \n",
       "\n",
       "       speed  \n",
       "73862    0.0  \n",
       "73863    0.0  \n",
       "73864    0.0  \n",
       "73865    0.0  \n",
       "73866    0.0  \n",
       "\n",
       "[5 rows x 32 columns]"
      ]
     },
     "execution_count": 6,
     "metadata": {},
     "output_type": "execute_result"
    }
   ],
   "source": [
    "test_data = pd.read_csv(\"test_2019.csv\")\n",
    "test_data = test_data.drop(labels='Unnamed: 0', axis=1).reset_index(drop=True)\n",
    "test_data.tail()"
   ]
  },
  {
   "cell_type": "code",
   "execution_count": 9,
   "metadata": {},
   "outputs": [],
   "source": [
    "test_data['game_id'] = test_data['game_id'].astype(str)\n",
    "regular_ds = test_data[test_data.game_id.str.contains('^201902')]\n",
    "playoffs_ds = test_data[test_data.game_id.str.contains('^201903')]"
   ]
  },
  {
   "cell_type": "markdown",
   "metadata": {},
   "source": [
    "## 7.1"
   ]
  },
  {
   "cell_type": "code",
   "execution_count": null,
   "metadata": {},
   "outputs": [],
   "source": [
    "def get_registered_comet_model(workspace, model, version, output_path):\n",
    "    api = API()\n",
    "    # Download a Registry Model\n",
    "    file = api.download_registry_model({workspace}, model, version, output_path=output_path, expand=True)\n",
    "    return file"
   ]
  },
  {
   "cell_type": "code",
   "execution_count": 19,
   "metadata": {},
   "outputs": [
    {
     "name": "stderr",
     "output_type": "stream",
     "text": [
      "COMET INFO: Downloading registry model 'lr-angle', version '1.0.0', stage None from workspace 'ift-6758-2'...\n",
      "COMET INFO: Unzipping model to '/Users/minaparham/Desktop/course/Data science/IFT6758-Project/notebooks' ...\n",
      "COMET INFO: done!\n",
      "COMET INFO: Downloading registry model 'lr-distance', version '1.0.0', stage None from workspace 'ift-6758-2'...\n",
      "COMET INFO: Unzipping model to '/Users/minaparham/Desktop/course/Data science/IFT6758-Project/notebooks' ...\n",
      "COMET INFO: done!\n",
      "COMET INFO: Downloading registry model 'lr-distance-angle', version '1.0.0', stage None from workspace 'ift-6758-2'...\n",
      "COMET INFO: Unzipping model to '/Users/minaparham/Desktop/course/Data science/IFT6758-Project/notebooks' ...\n",
      "COMET INFO: done!\n",
      "COMET INFO: Downloading registry model 'best-treebased-5-3-h5', version '1.0.0', stage None from workspace 'ift-6758-2'...\n",
      "COMET INFO: Unzipping model to '/Users/minaparham/Desktop/course/Data science/IFT6758-Project/notebooks' ...\n",
      "COMET INFO: done!\n"
     ]
    }
   ],
   "source": [
    "api = API(api_key=\"c2REbE8eQaoRTP059ajV8VYn9\")\n",
    "rl_angle_model = api.download_registry_model('ift-6758-2',\"lr-angle\",'1.0.0', output_path = './',expand=True)\n",
    "rl_distance_model = api.download_registry_model('ift-6758-2',\"lr-distance\",'1.0.0', output_path = './',expand=True)\n",
    "rl_angle_distance_model = api.download_registry_model('ift-6758-2',\"lr-distance-angle\",'1.0.0', output_path = './',expand=True)\n",
    "xgb_best = api.download_registry_model('ift-6758-2',\"best-treebased-5-3-h5\",'1.0.0', output_path = './',expand=True)\n",
    "#question 6"
   ]
  },
  {
   "cell_type": "code",
   "execution_count": 21,
   "metadata": {},
   "outputs": [
    {
     "name": "stdout",
     "output_type": "stream",
     "text": [
      "None\n"
     ]
    }
   ],
   "source": [
    "print(rl_angle_distance_model)"
   ]
  },
  {
   "cell_type": "code",
   "execution_count": null,
   "metadata": {},
   "outputs": [],
   "source": []
  }
 ],
 "metadata": {
  "kernelspec": {
   "display_name": "Python 3.7.13 ('ift6758-venv': venv)",
   "language": "python",
   "name": "python3"
  },
  "language_info": {
   "codemirror_mode": {
    "name": "ipython",
    "version": 3
   },
   "file_extension": ".py",
   "mimetype": "text/x-python",
   "name": "python",
   "nbconvert_exporter": "python",
   "pygments_lexer": "ipython3",
   "version": "3.7.13"
  },
  "orig_nbformat": 4,
  "vscode": {
   "interpreter": {
    "hash": "4fe09ca73dc1ade44e280cf68c07d4ecd7044d18ad21a05d48a82d6559a11209"
   }
  }
 },
 "nbformat": 4,
 "nbformat_minor": 2
}
