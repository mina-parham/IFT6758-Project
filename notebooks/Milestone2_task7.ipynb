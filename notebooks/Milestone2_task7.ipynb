{
 "cells": [
  {
   "cell_type": "code",
   "execution_count": 249,
   "metadata": {},
   "outputs": [],
   "source": [
    "import pandas as pd\n",
    "import numpy as np\n",
    "from comet_ml import API\n",
    "from sklearn.metrics import roc_auc_score\n",
    "from sklearn.metrics import accuracy_score, roc_curve, auc\n",
    "import pickle5 as pickle\n",
    "from xgboost import XGBClassifier\n",
    "import xgboost as xgb\n",
    "from sklearn.preprocessing import LabelEncoder\n",
    "import matplotlib.pyplot as plt \n",
    "\n",
    "\n",
    "\n",
    "\n",
    "\n",
    " "
   ]
  },
  {
   "cell_type": "code",
   "execution_count": 250,
   "metadata": {},
   "outputs": [],
   "source": [
    "def metrics(model, x_test, y_test, model_name, features_name):\n",
    "    '''\n",
    "    calculate and log the metrics like: accuracy score for validation\n",
    "    dataset, confusion matrix, ROC AUC score, ROC curve.\n",
    "    '''\n",
    "    pred = model.predict(x_test)\n",
    "    acc_ex = accuracy_score(y_test,pred)\n",
    "    #experiment.log_metric(f\"validation accuracy {model_name}-{features_name}\", acc_ex)\n",
    "    #experiment.log_confusion_matrix(y_test,pred)\n",
    "    print(f\"Validation Accuracy: {acc_ex}\")\n",
    "    prob_predicted = model.predict_proba(x_test)\n",
    "    lr_probs = prob_predicted[:,1]\n",
    "    lr_auc = np.round((roc_auc_score(y_test, lr_probs)),4)\n",
    "    print(f\"ROC AUC:{lr_auc}\")\n",
    "    #experiment.log_metric(f\"AUC Score {model}- {features_name} \", lr_auc)\n",
    "    lr_fpr, lr_tpr, _ = roc_curve(y_test, lr_probs)\n",
    "    #experiment.log_curve(f\"roc-curve-class-{model}-{features_name}\",lr_fpr, lr_tpr)\n",
    "    #experiment.end()\n",
    "\n",
    "\n",
    "    return acc_ex, lr_auc, lr_fpr, lr_tpr, lr_probs\n",
    "\n",
    "\n",
    "\n",
    "    "
   ]
  },
  {
   "cell_type": "code",
   "execution_count": 251,
   "metadata": {},
   "outputs": [],
   "source": [
    "def plot_gr_perc(lr_probs, y_test):\n",
    "    df_prob_goals = pd.DataFrame()\n",
    "    df_prob_goals['y_prob_lr'] = lr_probs\n",
    "    df_prob_goals['y_test'] = y_test\n",
    "\n",
    "    d = np.sort(df_prob_goals['y_prob_lr'])\n",
    "    # Percentile values\n",
    "    p = np.array([0.0, 10.0, 20.0, 30.0, 40.0, 50.0, 60.0, 70.0,80.0,90.0,95.0,100.0])\n",
    "    perc = np.percentile(d, p)\n",
    "\n",
    "    x = pd.cut(df_prob_goals[df_prob_goals['y_test'] == 1]['y_prob_lr'], bins=perc, duplicates = 'drop').reset_index()\n",
    "    x =x.groupby('y_prob_lr', as_index=False).size()\n",
    "    x.columns = ['y_prob_lr', 'count']\n",
    "\n",
    "    y = pd.cut(df_prob_goals['y_prob_lr'], bins=perc, duplicates = 'drop').reset_index()\n",
    "    y =y.groupby('y_prob_lr', as_index=False).size()\n",
    "    y.columns = ['y_prob_lr', 'count']\n",
    "\n",
    "    \n",
    "    return df_prob_goals, x, y"
   ]
  },
  {
   "cell_type": "code",
   "execution_count": 252,
   "metadata": {},
   "outputs": [],
   "source": [
    "def plot_partition_perc(df_prob_goals):\n",
    "    goals = df_prob_goals[df_prob_goals['y_test']==1]\n",
    "\n",
    "    d = np.sort(goals['y_prob_lr'])\n",
    "    # Percentile values\n",
    "    p = np.array([0.0, 10.0, 20.0, 30.0, 40.0, 50.0, 60.0, 70.0,80.0,90.0,100.0])\n",
    "    perc = np.percentile(d, p)\n",
    "\n",
    "    x = pd.cut(goals['y_prob_lr'], bins=perc, duplicates = 'drop').reset_index()\n",
    "    x =x.groupby('y_prob_lr', as_index=False).size()\n",
    "    x.columns = ['y_prob_lr', 'count']\n",
    "\n",
    "    z = len(goals['y_test'])\n",
    "\n",
    "    return x, z\n",
    "\n",
    "    "
   ]
  },
  {
   "cell_type": "code",
   "execution_count": 253,
   "metadata": {},
   "outputs": [],
   "source": [
    "api = API('c2REbE8eQaoRTP059ajV8VYn9')"
   ]
  },
  {
   "cell_type": "code",
   "execution_count": 254,
   "metadata": {},
   "outputs": [
    {
     "name": "stderr",
     "output_type": "stream",
     "text": [
      "COMET INFO: Downloading registry model 'lr-angle', version None, stage None from workspace 'ift-6758-2'...\n",
      "COMET INFO: Unzipping model to '/Users/minaparham/Desktop/course/Data science/IFT6758-Project/notebooks' ...\n",
      "COMET INFO: done!\n",
      "COMET INFO: Downloading registry model 'lr-distance', version None, stage None from workspace 'ift-6758-2'...\n",
      "COMET INFO: Unzipping model to '/Users/minaparham/Desktop/course/Data science/IFT6758-Project/notebooks' ...\n",
      "COMET INFO: done!\n",
      "COMET INFO: Downloading registry model 'lr-distance-angle', version None, stage None from workspace 'ift-6758-2'...\n",
      "COMET INFO: Unzipping model to '/Users/minaparham/Desktop/course/Data science/IFT6758-Project/notebooks' ...\n",
      "COMET INFO: done!\n",
      "COMET INFO: Downloading registry model 'xgb-model-5-2-pickle', version '1.0.0', stage None from workspace 'ift-6758-2'...\n",
      "COMET INFO: Unzipping model to '/Users/minaparham/Desktop/course/Data science/IFT6758-Project/notebooks' ...\n",
      "COMET INFO: done!\n",
      "COMET INFO: Downloading registry model 'xgb-model-5-3-pickle', version '1.0.0', stage None from workspace 'ift-6758-2'...\n",
      "COMET INFO: Unzipping model to '/Users/minaparham/Desktop/course/Data science/IFT6758-Project/notebooks' ...\n",
      "COMET INFO: done!\n",
      "COMET INFO: Downloading registry model 'model-6-svc-pickle', version '1.0.0', stage None from workspace 'ift-6758-2'...\n",
      "COMET INFO: Unzipping model to '/Users/minaparham/Desktop/course/Data science/IFT6758-Project/notebooks' ...\n",
      "COMET INFO: done!\n"
     ]
    }
   ],
   "source": [
    "lr_angle = api.download_registry_model(\"ift-6758-2\",'lr-angle', output_path='./', expand=True)\n",
    "lr_distance = api.download_registry_model(\"ift-6758-2\",'lr-distance', output_path='./', expand=True)\n",
    "lr_angle_distance = api.download_registry_model(\"ift-6758-2\",'lr-distance-angle', output_path='./', expand=True)\n",
    "xgb_5_2 = api.download_registry_model(\"ift-6758-2\",'xgb-model-5-2-pickle','1.0.0', output_path='./', expand=True)\n",
    "xbg_5_3 = api.download_registry_model(\"ift-6758-2\",'xgb-model-5-3-pickle','1.0.0', output_path='./', expand=True)\n",
    "svc = api.download_registry_model(\"ift-6758-2\", \"model-6-svc-pickle\", '1.0.0', output_path='./', expand=True)\n"
   ]
  },
  {
   "cell_type": "code",
   "execution_count": 255,
   "metadata": {},
   "outputs": [
    {
     "data": {
      "text/html": [
       "<div>\n",
       "<style scoped>\n",
       "    .dataframe tbody tr th:only-of-type {\n",
       "        vertical-align: middle;\n",
       "    }\n",
       "\n",
       "    .dataframe tbody tr th {\n",
       "        vertical-align: top;\n",
       "    }\n",
       "\n",
       "    .dataframe thead th {\n",
       "        text-align: right;\n",
       "    }\n",
       "</style>\n",
       "<table border=\"1\" class=\"dataframe\">\n",
       "  <thead>\n",
       "    <tr style=\"text-align: right;\">\n",
       "      <th></th>\n",
       "      <th>Unnamed: 0</th>\n",
       "      <th>event_idx</th>\n",
       "      <th>period_time</th>\n",
       "      <th>period</th>\n",
       "      <th>game_id</th>\n",
       "      <th>team_away_name</th>\n",
       "      <th>team_home_name</th>\n",
       "      <th>is_goal</th>\n",
       "      <th>coordinate_x</th>\n",
       "      <th>coordinate_y</th>\n",
       "      <th>...</th>\n",
       "      <th>number_friendly</th>\n",
       "      <th>number_opposing</th>\n",
       "      <th>power_play</th>\n",
       "      <th>distance</th>\n",
       "      <th>from_last_distance</th>\n",
       "      <th>angle</th>\n",
       "      <th>last_angle</th>\n",
       "      <th>time_from_last</th>\n",
       "      <th>change_angle</th>\n",
       "      <th>speed</th>\n",
       "    </tr>\n",
       "  </thead>\n",
       "  <tbody>\n",
       "    <tr>\n",
       "      <th>0</th>\n",
       "      <td>0</td>\n",
       "      <td>4</td>\n",
       "      <td>00:25</td>\n",
       "      <td>1</td>\n",
       "      <td>2019020001</td>\n",
       "      <td>Ottawa Senators</td>\n",
       "      <td>Toronto Maple Leafs</td>\n",
       "      <td>1</td>\n",
       "      <td>85.0</td>\n",
       "      <td>-1.0</td>\n",
       "      <td>...</td>\n",
       "      <td>5</td>\n",
       "      <td>5</td>\n",
       "      <td>0</td>\n",
       "      <td>4.1231</td>\n",
       "      <td>85.005882</td>\n",
       "      <td>0.2450</td>\n",
       "      <td>0.0000</td>\n",
       "      <td>25</td>\n",
       "      <td>0.0</td>\n",
       "      <td>0.0</td>\n",
       "    </tr>\n",
       "    <tr>\n",
       "      <th>1</th>\n",
       "      <td>1</td>\n",
       "      <td>12</td>\n",
       "      <td>01:31</td>\n",
       "      <td>1</td>\n",
       "      <td>2019020001</td>\n",
       "      <td>Ottawa Senators</td>\n",
       "      <td>Toronto Maple Leafs</td>\n",
       "      <td>0</td>\n",
       "      <td>-32.0</td>\n",
       "      <td>-2.0</td>\n",
       "      <td>...</td>\n",
       "      <td>5</td>\n",
       "      <td>4</td>\n",
       "      <td>35</td>\n",
       "      <td>57.0351</td>\n",
       "      <td>29.274562</td>\n",
       "      <td>0.0351</td>\n",
       "      <td>0.5292</td>\n",
       "      <td>31</td>\n",
       "      <td>0.0</td>\n",
       "      <td>0.0</td>\n",
       "    </tr>\n",
       "    <tr>\n",
       "      <th>2</th>\n",
       "      <td>2</td>\n",
       "      <td>19</td>\n",
       "      <td>03:23</td>\n",
       "      <td>1</td>\n",
       "      <td>2019020001</td>\n",
       "      <td>Ottawa Senators</td>\n",
       "      <td>Toronto Maple Leafs</td>\n",
       "      <td>0</td>\n",
       "      <td>63.0</td>\n",
       "      <td>-6.0</td>\n",
       "      <td>...</td>\n",
       "      <td>5</td>\n",
       "      <td>5</td>\n",
       "      <td>0</td>\n",
       "      <td>26.6833</td>\n",
       "      <td>127.015747</td>\n",
       "      <td>0.2268</td>\n",
       "      <td>0.1587</td>\n",
       "      <td>23</td>\n",
       "      <td>0.0</td>\n",
       "      <td>0.0</td>\n",
       "    </tr>\n",
       "    <tr>\n",
       "      <th>3</th>\n",
       "      <td>3</td>\n",
       "      <td>22</td>\n",
       "      <td>03:56</td>\n",
       "      <td>1</td>\n",
       "      <td>2019020001</td>\n",
       "      <td>Ottawa Senators</td>\n",
       "      <td>Toronto Maple Leafs</td>\n",
       "      <td>0</td>\n",
       "      <td>-59.0</td>\n",
       "      <td>-20.0</td>\n",
       "      <td>...</td>\n",
       "      <td>5</td>\n",
       "      <td>5</td>\n",
       "      <td>0</td>\n",
       "      <td>36.0555</td>\n",
       "      <td>93.000000</td>\n",
       "      <td>0.5880</td>\n",
       "      <td>0.3488</td>\n",
       "      <td>56</td>\n",
       "      <td>0.0</td>\n",
       "      <td>0.0</td>\n",
       "    </tr>\n",
       "    <tr>\n",
       "      <th>4</th>\n",
       "      <td>4</td>\n",
       "      <td>27</td>\n",
       "      <td>04:47</td>\n",
       "      <td>1</td>\n",
       "      <td>2019020001</td>\n",
       "      <td>Ottawa Senators</td>\n",
       "      <td>Toronto Maple Leafs</td>\n",
       "      <td>0</td>\n",
       "      <td>-42.0</td>\n",
       "      <td>-29.0</td>\n",
       "      <td>...</td>\n",
       "      <td>5</td>\n",
       "      <td>5</td>\n",
       "      <td>0</td>\n",
       "      <td>55.2268</td>\n",
       "      <td>55.000000</td>\n",
       "      <td>0.5528</td>\n",
       "      <td>0.9273</td>\n",
       "      <td>47</td>\n",
       "      <td>0.0</td>\n",
       "      <td>0.0</td>\n",
       "    </tr>\n",
       "  </tbody>\n",
       "</table>\n",
       "<p>5 rows × 33 columns</p>\n",
       "</div>"
      ],
      "text/plain": [
       "   Unnamed: 0  event_idx period_time  period     game_id   team_away_name  \\\n",
       "0           0          4       00:25       1  2019020001  Ottawa Senators   \n",
       "1           1         12       01:31       1  2019020001  Ottawa Senators   \n",
       "2           2         19       03:23       1  2019020001  Ottawa Senators   \n",
       "3           3         22       03:56       1  2019020001  Ottawa Senators   \n",
       "4           4         27       04:47       1  2019020001  Ottawa Senators   \n",
       "\n",
       "        team_home_name  is_goal  coordinate_x  coordinate_y  ...  \\\n",
       "0  Toronto Maple Leafs        1          85.0          -1.0  ...   \n",
       "1  Toronto Maple Leafs        0         -32.0          -2.0  ...   \n",
       "2  Toronto Maple Leafs        0          63.0          -6.0  ...   \n",
       "3  Toronto Maple Leafs        0         -59.0         -20.0  ...   \n",
       "4  Toronto Maple Leafs        0         -42.0         -29.0  ...   \n",
       "\n",
       "  number_friendly number_opposing power_play distance  from_last_distance  \\\n",
       "0               5               5          0   4.1231           85.005882   \n",
       "1               5               4         35  57.0351           29.274562   \n",
       "2               5               5          0  26.6833          127.015747   \n",
       "3               5               5          0  36.0555           93.000000   \n",
       "4               5               5          0  55.2268           55.000000   \n",
       "\n",
       "    angle last_angle time_from_last  change_angle  speed  \n",
       "0  0.2450     0.0000             25           0.0    0.0  \n",
       "1  0.0351     0.5292             31           0.0    0.0  \n",
       "2  0.2268     0.1587             23           0.0    0.0  \n",
       "3  0.5880     0.3488             56           0.0    0.0  \n",
       "4  0.5528     0.9273             47           0.0    0.0  \n",
       "\n",
       "[5 rows x 33 columns]"
      ]
     },
     "execution_count": 255,
     "metadata": {},
     "output_type": "execute_result"
    }
   ],
   "source": [
    "df = pd.read_csv('test_2019.csv')\n",
    "df['is_goal'] = df['is_goal'].astype(np.int64)\n",
    "\n",
    "df.head()"
   ]
  },
  {
   "cell_type": "code",
   "execution_count": 256,
   "metadata": {},
   "outputs": [
    {
     "data": {
      "text/html": [
       "<div>\n",
       "<style scoped>\n",
       "    .dataframe tbody tr th:only-of-type {\n",
       "        vertical-align: middle;\n",
       "    }\n",
       "\n",
       "    .dataframe tbody tr th {\n",
       "        vertical-align: top;\n",
       "    }\n",
       "\n",
       "    .dataframe thead th {\n",
       "        text-align: right;\n",
       "    }\n",
       "</style>\n",
       "<table border=\"1\" class=\"dataframe\">\n",
       "  <thead>\n",
       "    <tr style=\"text-align: right;\">\n",
       "      <th></th>\n",
       "      <th>event_idx</th>\n",
       "      <th>period_time</th>\n",
       "      <th>period</th>\n",
       "      <th>game_id</th>\n",
       "      <th>team_away_name</th>\n",
       "      <th>team_home_name</th>\n",
       "      <th>is_goal</th>\n",
       "      <th>coordinate_x</th>\n",
       "      <th>coordinate_y</th>\n",
       "      <th>shot_type</th>\n",
       "      <th>...</th>\n",
       "      <th>number_friendly</th>\n",
       "      <th>number_opposing</th>\n",
       "      <th>power_play</th>\n",
       "      <th>distance</th>\n",
       "      <th>from_last_distance</th>\n",
       "      <th>angle</th>\n",
       "      <th>last_angle</th>\n",
       "      <th>time_from_last</th>\n",
       "      <th>change_angle</th>\n",
       "      <th>speed</th>\n",
       "    </tr>\n",
       "  </thead>\n",
       "  <tbody>\n",
       "    <tr>\n",
       "      <th>0</th>\n",
       "      <td>4</td>\n",
       "      <td>00:25</td>\n",
       "      <td>1</td>\n",
       "      <td>2019020001</td>\n",
       "      <td>Ottawa Senators</td>\n",
       "      <td>Toronto Maple Leafs</td>\n",
       "      <td>1</td>\n",
       "      <td>85.0</td>\n",
       "      <td>-1.0</td>\n",
       "      <td>Tip-In</td>\n",
       "      <td>...</td>\n",
       "      <td>5</td>\n",
       "      <td>5</td>\n",
       "      <td>0</td>\n",
       "      <td>4.1231</td>\n",
       "      <td>85.005882</td>\n",
       "      <td>0.2450</td>\n",
       "      <td>0.0000</td>\n",
       "      <td>25</td>\n",
       "      <td>0.0</td>\n",
       "      <td>0.0</td>\n",
       "    </tr>\n",
       "    <tr>\n",
       "      <th>1</th>\n",
       "      <td>12</td>\n",
       "      <td>01:31</td>\n",
       "      <td>1</td>\n",
       "      <td>2019020001</td>\n",
       "      <td>Ottawa Senators</td>\n",
       "      <td>Toronto Maple Leafs</td>\n",
       "      <td>0</td>\n",
       "      <td>-32.0</td>\n",
       "      <td>-2.0</td>\n",
       "      <td>Snap Shot</td>\n",
       "      <td>...</td>\n",
       "      <td>5</td>\n",
       "      <td>4</td>\n",
       "      <td>35</td>\n",
       "      <td>57.0351</td>\n",
       "      <td>29.274562</td>\n",
       "      <td>0.0351</td>\n",
       "      <td>0.5292</td>\n",
       "      <td>31</td>\n",
       "      <td>0.0</td>\n",
       "      <td>0.0</td>\n",
       "    </tr>\n",
       "    <tr>\n",
       "      <th>2</th>\n",
       "      <td>19</td>\n",
       "      <td>03:23</td>\n",
       "      <td>1</td>\n",
       "      <td>2019020001</td>\n",
       "      <td>Ottawa Senators</td>\n",
       "      <td>Toronto Maple Leafs</td>\n",
       "      <td>0</td>\n",
       "      <td>63.0</td>\n",
       "      <td>-6.0</td>\n",
       "      <td>Snap Shot</td>\n",
       "      <td>...</td>\n",
       "      <td>5</td>\n",
       "      <td>5</td>\n",
       "      <td>0</td>\n",
       "      <td>26.6833</td>\n",
       "      <td>127.015747</td>\n",
       "      <td>0.2268</td>\n",
       "      <td>0.1587</td>\n",
       "      <td>23</td>\n",
       "      <td>0.0</td>\n",
       "      <td>0.0</td>\n",
       "    </tr>\n",
       "    <tr>\n",
       "      <th>3</th>\n",
       "      <td>22</td>\n",
       "      <td>03:56</td>\n",
       "      <td>1</td>\n",
       "      <td>2019020001</td>\n",
       "      <td>Ottawa Senators</td>\n",
       "      <td>Toronto Maple Leafs</td>\n",
       "      <td>0</td>\n",
       "      <td>-59.0</td>\n",
       "      <td>-20.0</td>\n",
       "      <td>Wrist Shot</td>\n",
       "      <td>...</td>\n",
       "      <td>5</td>\n",
       "      <td>5</td>\n",
       "      <td>0</td>\n",
       "      <td>36.0555</td>\n",
       "      <td>93.000000</td>\n",
       "      <td>0.5880</td>\n",
       "      <td>0.3488</td>\n",
       "      <td>56</td>\n",
       "      <td>0.0</td>\n",
       "      <td>0.0</td>\n",
       "    </tr>\n",
       "    <tr>\n",
       "      <th>4</th>\n",
       "      <td>27</td>\n",
       "      <td>04:47</td>\n",
       "      <td>1</td>\n",
       "      <td>2019020001</td>\n",
       "      <td>Ottawa Senators</td>\n",
       "      <td>Toronto Maple Leafs</td>\n",
       "      <td>0</td>\n",
       "      <td>-42.0</td>\n",
       "      <td>-29.0</td>\n",
       "      <td>Slap Shot</td>\n",
       "      <td>...</td>\n",
       "      <td>5</td>\n",
       "      <td>5</td>\n",
       "      <td>0</td>\n",
       "      <td>55.2268</td>\n",
       "      <td>55.000000</td>\n",
       "      <td>0.5528</td>\n",
       "      <td>0.9273</td>\n",
       "      <td>47</td>\n",
       "      <td>0.0</td>\n",
       "      <td>0.0</td>\n",
       "    </tr>\n",
       "  </tbody>\n",
       "</table>\n",
       "<p>5 rows × 32 columns</p>\n",
       "</div>"
      ],
      "text/plain": [
       "   event_idx period_time  period     game_id   team_away_name  \\\n",
       "0          4       00:25       1  2019020001  Ottawa Senators   \n",
       "1         12       01:31       1  2019020001  Ottawa Senators   \n",
       "2         19       03:23       1  2019020001  Ottawa Senators   \n",
       "3         22       03:56       1  2019020001  Ottawa Senators   \n",
       "4         27       04:47       1  2019020001  Ottawa Senators   \n",
       "\n",
       "        team_home_name  is_goal  coordinate_x  coordinate_y   shot_type  ...  \\\n",
       "0  Toronto Maple Leafs        1          85.0          -1.0      Tip-In  ...   \n",
       "1  Toronto Maple Leafs        0         -32.0          -2.0   Snap Shot  ...   \n",
       "2  Toronto Maple Leafs        0          63.0          -6.0   Snap Shot  ...   \n",
       "3  Toronto Maple Leafs        0         -59.0         -20.0  Wrist Shot  ...   \n",
       "4  Toronto Maple Leafs        0         -42.0         -29.0   Slap Shot  ...   \n",
       "\n",
       "  number_friendly number_opposing power_play  distance from_last_distance  \\\n",
       "0               5               5          0    4.1231          85.005882   \n",
       "1               5               4         35   57.0351          29.274562   \n",
       "2               5               5          0   26.6833         127.015747   \n",
       "3               5               5          0   36.0555          93.000000   \n",
       "4               5               5          0   55.2268          55.000000   \n",
       "\n",
       "    angle last_angle  time_from_last  change_angle  speed  \n",
       "0  0.2450     0.0000              25           0.0    0.0  \n",
       "1  0.0351     0.5292              31           0.0    0.0  \n",
       "2  0.2268     0.1587              23           0.0    0.0  \n",
       "3  0.5880     0.3488              56           0.0    0.0  \n",
       "4  0.5528     0.9273              47           0.0    0.0  \n",
       "\n",
       "[5 rows x 32 columns]"
      ]
     },
     "execution_count": 256,
     "metadata": {},
     "output_type": "execute_result"
    }
   ],
   "source": [
    "df = df.drop(labels='Unnamed: 0', axis=1)\n",
    "df['game_id'] = df['game_id'].astype(str)\n",
    "df.head()"
   ]
  },
  {
   "cell_type": "code",
   "execution_count": 257,
   "metadata": {},
   "outputs": [
    {
     "data": {
      "text/plain": [
       "Index(['period_time', 'game_id', 'team_away_name', 'team_home_name',\n",
       "       'shot_type', 'strength', 'shooter_name', 'goalie_name', 'team_name',\n",
       "       'event_type', 'last_type', 'last_period_time'],\n",
       "      dtype='object')"
      ]
     },
     "execution_count": 257,
     "metadata": {},
     "output_type": "execute_result"
    }
   ],
   "source": [
    "df.select_dtypes('object').columns"
   ]
  },
  {
   "cell_type": "code",
   "execution_count": 258,
   "metadata": {},
   "outputs": [],
   "source": [
    "le = LabelEncoder()\n",
    "df[\"shot_type\"] = le.fit_transform(df[\"shot_type\"])\n",
    "df[\"last_type\"] = le.fit_transform(df[\"last_type\"])"
   ]
  },
  {
   "cell_type": "code",
   "execution_count": 272,
   "metadata": {},
   "outputs": [],
   "source": [
    "df.replace([np.inf, -np.inf], np.nan, inplace=True)\n"
   ]
  },
  {
   "cell_type": "markdown",
   "metadata": {},
   "source": [
    "## 7.1"
   ]
  },
  {
   "cell_type": "code",
   "execution_count": 273,
   "metadata": {},
   "outputs": [],
   "source": [
    "regular_ds = df[df.game_id.str.contains('^201902')]\n",
    "playoffs_ds = df[df.game_id.str.contains('^201903')]"
   ]
  },
  {
   "cell_type": "code",
   "execution_count": 283,
   "metadata": {},
   "outputs": [],
   "source": [
    "feature_5 = ['is_goal','period', 'coordinate_x', 'coordinate_y', 'shot_type', 'distance', 'angle', 'last_type', 'last_coord_x', 'last_coord_y', 'time_from_last', 'from_last_distance', 'rebound',\n",
    " 'change_angle', 'speed','power_play', 'number_friendly', 'number_opposing']\n",
    "feature_5_2 = ['period', 'coordinate_x', 'coordinate_y', 'shot_type', 'distance', 'angle', 'last_type', 'last_coord_x', 'last_coord_y', 'time_from_last', 'from_last_distance', 'rebound',\n",
    " 'change_angle', 'speed','power_play', 'number_friendly', 'number_opposing']\n",
    "feature_5_3 = ['coordinate_x', 'coordinate_y', 'distance', 'angle', 'last_coord_x',\n",
    "       'last_coord_y', 'time_from_last', 'from_last_distance']\n",
    "feature_6 = ['is_goal','period', 'coordinate_x', 'coordinate_y', 'empty_net','last_coord_x', 'last_coord_y', 'last_period',\n",
    "       'number_friendly', 'number_opposing',\n",
    "       'power_play', 'distance', 'from_last_distance', 'angle', 'last_angle',\n",
    "       'time_from_last', 'change_angle']\n",
    "feature_6_svc = ['period', 'coordinate_x', 'coordinate_y', 'empty_net','last_coord_x', 'last_coord_y', 'last_period',\n",
    "       'number_friendly', 'number_opposing',\n",
    "       'power_play', 'distance', 'from_last_distance', 'angle', 'last_angle',\n",
    "       'time_from_last', 'change_angle']"
   ]
  },
  {
   "cell_type": "code",
   "execution_count": 284,
   "metadata": {},
   "outputs": [],
   "source": [
    "regular_lr = regular_ds[['distance', 'angle', 'is_goal']].dropna().reset_index(drop=True)\n",
    "playoffs_lr = playoffs_ds[['distance', 'angle', 'is_goal']].dropna().reset_index(drop=True)\n",
    "\n",
    "regular_xgb = regular_ds[feature_5].dropna().reset_index(drop=True)\n",
    "playoffs_xgb = playoffs_ds[feature_5].dropna().reset_index(drop=True)\n",
    "\n",
    "regular_svc = regular_ds[feature_6].dropna().reset_index(drop=True)\n",
    "playoffs_svc = playoffs_ds[feature_6].dropna().reset_index(drop=True)\n",
    "\n",
    "\n"
   ]
  },
  {
   "cell_type": "code",
   "execution_count": 285,
   "metadata": {},
   "outputs": [],
   "source": [
    "#lr-angle:\n",
    "X_regular_angle = np.array(regular_lr[['angle']])\n",
    "Y_regular = np.array(regular_lr[['is_goal']])\n",
    "#lr-distance:\n",
    "X_regular_distance = np.array(regular_lr[['distance']])\n",
    "#lr-distance-angle:\n",
    "X_regular_dist_angle = np.array(regular_lr[['distance','angle']])\n"
   ]
  },
  {
   "cell_type": "code",
   "execution_count": 286,
   "metadata": {},
   "outputs": [],
   "source": [
    "#5.2:\n",
    "Y_regular_xgb = np.array(regular_xgb[['is_goal']])\n",
    "X_regular_5_2 = np.array(regular_xgb[feature_5_2])\n",
    "X_regular_5_3 = np.array(regular_xgb[feature_5_3])"
   ]
  },
  {
   "cell_type": "code",
   "execution_count": 287,
   "metadata": {},
   "outputs": [],
   "source": [
    "#6\n",
    "Y_regular_svc = np.array(regular_svc[['is_goal']])\n",
    "X_regular_svc = np.array(regular_svc[feature_6_svc])\n",
    "\n"
   ]
  },
  {
   "cell_type": "code",
   "execution_count": 288,
   "metadata": {},
   "outputs": [
    {
     "name": "stderr",
     "output_type": "stream",
     "text": [
      "/Users/minaparham/Desktop/course/Data science/IFT6758-Project/ift6758-venv/lib/python3.7/site-packages/sklearn/base.py:338: UserWarning: Trying to unpickle estimator LogisticRegression from version 1.1.3 when using version 1.0.2. This might lead to breaking code or invalid results. Use at your own risk. For more info please refer to:\n",
      "https://scikit-learn.org/stable/modules/model_persistence.html#security-maintainability-limitations\n",
      "  UserWarning,\n"
     ]
    }
   ],
   "source": [
    "#model-lr:\n",
    "loaded_model_angle = pickle.load(open('lr2_pkl.pickle', 'rb'))\n",
    "loaded_model_distance = pickle.load(open('lr1_pkl.pickle', 'rb'))\n",
    "loaded_model_angle_distance = pickle.load(open('lr3_pkl.pickle', 'rb'))\n",
    "#model-XBG:\n",
    "model_5_2 = pickle.load(open('model_5_2.pickle', 'rb'))\n",
    "model_5_3 = pickle.load(open('model_5_3.pickle', 'rb'))\n",
    "model_6 = pickle.load(open('model_6_svc.pickle', 'rb'))\n",
    "\n"
   ]
  },
  {
   "cell_type": "code",
   "execution_count": 290,
   "metadata": {},
   "outputs": [
    {
     "name": "stdout",
     "output_type": "stream",
     "text": [
      "Validation Accuracy: 0.9033993908684904\n",
      "ROC AUC:0.5508\n",
      "Validation Accuracy: 0.9033993908684904\n",
      "ROC AUC:0.7053\n",
      "Validation Accuracy: 0.9033993908684904\n",
      "ROC AUC:0.718\n",
      "Validation Accuracy: 0.9042629857530905\n",
      "ROC AUC:0.7392\n",
      "Validation Accuracy: 0.9039580908032596\n",
      "ROC AUC:0.7192\n"
     ]
    },
    {
     "name": "stderr",
     "output_type": "stream",
     "text": [
      "/Users/minaparham/Desktop/course/Data science/IFT6758-Project/ift6758-venv/lib/python3.7/site-packages/sklearn/base.py:451: UserWarning: X does not have valid feature names, but StandardScaler was fitted with feature names\n",
      "  \"X does not have valid feature names, but\"\n"
     ]
    },
    {
     "name": "stdout",
     "output_type": "stream",
     "text": [
      "Validation Accuracy: 0.9071986961686141\n"
     ]
    },
    {
     "name": "stderr",
     "output_type": "stream",
     "text": [
      "/Users/minaparham/Desktop/course/Data science/IFT6758-Project/ift6758-venv/lib/python3.7/site-packages/sklearn/base.py:451: UserWarning: X does not have valid feature names, but StandardScaler was fitted with feature names\n",
      "  \"X does not have valid feature names, but\"\n"
     ]
    },
    {
     "name": "stdout",
     "output_type": "stream",
     "text": [
      "ROC AUC:0.5921\n"
     ]
    }
   ],
   "source": [
    "#metrices:\n",
    "#3\n",
    "acc_ex_lr_angle, auc_lr_angle, fpr_lr_angle, tpr_lr_angle, probs_lr_angle = metrics( loaded_model_angle, X_regular_angle, Y_regular, \"XGB\", \"Distance+Angle\")\n",
    "acc_ex_lr_distance, auc_lr_distance, fpr_lr_distance, tpr_lr_distance, probs_lr_distance = metrics( loaded_model_distance, X_regular_distance, Y_regular, \"XGB\", \"Distance+Angle\")\n",
    "acc_ex_lr_angle_distance, auc_lr_angle_distance, fpr_lr_angle_distance, tpr_lr_angle_distance, probs_lr_angle_distance = metrics( loaded_model_angle_distance, X_regular_dist_angle, Y_regular, \"XGB\", \"Distance+Angle\")\n",
    "# #5\n",
    "acc_ex_xgb_5_2, auc_xgb_5_2, fpr_xgb_5_2, tpr_xgb_5_2, probs_xgb_5_2 = metrics( model_5_2, X_regular_5_2, Y_regular_xgb, \"XGB\", \"Distance+Angle\")\n",
    "acc_ex_xgb_5_3, auc_xgb_5_3, fpr_xgb_5_3, tpr_xgb_5_3, probs_xgb_5_3 = metrics( model_5_3, X_regular_5_3, Y_regular_xgb, \"XGB\", \"Distance+Angle\")\n",
    "#6\n",
    "acc_ex_svc, auc_svc, fpr_svc, tpr_svc, probs_svc = metrics( model_6, X_regular_svc, Y_regular_svc, \"XGB\", \"Distance+Angle\")\n",
    "\n",
    "\n"
   ]
  },
  {
   "cell_type": "code",
   "execution_count": 292,
   "metadata": {},
   "outputs": [],
   "source": [
    "#plot_gr_perc\n",
    "#3\n",
    "df_prob_goals_lr_angle, x_lr_angle, y_lr_angle = plot_gr_perc(probs_lr_angle, Y_regular)\n",
    "df_prob_goals_lr_dist, x_lr_dist, y_lr_dist = plot_gr_perc(probs_lr_distance, Y_regular)\n",
    "df_prob_goals_lr_angle_dist, x_lr_angle_dist, y_lr_angle_dist = plot_gr_perc(probs_lr_angle_distance, Y_regular)\n",
    "#5\n",
    "df_prob_goals_xgb_2, x_xgb_2, y_xgb_2 = plot_gr_perc(probs_xgb_5_2, Y_regular_xgb)\n",
    "df_prob_goals_xgb_3, x_xgb_3, y_xgb_3 = plot_gr_perc(probs_xgb_5_3, Y_regular_xgb)\n",
    "#6\n",
    "df_prob_goals_svc, x_svc, y_svc = plot_gr_perc(probs_svc, Y_regular_svc)\n"
   ]
  },
  {
   "cell_type": "code",
   "execution_count": 293,
   "metadata": {},
   "outputs": [],
   "source": [
    "#plot_partition_perc\n",
    "#3\n",
    "x_partition_lr_angle, z_lr_angle = plot_partition_perc(df_prob_goals_lr_angle)\n",
    "x_partition_lr_dist, z_lr_dist = plot_partition_perc(df_prob_goals_lr_dist)\n",
    "x_partition_lr_angle_dist, z_lr_angle_dist = plot_partition_perc(df_prob_goals_lr_angle_dist)\n",
    "\n",
    "#5\n",
    "x_partition_xgb_2, z_xgb_2 = plot_partition_perc(df_prob_goals_xgb_2)\n",
    "x_partition_xgb_3, z_xgb_3 = plot_partition_perc(df_prob_goals_xgb_3)\n",
    "\n",
    "#6\n",
    "x_partition_svc, z_svc = plot_partition_perc(df_prob_goals_svc)\n"
   ]
  },
  {
   "cell_type": "code",
   "execution_count": 294,
   "metadata": {},
   "outputs": [
    {
     "data": {
      "image/png": "[encoded data removed]",
      "text/plain": [
       "<Figure size 640x480 with 1 Axes>"
      ]
     },
     "metadata": {},
     "output_type": "display_data"
    }
   ],
   "source": [
    "#PLOT1\n",
    "\n",
    "plt.plot(fpr_lr_angle, tpr_lr_angle, marker='.', linewidth=1, markersize=1,label=f\"lr angle: {auc_lr_angle}\")\n",
    "plt.plot(fpr_lr_distance, tpr_lr_distance, marker='.', linewidth=1, markersize=1,label=f\"lr distance: {auc_lr_distance}\")\n",
    "plt.plot(fpr_lr_angle_distance, tpr_lr_angle_distance, marker='.', linewidth=1, markersize=1,label=f\"lr angle+distance: {auc_lr_angle_distance}\")\n",
    "plt.plot(fpr_xgb_5_2, tpr_xgb_5_2, marker='.', linewidth=1, markersize=1,label=f\"XGB AllFeature-best: {auc_xgb_5_2}\")\n",
    "plt.plot(fpr_xgb_5_3, tpr_xgb_5_3, marker='.', linewidth=1, markersize=1,label=f\"XGB tree-based: {auc_xgb_5_3}\")\n",
    "#6\n",
    "plt.plot(fpr_svc, tpr_svc, marker='.', linewidth=1, markersize=1,label=f\"random model: {auc_svc}\")\n",
    "\n",
    "\n",
    "\n",
    "plt.title('Models - Receiver Operating Characteristic (ROC) curves')\n",
    "plt.xlabel('False Positive Rate')\n",
    "plt.ylabel('True Positive Rate')\n",
    "plt.grid()\n",
    "plt.legend()\n",
    "plt.show()\n",
    "          "
   ]
  },
  {
   "cell_type": "code",
   "execution_count": null,
   "metadata": {},
   "outputs": [],
   "source": [
    "#Plot2"
   ]
  },
  {
   "cell_type": "code",
   "execution_count": null,
   "metadata": {},
   "outputs": [],
   "source": [
    "#plot3"
   ]
  },
  {
   "cell_type": "code",
   "execution_count": null,
   "metadata": {},
   "outputs": [],
   "source": [
    "#plot4"
   ]
  },
  {
   "cell_type": "markdown",
   "metadata": {},
   "source": [
    "## 7.2"
   ]
  },
  {
   "cell_type": "code",
   "execution_count": null,
   "metadata": {},
   "outputs": [],
   "source": [
    "#plot1"
   ]
  },
  {
   "cell_type": "code",
   "execution_count": null,
   "metadata": {},
   "outputs": [],
   "source": [
    "#plot2"
   ]
  },
  {
   "cell_type": "code",
   "execution_count": null,
   "metadata": {},
   "outputs": [],
   "source": [
    "#plot3"
   ]
  },
  {
   "cell_type": "code",
   "execution_count": null,
   "metadata": {},
   "outputs": [],
   "source": [
    "#plot4"
   ]
  }
 ],
 "metadata": {
  "kernelspec": {
   "display_name": "Python 3.7.13 ('ift6758-venv': venv)",
   "language": "python",
   "name": "python3"
  },
  "language_info": {
   "codemirror_mode": {
    "name": "ipython",
    "version": 3
   },
   "file_extension": ".py",
   "mimetype": "text/x-python",
   "name": "python",
   "nbconvert_exporter": "python",
   "pygments_lexer": "ipython3",
   "version": "3.7.13"
  },
  "orig_nbformat": 4,
  "vscode": {
   "interpreter": {
    "hash": "4fe09ca73dc1ade44e280cf68c07d4ecd7044d18ad21a05d48a82d6559a11209"
   }
  }
 },
 "nbformat": 4,
 "nbformat_minor": 2
}
