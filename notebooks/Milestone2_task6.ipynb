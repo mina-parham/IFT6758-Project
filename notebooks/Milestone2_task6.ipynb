{
  "cells": [
    {
      "cell_type": "code",
      "execution_count": 32,
      "id": "b35ed1c9",
      "metadata": {
        "id": "b35ed1c9"
      },
      "outputs": [],
      "source": [
        "import pandas as pd\n",
        "import numpy as np\n",
        "from sklearn.preprocessing import StandardScaler\n",
        "from sklearn.linear_model import LogisticRegression\n",
        "from sklearn.pipeline import Pipeline\n",
        "from sklearn.model_selection import GridSearchCV\n",
        "from sklearn.decomposition import PCA\n",
        "from sklearn.metrics import ConfusionMatrixDisplay\n",
        "import matplotlib.pyplot as plt\n",
        "from sklearn.model_selection import cross_val_score\n",
        "from sklearn.model_selection import train_test_split\n",
        "from sklearn.metrics import f1_score, precision_score, recall_score, confusion_matrix"
      ]
    },
    {
      "cell_type": "code",
      "execution_count": 2,
      "id": "53891152",
      "metadata": {
        "id": "53891152"
      },
      "outputs": [],
      "source": [
        "df_train = pd.read_csv(\"train_2015_2018.csv\")\n",
        "df_test = pd.read_csv(\"test_2019.csv\")"
      ]
    },
    {
      "cell_type": "code",
      "execution_count": 3,
      "id": "e7a21031",
      "metadata": {
        "id": "e7a21031"
      },
      "outputs": [],
      "source": [
        "\n",
        "#1df_train = df_train[df_train.str.contains==False]\n",
        "columns = ['period', 'coordinate_x', 'coordinate_y', 'empty_net','last_coord_x', 'last_coord_y', 'last_period',\n",
        "       'number_friendly', 'number_opposing',\n",
        "       'power_play', 'distance', 'from_last_distance', 'angle', 'last_angle',\n",
        "       'time_from_last', 'change_angle']"
      ]
    },
    {
      "cell_type": "code",
      "execution_count": 4,
      "id": "7dd5e590",
      "metadata": {
        "colab": {
          "base_uri": "https://localhost:8080/",
          "height": 678
        },
        "id": "7dd5e590",
        "outputId": "9d445e6b-fa4a-4b9e-9d46-134d2e2fc72d"
      },
      "outputs": [
        {
          "output_type": "execute_result",
          "data": {
            "text/plain": [
              "        Unnamed: 0  event_idx period_time  period     game_id  \\\n",
              "0                0          7       00:51       1  2015020001   \n",
              "1                1          9       01:05       1  2015020001   \n",
              "2                2         10       01:06       1  2015020001   \n",
              "3                3         13       01:53       1  2015020001   \n",
              "4                4         21       02:37       1  2015020001   \n",
              "...            ...        ...         ...     ...         ...   \n",
              "332737      332737        276       15:22       3  2015020001   \n",
              "332738      332738        279       15:51       3  2015020001   \n",
              "332739      332739        280       15:55       3  2015020001   \n",
              "332740      332740        284       16:50       3  2015020001   \n",
              "332741      332741        289       17:50       3  2015020001   \n",
              "\n",
              "            team_away_name       team_home_name  is_goal  coordinate_x  \\\n",
              "0       Montréal Canadiens  Toronto Maple Leafs        0         -55.0   \n",
              "1       Montréal Canadiens  Toronto Maple Leafs        0         -79.0   \n",
              "2       Montréal Canadiens  Toronto Maple Leafs        0         -75.0   \n",
              "3       Montréal Canadiens  Toronto Maple Leafs        0         -55.0   \n",
              "4       Montréal Canadiens  Toronto Maple Leafs        0         -61.0   \n",
              "...                    ...                  ...      ...           ...   \n",
              "332737  Montréal Canadiens  Toronto Maple Leafs        1         -77.0   \n",
              "332738  Montréal Canadiens  Toronto Maple Leafs        0         -69.0   \n",
              "332739  Montréal Canadiens  Toronto Maple Leafs        0         -65.0   \n",
              "332740  Montréal Canadiens  Toronto Maple Leafs        0          42.0   \n",
              "332741  Montréal Canadiens  Toronto Maple Leafs        1          44.0   \n",
              "\n",
              "        coordinate_y  ... number_friendly number_opposing power_play distance  \\\n",
              "0                6.0  ...               5               5          0  34.5254   \n",
              "1                0.0  ...               5               5          0  10.0000   \n",
              "2               -1.0  ...               5               5          0  14.0357   \n",
              "3              -36.0  ...               5               5          0  49.5177   \n",
              "4               -1.0  ...               5               5          0  28.0179   \n",
              "...              ...  ...             ...             ...        ...      ...   \n",
              "332737           7.0  ...               5               5          0  13.8924   \n",
              "332738           7.0  ...               5               5          0  21.1896   \n",
              "332739          -4.0  ...               5               5          0  24.3311   \n",
              "332740           3.0  ...               5               5          0  47.0956   \n",
              "332741          24.0  ...               5               5          0  51.0000   \n",
              "\n",
              "        from_last_distance   angle last_angle time_from_last  change_angle  \\\n",
              "0               154.275727  0.1747     1.4248             51        0.0000   \n",
              "1                50.477718  0.0000     0.4939             65        0.0000   \n",
              "2                 4.123106  0.0713     0.0000              6        0.0713   \n",
              "3                79.605276  0.8140     1.5137             53        0.0000   \n",
              "4                22.472205  0.0357     0.8330             37        0.0000   \n",
              "...                    ...     ...        ...            ...           ...   \n",
              "332737           33.600595  0.5281     0.8157             82        0.0000   \n",
              "332738           36.013886  0.3367     0.9441             51        0.0000   \n",
              "332739           11.704700  0.1651     0.3367             55        0.1716   \n",
              "332740                 NaN  0.0637        NaN             50        0.0000   \n",
              "332741           30.016662  0.4900     0.1355             50        0.0000   \n",
              "\n",
              "           speed  \n",
              "0       0.000000  \n",
              "1       0.000000  \n",
              "2       0.687184  \n",
              "3       0.000000  \n",
              "4       0.000000  \n",
              "...          ...  \n",
              "332737  0.000000  \n",
              "332738  0.000000  \n",
              "332739  0.212813  \n",
              "332740  0.000000  \n",
              "332741  0.000000  \n",
              "\n",
              "[332742 rows x 33 columns]"
            ],
            "text/html": [
              "\n",
              "  <div id=\"df-d4355b09-a957-47a7-9e42-baf64a487fd1\">\n",
              "    <div class=\"colab-df-container\">\n",
              "      <div>\n",
              "<style scoped>\n",
              "    .dataframe tbody tr th:only-of-type {\n",
              "        vertical-align: middle;\n",
              "    }\n",
              "\n",
              "    .dataframe tbody tr th {\n",
              "        vertical-align: top;\n",
              "    }\n",
              "\n",
              "    .dataframe thead th {\n",
              "        text-align: right;\n",
              "    }\n",
              "</style>\n",
              "<table border=\"1\" class=\"dataframe\">\n",
              "  <thead>\n",
              "    <tr style=\"text-align: right;\">\n",
              "      <th></th>\n",
              "      <th>Unnamed: 0</th>\n",
              "      <th>event_idx</th>\n",
              "      <th>period_time</th>\n",
              "      <th>period</th>\n",
              "      <th>game_id</th>\n",
              "      <th>team_away_name</th>\n",
              "      <th>team_home_name</th>\n",
              "      <th>is_goal</th>\n",
              "      <th>coordinate_x</th>\n",
              "      <th>coordinate_y</th>\n",
              "      <th>...</th>\n",
              "      <th>number_friendly</th>\n",
              "      <th>number_opposing</th>\n",
              "      <th>power_play</th>\n",
              "      <th>distance</th>\n",
              "      <th>from_last_distance</th>\n",
              "      <th>angle</th>\n",
              "      <th>last_angle</th>\n",
              "      <th>time_from_last</th>\n",
              "      <th>change_angle</th>\n",
              "      <th>speed</th>\n",
              "    </tr>\n",
              "  </thead>\n",
              "  <tbody>\n",
              "    <tr>\n",
              "      <th>0</th>\n",
              "      <td>0</td>\n",
              "      <td>7</td>\n",
              "      <td>00:51</td>\n",
              "      <td>1</td>\n",
              "      <td>2015020001</td>\n",
              "      <td>Montréal Canadiens</td>\n",
              "      <td>Toronto Maple Leafs</td>\n",
              "      <td>0</td>\n",
              "      <td>-55.0</td>\n",
              "      <td>6.0</td>\n",
              "      <td>...</td>\n",
              "      <td>5</td>\n",
              "      <td>5</td>\n",
              "      <td>0</td>\n",
              "      <td>34.5254</td>\n",
              "      <td>154.275727</td>\n",
              "      <td>0.1747</td>\n",
              "      <td>1.4248</td>\n",
              "      <td>51</td>\n",
              "      <td>0.0000</td>\n",
              "      <td>0.000000</td>\n",
              "    </tr>\n",
              "    <tr>\n",
              "      <th>1</th>\n",
              "      <td>1</td>\n",
              "      <td>9</td>\n",
              "      <td>01:05</td>\n",
              "      <td>1</td>\n",
              "      <td>2015020001</td>\n",
              "      <td>Montréal Canadiens</td>\n",
              "      <td>Toronto Maple Leafs</td>\n",
              "      <td>0</td>\n",
              "      <td>-79.0</td>\n",
              "      <td>0.0</td>\n",
              "      <td>...</td>\n",
              "      <td>5</td>\n",
              "      <td>5</td>\n",
              "      <td>0</td>\n",
              "      <td>10.0000</td>\n",
              "      <td>50.477718</td>\n",
              "      <td>0.0000</td>\n",
              "      <td>0.4939</td>\n",
              "      <td>65</td>\n",
              "      <td>0.0000</td>\n",
              "      <td>0.000000</td>\n",
              "    </tr>\n",
              "    <tr>\n",
              "      <th>2</th>\n",
              "      <td>2</td>\n",
              "      <td>10</td>\n",
              "      <td>01:06</td>\n",
              "      <td>1</td>\n",
              "      <td>2015020001</td>\n",
              "      <td>Montréal Canadiens</td>\n",
              "      <td>Toronto Maple Leafs</td>\n",
              "      <td>0</td>\n",
              "      <td>-75.0</td>\n",
              "      <td>-1.0</td>\n",
              "      <td>...</td>\n",
              "      <td>5</td>\n",
              "      <td>5</td>\n",
              "      <td>0</td>\n",
              "      <td>14.0357</td>\n",
              "      <td>4.123106</td>\n",
              "      <td>0.0713</td>\n",
              "      <td>0.0000</td>\n",
              "      <td>6</td>\n",
              "      <td>0.0713</td>\n",
              "      <td>0.687184</td>\n",
              "    </tr>\n",
              "    <tr>\n",
              "      <th>3</th>\n",
              "      <td>3</td>\n",
              "      <td>13</td>\n",
              "      <td>01:53</td>\n",
              "      <td>1</td>\n",
              "      <td>2015020001</td>\n",
              "      <td>Montréal Canadiens</td>\n",
              "      <td>Toronto Maple Leafs</td>\n",
              "      <td>0</td>\n",
              "      <td>-55.0</td>\n",
              "      <td>-36.0</td>\n",
              "      <td>...</td>\n",
              "      <td>5</td>\n",
              "      <td>5</td>\n",
              "      <td>0</td>\n",
              "      <td>49.5177</td>\n",
              "      <td>79.605276</td>\n",
              "      <td>0.8140</td>\n",
              "      <td>1.5137</td>\n",
              "      <td>53</td>\n",
              "      <td>0.0000</td>\n",
              "      <td>0.000000</td>\n",
              "    </tr>\n",
              "    <tr>\n",
              "      <th>4</th>\n",
              "      <td>4</td>\n",
              "      <td>21</td>\n",
              "      <td>02:37</td>\n",
              "      <td>1</td>\n",
              "      <td>2015020001</td>\n",
              "      <td>Montréal Canadiens</td>\n",
              "      <td>Toronto Maple Leafs</td>\n",
              "      <td>0</td>\n",
              "      <td>-61.0</td>\n",
              "      <td>-1.0</td>\n",
              "      <td>...</td>\n",
              "      <td>5</td>\n",
              "      <td>5</td>\n",
              "      <td>0</td>\n",
              "      <td>28.0179</td>\n",
              "      <td>22.472205</td>\n",
              "      <td>0.0357</td>\n",
              "      <td>0.8330</td>\n",
              "      <td>37</td>\n",
              "      <td>0.0000</td>\n",
              "      <td>0.000000</td>\n",
              "    </tr>\n",
              "    <tr>\n",
              "      <th>...</th>\n",
              "      <td>...</td>\n",
              "      <td>...</td>\n",
              "      <td>...</td>\n",
              "      <td>...</td>\n",
              "      <td>...</td>\n",
              "      <td>...</td>\n",
              "      <td>...</td>\n",
              "      <td>...</td>\n",
              "      <td>...</td>\n",
              "      <td>...</td>\n",
              "      <td>...</td>\n",
              "      <td>...</td>\n",
              "      <td>...</td>\n",
              "      <td>...</td>\n",
              "      <td>...</td>\n",
              "      <td>...</td>\n",
              "      <td>...</td>\n",
              "      <td>...</td>\n",
              "      <td>...</td>\n",
              "      <td>...</td>\n",
              "      <td>...</td>\n",
              "    </tr>\n",
              "    <tr>\n",
              "      <th>332737</th>\n",
              "      <td>332737</td>\n",
              "      <td>276</td>\n",
              "      <td>15:22</td>\n",
              "      <td>3</td>\n",
              "      <td>2015020001</td>\n",
              "      <td>Montréal Canadiens</td>\n",
              "      <td>Toronto Maple Leafs</td>\n",
              "      <td>1</td>\n",
              "      <td>-77.0</td>\n",
              "      <td>7.0</td>\n",
              "      <td>...</td>\n",
              "      <td>5</td>\n",
              "      <td>5</td>\n",
              "      <td>0</td>\n",
              "      <td>13.8924</td>\n",
              "      <td>33.600595</td>\n",
              "      <td>0.5281</td>\n",
              "      <td>0.8157</td>\n",
              "      <td>82</td>\n",
              "      <td>0.0000</td>\n",
              "      <td>0.000000</td>\n",
              "    </tr>\n",
              "    <tr>\n",
              "      <th>332738</th>\n",
              "      <td>332738</td>\n",
              "      <td>279</td>\n",
              "      <td>15:51</td>\n",
              "      <td>3</td>\n",
              "      <td>2015020001</td>\n",
              "      <td>Montréal Canadiens</td>\n",
              "      <td>Toronto Maple Leafs</td>\n",
              "      <td>0</td>\n",
              "      <td>-69.0</td>\n",
              "      <td>7.0</td>\n",
              "      <td>...</td>\n",
              "      <td>5</td>\n",
              "      <td>5</td>\n",
              "      <td>0</td>\n",
              "      <td>21.1896</td>\n",
              "      <td>36.013886</td>\n",
              "      <td>0.3367</td>\n",
              "      <td>0.9441</td>\n",
              "      <td>51</td>\n",
              "      <td>0.0000</td>\n",
              "      <td>0.000000</td>\n",
              "    </tr>\n",
              "    <tr>\n",
              "      <th>332739</th>\n",
              "      <td>332739</td>\n",
              "      <td>280</td>\n",
              "      <td>15:55</td>\n",
              "      <td>3</td>\n",
              "      <td>2015020001</td>\n",
              "      <td>Montréal Canadiens</td>\n",
              "      <td>Toronto Maple Leafs</td>\n",
              "      <td>0</td>\n",
              "      <td>-65.0</td>\n",
              "      <td>-4.0</td>\n",
              "      <td>...</td>\n",
              "      <td>5</td>\n",
              "      <td>5</td>\n",
              "      <td>0</td>\n",
              "      <td>24.3311</td>\n",
              "      <td>11.704700</td>\n",
              "      <td>0.1651</td>\n",
              "      <td>0.3367</td>\n",
              "      <td>55</td>\n",
              "      <td>0.1716</td>\n",
              "      <td>0.212813</td>\n",
              "    </tr>\n",
              "    <tr>\n",
              "      <th>332740</th>\n",
              "      <td>332740</td>\n",
              "      <td>284</td>\n",
              "      <td>16:50</td>\n",
              "      <td>3</td>\n",
              "      <td>2015020001</td>\n",
              "      <td>Montréal Canadiens</td>\n",
              "      <td>Toronto Maple Leafs</td>\n",
              "      <td>0</td>\n",
              "      <td>42.0</td>\n",
              "      <td>3.0</td>\n",
              "      <td>...</td>\n",
              "      <td>5</td>\n",
              "      <td>5</td>\n",
              "      <td>0</td>\n",
              "      <td>47.0956</td>\n",
              "      <td>NaN</td>\n",
              "      <td>0.0637</td>\n",
              "      <td>NaN</td>\n",
              "      <td>50</td>\n",
              "      <td>0.0000</td>\n",
              "      <td>0.000000</td>\n",
              "    </tr>\n",
              "    <tr>\n",
              "      <th>332741</th>\n",
              "      <td>332741</td>\n",
              "      <td>289</td>\n",
              "      <td>17:50</td>\n",
              "      <td>3</td>\n",
              "      <td>2015020001</td>\n",
              "      <td>Montréal Canadiens</td>\n",
              "      <td>Toronto Maple Leafs</td>\n",
              "      <td>1</td>\n",
              "      <td>44.0</td>\n",
              "      <td>24.0</td>\n",
              "      <td>...</td>\n",
              "      <td>5</td>\n",
              "      <td>5</td>\n",
              "      <td>0</td>\n",
              "      <td>51.0000</td>\n",
              "      <td>30.016662</td>\n",
              "      <td>0.4900</td>\n",
              "      <td>0.1355</td>\n",
              "      <td>50</td>\n",
              "      <td>0.0000</td>\n",
              "      <td>0.000000</td>\n",
              "    </tr>\n",
              "  </tbody>\n",
              "</table>\n",
              "<p>332742 rows × 33 columns</p>\n",
              "</div>\n",
              "      <button class=\"colab-df-convert\" onclick=\"convertToInteractive('df-d4355b09-a957-47a7-9e42-baf64a487fd1')\"\n",
              "              title=\"Convert this dataframe to an interactive table.\"\n",
              "              style=\"display:none;\">\n",
              "        \n",
              "  <svg xmlns=\"http://www.w3.org/2000/svg\" height=\"24px\"viewBox=\"0 0 24 24\"\n",
              "       width=\"24px\">\n",
              "    <path d=\"M0 0h24v24H0V0z\" fill=\"none\"/>\n",
              "    <path d=\"M18.56 5.44l.94 2.06.94-2.06 2.06-.94-2.06-.94-.94-2.06-.94 2.06-2.06.94zm-11 1L8.5 8.5l.94-2.06 2.06-.94-2.06-.94L8.5 2.5l-.94 2.06-2.06.94zm10 10l.94 2.06.94-2.06 2.06-.94-2.06-.94-.94-2.06-.94 2.06-2.06.94z\"/><path d=\"M17.41 7.96l-1.37-1.37c-.4-.4-.92-.59-1.43-.59-.52 0-1.04.2-1.43.59L10.3 9.45l-7.72 7.72c-.78.78-.78 2.05 0 2.83L4 21.41c.39.39.9.59 1.41.59.51 0 1.02-.2 1.41-.59l7.78-7.78 2.81-2.81c.8-.78.8-2.07 0-2.86zM5.41 20L4 18.59l7.72-7.72 1.47 1.35L5.41 20z\"/>\n",
              "  </svg>\n",
              "      </button>\n",
              "      \n",
              "  <style>\n",
              "    .colab-df-container {\n",
              "      display:flex;\n",
              "      flex-wrap:wrap;\n",
              "      gap: 12px;\n",
              "    }\n",
              "\n",
              "    .colab-df-convert {\n",
              "      background-color: #E8F0FE;\n",
              "      border: none;\n",
              "      border-radius: 50%;\n",
              "      cursor: pointer;\n",
              "      display: none;\n",
              "      fill: #1967D2;\n",
              "      height: 32px;\n",
              "      padding: 0 0 0 0;\n",
              "      width: 32px;\n",
              "    }\n",
              "\n",
              "    .colab-df-convert:hover {\n",
              "      background-color: #E2EBFA;\n",
              "      box-shadow: 0px 1px 2px rgba(60, 64, 67, 0.3), 0px 1px 3px 1px rgba(60, 64, 67, 0.15);\n",
              "      fill: #174EA6;\n",
              "    }\n",
              "\n",
              "    [theme=dark] .colab-df-convert {\n",
              "      background-color: #3B4455;\n",
              "      fill: #D2E3FC;\n",
              "    }\n",
              "\n",
              "    [theme=dark] .colab-df-convert:hover {\n",
              "      background-color: #434B5C;\n",
              "      box-shadow: 0px 1px 3px 1px rgba(0, 0, 0, 0.15);\n",
              "      filter: drop-shadow(0px 1px 2px rgba(0, 0, 0, 0.3));\n",
              "      fill: #FFFFFF;\n",
              "    }\n",
              "  </style>\n",
              "\n",
              "      <script>\n",
              "        const buttonEl =\n",
              "          document.querySelector('#df-d4355b09-a957-47a7-9e42-baf64a487fd1 button.colab-df-convert');\n",
              "        buttonEl.style.display =\n",
              "          google.colab.kernel.accessAllowed ? 'block' : 'none';\n",
              "\n",
              "        async function convertToInteractive(key) {\n",
              "          const element = document.querySelector('#df-d4355b09-a957-47a7-9e42-baf64a487fd1');\n",
              "          const dataTable =\n",
              "            await google.colab.kernel.invokeFunction('convertToInteractive',\n",
              "                                                     [key], {});\n",
              "          if (!dataTable) return;\n",
              "\n",
              "          const docLinkHtml = 'Like what you see? Visit the ' +\n",
              "            '<a target=\"_blank\" href=https://colab.research.google.com/notebooks/data_table.ipynb>data table notebook</a>'\n",
              "            + ' to learn more about interactive tables.';\n",
              "          element.innerHTML = '';\n",
              "          dataTable['output_type'] = 'display_data';\n",
              "          await google.colab.output.renderOutput(dataTable, element);\n",
              "          const docLink = document.createElement('div');\n",
              "          docLink.innerHTML = docLinkHtml;\n",
              "          element.appendChild(docLink);\n",
              "        }\n",
              "      </script>\n",
              "    </div>\n",
              "  </div>\n",
              "  "
            ]
          },
          "metadata": {},
          "execution_count": 4
        }
      ],
      "source": [
        "df_train"
      ]
    },
    {
      "cell_type": "code",
      "execution_count": 5,
      "id": "2f12d477",
      "metadata": {
        "id": "2f12d477"
      },
      "outputs": [],
      "source": [
        "df_test = df_test.fillna(0)\n",
        "test_data = df_test[columns]\n",
        "test_label = df_test['is_goal']"
      ]
    },
    {
      "cell_type": "code",
      "execution_count": 6,
      "id": "9d7d3487",
      "metadata": {
        "id": "9d7d3487"
      },
      "outputs": [],
      "source": [
        "df_prep = df_train.fillna(0)\n",
        "y = df_prep['is_goal']\n",
        "X = df_prep[columns].astype(float)\n",
        "X_train, X_test, y_train, y_test = train_test_split(X, y, stratify=y, test_size=0.2, random_state=0)"
      ]
    },
    {
      "cell_type": "code",
      "execution_count": 7,
      "id": "af24798c",
      "metadata": {
        "colab": {
          "base_uri": "https://localhost:8080/",
          "height": 488
        },
        "id": "af24798c",
        "outputId": "2f073f29-369d-498b-f5ad-801fde5a888e"
      },
      "outputs": [
        {
          "output_type": "execute_result",
          "data": {
            "text/plain": [
              "        period  coordinate_x  coordinate_y  empty_net  last_coord_x  \\\n",
              "0          1.0         -55.0           6.0        0.0          94.0   \n",
              "1          1.0         -79.0           0.0        0.0         -37.0   \n",
              "2          1.0         -75.0          -1.0        0.0         -79.0   \n",
              "3          1.0         -55.0         -36.0        0.0         -91.0   \n",
              "4          1.0         -61.0          -1.0        0.0         -69.0   \n",
              "...        ...           ...           ...        ...           ...   \n",
              "332737     3.0         -77.0           7.0        0.0         -57.0   \n",
              "332738     3.0         -69.0           7.0        0.0         -68.0   \n",
              "332739     3.0         -65.0          -4.0        0.0         -69.0   \n",
              "332740     3.0          42.0           3.0        0.0           0.0   \n",
              "332741     3.0          44.0          24.0        0.0          45.0   \n",
              "\n",
              "        last_coord_y  last_period  number_friendly  number_opposing  \\\n",
              "0              -34.0          1.0              5.0              5.0   \n",
              "1              -28.0          1.0              5.0              5.0   \n",
              "2                0.0          1.0              5.0              5.0   \n",
              "3               35.0          1.0              5.0              5.0   \n",
              "4              -22.0          1.0              5.0              5.0   \n",
              "...              ...          ...              ...              ...   \n",
              "332737          34.0          3.0              5.0              5.0   \n",
              "332738         -29.0          3.0              5.0              5.0   \n",
              "332739           7.0          3.0              5.0              5.0   \n",
              "332740           0.0          3.0              5.0              5.0   \n",
              "332741          -6.0          3.0              5.0              5.0   \n",
              "\n",
              "        power_play  distance  from_last_distance   angle  last_angle  \\\n",
              "0              0.0   34.5254          154.275727  0.1747      1.4248   \n",
              "1              0.0   10.0000           50.477718  0.0000      0.4939   \n",
              "2              0.0   14.0357            4.123106  0.0713      0.0000   \n",
              "3              0.0   49.5177           79.605276  0.8140      1.5137   \n",
              "4              0.0   28.0179           22.472205  0.0357      0.8330   \n",
              "...            ...       ...                 ...     ...         ...   \n",
              "332737         0.0   13.8924           33.600595  0.5281      0.8157   \n",
              "332738         0.0   21.1896           36.013886  0.3367      0.9441   \n",
              "332739         0.0   24.3311           11.704700  0.1651      0.3367   \n",
              "332740         0.0   47.0956            0.000000  0.0637      0.0000   \n",
              "332741         0.0   51.0000           30.016662  0.4900      0.1355   \n",
              "\n",
              "        time_from_last  change_angle  \n",
              "0                 51.0        0.0000  \n",
              "1                 65.0        0.0000  \n",
              "2                  6.0        0.0713  \n",
              "3                 53.0        0.0000  \n",
              "4                 37.0        0.0000  \n",
              "...                ...           ...  \n",
              "332737            82.0        0.0000  \n",
              "332738            51.0        0.0000  \n",
              "332739            55.0        0.1716  \n",
              "332740            50.0        0.0000  \n",
              "332741            50.0        0.0000  \n",
              "\n",
              "[332742 rows x 16 columns]"
            ],
            "text/html": [
              "\n",
              "  <div id=\"df-81c18b11-90f0-492d-a67a-5cbad83de783\">\n",
              "    <div class=\"colab-df-container\">\n",
              "      <div>\n",
              "<style scoped>\n",
              "    .dataframe tbody tr th:only-of-type {\n",
              "        vertical-align: middle;\n",
              "    }\n",
              "\n",
              "    .dataframe tbody tr th {\n",
              "        vertical-align: top;\n",
              "    }\n",
              "\n",
              "    .dataframe thead th {\n",
              "        text-align: right;\n",
              "    }\n",
              "</style>\n",
              "<table border=\"1\" class=\"dataframe\">\n",
              "  <thead>\n",
              "    <tr style=\"text-align: right;\">\n",
              "      <th></th>\n",
              "      <th>period</th>\n",
              "      <th>coordinate_x</th>\n",
              "      <th>coordinate_y</th>\n",
              "      <th>empty_net</th>\n",
              "      <th>last_coord_x</th>\n",
              "      <th>last_coord_y</th>\n",
              "      <th>last_period</th>\n",
              "      <th>number_friendly</th>\n",
              "      <th>number_opposing</th>\n",
              "      <th>power_play</th>\n",
              "      <th>distance</th>\n",
              "      <th>from_last_distance</th>\n",
              "      <th>angle</th>\n",
              "      <th>last_angle</th>\n",
              "      <th>time_from_last</th>\n",
              "      <th>change_angle</th>\n",
              "    </tr>\n",
              "  </thead>\n",
              "  <tbody>\n",
              "    <tr>\n",
              "      <th>0</th>\n",
              "      <td>1.0</td>\n",
              "      <td>-55.0</td>\n",
              "      <td>6.0</td>\n",
              "      <td>0.0</td>\n",
              "      <td>94.0</td>\n",
              "      <td>-34.0</td>\n",
              "      <td>1.0</td>\n",
              "      <td>5.0</td>\n",
              "      <td>5.0</td>\n",
              "      <td>0.0</td>\n",
              "      <td>34.5254</td>\n",
              "      <td>154.275727</td>\n",
              "      <td>0.1747</td>\n",
              "      <td>1.4248</td>\n",
              "      <td>51.0</td>\n",
              "      <td>0.0000</td>\n",
              "    </tr>\n",
              "    <tr>\n",
              "      <th>1</th>\n",
              "      <td>1.0</td>\n",
              "      <td>-79.0</td>\n",
              "      <td>0.0</td>\n",
              "      <td>0.0</td>\n",
              "      <td>-37.0</td>\n",
              "      <td>-28.0</td>\n",
              "      <td>1.0</td>\n",
              "      <td>5.0</td>\n",
              "      <td>5.0</td>\n",
              "      <td>0.0</td>\n",
              "      <td>10.0000</td>\n",
              "      <td>50.477718</td>\n",
              "      <td>0.0000</td>\n",
              "      <td>0.4939</td>\n",
              "      <td>65.0</td>\n",
              "      <td>0.0000</td>\n",
              "    </tr>\n",
              "    <tr>\n",
              "      <th>2</th>\n",
              "      <td>1.0</td>\n",
              "      <td>-75.0</td>\n",
              "      <td>-1.0</td>\n",
              "      <td>0.0</td>\n",
              "      <td>-79.0</td>\n",
              "      <td>0.0</td>\n",
              "      <td>1.0</td>\n",
              "      <td>5.0</td>\n",
              "      <td>5.0</td>\n",
              "      <td>0.0</td>\n",
              "      <td>14.0357</td>\n",
              "      <td>4.123106</td>\n",
              "      <td>0.0713</td>\n",
              "      <td>0.0000</td>\n",
              "      <td>6.0</td>\n",
              "      <td>0.0713</td>\n",
              "    </tr>\n",
              "    <tr>\n",
              "      <th>3</th>\n",
              "      <td>1.0</td>\n",
              "      <td>-55.0</td>\n",
              "      <td>-36.0</td>\n",
              "      <td>0.0</td>\n",
              "      <td>-91.0</td>\n",
              "      <td>35.0</td>\n",
              "      <td>1.0</td>\n",
              "      <td>5.0</td>\n",
              "      <td>5.0</td>\n",
              "      <td>0.0</td>\n",
              "      <td>49.5177</td>\n",
              "      <td>79.605276</td>\n",
              "      <td>0.8140</td>\n",
              "      <td>1.5137</td>\n",
              "      <td>53.0</td>\n",
              "      <td>0.0000</td>\n",
              "    </tr>\n",
              "    <tr>\n",
              "      <th>4</th>\n",
              "      <td>1.0</td>\n",
              "      <td>-61.0</td>\n",
              "      <td>-1.0</td>\n",
              "      <td>0.0</td>\n",
              "      <td>-69.0</td>\n",
              "      <td>-22.0</td>\n",
              "      <td>1.0</td>\n",
              "      <td>5.0</td>\n",
              "      <td>5.0</td>\n",
              "      <td>0.0</td>\n",
              "      <td>28.0179</td>\n",
              "      <td>22.472205</td>\n",
              "      <td>0.0357</td>\n",
              "      <td>0.8330</td>\n",
              "      <td>37.0</td>\n",
              "      <td>0.0000</td>\n",
              "    </tr>\n",
              "    <tr>\n",
              "      <th>...</th>\n",
              "      <td>...</td>\n",
              "      <td>...</td>\n",
              "      <td>...</td>\n",
              "      <td>...</td>\n",
              "      <td>...</td>\n",
              "      <td>...</td>\n",
              "      <td>...</td>\n",
              "      <td>...</td>\n",
              "      <td>...</td>\n",
              "      <td>...</td>\n",
              "      <td>...</td>\n",
              "      <td>...</td>\n",
              "      <td>...</td>\n",
              "      <td>...</td>\n",
              "      <td>...</td>\n",
              "      <td>...</td>\n",
              "    </tr>\n",
              "    <tr>\n",
              "      <th>332737</th>\n",
              "      <td>3.0</td>\n",
              "      <td>-77.0</td>\n",
              "      <td>7.0</td>\n",
              "      <td>0.0</td>\n",
              "      <td>-57.0</td>\n",
              "      <td>34.0</td>\n",
              "      <td>3.0</td>\n",
              "      <td>5.0</td>\n",
              "      <td>5.0</td>\n",
              "      <td>0.0</td>\n",
              "      <td>13.8924</td>\n",
              "      <td>33.600595</td>\n",
              "      <td>0.5281</td>\n",
              "      <td>0.8157</td>\n",
              "      <td>82.0</td>\n",
              "      <td>0.0000</td>\n",
              "    </tr>\n",
              "    <tr>\n",
              "      <th>332738</th>\n",
              "      <td>3.0</td>\n",
              "      <td>-69.0</td>\n",
              "      <td>7.0</td>\n",
              "      <td>0.0</td>\n",
              "      <td>-68.0</td>\n",
              "      <td>-29.0</td>\n",
              "      <td>3.0</td>\n",
              "      <td>5.0</td>\n",
              "      <td>5.0</td>\n",
              "      <td>0.0</td>\n",
              "      <td>21.1896</td>\n",
              "      <td>36.013886</td>\n",
              "      <td>0.3367</td>\n",
              "      <td>0.9441</td>\n",
              "      <td>51.0</td>\n",
              "      <td>0.0000</td>\n",
              "    </tr>\n",
              "    <tr>\n",
              "      <th>332739</th>\n",
              "      <td>3.0</td>\n",
              "      <td>-65.0</td>\n",
              "      <td>-4.0</td>\n",
              "      <td>0.0</td>\n",
              "      <td>-69.0</td>\n",
              "      <td>7.0</td>\n",
              "      <td>3.0</td>\n",
              "      <td>5.0</td>\n",
              "      <td>5.0</td>\n",
              "      <td>0.0</td>\n",
              "      <td>24.3311</td>\n",
              "      <td>11.704700</td>\n",
              "      <td>0.1651</td>\n",
              "      <td>0.3367</td>\n",
              "      <td>55.0</td>\n",
              "      <td>0.1716</td>\n",
              "    </tr>\n",
              "    <tr>\n",
              "      <th>332740</th>\n",
              "      <td>3.0</td>\n",
              "      <td>42.0</td>\n",
              "      <td>3.0</td>\n",
              "      <td>0.0</td>\n",
              "      <td>0.0</td>\n",
              "      <td>0.0</td>\n",
              "      <td>3.0</td>\n",
              "      <td>5.0</td>\n",
              "      <td>5.0</td>\n",
              "      <td>0.0</td>\n",
              "      <td>47.0956</td>\n",
              "      <td>0.000000</td>\n",
              "      <td>0.0637</td>\n",
              "      <td>0.0000</td>\n",
              "      <td>50.0</td>\n",
              "      <td>0.0000</td>\n",
              "    </tr>\n",
              "    <tr>\n",
              "      <th>332741</th>\n",
              "      <td>3.0</td>\n",
              "      <td>44.0</td>\n",
              "      <td>24.0</td>\n",
              "      <td>0.0</td>\n",
              "      <td>45.0</td>\n",
              "      <td>-6.0</td>\n",
              "      <td>3.0</td>\n",
              "      <td>5.0</td>\n",
              "      <td>5.0</td>\n",
              "      <td>0.0</td>\n",
              "      <td>51.0000</td>\n",
              "      <td>30.016662</td>\n",
              "      <td>0.4900</td>\n",
              "      <td>0.1355</td>\n",
              "      <td>50.0</td>\n",
              "      <td>0.0000</td>\n",
              "    </tr>\n",
              "  </tbody>\n",
              "</table>\n",
              "<p>332742 rows × 16 columns</p>\n",
              "</div>\n",
              "      <button class=\"colab-df-convert\" onclick=\"convertToInteractive('df-81c18b11-90f0-492d-a67a-5cbad83de783')\"\n",
              "              title=\"Convert this dataframe to an interactive table.\"\n",
              "              style=\"display:none;\">\n",
              "        \n",
              "  <svg xmlns=\"http://www.w3.org/2000/svg\" height=\"24px\"viewBox=\"0 0 24 24\"\n",
              "       width=\"24px\">\n",
              "    <path d=\"M0 0h24v24H0V0z\" fill=\"none\"/>\n",
              "    <path d=\"M18.56 5.44l.94 2.06.94-2.06 2.06-.94-2.06-.94-.94-2.06-.94 2.06-2.06.94zm-11 1L8.5 8.5l.94-2.06 2.06-.94-2.06-.94L8.5 2.5l-.94 2.06-2.06.94zm10 10l.94 2.06.94-2.06 2.06-.94-2.06-.94-.94-2.06-.94 2.06-2.06.94z\"/><path d=\"M17.41 7.96l-1.37-1.37c-.4-.4-.92-.59-1.43-.59-.52 0-1.04.2-1.43.59L10.3 9.45l-7.72 7.72c-.78.78-.78 2.05 0 2.83L4 21.41c.39.39.9.59 1.41.59.51 0 1.02-.2 1.41-.59l7.78-7.78 2.81-2.81c.8-.78.8-2.07 0-2.86zM5.41 20L4 18.59l7.72-7.72 1.47 1.35L5.41 20z\"/>\n",
              "  </svg>\n",
              "      </button>\n",
              "      \n",
              "  <style>\n",
              "    .colab-df-container {\n",
              "      display:flex;\n",
              "      flex-wrap:wrap;\n",
              "      gap: 12px;\n",
              "    }\n",
              "\n",
              "    .colab-df-convert {\n",
              "      background-color: #E8F0FE;\n",
              "      border: none;\n",
              "      border-radius: 50%;\n",
              "      cursor: pointer;\n",
              "      display: none;\n",
              "      fill: #1967D2;\n",
              "      height: 32px;\n",
              "      padding: 0 0 0 0;\n",
              "      width: 32px;\n",
              "    }\n",
              "\n",
              "    .colab-df-convert:hover {\n",
              "      background-color: #E2EBFA;\n",
              "      box-shadow: 0px 1px 2px rgba(60, 64, 67, 0.3), 0px 1px 3px 1px rgba(60, 64, 67, 0.15);\n",
              "      fill: #174EA6;\n",
              "    }\n",
              "\n",
              "    [theme=dark] .colab-df-convert {\n",
              "      background-color: #3B4455;\n",
              "      fill: #D2E3FC;\n",
              "    }\n",
              "\n",
              "    [theme=dark] .colab-df-convert:hover {\n",
              "      background-color: #434B5C;\n",
              "      box-shadow: 0px 1px 3px 1px rgba(0, 0, 0, 0.15);\n",
              "      filter: drop-shadow(0px 1px 2px rgba(0, 0, 0, 0.3));\n",
              "      fill: #FFFFFF;\n",
              "    }\n",
              "  </style>\n",
              "\n",
              "      <script>\n",
              "        const buttonEl =\n",
              "          document.querySelector('#df-81c18b11-90f0-492d-a67a-5cbad83de783 button.colab-df-convert');\n",
              "        buttonEl.style.display =\n",
              "          google.colab.kernel.accessAllowed ? 'block' : 'none';\n",
              "\n",
              "        async function convertToInteractive(key) {\n",
              "          const element = document.querySelector('#df-81c18b11-90f0-492d-a67a-5cbad83de783');\n",
              "          const dataTable =\n",
              "            await google.colab.kernel.invokeFunction('convertToInteractive',\n",
              "                                                     [key], {});\n",
              "          if (!dataTable) return;\n",
              "\n",
              "          const docLinkHtml = 'Like what you see? Visit the ' +\n",
              "            '<a target=\"_blank\" href=https://colab.research.google.com/notebooks/data_table.ipynb>data table notebook</a>'\n",
              "            + ' to learn more about interactive tables.';\n",
              "          element.innerHTML = '';\n",
              "          dataTable['output_type'] = 'display_data';\n",
              "          await google.colab.output.renderOutput(dataTable, element);\n",
              "          const docLink = document.createElement('div');\n",
              "          docLink.innerHTML = docLinkHtml;\n",
              "          element.appendChild(docLink);\n",
              "        }\n",
              "      </script>\n",
              "    </div>\n",
              "  </div>\n",
              "  "
            ]
          },
          "metadata": {},
          "execution_count": 7
        }
      ],
      "source": [
        "X"
      ]
    },
    {
      "cell_type": "code",
      "execution_count": 7,
      "id": "e3980f83",
      "metadata": {
        "id": "e3980f83"
      },
      "outputs": [],
      "source": []
    },
    {
      "cell_type": "code",
      "execution_count": 7,
      "id": "d54202fe",
      "metadata": {
        "id": "d54202fe"
      },
      "outputs": [],
      "source": []
    },
    {
      "cell_type": "code",
      "execution_count": 8,
      "id": "98578505",
      "metadata": {
        "colab": {
          "base_uri": "https://localhost:8080/"
        },
        "id": "98578505",
        "outputId": "3c87010f-a656-4c96-9da2-65b3f0122798"
      },
      "outputs": [
        {
          "output_type": "stream",
          "name": "stdout",
          "text": [
            "(266193, 16)\n",
            "(266193,)\n",
            "(66549, 16)\n",
            "(66549,)\n"
          ]
        }
      ],
      "source": [
        "print(X_train.shape)\n",
        "print(y_train.shape)\n",
        "print(X_test.shape)\n",
        "print(y_test.shape)"
      ]
    },
    {
      "cell_type": "markdown",
      "id": "385863da",
      "metadata": {
        "id": "385863da"
      },
      "source": [
        "# Feature_Selection"
      ]
    },
    {
      "cell_type": "code",
      "execution_count": 9,
      "id": "b497d4e5",
      "metadata": {
        "id": "b497d4e5"
      },
      "outputs": [],
      "source": [
        "from sklearn.svm import LinearSVC\n",
        "from sklearn.datasets import load_iris\n",
        "from sklearn.feature_selection import SelectFromModel\n",
        "from sklearn.feature_selection import VarianceThreshold"
      ]
    },
    {
      "cell_type": "code",
      "execution_count": 10,
      "id": "17aeff79",
      "metadata": {
        "colab": {
          "base_uri": "https://localhost:8080/"
        },
        "id": "17aeff79",
        "outputId": "7d3fb2f0-9db6-4204-d6d1-f6c11cea0db1"
      },
      "outputs": [
        {
          "output_type": "stream",
          "name": "stdout",
          "text": [
            "(266193, 15)\n"
          ]
        }
      ],
      "source": [
        "lsvc = LinearSVC(C=0.01, penalty=\"l1\", dual=False)\n",
        "model_s = SelectFromModel(lsvc)\n",
        "\n",
        "clf = Pipeline([('var', VarianceThreshold()),('scaler', StandardScaler()),\n",
        "  ('feature_selection', model_s)\n",
        "])\n",
        "\n",
        "X_new = clf.fit_transform(X,y)\n",
        "X_new.shape\n",
        "\n",
        "X_train_s = clf.transform(X_train)\n",
        "print(X_train_s.shape)\n",
        "X_train_s = clf.transform(X_test)"
      ]
    },
    {
      "cell_type": "code",
      "execution_count": 11,
      "id": "10f4d7b3",
      "metadata": {
        "id": "10f4d7b3"
      },
      "outputs": [],
      "source": [
        "from sklearn.feature_selection import SelectKBest, f_classif, SelectFromModel"
      ]
    },
    {
      "cell_type": "code",
      "execution_count": 12,
      "id": "c5982d7f",
      "metadata": {
        "colab": {
          "base_uri": "https://localhost:8080/"
        },
        "id": "c5982d7f",
        "outputId": "4f109a43-a6b5-4ab2-f591-f2a62383cec3"
      },
      "outputs": [
        {
          "output_type": "stream",
          "name": "stdout",
          "text": [
            "(266193, 10)\n"
          ]
        }
      ],
      "source": [
        "skb = SelectKBest(f_classif, k = 10)\n",
        "clf = Pipeline([('var', VarianceThreshold()),('scaler', StandardScaler()),('skb', skb)])\n",
        "\n",
        "X_new = clf.fit_transform(X,y)\n",
        "X_new.shape\n",
        "\n",
        "X_train_10 = clf.transform(X_train)\n",
        "print(X_train_10.shape)\n",
        "X_test_10 = clf.transform(X_test)"
      ]
    },
    {
      "cell_type": "code",
      "execution_count": 17,
      "id": "5b7ee0b8",
      "metadata": {
        "colab": {
          "base_uri": "https://localhost:8080/",
          "height": 332
        },
        "id": "5b7ee0b8",
        "outputId": "6d690aad-da57-4441-9d95-478a8585763b"
      },
      "outputs": [
        {
          "output_type": "stream",
          "name": "stdout",
          "text": [
            "Fitting 5 folds for each of 4 candidates, totalling 20 fits\n",
            "Best parameter (CV score=0.913):\n",
            "{'C': 0.046415888336127774}\n"
          ]
        },
        {
          "output_type": "display_data",
          "data": {
            "text/plain": [
              "<Figure size 432x288 with 2 Axes>"
            ],
            "image/png": "[encoded data removed]"
          },
          "metadata": {
            "needs_background": "light"
          }
        }
      ],
      "source": [
        "logistic = LogisticRegression(max_iter=10000, tol=0.1)\n",
        "\n",
        "# Parameters of pipelines can be set using ‘__’ separated parameter names:\n",
        "param_grid = {\n",
        "    \"C\": np.logspace(-4, 4, 4),\n",
        "}\n",
        "search_logR = GridSearchCV(logistic, param_grid, n_jobs=-1, verbose=2)\n",
        "search_logR.fit(X_train_10, y_train)\n",
        "#save\n",
        "#dump(search_logR, './models/Q6logR_s.joblib')\n",
        "\n",
        "#load\n",
        "#search_logR = load('./models/Q6logR_s.joblib')\n",
        "\n",
        "print(\"Best parameter (CV score=%0.3f):\" % search_logR.best_score_)\n",
        "print(search_logR.best_params_)\n",
        "\n",
        "ConfusionMatrixDisplay.from_estimator(search_logR, X_test_10, y_test,\n",
        "                                display_labels=['No_Goal','Goal'],\n",
        "                                cmap=plt.cm.Blues)\n",
        "plt.show()"
      ]
    },
    {
      "cell_type": "code",
      "execution_count": 74,
      "id": "bc69197a",
      "metadata": {
        "colab": {
          "base_uri": "https://localhost:8080/"
        },
        "id": "bc69197a",
        "outputId": "9859636d-6fd5-4412-a5f3-2e36e74e0d04"
      },
      "outputs": [
        {
          "output_type": "stream",
          "name": "stderr",
          "text": [
            "/usr/local/lib/python3.7/dist-packages/sklearn/base.py:444: UserWarning: X has feature names, but StandardScaler was fitted without feature names\n",
            "  f\"X has feature names, but {self.__class__.__name__} was fitted without\"\n"
          ]
        },
        {
          "output_type": "execute_result",
          "data": {
            "text/plain": [
              "0.9075363014520581"
            ]
          },
          "metadata": {},
          "execution_count": 74
        }
      ],
      "source": [
        "search_logR.score(X_train,y_train)"
      ]
    },
    {
      "cell_type": "markdown",
      "id": "945d0140",
      "metadata": {
        "id": "945d0140"
      },
      "source": [
        "# Logistic Regression "
      ]
    },
    {
      "cell_type": "code",
      "execution_count": 35,
      "id": "de7b44ab",
      "metadata": {
        "colab": {
          "base_uri": "https://localhost:8080/"
        },
        "id": "de7b44ab",
        "outputId": "f87f69d1-d650-424a-d9a1-4b20feae89e6"
      },
      "outputs": [
        {
          "output_type": "stream",
          "name": "stdout",
          "text": [
            "16\n",
            "1.0\n"
          ]
        }
      ],
      "source": [
        "pca = PCA()\n",
        "X_train = StandardScaler().fit_transform(X_train)\n",
        "pca.fit(X_train)\n",
        "explained_variance = pca.explained_variance_ratio_\n",
        "print(len(explained_variance))\n",
        "print(sum(explained_variance[0:15]))"
      ]
    },
    {
      "cell_type": "code",
      "execution_count": 36,
      "id": "b7d8aed0",
      "metadata": {
        "colab": {
          "base_uri": "https://localhost:8080/",
          "height": 424
        },
        "id": "b7d8aed0",
        "outputId": "89647d33-5a32-4f1b-9d51-b57773d7a9be"
      },
      "outputs": [
        {
          "output_type": "stream",
          "name": "stdout",
          "text": [
            "Fitting 5 folds for each of 16 candidates, totalling 80 fits\n"
          ]
        },
        {
          "output_type": "stream",
          "name": "stderr",
          "text": [
            "/usr/local/lib/python3.7/dist-packages/joblib/externals/loky/process_executor.py:703: UserWarning: A worker stopped while some jobs were given to the executor. This can be caused by a too short worker timeout or by a memory leak.\n",
            "  \"timeout or by a memory leak.\", UserWarning\n"
          ]
        },
        {
          "output_type": "stream",
          "name": "stdout",
          "text": [
            "Best parameter (CV score=0.911):\n",
            "{'logistic__C': 0.046415888336127774, 'pca__n_components': 13}\n"
          ]
        },
        {
          "output_type": "stream",
          "name": "stderr",
          "text": [
            "/usr/local/lib/python3.7/dist-packages/sklearn/base.py:444: UserWarning: X has feature names, but StandardScaler was fitted without feature names\n",
            "  f\"X has feature names, but {self.__class__.__name__} was fitted without\"\n"
          ]
        },
        {
          "output_type": "display_data",
          "data": {
            "text/plain": [
              "<Figure size 432x288 with 2 Axes>"
            ],
            "image/png": "[encoded data removed]"
          },
          "metadata": {
            "needs_background": "light"
          }
        }
      ],
      "source": [
        "pca = PCA()\n",
        "# X_train = pca.fit_transform(X_train)\n",
        "# X_test = pca.transform(X_test)\n",
        "\n",
        "# set the tolerance to a large value to make the example faster\n",
        "logistic = LogisticRegression(max_iter=10000, tol=0.1)\n",
        "\n",
        "pipe = Pipeline(steps=[('scaler', StandardScaler()), (\"pca\", pca), (\"logistic\", logistic)])\n",
        "\n",
        "# Parameters of pipelines can be set using ‘__’ separated parameter names:\n",
        "param_grid = {\n",
        "    \"pca__n_components\": [7 ,10, 11,13],\n",
        "    \"logistic__C\": np.logspace(-4, 4, 4),\n",
        "}\n",
        "\n",
        "search_logR = GridSearchCV(pipe, param_grid, n_jobs=-1, verbose=10)\n",
        "search_logR.fit(X_train, y_train)\n",
        "#save\n",
        "#dump(search_logR, './models/Q6logR_s.joblib')\n",
        "\n",
        "#load\n",
        "#search_logR = load('./models/Q6logR_s.joblib')\n",
        "\n",
        "print(\"Best parameter (CV score=%0.3f):\" % search_logR.best_score_)\n",
        "print(search_logR.best_params_)\n",
        "\n",
        "# print(search.score(X_test, y_test))\n",
        "# y_pred = search.predict(X_test)\n",
        "# explained_variance = pca.explained_variance_ratio_\n",
        "# print(len(explained_variance))\n",
        "# print(sum(explained_variance[0:85]))\n",
        "\n",
        "ConfusionMatrixDisplay.from_estimator(search_logR, X_test, y_test,\n",
        "                                display_labels=['No_Goal','Goal'],\n",
        "                                cmap=plt.cm.Blues)\n",
        "plt.show()"
      ]
    },
    {
      "cell_type": "code",
      "execution_count": 37,
      "id": "f04bfcba",
      "metadata": {
        "colab": {
          "base_uri": "https://localhost:8080/"
        },
        "id": "f04bfcba",
        "outputId": "8433fc42-b959-40e7-dfd5-0dfca483f0ae"
      },
      "outputs": [
        {
          "output_type": "stream",
          "name": "stderr",
          "text": [
            "/usr/local/lib/python3.7/dist-packages/sklearn/base.py:444: UserWarning: X has feature names, but StandardScaler was fitted without feature names\n",
            "  f\"X has feature names, but {self.__class__.__name__} was fitted without\"\n"
          ]
        },
        {
          "output_type": "execute_result",
          "data": {
            "text/plain": [
              "0.9034887026683093"
            ]
          },
          "metadata": {},
          "execution_count": 37
        }
      ],
      "source": [
        "search_logR.score(test_data,test_label)"
      ]
    },
    {
      "cell_type": "code",
      "execution_count": 38,
      "id": "71a71f1d",
      "metadata": {
        "colab": {
          "base_uri": "https://localhost:8080/",
          "height": 350
        },
        "id": "71a71f1d",
        "outputId": "bb23de25-22da-4fd6-f73f-0381fd93e2ad"
      },
      "outputs": [
        {
          "output_type": "stream",
          "name": "stderr",
          "text": [
            "/usr/local/lib/python3.7/dist-packages/sklearn/base.py:444: UserWarning: X has feature names, but StandardScaler was fitted without feature names\n",
            "  f\"X has feature names, but {self.__class__.__name__} was fitted without\"\n"
          ]
        },
        {
          "output_type": "display_data",
          "data": {
            "text/plain": [
              "<Figure size 432x288 with 1 Axes>"
            ],
            "image/png": "[encoded data removed]"
          },
          "metadata": {
            "needs_background": "light"
          }
        }
      ],
      "source": [
        "#plot roc\n",
        "from sklearn.metrics import roc_curve, auc\n",
        "\n",
        "y_score = search_logR.decision_function(X_test)\n",
        "fpr, tpr, _ = roc_curve(y_test, y_score)\n",
        "roc_auc = auc(fpr, tpr)\n",
        "\n",
        "plt.figure()\n",
        "lw = 2\n",
        "plt.plot(\n",
        "    fpr,\n",
        "    tpr,\n",
        "    color=\"darkorange\",\n",
        "    lw=lw,\n",
        "    label=\"ROC curve (area = %0.2f)\" % roc_auc,\n",
        ")\n",
        "plt.plot([0, 1], [0, 1], color=\"navy\", lw=lw, linestyle=\"--\")\n",
        "plt.xlim([0.0, 1.0])\n",
        "plt.ylim([0.0, 1.05])\n",
        "plt.xlabel(\"False Positive Rate\")\n",
        "plt.ylabel(\"True Positive Rate\")\n",
        "plt.title(\"ROC of Logistic Regression\")\n",
        "plt.legend(loc=\"lower right\")\n",
        "\n",
        "\n",
        "plt.show()"
      ]
    },
    {
      "cell_type": "code",
      "execution_count": 45,
      "id": "eea00587",
      "metadata": {
        "colab": {
          "base_uri": "https://localhost:8080/",
          "height": 628
        },
        "id": "eea00587",
        "outputId": "ef56dfe4-7bf4-4517-e9e3-d5a69edfcda0"
      },
      "outputs": [
        {
          "output_type": "stream",
          "name": "stderr",
          "text": [
            "/usr/local/lib/python3.7/dist-packages/sklearn/base.py:444: UserWarning: X has feature names, but StandardScaler was fitted without feature names\n",
            "  f\"X has feature names, but {self.__class__.__name__} was fitted without\"\n"
          ]
        },
        {
          "output_type": "display_data",
          "data": {
            "text/plain": [
              "<Figure size 432x288 with 1 Axes>"
            ],
            "image/png": "[encoded data removed]"
          },
          "metadata": {
            "needs_background": "light"
          }
        },
        {
          "output_type": "display_data",
          "data": {
            "text/plain": [
              "<Figure size 432x288 with 1 Axes>"
            ],
            "image/png": "[encoded data removed]"
          },
          "metadata": {
            "needs_background": "light"
          }
        }
      ],
      "source": [
        "#model percentile\n",
        "lr_probs = search_logR.predict_proba(X_test)\n",
        "n = len(lr_probs)\n",
        "x_axis = np.arange(n)[::-1]*(100/n)\n",
        "#print(x_axis)\n",
        "\n",
        "# print(lr_probs)\n",
        "lr_probs_y = lr_probs[:, 1]\n",
        "lr_probs_y[::-1].sort()\n",
        "# print(sum(lr_probs_y))\n",
        "#print(lr_probs_y)\n",
        "lr_probs_y_sum = np.cumsum(lr_probs_y)\n",
        "#lr_probs_x = ((sum(lr_probs_y)-lr_probs_y_sum[:])/sum(lr_probs_y))*100\n",
        "\n",
        "#print(lr_probs_y_sum)\n",
        "#goal rate\n",
        "\n",
        "plt.figure()\n",
        "plt.plot(\n",
        "    x_axis,\n",
        "    lr_probs_y,\n",
        ")\n",
        "plt.xlim([101, 0])\n",
        "plt.ylim([-0.05, 1.0])\n",
        "plt.xlabel(\"Shot prob model percentile\")\n",
        "plt.ylabel(\"Goals / (Shots + Goals)\")\n",
        "plt.title(\"Goal Rate of Logistic Regression\")\n",
        "plt.show()\n",
        "\n",
        "#cumulative plot\n",
        "plt.figure()\n",
        "ax = plt.plot(\n",
        "    x_axis,\n",
        "    lr_probs_y_sum/sum(lr_probs_y),\n",
        ")\n",
        "plt.xlim([101, 0])\n",
        "plt.ylim([-0.05, 1.05])\n",
        "plt.xlabel(\"Shot prob model percentile\")\n",
        "plt.ylabel(\"Proportion\")\n",
        "plt.title(\"Cumulative % of goals\")\n",
        "plt.show()"
      ]
    },
    {
      "cell_type": "code",
      "execution_count": 40,
      "id": "4b4bbf3c",
      "metadata": {
        "id": "4b4bbf3c"
      },
      "outputs": [],
      "source": [
        "from sklearn.calibration import CalibrationDisplay"
      ]
    },
    {
      "cell_type": "code",
      "execution_count": 41,
      "id": "da0fd53f",
      "metadata": {
        "colab": {
          "base_uri": "https://localhost:8080/",
          "height": 295
        },
        "id": "da0fd53f",
        "outputId": "36238400-354c-406c-946a-1953b4a63586"
      },
      "outputs": [
        {
          "output_type": "display_data",
          "data": {
            "text/plain": [
              "<Figure size 432x288 with 1 Axes>"
            ],
            "image/png": "[encoded data removed]"
          },
          "metadata": {
            "needs_background": "light"
          }
        }
      ],
      "source": [
        "disp = CalibrationDisplay.from_estimator(search_logR, X_train, y_train, name='Logistic Regression')\n",
        "plt.title(\"Reliability diagram\")\n",
        "plt.show()"
      ]
    },
    {
      "cell_type": "markdown",
      "id": "c8676e14",
      "metadata": {
        "id": "c8676e14"
      },
      "source": [
        "# SVC"
      ]
    },
    {
      "cell_type": "code",
      "execution_count": 13,
      "id": "2721ded9",
      "metadata": {
        "id": "2721ded9"
      },
      "outputs": [],
      "source": [
        "from sklearn.svm import SVC"
      ]
    },
    {
      "cell_type": "code",
      "execution_count": 15,
      "id": "3bd0804a",
      "metadata": {
        "id": "3bd0804a",
        "colab": {
          "base_uri": "https://localhost:8080/",
          "height": 300
        },
        "outputId": "b1f0795c-e60f-4e23-98e7-b23d76913d7e"
      },
      "outputs": [
        {
          "output_type": "stream",
          "name": "stdout",
          "text": [
            "0.9100512404393755\n"
          ]
        },
        {
          "output_type": "display_data",
          "data": {
            "text/plain": [
              "<Figure size 432x288 with 2 Axes>"
            ],
            "image/png": "[encoded data removed]"
          },
          "metadata": {
            "needs_background": "light"
          }
        }
      ],
      "source": [
        "from sklearn.svm import SVC\n",
        "\n",
        "search_svc = Pipeline(steps=[('scaler', StandardScaler()), (\"pca\", PCA(n_components = 15)), (\"svc\", SVC(kernel='rbf',C=10))])\n",
        "\n",
        "# Parameters of pipelines can be set using ‘__’ separated parameter names:\n",
        "# param_grid = {'svc__kernel':('linear','rbf'), \n",
        "#                'svc__C':[1, 10]}\n",
        "\n",
        "\n",
        "# search_svc = GridSearchCV(pipe, param_grid, n_jobs=-1,verbose=2)\n",
        "\n",
        "X_train_svm, X_test_svm, y_train_svm, y_test_svm = train_test_split(X_train, y_train, stratify=y_train, test_size=0.10, random_state=0)\n",
        "\n",
        "search_svc.fit(X_test_svm, y_test_svm)\n",
        "# print(\"Best parameter (CV score=%0.3f):\" % search_svc.best_score_)\n",
        "# print(search_svc.best_params_)\n",
        "\n",
        "# print(\"Grid scores on development set:\")\n",
        "# print()\n",
        "# means = search_svc.cv_results_['mean_test_score']\n",
        "# stds = search_svc.cv_results_['std_test_score']\n",
        "# for mean, std, params in zip(means, stds, search_svc.cv_results_['params']):\n",
        "#     print(\"%0.3f (+/-%0.03f) for %r\"\n",
        "#           % (mean, std * 2, params))\n",
        "print(search_svc.score(X_test, y_test))\n",
        "ConfusionMatrixDisplay.from_estimator(search_svc, X_test, y_test,\n",
        "                                display_labels=['No_Goal','Goal'],\n",
        "                                cmap=plt.cm.Blues)\n",
        "plt.show()"
      ]
    },
    {
      "cell_type": "code",
      "execution_count": 17,
      "id": "17b0e128",
      "metadata": {
        "colab": {
          "base_uri": "https://localhost:8080/"
        },
        "id": "17b0e128",
        "outputId": "fb02144e-67a0-4106-c0e2-876bf669014e"
      },
      "outputs": [
        {
          "output_type": "execute_result",
          "data": {
            "text/plain": [
              "0.907468829111782"
            ]
          },
          "metadata": {},
          "execution_count": 17
        }
      ],
      "source": [
        "search_svc.score(test_data,test_label)"
      ]
    },
    {
      "cell_type": "code",
      "source": [
        "lr_probs = search_svc.predict(X_test)\n",
        "lr_probs"
      ],
      "metadata": {
        "id": "WFF9tY6Lyd6q"
      },
      "id": "WFF9tY6Lyd6q",
      "execution_count": 28,
      "outputs": []
    },
    {
      "cell_type": "code",
      "source": [
        "#model percentile\n",
        "#lr_probs = search_svc.predict(X_test)\n",
        "n = len(lr_probs)\n",
        "x_axis = np.arange(n)[::-1]*(100/n)\n",
        "#print(x_axis)\n",
        "\n",
        "# print(lr_probs)\n",
        "lr_probs_y = lr_probs\n",
        "lr_probs_y[::-1].sort()\n",
        "# print(sum(lr_probs_y))\n",
        "#print(lr_probs_y)\n",
        "lr_probs_y_sum = np.cumsum(lr_probs_y)\n",
        "#lr_probs_x = ((sum(lr_probs_y)-lr_probs_y_sum[:])/sum(lr_probs_y))*100\n",
        "\n",
        "#print(lr_probs_y_sum)\n",
        "#goal rate\n",
        "\n",
        "plt.figure()\n",
        "plt.plot(\n",
        "    x_axis,\n",
        "    lr_probs_y,\n",
        ")\n",
        "plt.xlim([101, 0])\n",
        "plt.ylim([-0.01, 1.0])\n",
        "plt.xlabel(\"Shot prob model percentile\")\n",
        "plt.ylabel(\"Goals / (Shots + Goals)\")\n",
        "plt.title(\"Goal Rate for random forest\")\n",
        "plt.show()\n",
        "\n",
        "#cumulative plot\n",
        "plt.figure()\n",
        "ax = plt.plot(\n",
        "    x_axis,\n",
        "    lr_probs_y_sum/sum(lr_probs_y),\n",
        ")\n",
        "plt.xlim([101, 0])\n",
        "plt.ylim([-0.01, 1.01])\n",
        "plt.xlabel(\"Shot prob model percentile\")\n",
        "plt.ylabel(\"Proportion\")\n",
        "plt.title(\"Cumulative % of goals\")\n",
        "plt.show()"
      ],
      "metadata": {
        "colab": {
          "base_uri": "https://localhost:8080/",
          "height": 573
        },
        "id": "SECZiXX8xZPC",
        "outputId": "56ee4f2d-1cae-41ab-e803-1165d12a2b7a"
      },
      "id": "SECZiXX8xZPC",
      "execution_count": 29,
      "outputs": [
        {
          "output_type": "display_data",
          "data": {
            "text/plain": [
              "<Figure size 432x288 with 1 Axes>"
            ],
            "image/png": "[encoded data removed]"
          },
          "metadata": {
            "needs_background": "light"
          }
        },
        {
          "output_type": "display_data",
          "data": {
            "text/plain": [
              "<Figure size 432x288 with 1 Axes>"
            ],
            "image/png": "[encoded data removed]"
          },
          "metadata": {
            "needs_background": "light"
          }
        }
      ]
    },
    {
      "cell_type": "code",
      "source": [
        "from sklearn.metrics import roc_curve, auc\n",
        "\n",
        "y_score = search_svc.predict(X_train)\n",
        "fpr, tpr, _ = roc_curve(y_train, y_score)\n",
        "roc_auc = auc(fpr, tpr)\n",
        "\n",
        "plt.figure()\n",
        "lw = 2\n",
        "plt.plot(\n",
        "    fpr,\n",
        "    tpr,\n",
        "    color=\"darkorange\",\n",
        "    lw=lw,\n",
        "    label=\"ROC curve (area = %0.2f)\" % roc_auc,\n",
        ")\n",
        "plt.plot([0, 1], [0, 1], color=\"navy\", lw=lw, linestyle=\"--\")\n",
        "plt.xlim([0.0, 1.0])\n",
        "plt.ylim([0.0, 1.05])\n",
        "plt.xlabel(\"False Positive Rate\")\n",
        "plt.ylabel(\"True Positive Rate\")\n",
        "plt.title(\"ROC for random forest\")\n",
        "plt.legend(loc=\"lower right\")\n",
        "\n",
        "\n",
        "plt.show()"
      ],
      "metadata": {
        "colab": {
          "base_uri": "https://localhost:8080/",
          "height": 295
        },
        "id": "yvEcJIj-xbUK",
        "outputId": "bbcef4ef-c841-492f-9d5a-20e16cfac686"
      },
      "id": "yvEcJIj-xbUK",
      "execution_count": 30,
      "outputs": [
        {
          "output_type": "display_data",
          "data": {
            "text/plain": [
              "<Figure size 432x288 with 1 Axes>"
            ],
            "image/png": "[encoded data removed]"
          },
          "metadata": {
            "needs_background": "light"
          }
        }
      ]
    },
    {
      "cell_type": "code",
      "source": [
        "disp = CalibrationDisplay.from_estimator(search_svc, X_train, y_train, name='SVC ')\n",
        "plt.title(\"Reliability diagram\")\n",
        "plt.show()"
      ],
      "metadata": {
        "id": "QP7r-lmE0wPJ"
      },
      "id": "QP7r-lmE0wPJ",
      "execution_count": 34,
      "outputs": []
    },
    {
      "cell_type": "markdown",
      "id": "2e6c545c",
      "metadata": {
        "id": "2e6c545c"
      },
      "source": [
        "# Random Forest"
      ]
    },
    {
      "cell_type": "code",
      "execution_count": 47,
      "id": "c3a0de6b",
      "metadata": {
        "id": "c3a0de6b"
      },
      "outputs": [],
      "source": [
        "from sklearn.ensemble import RandomForestClassifier"
      ]
    },
    {
      "cell_type": "code",
      "execution_count": 48,
      "id": "8230cc68",
      "metadata": {
        "id": "8230cc68",
        "outputId": "c115a90a-4e93-47af-fe20-9806ae095e50",
        "colab": {
          "base_uri": "https://localhost:8080/",
          "height": 387
        }
      },
      "outputs": [
        {
          "output_type": "stream",
          "name": "stderr",
          "text": [
            "/usr/local/lib/python3.7/dist-packages/sklearn/base.py:444: UserWarning: X has feature names, but StandardScaler was fitted without feature names\n",
            "  f\"X has feature names, but {self.__class__.__name__} was fitted without\"\n"
          ]
        },
        {
          "output_type": "stream",
          "name": "stdout",
          "text": [
            "0.6034951689732377\n"
          ]
        },
        {
          "output_type": "stream",
          "name": "stderr",
          "text": [
            "/usr/local/lib/python3.7/dist-packages/sklearn/base.py:444: UserWarning: X has feature names, but StandardScaler was fitted without feature names\n",
            "  f\"X has feature names, but {self.__class__.__name__} was fitted without\"\n"
          ]
        },
        {
          "output_type": "display_data",
          "data": {
            "text/plain": [
              "<Figure size 432x288 with 2 Axes>"
            ],
            "image/png": "[encoded data removed]"
          },
          "metadata": {
            "needs_background": "light"
          }
        }
      ],
      "source": [
        "rfc = RandomForestClassifier(n_jobs=-1, n_estimators = 200, max_features = 'sqrt', oob_score = True) \n",
        "\n",
        "search_rf = Pipeline(steps=[('scaler', StandardScaler()), (\"pca\", PCA(n_components = 13)), (\"rfc\",rfc)])\n",
        "\n",
        "# Parameters of pipelines can be set using ‘__’ separated parameter names:\n",
        "# param_grid = { \n",
        "#     'rfc__n_estimators': [200, 500],\n",
        "#     'rfc__max_features': ['sqrt', 'log2']\n",
        "# }\n",
        "\n",
        "# search_rf = GridSearchCV(pipe, param_grid, cv=3, n_jobs=-1,verbose=12)\n",
        "# search_rf.fit(X_train, y_train)\n",
        "# print(\"Best parameter (CV score=%0.3f):\" % search_rf.best_score_)\n",
        "# print(search_rf.best_params_)\n",
        "\n",
        "# print(\"Grid scores on development set:\")\n",
        "# print()\n",
        "# means = search_rf.cv_results_['mean_test_score']\n",
        "# stds = search_rf.cv_results_['std_test_score']\n",
        "# for mean, std, params in zip(means, stds, search_rf.cv_results_['params']):\n",
        "#     print(\"%0.3f (+/-%0.03f) for %r\"\n",
        "#           % (mean, std * 2, params))\n",
        "\n",
        "\n",
        "#X_train_rf, X_test_rf, y_train_rf, y_test_rf = train_test_split(X_train, y_train, stratify=y_train, test_size=0.10, random_state=0)\n",
        "\n",
        "search_rf.fit(X_train, y_train)\n",
        "\n",
        "print(search_rf.score(X_test, y_test))\n",
        "ConfusionMatrixDisplay.from_estimator(search_rf, X_test, y_test,\n",
        "                                display_labels=['No_Goal','Goal'],\n",
        "                                cmap=plt.cm.Blues)\n",
        "plt.show()"
      ]
    },
    {
      "cell_type": "code",
      "execution_count": 53,
      "id": "8a10a849",
      "metadata": {
        "id": "8a10a849",
        "outputId": "a0a7c18f-4fc5-4d54-dba4-ce0ba43d27c5",
        "colab": {
          "base_uri": "https://localhost:8080/"
        }
      },
      "outputs": [
        {
          "output_type": "stream",
          "name": "stderr",
          "text": [
            "/usr/local/lib/python3.7/dist-packages/sklearn/base.py:444: UserWarning: X has feature names, but StandardScaler was fitted without feature names\n",
            "  f\"X has feature names, but {self.__class__.__name__} was fitted without\"\n"
          ]
        },
        {
          "output_type": "execute_result",
          "data": {
            "text/plain": [
              "0.6106380386370097"
            ]
          },
          "metadata": {},
          "execution_count": 53
        }
      ],
      "source": [
        "search_rf.score(test_data,test_label)"
      ]
    },
    {
      "cell_type": "code",
      "source": [
        "#model percentile\n",
        "lr_probs = search_rf.predict_proba(X_test)\n",
        "n = len(lr_probs)\n",
        "x_axis = np.arange(n)[::-1]*(100/n)\n",
        "#print(x_axis)\n",
        "\n",
        "# print(lr_probs)\n",
        "lr_probs_y = lr_probs[:, 1]\n",
        "lr_probs_y[::-1].sort()\n",
        "# print(sum(lr_probs_y))\n",
        "#print(lr_probs_y)\n",
        "lr_probs_y_sum = np.cumsum(lr_probs_y)\n",
        "#lr_probs_x = ((sum(lr_probs_y)-lr_probs_y_sum[:])/sum(lr_probs_y))*100\n",
        "\n",
        "#print(lr_probs_y_sum)\n",
        "#goal rate\n",
        "\n",
        "plt.figure()\n",
        "plt.plot(\n",
        "    x_axis,\n",
        "    lr_probs_y,\n",
        ")\n",
        "plt.xlim([101, 0])\n",
        "plt.ylim([-0.01, 1.0])\n",
        "plt.xlabel(\"Shot prob model percentile\")\n",
        "plt.ylabel(\"Goals / (Shots + Goals)\")\n",
        "plt.title(\"Goal Rate for random forest\")\n",
        "plt.show()\n",
        "\n",
        "#cumulative plot\n",
        "plt.figure()\n",
        "ax = plt.plot(\n",
        "    x_axis,\n",
        "    lr_probs_y_sum/sum(lr_probs_y),\n",
        ")\n",
        "plt.xlim([101, 0])\n",
        "plt.ylim([-0.01, 1.01])\n",
        "plt.xlabel(\"Shot prob model percentile\")\n",
        "plt.ylabel(\"Proportion\")\n",
        "plt.title(\"Cumulative % of goals\")\n",
        "plt.show()"
      ],
      "metadata": {
        "colab": {
          "base_uri": "https://localhost:8080/",
          "height": 628
        },
        "id": "E4JyRGN8nERi",
        "outputId": "12c87d80-9db8-4817-e0c4-76a5c9ba5652"
      },
      "id": "E4JyRGN8nERi",
      "execution_count": 54,
      "outputs": [
        {
          "output_type": "stream",
          "name": "stderr",
          "text": [
            "/usr/local/lib/python3.7/dist-packages/sklearn/base.py:444: UserWarning: X has feature names, but StandardScaler was fitted without feature names\n",
            "  f\"X has feature names, but {self.__class__.__name__} was fitted without\"\n"
          ]
        },
        {
          "output_type": "display_data",
          "data": {
            "text/plain": [
              "<Figure size 432x288 with 1 Axes>"
            ],
            "image/png": "[encoded data removed]"
          },
          "metadata": {
            "needs_background": "light"
          }
        },
        {
          "output_type": "display_data",
          "data": {
            "text/plain": [
              "<Figure size 432x288 with 1 Axes>"
            ],
            "image/png": "[encoded data removed]"
          },
          "metadata": {
            "needs_background": "light"
          }
        }
      ]
    },
    {
      "cell_type": "code",
      "source": [
        "#plot roc\n",
        "from sklearn.metrics import roc_curve, auc\n",
        "\n",
        "y_score = search_rf.predict(X_train)\n",
        "fpr, tpr, _ = roc_curve(y_train, y_score)\n",
        "roc_auc = auc(fpr, tpr)\n",
        "\n",
        "plt.figure()\n",
        "lw = 2\n",
        "plt.plot(\n",
        "    fpr,\n",
        "    tpr,\n",
        "    color=\"darkorange\",\n",
        "    lw=lw,\n",
        "    label=\"ROC curve (area = %0.2f)\" % roc_auc,\n",
        ")\n",
        "plt.plot([0, 1], [0, 1], color=\"navy\", lw=lw, linestyle=\"--\")\n",
        "plt.xlim([0.0, 1.0])\n",
        "plt.ylim([0.0, 1.05])\n",
        "plt.xlabel(\"False Positive Rate\")\n",
        "plt.ylabel(\"True Positive Rate\")\n",
        "plt.title(\"ROC for random forest\")\n",
        "plt.legend(loc=\"lower right\")\n",
        "\n",
        "\n",
        "plt.show()"
      ],
      "metadata": {
        "colab": {
          "base_uri": "https://localhost:8080/",
          "height": 295
        },
        "id": "GzpEadkBh0jG",
        "outputId": "51202fc1-bb1a-4265-ee24-493435225332"
      },
      "id": "GzpEadkBh0jG",
      "execution_count": 55,
      "outputs": [
        {
          "output_type": "display_data",
          "data": {
            "text/plain": [
              "<Figure size 432x288 with 1 Axes>"
            ],
            "image/png": "[encoded data removed]"
          },
          "metadata": {
            "needs_background": "light"
          }
        }
      ]
    },
    {
      "cell_type": "code",
      "source": [
        "disp = CalibrationDisplay.from_estimator(search_rf, X_train, y_train, name='random forest ')\n",
        "plt.title(\"Reliability diagram\")\n",
        "plt.show()"
      ],
      "metadata": {
        "colab": {
          "base_uri": "https://localhost:8080/",
          "height": 295
        },
        "id": "NLCISGo9hZed",
        "outputId": "661dad95-3695-4767-bc6e-6613dd5ed823"
      },
      "id": "NLCISGo9hZed",
      "execution_count": 56,
      "outputs": [
        {
          "output_type": "display_data",
          "data": {
            "text/plain": [
              "<Figure size 432x288 with 1 Axes>"
            ],
            "image/png": "[encoded data removed]"
          },
          "metadata": {
            "needs_background": "light"
          }
        }
      ]
    },
    {
      "cell_type": "markdown",
      "id": "9c33d969",
      "metadata": {
        "id": "9c33d969"
      },
      "source": [
        "# ada boost"
      ]
    },
    {
      "cell_type": "code",
      "execution_count": 57,
      "id": "d99768a5",
      "metadata": {
        "id": "d99768a5"
      },
      "outputs": [],
      "source": [
        "from sklearn.ensemble import AdaBoostClassifier"
      ]
    },
    {
      "cell_type": "code",
      "execution_count": 58,
      "id": "4d6d9be9",
      "metadata": {
        "id": "4d6d9be9",
        "outputId": "61348cfe-2d47-4e05-880c-5d6778228140",
        "colab": {
          "base_uri": "https://localhost:8080/",
          "height": 581
        }
      },
      "outputs": [
        {
          "output_type": "stream",
          "name": "stdout",
          "text": [
            "Fitting 5 folds for each of 9 candidates, totalling 45 fits\n",
            "Best parameter (CV score=0.911):\n",
            "{'ada__learning_rate': 0.01, 'ada__n_estimators': 10}\n",
            "Grid scores on development set:\n",
            "\n",
            "0.911 (+/-0.001) for {'ada__learning_rate': 0.01, 'ada__n_estimators': 10}\n",
            "0.911 (+/-0.001) for {'ada__learning_rate': 0.01, 'ada__n_estimators': 12}\n",
            "0.911 (+/-0.001) for {'ada__learning_rate': 0.01, 'ada__n_estimators': 15}\n",
            "0.911 (+/-0.001) for {'ada__learning_rate': 0.1, 'ada__n_estimators': 10}\n",
            "0.911 (+/-0.001) for {'ada__learning_rate': 0.1, 'ada__n_estimators': 12}\n",
            "0.911 (+/-0.001) for {'ada__learning_rate': 0.1, 'ada__n_estimators': 15}\n",
            "0.911 (+/-0.002) for {'ada__learning_rate': 1, 'ada__n_estimators': 10}\n",
            "0.911 (+/-0.001) for {'ada__learning_rate': 1, 'ada__n_estimators': 12}\n",
            "0.911 (+/-0.001) for {'ada__learning_rate': 1, 'ada__n_estimators': 15}\n"
          ]
        },
        {
          "output_type": "stream",
          "name": "stderr",
          "text": [
            "/usr/local/lib/python3.7/dist-packages/sklearn/base.py:444: UserWarning: X has feature names, but StandardScaler was fitted without feature names\n",
            "  f\"X has feature names, but {self.__class__.__name__} was fitted without\"\n"
          ]
        },
        {
          "output_type": "display_data",
          "data": {
            "text/plain": [
              "<Figure size 432x288 with 2 Axes>"
            ],
            "image/png": "[encoded data removed]"
          },
          "metadata": {
            "needs_background": "light"
          }
        }
      ],
      "source": [
        "ada = AdaBoostClassifier()\n",
        "\n",
        "pipe = Pipeline(steps=[('scaler', StandardScaler()), (\"pca\", PCA(n_components = 14)), (\"ada\",ada)])\n",
        "\n",
        "# Parameters of pipelines can be set using ‘__’ separated parameter names:\n",
        "param_grid = { \n",
        "    'ada__n_estimators': [10,12,15],\n",
        "    'ada__learning_rate': [0.01,0.1,1]\n",
        "}\n",
        "\n",
        "\n",
        "search_ada = GridSearchCV(pipe, param_grid, n_jobs=-1,verbose=10)\n",
        "search_ada.fit(X_train, y_train)\n",
        "print(\"Best parameter (CV score=%0.3f):\" % search_ada.best_score_)\n",
        "print(search_ada.best_params_)\n",
        "\n",
        "\n",
        "means = search_ada.cv_results_['mean_test_score']\n",
        "stds = search_ada.cv_results_['std_test_score']\n",
        "for mean, std, params in zip(means, stds, search_ada.cv_results_['params']):\n",
        "    print(\"%0.3f (+/-%0.03f) for %r\"\n",
        "          % (mean, std * 2, params))\n",
        "\n",
        "ConfusionMatrixDisplay.from_estimator(search_ada, X_test, y_test,\n",
        "                                display_labels=['No_Goal','Goal'],\n",
        "                                cmap=plt.cm.Blues)\n",
        "plt.show()"
      ]
    },
    {
      "cell_type": "code",
      "source": [
        "#model percentile\n",
        "lr_probs = search_ada.predict_proba(X_test)\n",
        "n = len(lr_probs)\n",
        "x_axis = np.arange(n)[::-1]*(100/n)\n",
        "#print(x_axis)\n",
        "\n",
        "# print(lr_probs)\n",
        "lr_probs_y = lr_probs[:, 1]\n",
        "lr_probs_y[::-1].sort()\n",
        "# print(sum(lr_probs_y))\n",
        "#print(lr_probs_y)\n",
        "lr_probs_y_sum = np.cumsum(lr_probs_y)\n",
        "#lr_probs_x = ((sum(lr_probs_y)-lr_probs_y_sum[:])/sum(lr_probs_y))*100\n",
        "\n",
        "#print(lr_probs_y_sum)\n",
        "#goal rate\n",
        "\n",
        "plt.figure()\n",
        "plt.plot(\n",
        "    x_axis,\n",
        "    lr_probs_y,\n",
        ")\n",
        "plt.xlim([101, 0])\n",
        "plt.ylim([-0.01, 1.0])\n",
        "plt.xlabel(\"Shot prob model percentile\")\n",
        "plt.ylabel(\"Goals / (Shots + Goals)\")\n",
        "plt.title(\"Goal Rate of ADA\")\n",
        "plt.show()\n",
        "\n",
        "#cumulative plot\n",
        "plt.figure()\n",
        "ax = plt.plot(\n",
        "    x_axis,\n",
        "    lr_probs_y_sum/sum(lr_probs_y),\n",
        ")\n",
        "plt.xlim([101, 0])\n",
        "plt.ylim([-0.01, 1.01])\n",
        "plt.xlabel(\"Shot prob model percentile\")\n",
        "plt.ylabel(\"Proportion\")\n",
        "plt.title(\"Cumulative % of goals\")\n",
        "plt.show()"
      ],
      "metadata": {
        "colab": {
          "base_uri": "https://localhost:8080/",
          "height": 628
        },
        "id": "VHnEoLZRmxMo",
        "outputId": "6e68f144-b3f7-4485-8687-fa9778ed0c65"
      },
      "id": "VHnEoLZRmxMo",
      "execution_count": 59,
      "outputs": [
        {
          "output_type": "stream",
          "name": "stderr",
          "text": [
            "/usr/local/lib/python3.7/dist-packages/sklearn/base.py:444: UserWarning: X has feature names, but StandardScaler was fitted without feature names\n",
            "  f\"X has feature names, but {self.__class__.__name__} was fitted without\"\n"
          ]
        },
        {
          "output_type": "display_data",
          "data": {
            "text/plain": [
              "<Figure size 432x288 with 1 Axes>"
            ],
            "image/png": "[encoded data removed]"
          },
          "metadata": {
            "needs_background": "light"
          }
        },
        {
          "output_type": "display_data",
          "data": {
            "text/plain": [
              "<Figure size 432x288 with 1 Axes>"
            ],
            "image/png": "[encoded data removed]"
          },
          "metadata": {
            "needs_background": "light"
          }
        }
      ]
    },
    {
      "cell_type": "code",
      "source": [
        "#plot roc\n",
        "from sklearn.metrics import roc_curve, auc\n",
        "\n",
        "y_score = search_ada.predict(X_train)\n",
        "fpr, tpr, _ = roc_curve(y_train, y_score)\n",
        "roc_auc = auc(fpr, tpr)\n",
        "\n",
        "plt.figure()\n",
        "lw = 2\n",
        "plt.plot(\n",
        "    fpr,\n",
        "    tpr,\n",
        "    color=\"darkorange\",\n",
        "    lw=lw,\n",
        "    label=\"ROC curve (area = %0.2f)\" % roc_auc,\n",
        ")\n",
        "plt.plot([0, 1], [0, 1], color=\"navy\", lw=lw, linestyle=\"--\")\n",
        "plt.xlim([0.0, 1.0])\n",
        "plt.ylim([0.0, 1.05])\n",
        "plt.xlabel(\"False Positive Rate\")\n",
        "plt.ylabel(\"True Positive Rate\")\n",
        "plt.title(\"ROC of ADA\")\n",
        "plt.legend(loc=\"lower right\")\n",
        "\n",
        "\n",
        "plt.show()"
      ],
      "metadata": {
        "colab": {
          "base_uri": "https://localhost:8080/",
          "height": 295
        },
        "id": "HfK-jugbjlTS",
        "outputId": "3176cd59-9191-49cd-c5dc-0eaa0f6540f6"
      },
      "id": "HfK-jugbjlTS",
      "execution_count": 60,
      "outputs": [
        {
          "output_type": "display_data",
          "data": {
            "text/plain": [
              "<Figure size 432x288 with 1 Axes>"
            ],
            "image/png": "[encoded data removed]"
          },
          "metadata": {
            "needs_background": "light"
          }
        }
      ]
    },
    {
      "cell_type": "code",
      "source": [
        "disp = CalibrationDisplay.from_estimator(search_ada, X_train, y_train, name='ada')\n",
        "plt.title(\"Reliability diagram\")\n",
        "plt.show()"
      ],
      "metadata": {
        "colab": {
          "base_uri": "https://localhost:8080/",
          "height": 295
        },
        "id": "-M_GGHg3kWMi",
        "outputId": "03148187-91e9-43e6-e7a1-53e8884aceca"
      },
      "id": "-M_GGHg3kWMi",
      "execution_count": 61,
      "outputs": [
        {
          "output_type": "display_data",
          "data": {
            "text/plain": [
              "<Figure size 432x288 with 1 Axes>"
            ],
            "image/png": "[encoded data removed]"
          },
          "metadata": {
            "needs_background": "light"
          }
        }
      ]
    },
    {
      "cell_type": "code",
      "execution_count": 62,
      "id": "3cff82a8",
      "metadata": {
        "id": "3cff82a8",
        "outputId": "f4141749-5978-4119-9ac9-005a5d28ba78",
        "colab": {
          "base_uri": "https://localhost:8080/"
        }
      },
      "outputs": [
        {
          "output_type": "stream",
          "name": "stderr",
          "text": [
            "/usr/local/lib/python3.7/dist-packages/sklearn/base.py:444: UserWarning: X has feature names, but StandardScaler was fitted without feature names\n",
            "  f\"X has feature names, but {self.__class__.__name__} was fitted without\"\n"
          ]
        },
        {
          "output_type": "execute_result",
          "data": {
            "text/plain": [
              "0.9023921372195974"
            ]
          },
          "metadata": {},
          "execution_count": 62
        }
      ],
      "source": [
        "search_ada.score(test_data,test_label)"
      ]
    },
    {
      "cell_type": "markdown",
      "id": "73f12cd5",
      "metadata": {
        "id": "73f12cd5"
      },
      "source": [
        "# NN"
      ]
    },
    {
      "cell_type": "code",
      "execution_count": 63,
      "id": "3c0a2fab",
      "metadata": {
        "id": "3c0a2fab"
      },
      "outputs": [],
      "source": [
        "from sklearn.neural_network import MLPClassifier"
      ]
    },
    {
      "cell_type": "code",
      "execution_count": 64,
      "id": "2880e8c7",
      "metadata": {
        "colab": {
          "base_uri": "https://localhost:8080/",
          "height": 928
        },
        "id": "2880e8c7",
        "outputId": "e3867e19-6019-47fc-daf8-e2e46f2759d4"
      },
      "outputs": [
        {
          "output_type": "stream",
          "name": "stdout",
          "text": [
            "Fitting 5 folds for each of 4 candidates, totalling 20 fits\n",
            "Iteration 1, loss = 0.29359198\n",
            "Validation score: 0.911683\n",
            "Iteration 2, loss = 0.27131916\n",
            "Validation score: 0.911683\n",
            "Iteration 3, loss = 0.27025986\n",
            "Validation score: 0.911683\n",
            "Iteration 4, loss = 0.26985186\n",
            "Validation score: 0.911683\n",
            "Iteration 5, loss = 0.26954719\n",
            "Validation score: 0.911683\n",
            "Iteration 6, loss = 0.26932386\n",
            "Validation score: 0.911683\n",
            "Iteration 7, loss = 0.26924772\n",
            "Validation score: 0.911683\n",
            "Iteration 8, loss = 0.26912361\n",
            "Validation score: 0.911683\n",
            "Iteration 9, loss = 0.26905569\n",
            "Validation score: 0.911683\n",
            "Iteration 10, loss = 0.26895186\n",
            "Validation score: 0.911683\n",
            "Iteration 11, loss = 0.26892833\n",
            "Validation score: 0.911683\n",
            "Iteration 12, loss = 0.26883389\n",
            "Validation score: 0.911683\n",
            "Validation score did not improve more than tol=0.000100 for 10 consecutive epochs. Stopping.\n",
            "Best parameter (CV score=0.911):\n",
            "{'mlp__hidden_layer_sizes': (20, 20, 20)}\n",
            "Grid scores on development set:\n",
            "\n",
            "0.911 (+/-0.001) for {'mlp__hidden_layer_sizes': (60, 60)}\n",
            "0.911 (+/-0.001) for {'mlp__hidden_layer_sizes': (20, 20, 20)}\n",
            "0.911 (+/-0.001) for {'mlp__hidden_layer_sizes': (100, 100)}\n",
            "0.911 (+/-0.001) for {'mlp__hidden_layer_sizes': 200}\n"
          ]
        },
        {
          "output_type": "stream",
          "name": "stderr",
          "text": [
            "/usr/local/lib/python3.7/dist-packages/sklearn/base.py:444: UserWarning: X has feature names, but StandardScaler was fitted without feature names\n",
            "  f\"X has feature names, but {self.__class__.__name__} was fitted without\"\n"
          ]
        },
        {
          "output_type": "display_data",
          "data": {
            "text/plain": [
              "<Figure size 432x288 with 2 Axes>"
            ],
            "image/png": "[encoded data removed]"
          },
          "metadata": {
            "needs_background": "light"
          }
        }
      ],
      "source": [
        "mlp = MLPClassifier(batch_size=500, activation = 'relu', learning_rate='adaptive', max_iter=200, verbose=True,  early_stopping=True)\n",
        "\n",
        "\n",
        "pipe = Pipeline(steps=[('scaler', StandardScaler()), (\"pca\", PCA(n_components = 13)), (\"mlp\",mlp)])\n",
        "\n",
        "# Parameters of pipelines can be set using ‘__’ separated parameter names:\n",
        "parameter_space = {\n",
        "    'mlp__hidden_layer_sizes': [(60,60),(20,20,20),(100,100),(200)],\n",
        "}\n",
        "\n",
        "\n",
        "search_mlp = GridSearchCV(pipe, parameter_space, n_jobs=-1, verbose=10)\n",
        "search_mlp.fit(X_train, y_train)\n",
        "print(\"Best parameter (CV score=%0.3f):\" % search_mlp.best_score_)\n",
        "print(search_mlp.best_params_)\n",
        "\n",
        "print(\"Grid scores on development set:\")\n",
        "print()\n",
        "means = search_mlp.cv_results_['mean_test_score']\n",
        "stds = search_mlp.cv_results_['std_test_score']\n",
        "for mean, std, params in zip(means, stds, search_mlp.cv_results_['params']):\n",
        "    print(\"%0.3f (+/-%0.03f) for %r\"\n",
        "          % (mean, std * 2, params))\n",
        "\n",
        "ConfusionMatrixDisplay.from_estimator(search_mlp, X_test, y_test,\n",
        "                                display_labels=['No_Goal','Goal'],\n",
        "                                cmap=plt.cm.Blues)\n",
        "plt.show()"
      ]
    },
    {
      "cell_type": "code",
      "source": [
        "#model percentile\n",
        "lr_probs = search_mlp.predict_proba(X_test)\n",
        "n = len(lr_probs)\n",
        "x_axis = np.arange(n)[::-1]*(100/n)\n",
        "#print(x_axis)\n",
        "\n",
        "# print(lr_probs)\n",
        "lr_probs_y = lr_probs[:, 1]\n",
        "lr_probs_y[::-1].sort()\n",
        "# print(sum(lr_probs_y))\n",
        "#print(lr_probs_y)\n",
        "lr_probs_y_sum = np.cumsum(lr_probs_y)\n",
        "#lr_probs_x = ((sum(lr_probs_y)-lr_probs_y_sum[:])/sum(lr_probs_y))*100\n",
        "\n",
        "#print(lr_probs_y_sum)\n",
        "#goal rate\n",
        "\n",
        "plt.figure()\n",
        "plt.plot(\n",
        "    x_axis,\n",
        "    lr_probs_y,\n",
        ")\n",
        "plt.xlim([101, 0])\n",
        "plt.ylim([-0.01, 1.0])\n",
        "plt.xlabel(\"Shot prob model percentile\")\n",
        "plt.ylabel(\"Goals / (Shots + Goals)\")\n",
        "plt.title(\"Goal Rate of MLP\")\n",
        "plt.show()\n",
        "\n",
        "#cumulative plot\n",
        "plt.figure()\n",
        "ax = plt.plot(\n",
        "    x_axis,\n",
        "    lr_probs_y_sum/sum(lr_probs_y),\n",
        ")\n",
        "plt.xlim([101, 0])\n",
        "plt.ylim([-0.01, 1.01])\n",
        "plt.xlabel(\"Shot prob model percentile\")\n",
        "plt.ylabel(\"Proportion\")\n",
        "plt.title(\"Cumulative % of goals\")\n",
        "plt.show()"
      ],
      "metadata": {
        "colab": {
          "base_uri": "https://localhost:8080/",
          "height": 628
        },
        "id": "NXsIq2gNmUxg",
        "outputId": "dc2be8fa-cbb1-45f4-b7e0-0c4b85c8d1b4"
      },
      "id": "NXsIq2gNmUxg",
      "execution_count": 65,
      "outputs": [
        {
          "output_type": "stream",
          "name": "stderr",
          "text": [
            "/usr/local/lib/python3.7/dist-packages/sklearn/base.py:444: UserWarning: X has feature names, but StandardScaler was fitted without feature names\n",
            "  f\"X has feature names, but {self.__class__.__name__} was fitted without\"\n"
          ]
        },
        {
          "output_type": "display_data",
          "data": {
            "text/plain": [
              "<Figure size 432x288 with 1 Axes>"
            ],
            "image/png": "[encoded data removed]"
          },
          "metadata": {
            "needs_background": "light"
          }
        },
        {
          "output_type": "display_data",
          "data": {
            "text/plain": [
              "<Figure size 432x288 with 1 Axes>"
            ],
            "image/png": "[encoded data removed]"
          },
          "metadata": {
            "needs_background": "light"
          }
        }
      ]
    },
    {
      "cell_type": "code",
      "source": [
        "#plot roc\n",
        "from sklearn.metrics import roc_curve, auc\n",
        "\n",
        "y_score = search_mlp.predict(X_train)\n",
        "fpr, tpr, _ = roc_curve(y_train, y_score)\n",
        "roc_auc = auc(fpr, tpr)\n",
        "\n",
        "plt.figure()\n",
        "lw = 2\n",
        "plt.plot(\n",
        "    fpr,\n",
        "    tpr,\n",
        "    color=\"darkorange\",\n",
        "    lw=lw,\n",
        "    label=\"ROC curve (area = %0.2f)\" % roc_auc,\n",
        ")\n",
        "plt.plot([0, 1], [0, 1], color=\"navy\", lw=lw, linestyle=\"--\")\n",
        "plt.xlim([0.0, 1.0])\n",
        "plt.ylim([0.0, 1.05])\n",
        "plt.xlabel(\"False Positive Rate\")\n",
        "plt.ylabel(\"True Positive Rate\")\n",
        "plt.title(\"ROC of MLP\")\n",
        "plt.legend(loc=\"lower right\")\n",
        "\n",
        "\n",
        "plt.show()"
      ],
      "metadata": {
        "id": "6UcP580UT2al",
        "colab": {
          "base_uri": "https://localhost:8080/",
          "height": 295
        },
        "outputId": "462b5b7e-b50b-4c40-9f76-ea6f283bbc44"
      },
      "id": "6UcP580UT2al",
      "execution_count": 66,
      "outputs": [
        {
          "output_type": "display_data",
          "data": {
            "text/plain": [
              "<Figure size 432x288 with 1 Axes>"
            ],
            "image/png": "[encoded data removed]"
          },
          "metadata": {
            "needs_background": "light"
          }
        }
      ]
    },
    {
      "cell_type": "code",
      "execution_count": 67,
      "id": "7925fbff",
      "metadata": {
        "colab": {
          "base_uri": "https://localhost:8080/"
        },
        "id": "7925fbff",
        "outputId": "afbd6770-26b2-4c5a-d158-8dfbb30f2bcd"
      },
      "outputs": [
        {
          "output_type": "stream",
          "name": "stderr",
          "text": [
            "/usr/local/lib/python3.7/dist-packages/sklearn/base.py:444: UserWarning: X has feature names, but StandardScaler was fitted without feature names\n",
            "  f\"X has feature names, but {self.__class__.__name__} was fitted without\"\n"
          ]
        },
        {
          "output_type": "execute_result",
          "data": {
            "text/plain": [
              "0.9035834675836301"
            ]
          },
          "metadata": {},
          "execution_count": 67
        }
      ],
      "source": [
        "search_mlp.score(test_data,test_label)"
      ]
    },
    {
      "cell_type": "code",
      "execution_count": 68,
      "id": "830dcc8d",
      "metadata": {
        "colab": {
          "base_uri": "https://localhost:8080/",
          "height": 295
        },
        "id": "830dcc8d",
        "outputId": "f710c507-8035-4f4c-b575-48b3489e9a71"
      },
      "outputs": [
        {
          "output_type": "display_data",
          "data": {
            "text/plain": [
              "<Figure size 432x288 with 1 Axes>"
            ],
            "image/png": "[encoded data removed]"
          },
          "metadata": {
            "needs_background": "light"
          }
        }
      ],
      "source": [
        "disp = CalibrationDisplay.from_estimator(search_mlp, X_train, y_train, name='Multilayer')\n",
        "plt.title(\"Reliability diagram\")\n",
        "plt.show()"
      ]
    },
    {
      "cell_type": "code",
      "source": [],
      "metadata": {
        "id": "AwSMKesMR1L8"
      },
      "id": "AwSMKesMR1L8",
      "execution_count": 68,
      "outputs": []
    },
    {
      "cell_type": "code",
      "source": [],
      "metadata": {
        "id": "DHnGJdf0lUJY"
      },
      "id": "DHnGJdf0lUJY",
      "execution_count": 68,
      "outputs": []
    }
  ],
  "metadata": {
    "kernelspec": {
      "display_name": "Python 3 (ipykernel)",
      "language": "python",
      "name": "python3"
    },
    "language_info": {
      "codemirror_mode": {
        "name": "ipython",
        "version": 3
      },
      "file_extension": ".py",
      "mimetype": "text/x-python",
      "name": "python",
      "nbconvert_exporter": "python",
      "pygments_lexer": "ipython3",
      "version": "3.9.6"
    },
    "colab": {
      "provenance": [],
      "collapsed_sections": [
        "945d0140",
        "2e6c545c",
        "9c33d969",
        "73f12cd5"
      ]
    }
  },
  "nbformat": 4,
  "nbformat_minor": 5
}