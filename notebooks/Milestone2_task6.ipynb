{
  "cells": [
    {
      "cell_type": "code",
      "execution_count": 21,
      "id": "b35ed1c9",
      "metadata": {
        "id": "b35ed1c9"
      },
      "outputs": [],
      "source": [
        "import pandas as pd\n",
        "import numpy as np\n",
        "from sklearn.preprocessing import StandardScaler\n",
        "from sklearn.linear_model import LogisticRegression\n",
        "from sklearn.pipeline import Pipeline\n",
        "from sklearn.model_selection import GridSearchCV\n",
        "from sklearn.decomposition import PCA\n",
        "from sklearn.metrics import ConfusionMatrixDisplay\n",
        "import matplotlib.pyplot as plt\n",
        "from sklearn.model_selection import cross_val_score\n",
        "from sklearn.model_selection import train_test_split\n",
        "from sklearn.metrics import f1_score, precision_score, recall_score, confusion_matrix\n",
        "from comet_ml import Experiment\n",
        "import os"
      ]
    },
    {
      "cell_type": "code",
      "source": [
        "pip install comet_ml"
      ],
      "metadata": {
        "colab": {
          "base_uri": "https://localhost:8080/"
        },
        "id": "jrQl6fYGID6t",
        "outputId": "2650c216-b2d7-43ef-fbf3-5886c1714079"
      },
      "id": "jrQl6fYGID6t",
      "execution_count": 18,
      "outputs": [
        {
          "output_type": "stream",
          "name": "stdout",
          "text": [
            "Looking in indexes: https://pypi.org/simple, https://us-python.pkg.dev/colab-wheels/public/simple/\n",
            "Collecting comet_ml\n",
            "  Downloading comet_ml-3.31.19-py3-none-any.whl (441 kB)\n",
            "\u001b[K     |████████████████████████████████| 441 kB 7.3 MB/s \n",
            "\u001b[?25hCollecting requests-toolbelt>=0.8.0\n",
            "  Downloading requests_toolbelt-0.10.1-py2.py3-none-any.whl (54 kB)\n",
            "\u001b[K     |████████████████████████████████| 54 kB 2.5 MB/s \n",
            "\u001b[?25hRequirement already satisfied: importlib-metadata in /usr/local/lib/python3.7/dist-packages (from comet_ml) (4.13.0)\n",
            "Requirement already satisfied: jsonschema!=3.1.0,>=2.6.0 in /usr/local/lib/python3.7/dist-packages (from comet_ml) (4.3.3)\n",
            "Requirement already satisfied: wrapt>=1.11.2 in /usr/local/lib/python3.7/dist-packages (from comet_ml) (1.14.1)\n",
            "Collecting semantic-version>=2.8.0\n",
            "  Downloading semantic_version-2.10.0-py2.py3-none-any.whl (15 kB)\n",
            "Requirement already satisfied: requests>=2.18.4 in /usr/local/lib/python3.7/dist-packages (from comet_ml) (2.23.0)\n",
            "Collecting sentry-sdk>=1.1.0\n",
            "  Downloading sentry_sdk-1.11.1-py2.py3-none-any.whl (168 kB)\n",
            "\u001b[K     |████████████████████████████████| 168 kB 40.0 MB/s \n",
            "\u001b[?25hCollecting wurlitzer>=1.0.2\n",
            "  Downloading wurlitzer-3.0.2-py3-none-any.whl (7.3 kB)\n",
            "Collecting simplejson\n",
            "  Downloading simplejson-3.18.0-cp37-cp37m-manylinux_2_5_x86_64.manylinux1_x86_64.manylinux_2_12_x86_64.manylinux2010_x86_64.whl (130 kB)\n",
            "\u001b[K     |████████████████████████████████| 130 kB 46.4 MB/s \n",
            "\u001b[?25hRequirement already satisfied: six in /usr/local/lib/python3.7/dist-packages (from comet_ml) (1.15.0)\n",
            "Collecting everett[ini]>=1.0.1\n",
            "  Downloading everett-3.1.0-py2.py3-none-any.whl (35 kB)\n",
            "Collecting dulwich!=0.20.33,>=0.20.6\n",
            "  Downloading dulwich-0.20.50-cp37-cp37m-manylinux_2_17_x86_64.manylinux2014_x86_64.whl (498 kB)\n",
            "\u001b[K     |████████████████████████████████| 498 kB 42.9 MB/s \n",
            "\u001b[?25hCollecting websocket-client<1.4.0,>=0.55.0\n",
            "  Downloading websocket_client-1.3.3-py3-none-any.whl (54 kB)\n",
            "\u001b[K     |████████████████████████████████| 54 kB 2.5 MB/s \n",
            "\u001b[?25hCollecting urllib3>=1.25\n",
            "  Downloading urllib3-1.26.12-py2.py3-none-any.whl (140 kB)\n",
            "\u001b[K     |████████████████████████████████| 140 kB 53.8 MB/s \n",
            "\u001b[?25hCollecting configobj\n",
            "  Downloading configobj-5.0.6.tar.gz (33 kB)\n",
            "Requirement already satisfied: importlib-resources>=1.4.0 in /usr/local/lib/python3.7/dist-packages (from jsonschema!=3.1.0,>=2.6.0->comet_ml) (5.10.0)\n",
            "Requirement already satisfied: pyrsistent!=0.17.0,!=0.17.1,!=0.17.2,>=0.14.0 in /usr/local/lib/python3.7/dist-packages (from jsonschema!=3.1.0,>=2.6.0->comet_ml) (0.19.2)\n",
            "Requirement already satisfied: attrs>=17.4.0 in /usr/local/lib/python3.7/dist-packages (from jsonschema!=3.1.0,>=2.6.0->comet_ml) (22.1.0)\n",
            "Requirement already satisfied: typing-extensions in /usr/local/lib/python3.7/dist-packages (from jsonschema!=3.1.0,>=2.6.0->comet_ml) (4.1.1)\n",
            "Requirement already satisfied: zipp>=3.1.0 in /usr/local/lib/python3.7/dist-packages (from importlib-resources>=1.4.0->jsonschema!=3.1.0,>=2.6.0->comet_ml) (3.10.0)\n",
            "Requirement already satisfied: chardet<4,>=3.0.2 in /usr/local/lib/python3.7/dist-packages (from requests>=2.18.4->comet_ml) (3.0.4)\n",
            "Collecting urllib3>=1.25\n",
            "  Downloading urllib3-1.25.11-py2.py3-none-any.whl (127 kB)\n",
            "\u001b[K     |████████████████████████████████| 127 kB 53.9 MB/s \n",
            "\u001b[?25hRequirement already satisfied: certifi>=2017.4.17 in /usr/local/lib/python3.7/dist-packages (from requests>=2.18.4->comet_ml) (2022.9.24)\n",
            "Requirement already satisfied: idna<3,>=2.5 in /usr/local/lib/python3.7/dist-packages (from requests>=2.18.4->comet_ml) (2.10)\n",
            "Collecting sentry-sdk>=1.1.0\n",
            "  Downloading sentry_sdk-1.11.0-py2.py3-none-any.whl (168 kB)\n",
            "\u001b[K     |████████████████████████████████| 168 kB 67.0 MB/s \n",
            "\u001b[?25h  Downloading sentry_sdk-1.10.1-py2.py3-none-any.whl (166 kB)\n",
            "\u001b[K     |████████████████████████████████| 166 kB 70.3 MB/s \n",
            "\u001b[?25h  Downloading sentry_sdk-1.10.0-py2.py3-none-any.whl (166 kB)\n",
            "\u001b[K     |████████████████████████████████| 166 kB 56.7 MB/s \n",
            "\u001b[?25h  Downloading sentry_sdk-1.9.10-py2.py3-none-any.whl (162 kB)\n",
            "\u001b[K     |████████████████████████████████| 162 kB 62.4 MB/s \n",
            "\u001b[?25h  Downloading sentry_sdk-1.9.9-py2.py3-none-any.whl (162 kB)\n",
            "\u001b[K     |████████████████████████████████| 162 kB 56.0 MB/s \n",
            "\u001b[?25h  Downloading sentry_sdk-1.9.8-py2.py3-none-any.whl (158 kB)\n",
            "\u001b[K     |████████████████████████████████| 158 kB 64.5 MB/s \n",
            "\u001b[?25h  Downloading sentry_sdk-1.9.7-py2.py3-none-any.whl (157 kB)\n",
            "\u001b[K     |████████████████████████████████| 157 kB 50.1 MB/s \n",
            "\u001b[?25h  Downloading sentry_sdk-1.9.6-py2.py3-none-any.whl (157 kB)\n",
            "\u001b[K     |████████████████████████████████| 157 kB 63.0 MB/s \n",
            "\u001b[?25h  Downloading sentry_sdk-1.9.5-py2.py3-none-any.whl (157 kB)\n",
            "\u001b[K     |████████████████████████████████| 157 kB 64.7 MB/s \n",
            "\u001b[?25h  Downloading sentry_sdk-1.9.4-py2.py3-none-any.whl (157 kB)\n",
            "\u001b[K     |████████████████████████████████| 157 kB 48.0 MB/s \n",
            "\u001b[?25h  Downloading sentry_sdk-1.9.3-py2.py3-none-any.whl (157 kB)\n",
            "\u001b[K     |████████████████████████████████| 157 kB 55.5 MB/s \n",
            "\u001b[?25h  Downloading sentry_sdk-1.9.2-py2.py3-none-any.whl (157 kB)\n",
            "\u001b[K     |████████████████████████████████| 157 kB 65.5 MB/s \n",
            "\u001b[?25h  Downloading sentry_sdk-1.9.1-py2.py3-none-any.whl (157 kB)\n",
            "\u001b[K     |████████████████████████████████| 157 kB 67.7 MB/s \n",
            "\u001b[?25h  Downloading sentry_sdk-1.9.0-py2.py3-none-any.whl (156 kB)\n",
            "\u001b[K     |████████████████████████████████| 156 kB 65.0 MB/s \n",
            "\u001b[?25hBuilding wheels for collected packages: configobj\n",
            "  Building wheel for configobj (setup.py) ... \u001b[?25l\u001b[?25hdone\n",
            "  Created wheel for configobj: filename=configobj-5.0.6-py3-none-any.whl size=34547 sha256=18808ed421bc5b2c3d078fb403e06f361ea04f489f9d5cfe69c1b59ea68292d2\n",
            "  Stored in directory: /root/.cache/pip/wheels/0d/c4/19/13d74440f2a571841db6b6e0a273694327498884dafb9cf978\n",
            "Successfully built configobj\n",
            "Installing collected packages: urllib3, everett, configobj, wurlitzer, websocket-client, simplejson, sentry-sdk, semantic-version, requests-toolbelt, dulwich, comet-ml\n",
            "  Attempting uninstall: urllib3\n",
            "    Found existing installation: urllib3 1.24.3\n",
            "    Uninstalling urllib3-1.24.3:\n",
            "      Successfully uninstalled urllib3-1.24.3\n",
            "Successfully installed comet-ml-3.31.19 configobj-5.0.6 dulwich-0.20.50 everett-3.1.0 requests-toolbelt-0.10.1 semantic-version-2.10.0 sentry-sdk-1.9.0 simplejson-3.18.0 urllib3-1.25.11 websocket-client-1.3.3 wurlitzer-3.0.2\n"
          ]
        }
      ]
    },
    {
      "cell_type": "code",
      "execution_count": 3,
      "id": "53891152",
      "metadata": {
        "id": "53891152"
      },
      "outputs": [],
      "source": [
        "df_train = pd.read_csv(\"train_2015_2018.csv\")\n",
        "df_test = pd.read_csv(\"test_2019.csv\")"
      ]
    },
    {
      "cell_type": "code",
      "execution_count": 4,
      "id": "e7a21031",
      "metadata": {
        "id": "e7a21031"
      },
      "outputs": [],
      "source": [
        "\n",
        "#1df_train = df_train[df_train.str.contains==False]\n",
        "columns = ['period', 'coordinate_x', 'coordinate_y', 'empty_net','last_coord_x', 'last_coord_y', 'last_period',\n",
        "       'number_friendly', 'number_opposing',\n",
        "       'power_play', 'distance', 'from_last_distance', 'angle', 'last_angle',\n",
        "       'time_from_last', 'change_angle']"
      ]
    },
    {
      "cell_type": "code",
      "execution_count": 5,
      "id": "7dd5e590",
      "metadata": {
        "colab": {
          "base_uri": "https://localhost:8080/",
          "height": 678
        },
        "id": "7dd5e590",
        "outputId": "e07287d3-4055-4c0c-9640-4363c538ff0c"
      },
      "outputs": [
        {
          "output_type": "execute_result",
          "data": {
            "text/plain": [
              "        Unnamed: 0  event_idx period_time  period     game_id  \\\n",
              "0                0          7       00:51       1  2015020001   \n",
              "1                1          9       01:05       1  2015020001   \n",
              "2                2         10       01:06       1  2015020001   \n",
              "3                3         13       01:53       1  2015020001   \n",
              "4                4         21       02:37       1  2015020001   \n",
              "...            ...        ...         ...     ...         ...   \n",
              "332737      332737        276       15:22       3  2015020001   \n",
              "332738      332738        279       15:51       3  2015020001   \n",
              "332739      332739        280       15:55       3  2015020001   \n",
              "332740      332740        284       16:50       3  2015020001   \n",
              "332741      332741        289       17:50       3  2015020001   \n",
              "\n",
              "            team_away_name       team_home_name  is_goal  coordinate_x  \\\n",
              "0       Montréal Canadiens  Toronto Maple Leafs        0         -55.0   \n",
              "1       Montréal Canadiens  Toronto Maple Leafs        0         -79.0   \n",
              "2       Montréal Canadiens  Toronto Maple Leafs        0         -75.0   \n",
              "3       Montréal Canadiens  Toronto Maple Leafs        0         -55.0   \n",
              "4       Montréal Canadiens  Toronto Maple Leafs        0         -61.0   \n",
              "...                    ...                  ...      ...           ...   \n",
              "332737  Montréal Canadiens  Toronto Maple Leafs        1         -77.0   \n",
              "332738  Montréal Canadiens  Toronto Maple Leafs        0         -69.0   \n",
              "332739  Montréal Canadiens  Toronto Maple Leafs        0         -65.0   \n",
              "332740  Montréal Canadiens  Toronto Maple Leafs        0          42.0   \n",
              "332741  Montréal Canadiens  Toronto Maple Leafs        1          44.0   \n",
              "\n",
              "        coordinate_y  ... number_friendly number_opposing power_play distance  \\\n",
              "0                6.0  ...               5               5          0  34.5254   \n",
              "1                0.0  ...               5               5          0  10.0000   \n",
              "2               -1.0  ...               5               5          0  14.0357   \n",
              "3              -36.0  ...               5               5          0  49.5177   \n",
              "4               -1.0  ...               5               5          0  28.0179   \n",
              "...              ...  ...             ...             ...        ...      ...   \n",
              "332737           7.0  ...               5               5          0  13.8924   \n",
              "332738           7.0  ...               5               5          0  21.1896   \n",
              "332739          -4.0  ...               5               5          0  24.3311   \n",
              "332740           3.0  ...               5               5          0  47.0956   \n",
              "332741          24.0  ...               5               5          0  51.0000   \n",
              "\n",
              "        from_last_distance   angle last_angle time_from_last  change_angle  \\\n",
              "0               154.275727  0.1747     1.4248             51        0.0000   \n",
              "1                50.477718  0.0000     0.4939             65        0.0000   \n",
              "2                 4.123106  0.0713     0.0000              6        0.0713   \n",
              "3                79.605276  0.8140     1.5137             53        0.0000   \n",
              "4                22.472205  0.0357     0.8330             37        0.0000   \n",
              "...                    ...     ...        ...            ...           ...   \n",
              "332737           33.600595  0.5281     0.8157             82        0.0000   \n",
              "332738           36.013886  0.3367     0.9441             51        0.0000   \n",
              "332739           11.704700  0.1651     0.3367             55        0.1716   \n",
              "332740                 NaN  0.0637        NaN             50        0.0000   \n",
              "332741           30.016662  0.4900     0.1355             50        0.0000   \n",
              "\n",
              "           speed  \n",
              "0       0.000000  \n",
              "1       0.000000  \n",
              "2       0.687184  \n",
              "3       0.000000  \n",
              "4       0.000000  \n",
              "...          ...  \n",
              "332737  0.000000  \n",
              "332738  0.000000  \n",
              "332739  0.212813  \n",
              "332740  0.000000  \n",
              "332741  0.000000  \n",
              "\n",
              "[332742 rows x 33 columns]"
            ],
            "text/html": [
              "\n",
              "  <div id=\"df-2c903791-e376-4b1b-bc9d-d41a424852a5\">\n",
              "    <div class=\"colab-df-container\">\n",
              "      <div>\n",
              "<style scoped>\n",
              "    .dataframe tbody tr th:only-of-type {\n",
              "        vertical-align: middle;\n",
              "    }\n",
              "\n",
              "    .dataframe tbody tr th {\n",
              "        vertical-align: top;\n",
              "    }\n",
              "\n",
              "    .dataframe thead th {\n",
              "        text-align: right;\n",
              "    }\n",
              "</style>\n",
              "<table border=\"1\" class=\"dataframe\">\n",
              "  <thead>\n",
              "    <tr style=\"text-align: right;\">\n",
              "      <th></th>\n",
              "      <th>Unnamed: 0</th>\n",
              "      <th>event_idx</th>\n",
              "      <th>period_time</th>\n",
              "      <th>period</th>\n",
              "      <th>game_id</th>\n",
              "      <th>team_away_name</th>\n",
              "      <th>team_home_name</th>\n",
              "      <th>is_goal</th>\n",
              "      <th>coordinate_x</th>\n",
              "      <th>coordinate_y</th>\n",
              "      <th>...</th>\n",
              "      <th>number_friendly</th>\n",
              "      <th>number_opposing</th>\n",
              "      <th>power_play</th>\n",
              "      <th>distance</th>\n",
              "      <th>from_last_distance</th>\n",
              "      <th>angle</th>\n",
              "      <th>last_angle</th>\n",
              "      <th>time_from_last</th>\n",
              "      <th>change_angle</th>\n",
              "      <th>speed</th>\n",
              "    </tr>\n",
              "  </thead>\n",
              "  <tbody>\n",
              "    <tr>\n",
              "      <th>0</th>\n",
              "      <td>0</td>\n",
              "      <td>7</td>\n",
              "      <td>00:51</td>\n",
              "      <td>1</td>\n",
              "      <td>2015020001</td>\n",
              "      <td>Montréal Canadiens</td>\n",
              "      <td>Toronto Maple Leafs</td>\n",
              "      <td>0</td>\n",
              "      <td>-55.0</td>\n",
              "      <td>6.0</td>\n",
              "      <td>...</td>\n",
              "      <td>5</td>\n",
              "      <td>5</td>\n",
              "      <td>0</td>\n",
              "      <td>34.5254</td>\n",
              "      <td>154.275727</td>\n",
              "      <td>0.1747</td>\n",
              "      <td>1.4248</td>\n",
              "      <td>51</td>\n",
              "      <td>0.0000</td>\n",
              "      <td>0.000000</td>\n",
              "    </tr>\n",
              "    <tr>\n",
              "      <th>1</th>\n",
              "      <td>1</td>\n",
              "      <td>9</td>\n",
              "      <td>01:05</td>\n",
              "      <td>1</td>\n",
              "      <td>2015020001</td>\n",
              "      <td>Montréal Canadiens</td>\n",
              "      <td>Toronto Maple Leafs</td>\n",
              "      <td>0</td>\n",
              "      <td>-79.0</td>\n",
              "      <td>0.0</td>\n",
              "      <td>...</td>\n",
              "      <td>5</td>\n",
              "      <td>5</td>\n",
              "      <td>0</td>\n",
              "      <td>10.0000</td>\n",
              "      <td>50.477718</td>\n",
              "      <td>0.0000</td>\n",
              "      <td>0.4939</td>\n",
              "      <td>65</td>\n",
              "      <td>0.0000</td>\n",
              "      <td>0.000000</td>\n",
              "    </tr>\n",
              "    <tr>\n",
              "      <th>2</th>\n",
              "      <td>2</td>\n",
              "      <td>10</td>\n",
              "      <td>01:06</td>\n",
              "      <td>1</td>\n",
              "      <td>2015020001</td>\n",
              "      <td>Montréal Canadiens</td>\n",
              "      <td>Toronto Maple Leafs</td>\n",
              "      <td>0</td>\n",
              "      <td>-75.0</td>\n",
              "      <td>-1.0</td>\n",
              "      <td>...</td>\n",
              "      <td>5</td>\n",
              "      <td>5</td>\n",
              "      <td>0</td>\n",
              "      <td>14.0357</td>\n",
              "      <td>4.123106</td>\n",
              "      <td>0.0713</td>\n",
              "      <td>0.0000</td>\n",
              "      <td>6</td>\n",
              "      <td>0.0713</td>\n",
              "      <td>0.687184</td>\n",
              "    </tr>\n",
              "    <tr>\n",
              "      <th>3</th>\n",
              "      <td>3</td>\n",
              "      <td>13</td>\n",
              "      <td>01:53</td>\n",
              "      <td>1</td>\n",
              "      <td>2015020001</td>\n",
              "      <td>Montréal Canadiens</td>\n",
              "      <td>Toronto Maple Leafs</td>\n",
              "      <td>0</td>\n",
              "      <td>-55.0</td>\n",
              "      <td>-36.0</td>\n",
              "      <td>...</td>\n",
              "      <td>5</td>\n",
              "      <td>5</td>\n",
              "      <td>0</td>\n",
              "      <td>49.5177</td>\n",
              "      <td>79.605276</td>\n",
              "      <td>0.8140</td>\n",
              "      <td>1.5137</td>\n",
              "      <td>53</td>\n",
              "      <td>0.0000</td>\n",
              "      <td>0.000000</td>\n",
              "    </tr>\n",
              "    <tr>\n",
              "      <th>4</th>\n",
              "      <td>4</td>\n",
              "      <td>21</td>\n",
              "      <td>02:37</td>\n",
              "      <td>1</td>\n",
              "      <td>2015020001</td>\n",
              "      <td>Montréal Canadiens</td>\n",
              "      <td>Toronto Maple Leafs</td>\n",
              "      <td>0</td>\n",
              "      <td>-61.0</td>\n",
              "      <td>-1.0</td>\n",
              "      <td>...</td>\n",
              "      <td>5</td>\n",
              "      <td>5</td>\n",
              "      <td>0</td>\n",
              "      <td>28.0179</td>\n",
              "      <td>22.472205</td>\n",
              "      <td>0.0357</td>\n",
              "      <td>0.8330</td>\n",
              "      <td>37</td>\n",
              "      <td>0.0000</td>\n",
              "      <td>0.000000</td>\n",
              "    </tr>\n",
              "    <tr>\n",
              "      <th>...</th>\n",
              "      <td>...</td>\n",
              "      <td>...</td>\n",
              "      <td>...</td>\n",
              "      <td>...</td>\n",
              "      <td>...</td>\n",
              "      <td>...</td>\n",
              "      <td>...</td>\n",
              "      <td>...</td>\n",
              "      <td>...</td>\n",
              "      <td>...</td>\n",
              "      <td>...</td>\n",
              "      <td>...</td>\n",
              "      <td>...</td>\n",
              "      <td>...</td>\n",
              "      <td>...</td>\n",
              "      <td>...</td>\n",
              "      <td>...</td>\n",
              "      <td>...</td>\n",
              "      <td>...</td>\n",
              "      <td>...</td>\n",
              "      <td>...</td>\n",
              "    </tr>\n",
              "    <tr>\n",
              "      <th>332737</th>\n",
              "      <td>332737</td>\n",
              "      <td>276</td>\n",
              "      <td>15:22</td>\n",
              "      <td>3</td>\n",
              "      <td>2015020001</td>\n",
              "      <td>Montréal Canadiens</td>\n",
              "      <td>Toronto Maple Leafs</td>\n",
              "      <td>1</td>\n",
              "      <td>-77.0</td>\n",
              "      <td>7.0</td>\n",
              "      <td>...</td>\n",
              "      <td>5</td>\n",
              "      <td>5</td>\n",
              "      <td>0</td>\n",
              "      <td>13.8924</td>\n",
              "      <td>33.600595</td>\n",
              "      <td>0.5281</td>\n",
              "      <td>0.8157</td>\n",
              "      <td>82</td>\n",
              "      <td>0.0000</td>\n",
              "      <td>0.000000</td>\n",
              "    </tr>\n",
              "    <tr>\n",
              "      <th>332738</th>\n",
              "      <td>332738</td>\n",
              "      <td>279</td>\n",
              "      <td>15:51</td>\n",
              "      <td>3</td>\n",
              "      <td>2015020001</td>\n",
              "      <td>Montréal Canadiens</td>\n",
              "      <td>Toronto Maple Leafs</td>\n",
              "      <td>0</td>\n",
              "      <td>-69.0</td>\n",
              "      <td>7.0</td>\n",
              "      <td>...</td>\n",
              "      <td>5</td>\n",
              "      <td>5</td>\n",
              "      <td>0</td>\n",
              "      <td>21.1896</td>\n",
              "      <td>36.013886</td>\n",
              "      <td>0.3367</td>\n",
              "      <td>0.9441</td>\n",
              "      <td>51</td>\n",
              "      <td>0.0000</td>\n",
              "      <td>0.000000</td>\n",
              "    </tr>\n",
              "    <tr>\n",
              "      <th>332739</th>\n",
              "      <td>332739</td>\n",
              "      <td>280</td>\n",
              "      <td>15:55</td>\n",
              "      <td>3</td>\n",
              "      <td>2015020001</td>\n",
              "      <td>Montréal Canadiens</td>\n",
              "      <td>Toronto Maple Leafs</td>\n",
              "      <td>0</td>\n",
              "      <td>-65.0</td>\n",
              "      <td>-4.0</td>\n",
              "      <td>...</td>\n",
              "      <td>5</td>\n",
              "      <td>5</td>\n",
              "      <td>0</td>\n",
              "      <td>24.3311</td>\n",
              "      <td>11.704700</td>\n",
              "      <td>0.1651</td>\n",
              "      <td>0.3367</td>\n",
              "      <td>55</td>\n",
              "      <td>0.1716</td>\n",
              "      <td>0.212813</td>\n",
              "    </tr>\n",
              "    <tr>\n",
              "      <th>332740</th>\n",
              "      <td>332740</td>\n",
              "      <td>284</td>\n",
              "      <td>16:50</td>\n",
              "      <td>3</td>\n",
              "      <td>2015020001</td>\n",
              "      <td>Montréal Canadiens</td>\n",
              "      <td>Toronto Maple Leafs</td>\n",
              "      <td>0</td>\n",
              "      <td>42.0</td>\n",
              "      <td>3.0</td>\n",
              "      <td>...</td>\n",
              "      <td>5</td>\n",
              "      <td>5</td>\n",
              "      <td>0</td>\n",
              "      <td>47.0956</td>\n",
              "      <td>NaN</td>\n",
              "      <td>0.0637</td>\n",
              "      <td>NaN</td>\n",
              "      <td>50</td>\n",
              "      <td>0.0000</td>\n",
              "      <td>0.000000</td>\n",
              "    </tr>\n",
              "    <tr>\n",
              "      <th>332741</th>\n",
              "      <td>332741</td>\n",
              "      <td>289</td>\n",
              "      <td>17:50</td>\n",
              "      <td>3</td>\n",
              "      <td>2015020001</td>\n",
              "      <td>Montréal Canadiens</td>\n",
              "      <td>Toronto Maple Leafs</td>\n",
              "      <td>1</td>\n",
              "      <td>44.0</td>\n",
              "      <td>24.0</td>\n",
              "      <td>...</td>\n",
              "      <td>5</td>\n",
              "      <td>5</td>\n",
              "      <td>0</td>\n",
              "      <td>51.0000</td>\n",
              "      <td>30.016662</td>\n",
              "      <td>0.4900</td>\n",
              "      <td>0.1355</td>\n",
              "      <td>50</td>\n",
              "      <td>0.0000</td>\n",
              "      <td>0.000000</td>\n",
              "    </tr>\n",
              "  </tbody>\n",
              "</table>\n",
              "<p>332742 rows × 33 columns</p>\n",
              "</div>\n",
              "      <button class=\"colab-df-convert\" onclick=\"convertToInteractive('df-2c903791-e376-4b1b-bc9d-d41a424852a5')\"\n",
              "              title=\"Convert this dataframe to an interactive table.\"\n",
              "              style=\"display:none;\">\n",
              "        \n",
              "  <svg xmlns=\"http://www.w3.org/2000/svg\" height=\"24px\"viewBox=\"0 0 24 24\"\n",
              "       width=\"24px\">\n",
              "    <path d=\"M0 0h24v24H0V0z\" fill=\"none\"/>\n",
              "    <path d=\"M18.56 5.44l.94 2.06.94-2.06 2.06-.94-2.06-.94-.94-2.06-.94 2.06-2.06.94zm-11 1L8.5 8.5l.94-2.06 2.06-.94-2.06-.94L8.5 2.5l-.94 2.06-2.06.94zm10 10l.94 2.06.94-2.06 2.06-.94-2.06-.94-.94-2.06-.94 2.06-2.06.94z\"/><path d=\"M17.41 7.96l-1.37-1.37c-.4-.4-.92-.59-1.43-.59-.52 0-1.04.2-1.43.59L10.3 9.45l-7.72 7.72c-.78.78-.78 2.05 0 2.83L4 21.41c.39.39.9.59 1.41.59.51 0 1.02-.2 1.41-.59l7.78-7.78 2.81-2.81c.8-.78.8-2.07 0-2.86zM5.41 20L4 18.59l7.72-7.72 1.47 1.35L5.41 20z\"/>\n",
              "  </svg>\n",
              "      </button>\n",
              "      \n",
              "  <style>\n",
              "    .colab-df-container {\n",
              "      display:flex;\n",
              "      flex-wrap:wrap;\n",
              "      gap: 12px;\n",
              "    }\n",
              "\n",
              "    .colab-df-convert {\n",
              "      background-color: #E8F0FE;\n",
              "      border: none;\n",
              "      border-radius: 50%;\n",
              "      cursor: pointer;\n",
              "      display: none;\n",
              "      fill: #1967D2;\n",
              "      height: 32px;\n",
              "      padding: 0 0 0 0;\n",
              "      width: 32px;\n",
              "    }\n",
              "\n",
              "    .colab-df-convert:hover {\n",
              "      background-color: #E2EBFA;\n",
              "      box-shadow: 0px 1px 2px rgba(60, 64, 67, 0.3), 0px 1px 3px 1px rgba(60, 64, 67, 0.15);\n",
              "      fill: #174EA6;\n",
              "    }\n",
              "\n",
              "    [theme=dark] .colab-df-convert {\n",
              "      background-color: #3B4455;\n",
              "      fill: #D2E3FC;\n",
              "    }\n",
              "\n",
              "    [theme=dark] .colab-df-convert:hover {\n",
              "      background-color: #434B5C;\n",
              "      box-shadow: 0px 1px 3px 1px rgba(0, 0, 0, 0.15);\n",
              "      filter: drop-shadow(0px 1px 2px rgba(0, 0, 0, 0.3));\n",
              "      fill: #FFFFFF;\n",
              "    }\n",
              "  </style>\n",
              "\n",
              "      <script>\n",
              "        const buttonEl =\n",
              "          document.querySelector('#df-2c903791-e376-4b1b-bc9d-d41a424852a5 button.colab-df-convert');\n",
              "        buttonEl.style.display =\n",
              "          google.colab.kernel.accessAllowed ? 'block' : 'none';\n",
              "\n",
              "        async function convertToInteractive(key) {\n",
              "          const element = document.querySelector('#df-2c903791-e376-4b1b-bc9d-d41a424852a5');\n",
              "          const dataTable =\n",
              "            await google.colab.kernel.invokeFunction('convertToInteractive',\n",
              "                                                     [key], {});\n",
              "          if (!dataTable) return;\n",
              "\n",
              "          const docLinkHtml = 'Like what you see? Visit the ' +\n",
              "            '<a target=\"_blank\" href=https://colab.research.google.com/notebooks/data_table.ipynb>data table notebook</a>'\n",
              "            + ' to learn more about interactive tables.';\n",
              "          element.innerHTML = '';\n",
              "          dataTable['output_type'] = 'display_data';\n",
              "          await google.colab.output.renderOutput(dataTable, element);\n",
              "          const docLink = document.createElement('div');\n",
              "          docLink.innerHTML = docLinkHtml;\n",
              "          element.appendChild(docLink);\n",
              "        }\n",
              "      </script>\n",
              "    </div>\n",
              "  </div>\n",
              "  "
            ]
          },
          "metadata": {},
          "execution_count": 5
        }
      ],
      "source": [
        "df_train"
      ]
    },
    {
      "cell_type": "code",
      "execution_count": 6,
      "id": "2f12d477",
      "metadata": {
        "id": "2f12d477"
      },
      "outputs": [],
      "source": [
        "df_test = df_test.fillna(0)\n",
        "test_data = df_test[columns]\n",
        "test_label = df_test['is_goal']"
      ]
    },
    {
      "cell_type": "code",
      "execution_count": 7,
      "id": "9d7d3487",
      "metadata": {
        "id": "9d7d3487"
      },
      "outputs": [],
      "source": [
        "df_prep = df_train.fillna(0)\n",
        "y = df_prep['is_goal']\n",
        "X = df_prep[columns].astype(float)\n",
        "X_train, X_test, y_train, y_test = train_test_split(X, y, stratify=y, test_size=0.2, random_state=0)"
      ]
    },
    {
      "cell_type": "code",
      "execution_count": 8,
      "id": "af24798c",
      "metadata": {
        "colab": {
          "base_uri": "https://localhost:8080/",
          "height": 488
        },
        "id": "af24798c",
        "outputId": "6541e12e-dc57-43f4-e6f2-337b70f238b8"
      },
      "outputs": [
        {
          "output_type": "execute_result",
          "data": {
            "text/plain": [
              "        period  coordinate_x  coordinate_y  empty_net  last_coord_x  \\\n",
              "0          1.0         -55.0           6.0        0.0          94.0   \n",
              "1          1.0         -79.0           0.0        0.0         -37.0   \n",
              "2          1.0         -75.0          -1.0        0.0         -79.0   \n",
              "3          1.0         -55.0         -36.0        0.0         -91.0   \n",
              "4          1.0         -61.0          -1.0        0.0         -69.0   \n",
              "...        ...           ...           ...        ...           ...   \n",
              "332737     3.0         -77.0           7.0        0.0         -57.0   \n",
              "332738     3.0         -69.0           7.0        0.0         -68.0   \n",
              "332739     3.0         -65.0          -4.0        0.0         -69.0   \n",
              "332740     3.0          42.0           3.0        0.0           0.0   \n",
              "332741     3.0          44.0          24.0        0.0          45.0   \n",
              "\n",
              "        last_coord_y  last_period  number_friendly  number_opposing  \\\n",
              "0              -34.0          1.0              5.0              5.0   \n",
              "1              -28.0          1.0              5.0              5.0   \n",
              "2                0.0          1.0              5.0              5.0   \n",
              "3               35.0          1.0              5.0              5.0   \n",
              "4              -22.0          1.0              5.0              5.0   \n",
              "...              ...          ...              ...              ...   \n",
              "332737          34.0          3.0              5.0              5.0   \n",
              "332738         -29.0          3.0              5.0              5.0   \n",
              "332739           7.0          3.0              5.0              5.0   \n",
              "332740           0.0          3.0              5.0              5.0   \n",
              "332741          -6.0          3.0              5.0              5.0   \n",
              "\n",
              "        power_play  distance  from_last_distance   angle  last_angle  \\\n",
              "0              0.0   34.5254          154.275727  0.1747      1.4248   \n",
              "1              0.0   10.0000           50.477718  0.0000      0.4939   \n",
              "2              0.0   14.0357            4.123106  0.0713      0.0000   \n",
              "3              0.0   49.5177           79.605276  0.8140      1.5137   \n",
              "4              0.0   28.0179           22.472205  0.0357      0.8330   \n",
              "...            ...       ...                 ...     ...         ...   \n",
              "332737         0.0   13.8924           33.600595  0.5281      0.8157   \n",
              "332738         0.0   21.1896           36.013886  0.3367      0.9441   \n",
              "332739         0.0   24.3311           11.704700  0.1651      0.3367   \n",
              "332740         0.0   47.0956            0.000000  0.0637      0.0000   \n",
              "332741         0.0   51.0000           30.016662  0.4900      0.1355   \n",
              "\n",
              "        time_from_last  change_angle  \n",
              "0                 51.0        0.0000  \n",
              "1                 65.0        0.0000  \n",
              "2                  6.0        0.0713  \n",
              "3                 53.0        0.0000  \n",
              "4                 37.0        0.0000  \n",
              "...                ...           ...  \n",
              "332737            82.0        0.0000  \n",
              "332738            51.0        0.0000  \n",
              "332739            55.0        0.1716  \n",
              "332740            50.0        0.0000  \n",
              "332741            50.0        0.0000  \n",
              "\n",
              "[332742 rows x 16 columns]"
            ],
            "text/html": [
              "\n",
              "  <div id=\"df-ea9ebcd9-aa24-487d-8ef5-a3718829cf07\">\n",
              "    <div class=\"colab-df-container\">\n",
              "      <div>\n",
              "<style scoped>\n",
              "    .dataframe tbody tr th:only-of-type {\n",
              "        vertical-align: middle;\n",
              "    }\n",
              "\n",
              "    .dataframe tbody tr th {\n",
              "        vertical-align: top;\n",
              "    }\n",
              "\n",
              "    .dataframe thead th {\n",
              "        text-align: right;\n",
              "    }\n",
              "</style>\n",
              "<table border=\"1\" class=\"dataframe\">\n",
              "  <thead>\n",
              "    <tr style=\"text-align: right;\">\n",
              "      <th></th>\n",
              "      <th>period</th>\n",
              "      <th>coordinate_x</th>\n",
              "      <th>coordinate_y</th>\n",
              "      <th>empty_net</th>\n",
              "      <th>last_coord_x</th>\n",
              "      <th>last_coord_y</th>\n",
              "      <th>last_period</th>\n",
              "      <th>number_friendly</th>\n",
              "      <th>number_opposing</th>\n",
              "      <th>power_play</th>\n",
              "      <th>distance</th>\n",
              "      <th>from_last_distance</th>\n",
              "      <th>angle</th>\n",
              "      <th>last_angle</th>\n",
              "      <th>time_from_last</th>\n",
              "      <th>change_angle</th>\n",
              "    </tr>\n",
              "  </thead>\n",
              "  <tbody>\n",
              "    <tr>\n",
              "      <th>0</th>\n",
              "      <td>1.0</td>\n",
              "      <td>-55.0</td>\n",
              "      <td>6.0</td>\n",
              "      <td>0.0</td>\n",
              "      <td>94.0</td>\n",
              "      <td>-34.0</td>\n",
              "      <td>1.0</td>\n",
              "      <td>5.0</td>\n",
              "      <td>5.0</td>\n",
              "      <td>0.0</td>\n",
              "      <td>34.5254</td>\n",
              "      <td>154.275727</td>\n",
              "      <td>0.1747</td>\n",
              "      <td>1.4248</td>\n",
              "      <td>51.0</td>\n",
              "      <td>0.0000</td>\n",
              "    </tr>\n",
              "    <tr>\n",
              "      <th>1</th>\n",
              "      <td>1.0</td>\n",
              "      <td>-79.0</td>\n",
              "      <td>0.0</td>\n",
              "      <td>0.0</td>\n",
              "      <td>-37.0</td>\n",
              "      <td>-28.0</td>\n",
              "      <td>1.0</td>\n",
              "      <td>5.0</td>\n",
              "      <td>5.0</td>\n",
              "      <td>0.0</td>\n",
              "      <td>10.0000</td>\n",
              "      <td>50.477718</td>\n",
              "      <td>0.0000</td>\n",
              "      <td>0.4939</td>\n",
              "      <td>65.0</td>\n",
              "      <td>0.0000</td>\n",
              "    </tr>\n",
              "    <tr>\n",
              "      <th>2</th>\n",
              "      <td>1.0</td>\n",
              "      <td>-75.0</td>\n",
              "      <td>-1.0</td>\n",
              "      <td>0.0</td>\n",
              "      <td>-79.0</td>\n",
              "      <td>0.0</td>\n",
              "      <td>1.0</td>\n",
              "      <td>5.0</td>\n",
              "      <td>5.0</td>\n",
              "      <td>0.0</td>\n",
              "      <td>14.0357</td>\n",
              "      <td>4.123106</td>\n",
              "      <td>0.0713</td>\n",
              "      <td>0.0000</td>\n",
              "      <td>6.0</td>\n",
              "      <td>0.0713</td>\n",
              "    </tr>\n",
              "    <tr>\n",
              "      <th>3</th>\n",
              "      <td>1.0</td>\n",
              "      <td>-55.0</td>\n",
              "      <td>-36.0</td>\n",
              "      <td>0.0</td>\n",
              "      <td>-91.0</td>\n",
              "      <td>35.0</td>\n",
              "      <td>1.0</td>\n",
              "      <td>5.0</td>\n",
              "      <td>5.0</td>\n",
              "      <td>0.0</td>\n",
              "      <td>49.5177</td>\n",
              "      <td>79.605276</td>\n",
              "      <td>0.8140</td>\n",
              "      <td>1.5137</td>\n",
              "      <td>53.0</td>\n",
              "      <td>0.0000</td>\n",
              "    </tr>\n",
              "    <tr>\n",
              "      <th>4</th>\n",
              "      <td>1.0</td>\n",
              "      <td>-61.0</td>\n",
              "      <td>-1.0</td>\n",
              "      <td>0.0</td>\n",
              "      <td>-69.0</td>\n",
              "      <td>-22.0</td>\n",
              "      <td>1.0</td>\n",
              "      <td>5.0</td>\n",
              "      <td>5.0</td>\n",
              "      <td>0.0</td>\n",
              "      <td>28.0179</td>\n",
              "      <td>22.472205</td>\n",
              "      <td>0.0357</td>\n",
              "      <td>0.8330</td>\n",
              "      <td>37.0</td>\n",
              "      <td>0.0000</td>\n",
              "    </tr>\n",
              "    <tr>\n",
              "      <th>...</th>\n",
              "      <td>...</td>\n",
              "      <td>...</td>\n",
              "      <td>...</td>\n",
              "      <td>...</td>\n",
              "      <td>...</td>\n",
              "      <td>...</td>\n",
              "      <td>...</td>\n",
              "      <td>...</td>\n",
              "      <td>...</td>\n",
              "      <td>...</td>\n",
              "      <td>...</td>\n",
              "      <td>...</td>\n",
              "      <td>...</td>\n",
              "      <td>...</td>\n",
              "      <td>...</td>\n",
              "      <td>...</td>\n",
              "    </tr>\n",
              "    <tr>\n",
              "      <th>332737</th>\n",
              "      <td>3.0</td>\n",
              "      <td>-77.0</td>\n",
              "      <td>7.0</td>\n",
              "      <td>0.0</td>\n",
              "      <td>-57.0</td>\n",
              "      <td>34.0</td>\n",
              "      <td>3.0</td>\n",
              "      <td>5.0</td>\n",
              "      <td>5.0</td>\n",
              "      <td>0.0</td>\n",
              "      <td>13.8924</td>\n",
              "      <td>33.600595</td>\n",
              "      <td>0.5281</td>\n",
              "      <td>0.8157</td>\n",
              "      <td>82.0</td>\n",
              "      <td>0.0000</td>\n",
              "    </tr>\n",
              "    <tr>\n",
              "      <th>332738</th>\n",
              "      <td>3.0</td>\n",
              "      <td>-69.0</td>\n",
              "      <td>7.0</td>\n",
              "      <td>0.0</td>\n",
              "      <td>-68.0</td>\n",
              "      <td>-29.0</td>\n",
              "      <td>3.0</td>\n",
              "      <td>5.0</td>\n",
              "      <td>5.0</td>\n",
              "      <td>0.0</td>\n",
              "      <td>21.1896</td>\n",
              "      <td>36.013886</td>\n",
              "      <td>0.3367</td>\n",
              "      <td>0.9441</td>\n",
              "      <td>51.0</td>\n",
              "      <td>0.0000</td>\n",
              "    </tr>\n",
              "    <tr>\n",
              "      <th>332739</th>\n",
              "      <td>3.0</td>\n",
              "      <td>-65.0</td>\n",
              "      <td>-4.0</td>\n",
              "      <td>0.0</td>\n",
              "      <td>-69.0</td>\n",
              "      <td>7.0</td>\n",
              "      <td>3.0</td>\n",
              "      <td>5.0</td>\n",
              "      <td>5.0</td>\n",
              "      <td>0.0</td>\n",
              "      <td>24.3311</td>\n",
              "      <td>11.704700</td>\n",
              "      <td>0.1651</td>\n",
              "      <td>0.3367</td>\n",
              "      <td>55.0</td>\n",
              "      <td>0.1716</td>\n",
              "    </tr>\n",
              "    <tr>\n",
              "      <th>332740</th>\n",
              "      <td>3.0</td>\n",
              "      <td>42.0</td>\n",
              "      <td>3.0</td>\n",
              "      <td>0.0</td>\n",
              "      <td>0.0</td>\n",
              "      <td>0.0</td>\n",
              "      <td>3.0</td>\n",
              "      <td>5.0</td>\n",
              "      <td>5.0</td>\n",
              "      <td>0.0</td>\n",
              "      <td>47.0956</td>\n",
              "      <td>0.000000</td>\n",
              "      <td>0.0637</td>\n",
              "      <td>0.0000</td>\n",
              "      <td>50.0</td>\n",
              "      <td>0.0000</td>\n",
              "    </tr>\n",
              "    <tr>\n",
              "      <th>332741</th>\n",
              "      <td>3.0</td>\n",
              "      <td>44.0</td>\n",
              "      <td>24.0</td>\n",
              "      <td>0.0</td>\n",
              "      <td>45.0</td>\n",
              "      <td>-6.0</td>\n",
              "      <td>3.0</td>\n",
              "      <td>5.0</td>\n",
              "      <td>5.0</td>\n",
              "      <td>0.0</td>\n",
              "      <td>51.0000</td>\n",
              "      <td>30.016662</td>\n",
              "      <td>0.4900</td>\n",
              "      <td>0.1355</td>\n",
              "      <td>50.0</td>\n",
              "      <td>0.0000</td>\n",
              "    </tr>\n",
              "  </tbody>\n",
              "</table>\n",
              "<p>332742 rows × 16 columns</p>\n",
              "</div>\n",
              "      <button class=\"colab-df-convert\" onclick=\"convertToInteractive('df-ea9ebcd9-aa24-487d-8ef5-a3718829cf07')\"\n",
              "              title=\"Convert this dataframe to an interactive table.\"\n",
              "              style=\"display:none;\">\n",
              "        \n",
              "  <svg xmlns=\"http://www.w3.org/2000/svg\" height=\"24px\"viewBox=\"0 0 24 24\"\n",
              "       width=\"24px\">\n",
              "    <path d=\"M0 0h24v24H0V0z\" fill=\"none\"/>\n",
              "    <path d=\"M18.56 5.44l.94 2.06.94-2.06 2.06-.94-2.06-.94-.94-2.06-.94 2.06-2.06.94zm-11 1L8.5 8.5l.94-2.06 2.06-.94-2.06-.94L8.5 2.5l-.94 2.06-2.06.94zm10 10l.94 2.06.94-2.06 2.06-.94-2.06-.94-.94-2.06-.94 2.06-2.06.94z\"/><path d=\"M17.41 7.96l-1.37-1.37c-.4-.4-.92-.59-1.43-.59-.52 0-1.04.2-1.43.59L10.3 9.45l-7.72 7.72c-.78.78-.78 2.05 0 2.83L4 21.41c.39.39.9.59 1.41.59.51 0 1.02-.2 1.41-.59l7.78-7.78 2.81-2.81c.8-.78.8-2.07 0-2.86zM5.41 20L4 18.59l7.72-7.72 1.47 1.35L5.41 20z\"/>\n",
              "  </svg>\n",
              "      </button>\n",
              "      \n",
              "  <style>\n",
              "    .colab-df-container {\n",
              "      display:flex;\n",
              "      flex-wrap:wrap;\n",
              "      gap: 12px;\n",
              "    }\n",
              "\n",
              "    .colab-df-convert {\n",
              "      background-color: #E8F0FE;\n",
              "      border: none;\n",
              "      border-radius: 50%;\n",
              "      cursor: pointer;\n",
              "      display: none;\n",
              "      fill: #1967D2;\n",
              "      height: 32px;\n",
              "      padding: 0 0 0 0;\n",
              "      width: 32px;\n",
              "    }\n",
              "\n",
              "    .colab-df-convert:hover {\n",
              "      background-color: #E2EBFA;\n",
              "      box-shadow: 0px 1px 2px rgba(60, 64, 67, 0.3), 0px 1px 3px 1px rgba(60, 64, 67, 0.15);\n",
              "      fill: #174EA6;\n",
              "    }\n",
              "\n",
              "    [theme=dark] .colab-df-convert {\n",
              "      background-color: #3B4455;\n",
              "      fill: #D2E3FC;\n",
              "    }\n",
              "\n",
              "    [theme=dark] .colab-df-convert:hover {\n",
              "      background-color: #434B5C;\n",
              "      box-shadow: 0px 1px 3px 1px rgba(0, 0, 0, 0.15);\n",
              "      filter: drop-shadow(0px 1px 2px rgba(0, 0, 0, 0.3));\n",
              "      fill: #FFFFFF;\n",
              "    }\n",
              "  </style>\n",
              "\n",
              "      <script>\n",
              "        const buttonEl =\n",
              "          document.querySelector('#df-ea9ebcd9-aa24-487d-8ef5-a3718829cf07 button.colab-df-convert');\n",
              "        buttonEl.style.display =\n",
              "          google.colab.kernel.accessAllowed ? 'block' : 'none';\n",
              "\n",
              "        async function convertToInteractive(key) {\n",
              "          const element = document.querySelector('#df-ea9ebcd9-aa24-487d-8ef5-a3718829cf07');\n",
              "          const dataTable =\n",
              "            await google.colab.kernel.invokeFunction('convertToInteractive',\n",
              "                                                     [key], {});\n",
              "          if (!dataTable) return;\n",
              "\n",
              "          const docLinkHtml = 'Like what you see? Visit the ' +\n",
              "            '<a target=\"_blank\" href=https://colab.research.google.com/notebooks/data_table.ipynb>data table notebook</a>'\n",
              "            + ' to learn more about interactive tables.';\n",
              "          element.innerHTML = '';\n",
              "          dataTable['output_type'] = 'display_data';\n",
              "          await google.colab.output.renderOutput(dataTable, element);\n",
              "          const docLink = document.createElement('div');\n",
              "          docLink.innerHTML = docLinkHtml;\n",
              "          element.appendChild(docLink);\n",
              "        }\n",
              "      </script>\n",
              "    </div>\n",
              "  </div>\n",
              "  "
            ]
          },
          "metadata": {},
          "execution_count": 8
        }
      ],
      "source": [
        "X"
      ]
    },
    {
      "cell_type": "code",
      "execution_count": 9,
      "id": "98578505",
      "metadata": {
        "colab": {
          "base_uri": "https://localhost:8080/"
        },
        "id": "98578505",
        "outputId": "f6fcdba4-2c0f-4b67-dc54-ed0eb38a3a70"
      },
      "outputs": [
        {
          "output_type": "stream",
          "name": "stdout",
          "text": [
            "(266193, 16)\n",
            "(266193,)\n",
            "(66549, 16)\n",
            "(66549,)\n"
          ]
        }
      ],
      "source": [
        "print(X_train.shape)\n",
        "print(y_train.shape)\n",
        "print(X_test.shape)\n",
        "print(y_test.shape)"
      ]
    },
    {
      "cell_type": "code",
      "source": [
        "os.environ['COMET_API_KEY'] = 'c2REbE8eQaoRTP059ajV8VYn9'\n"
      ],
      "metadata": {
        "id": "3D_JmqxQIWoF"
      },
      "id": "3D_JmqxQIWoF",
      "execution_count": 22,
      "outputs": []
    },
    {
      "cell_type": "code",
      "source": [
        "COMET_API_KEY = os.environ.get(\"COMET_API_KEY\")"
      ],
      "metadata": {
        "id": "-KSAaEZ1Is2s"
      },
      "id": "-KSAaEZ1Is2s",
      "execution_count": 24,
      "outputs": []
    },
    {
      "cell_type": "code",
      "source": [
        "experiment = Experiment(\n",
        "    api_key=COMET_API_KEY,\n",
        "    project_name=\"ift-6758\",\n",
        "    workspace=\"ift-6758-2\",\n",
        ")"
      ],
      "metadata": {
        "colab": {
          "base_uri": "https://localhost:8080/"
        },
        "id": "2NMvEQ0rIq7Z",
        "outputId": "e31b9ada-7dc2-42f7-98ac-4e98bf240217"
      },
      "id": "2NMvEQ0rIq7Z",
      "execution_count": 25,
      "outputs": [
        {
          "output_type": "stream",
          "name": "stderr",
          "text": [
            "COMET WARNING: Comet has disabled auto-logging functionality as it has been imported after the following ML modules: sklearn. Metrics and hyperparameters can still be logged using comet_ml.log_metrics() and comet_ml.log_parameters()\n",
            "COMET WARNING: As you are running in a Jupyter environment, you will need to call `experiment.end()` when finished to ensure all metrics and code are logged before exiting.\n",
            "COMET ERROR: Failed to calculate active processors count. Fall back to default CPU count 1\n",
            "COMET INFO: Couldn't find a Git repository in '/content' nor in any parent directory. You can override where Comet is looking for a Git Patch by setting the configuration `COMET_GIT_DIRECTORY`\n",
            "COMET INFO: Experiment is live on comet.com https://www.comet.com/ift-6758-2/ift-6758/208016e6d69d4c608fd00c00a005956b\n",
            "\n"
          ]
        }
      ]
    },
    {
      "cell_type": "markdown",
      "id": "945d0140",
      "metadata": {
        "id": "945d0140"
      },
      "source": [
        "# Logistic Regression "
      ]
    },
    {
      "cell_type": "code",
      "execution_count": 10,
      "id": "de7b44ab",
      "metadata": {
        "colab": {
          "base_uri": "https://localhost:8080/"
        },
        "id": "de7b44ab",
        "outputId": "932354db-f9c9-4fed-f741-3ad9ec99dc0e"
      },
      "outputs": [
        {
          "output_type": "stream",
          "name": "stdout",
          "text": [
            "16\n",
            "1.0\n"
          ]
        }
      ],
      "source": [
        "pca = PCA()\n",
        "X_train = StandardScaler().fit_transform(X_train)\n",
        "pca.fit(X_train)\n",
        "explained_variance = pca.explained_variance_ratio_\n",
        "print(len(explained_variance))\n",
        "print(sum(explained_variance[0:15]))"
      ]
    },
    {
      "cell_type": "code",
      "execution_count": 11,
      "id": "b7d8aed0",
      "metadata": {
        "colab": {
          "base_uri": "https://localhost:8080/",
          "height": 424
        },
        "id": "b7d8aed0",
        "outputId": "2054674a-1cf4-495f-d465-1ed2cf8f948a"
      },
      "outputs": [
        {
          "output_type": "stream",
          "name": "stdout",
          "text": [
            "Fitting 5 folds for each of 16 candidates, totalling 80 fits\n"
          ]
        },
        {
          "output_type": "stream",
          "name": "stderr",
          "text": [
            "/usr/local/lib/python3.7/dist-packages/joblib/externals/loky/process_executor.py:703: UserWarning: A worker stopped while some jobs were given to the executor. This can be caused by a too short worker timeout or by a memory leak.\n",
            "  \"timeout or by a memory leak.\", UserWarning\n"
          ]
        },
        {
          "output_type": "stream",
          "name": "stdout",
          "text": [
            "Best parameter (CV score=0.911):\n",
            "{'logistic__C': 0.046415888336127774, 'pca__n_components': 13}\n"
          ]
        },
        {
          "output_type": "stream",
          "name": "stderr",
          "text": [
            "/usr/local/lib/python3.7/dist-packages/sklearn/base.py:444: UserWarning: X has feature names, but StandardScaler was fitted without feature names\n",
            "  f\"X has feature names, but {self.__class__.__name__} was fitted without\"\n"
          ]
        },
        {
          "output_type": "display_data",
          "data": {
            "text/plain": [
              "<Figure size 432x288 with 2 Axes>"
            ],
            "image/png": "[encoded data removed]"
          },
          "metadata": {
            "needs_background": "light"
          }
        }
      ],
      "source": [
        "pca = PCA()\n",
        "\n",
        "\n",
        "# set the tolerance to a large value to make the example faster\n",
        "logistic = LogisticRegression(max_iter=10000, tol=0.1)\n",
        "\n",
        "pipe = Pipeline(steps=[('scaler', StandardScaler()), (\"pca\", pca), (\"logistic\", logistic)])\n",
        "\n",
        "# Parameters of pipelines can be set using ‘__’ separated parameter names:\n",
        "param_grid = {\n",
        "    \"pca__n_components\": [7 ,10, 11,13],\n",
        "    \"logistic__C\": np.logspace(-4, 4, 4),\n",
        "}\n",
        "\n",
        "search_logR = GridSearchCV(pipe, param_grid, n_jobs=-1, verbose=10)\n",
        "search_logR.fit(X_train, y_train)\n",
        "\n",
        "\n",
        "\n",
        "print(\"Best parameter (CV score=%0.3f):\" % search_logR.best_score_)\n",
        "print(search_logR.best_params_)\n",
        "\n",
        "\n",
        "\n",
        "ConfusionMatrixDisplay.from_estimator(search_logR, X_test, y_test,\n",
        "                                display_labels=['No_Goal','Goal'],\n",
        "                                cmap=plt.cm.Blues)\n",
        "plt.show()"
      ]
    },
    {
      "cell_type": "code",
      "execution_count": 28,
      "id": "f04bfcba",
      "metadata": {
        "colab": {
          "base_uri": "https://localhost:8080/"
        },
        "id": "f04bfcba",
        "outputId": "968f1ebd-d41f-4886-ab83-e15515310fd5"
      },
      "outputs": [
        {
          "output_type": "stream",
          "name": "stderr",
          "text": [
            "/usr/local/lib/python3.7/dist-packages/sklearn/base.py:444: UserWarning: X has feature names, but StandardScaler was fitted without feature names\n",
            "  f\"X has feature names, but {self.__class__.__name__} was fitted without\"\n"
          ]
        }
      ],
      "source": [
        "acc_score = search_logR.score(test_data,test_label)\n",
        "experiment.log_metric(\"Accuracy score Logistic Regression\", acc_score)"
      ]
    },
    {
      "cell_type": "code",
      "source": [
        "acc_score"
      ],
      "metadata": {
        "colab": {
          "base_uri": "https://localhost:8080/"
        },
        "id": "kzoqrY7_Yk1F",
        "outputId": "4e4ee3f9-0139-4d14-84de-ee5c1e5f43c6"
      },
      "id": "kzoqrY7_Yk1F",
      "execution_count": 60,
      "outputs": [
        {
          "output_type": "execute_result",
          "data": {
            "text/plain": [
              "0.9034887026683093"
            ]
          },
          "metadata": {},
          "execution_count": 60
        }
      ]
    },
    {
      "cell_type": "code",
      "source": [
        "y_predict = search_logR.predict(test_data)"
      ],
      "metadata": {
        "colab": {
          "base_uri": "https://localhost:8080/"
        },
        "id": "gGwsLO8oJO-C",
        "outputId": "d1d85b78-993e-44a9-f9bf-c545f357db88"
      },
      "id": "gGwsLO8oJO-C",
      "execution_count": 26,
      "outputs": [
        {
          "output_type": "stream",
          "name": "stderr",
          "text": [
            "/usr/local/lib/python3.7/dist-packages/sklearn/base.py:444: UserWarning: X has feature names, but StandardScaler was fitted without feature names\n",
            "  f\"X has feature names, but {self.__class__.__name__} was fitted without\"\n"
          ]
        }
      ]
    },
    {
      "cell_type": "code",
      "source": [
        "experiment.log_confusion_matrix(test_label,y_predict)"
      ],
      "metadata": {
        "colab": {
          "base_uri": "https://localhost:8080/"
        },
        "id": "furEYv9oJf06",
        "outputId": "970d78cb-caf3-4d9f-8573-283d557e8b97"
      },
      "id": "furEYv9oJf06",
      "execution_count": 30,
      "outputs": [
        {
          "output_type": "execute_result",
          "data": {
            "text/plain": [
              "{'web': 'https://www.comet.com/api/asset/download?assetId=feb74c34930440899e980d49f3e7caa8&experimentKey=208016e6d69d4c608fd00c00a005956b',\n",
              " 'api': 'https://www.comet.com/api/rest/v2/experiment/asset/get-asset?assetId=feb74c34930440899e980d49f3e7caa8&experimentKey=208016e6d69d4c608fd00c00a005956b',\n",
              " 'assetId': 'feb74c34930440899e980d49f3e7caa8'}"
            ]
          },
          "metadata": {},
          "execution_count": 30
        }
      ]
    },
    {
      "cell_type": "code",
      "execution_count": 31,
      "id": "71a71f1d",
      "metadata": {
        "colab": {
          "base_uri": "https://localhost:8080/",
          "height": 419
        },
        "id": "71a71f1d",
        "outputId": "ed0921ea-95ae-41b9-ae3e-ffb832709273"
      },
      "outputs": [
        {
          "output_type": "stream",
          "name": "stderr",
          "text": [
            "/usr/local/lib/python3.7/dist-packages/sklearn/base.py:444: UserWarning: X has feature names, but StandardScaler was fitted without feature names\n",
            "  f\"X has feature names, but {self.__class__.__name__} was fitted without\"\n"
          ]
        },
        {
          "output_type": "display_data",
          "data": {
            "text/plain": [
              "<Figure size 432x288 with 1 Axes>"
            ],
            "image/png": "[encoded data removed]"
          },
          "metadata": {
            "needs_background": "light"
          }
        },
        {
          "output_type": "execute_result",
          "data": {
            "text/plain": [
              "{'web': 'https://www.comet.com/api/asset/download?assetId=ed104ebdd45f4460a8a5628414bd35c7&experimentKey=208016e6d69d4c608fd00c00a005956b',\n",
              " 'api': 'https://www.comet.com/api/rest/v2/experiment/asset/get-asset?assetId=ed104ebdd45f4460a8a5628414bd35c7&experimentKey=208016e6d69d4c608fd00c00a005956b',\n",
              " 'assetId': 'ed104ebdd45f4460a8a5628414bd35c7'}"
            ]
          },
          "metadata": {},
          "execution_count": 31
        }
      ],
      "source": [
        "#plot roc\n",
        "from sklearn.metrics import roc_curve, auc\n",
        "\n",
        "y_score = search_logR.decision_function(X_test)\n",
        "fpr, tpr, _ = roc_curve(y_test, y_score)\n",
        "roc_auc = auc(fpr, tpr)\n",
        "\n",
        "plt.figure()\n",
        "lw = 2\n",
        "plt.plot(\n",
        "    fpr,\n",
        "    tpr,\n",
        "    color=\"darkorange\",\n",
        "    lw=lw,\n",
        "    label=\"ROC curve (area = %0.2f)\" % roc_auc,\n",
        ")\n",
        "plt.plot([0, 1], [0, 1], color=\"navy\", lw=lw, linestyle=\"--\")\n",
        "plt.xlim([0.0, 1.0])\n",
        "plt.ylim([0.0, 1.05])\n",
        "plt.xlabel(\"False Positive Rate\")\n",
        "plt.ylabel(\"True Positive Rate\")\n",
        "plt.title(\"ROC of Logistic Regression\")\n",
        "plt.legend(loc=\"lower right\")\n",
        "\n",
        "\n",
        "plt.show()\n",
        "experiment.log_curve(f\"ROC - Logistic Regression\",fpr, tpr)"
      ]
    },
    {
      "cell_type": "code",
      "execution_count": 34,
      "id": "eea00587",
      "metadata": {
        "colab": {
          "base_uri": "https://localhost:8080/",
          "height": 628
        },
        "id": "eea00587",
        "outputId": "a898f194-c51d-45a2-fe71-e46aef0167b4"
      },
      "outputs": [
        {
          "output_type": "stream",
          "name": "stderr",
          "text": [
            "/usr/local/lib/python3.7/dist-packages/sklearn/base.py:444: UserWarning: X has feature names, but StandardScaler was fitted without feature names\n",
            "  f\"X has feature names, but {self.__class__.__name__} was fitted without\"\n"
          ]
        },
        {
          "output_type": "display_data",
          "data": {
            "text/plain": [
              "<Figure size 432x288 with 1 Axes>"
            ],
            "image/png": "[encoded data removed]"
          },
          "metadata": {
            "needs_background": "light"
          }
        },
        {
          "output_type": "display_data",
          "data": {
            "text/plain": [
              "<Figure size 432x288 with 1 Axes>"
            ],
            "image/png": "[encoded data removed]"
          },
          "metadata": {
            "needs_background": "light"
          }
        }
      ],
      "source": [
        "#model percentile\n",
        "lr_probs = search_logR.predict_proba(X_test)\n",
        "n = len(lr_probs)\n",
        "x_axis = np.arange(n)[::-1]*(100/n)\n",
        "#print(x_axis)\n",
        "\n",
        "# print(lr_probs)\n",
        "lr_probs_y = lr_probs[:, 1]\n",
        "lr_probs_y[::-1].sort()\n",
        "# print(sum(lr_probs_y))\n",
        "#print(lr_probs_y)\n",
        "lr_probs_y_sum = np.cumsum(lr_probs_y)\n",
        "#lr_probs_x = ((sum(lr_probs_y)-lr_probs_y_sum[:])/sum(lr_probs_y))*100\n",
        "\n",
        "\n",
        "#print(lr_probs_y_sum)\n",
        "#goal rate\n",
        "\n",
        "plt.figure()\n",
        "plt.plot(\n",
        "    x_axis,\n",
        "    lr_probs_y,\n",
        ")\n",
        "plt.xlim([101, 0])\n",
        "plt.ylim([-0.05, 1.0])\n",
        "plt.xlabel(\"Shot prob model percentile\")\n",
        "plt.ylabel(\"Goals / (Shots + Goals)\")\n",
        "plt.title(\"Goal Rate of Logistic Regression\")\n",
        "plt.savefig('Goal Rate of Logistic Regression.png')\n",
        "plt.show()\n",
        "\n",
        "\n",
        "#cumulative plot\n",
        "plt.figure()\n",
        "ax = plt.plot(\n",
        "    x_axis,\n",
        "    lr_probs_y_sum/sum(lr_probs_y),\n",
        ")\n",
        "plt.xlim([101, 0])\n",
        "plt.ylim([-0.05, 1.05])\n",
        "plt.xlabel(\"Shot prob model percentile\")\n",
        "plt.ylabel(\"Proportion\")\n",
        "plt.title(\"Cumulative % of goals\")\n",
        "plt.savefig('Cumulative % of goals.png')\n",
        "plt.show()\n",
        "\n"
      ]
    },
    {
      "cell_type": "code",
      "source": [
        "experiment.log_image('Goal Rate of Logistic Regression.png')\n",
        "experiment.log_image('Cumulative % of goals.png')"
      ],
      "metadata": {
        "colab": {
          "base_uri": "https://localhost:8080/"
        },
        "id": "PbLksTTdPpjg",
        "outputId": "9acf4445-5d1f-4e2b-e62e-56471ca2b9d0"
      },
      "id": "PbLksTTdPpjg",
      "execution_count": 35,
      "outputs": [
        {
          "output_type": "execute_result",
          "data": {
            "text/plain": [
              "{'web': 'https://www.comet.com/api/image/download?imageId=a52ee4551eb94ac590c5d4c13b8e60e2&experimentKey=208016e6d69d4c608fd00c00a005956b',\n",
              " 'api': 'https://www.comet.com/api/rest/v1/image/get-image?imageId=a52ee4551eb94ac590c5d4c13b8e60e2&experimentKey=208016e6d69d4c608fd00c00a005956b',\n",
              " 'imageId': 'a52ee4551eb94ac590c5d4c13b8e60e2'}"
            ]
          },
          "metadata": {},
          "execution_count": 35
        }
      ]
    },
    {
      "cell_type": "code",
      "execution_count": 15,
      "id": "4b4bbf3c",
      "metadata": {
        "id": "4b4bbf3c"
      },
      "outputs": [],
      "source": [
        "from sklearn.calibration import CalibrationDisplay"
      ]
    },
    {
      "cell_type": "code",
      "execution_count": 37,
      "id": "da0fd53f",
      "metadata": {
        "colab": {
          "base_uri": "https://localhost:8080/",
          "height": 364
        },
        "id": "da0fd53f",
        "outputId": "42d4f591-65a2-4fbc-b096-d1c00561296b"
      },
      "outputs": [
        {
          "output_type": "display_data",
          "data": {
            "text/plain": [
              "<Figure size 432x288 with 1 Axes>"
            ],
            "image/png": "[encoded data removed]"
          },
          "metadata": {
            "needs_background": "light"
          }
        },
        {
          "output_type": "execute_result",
          "data": {
            "text/plain": [
              "{'web': 'https://www.comet.com/api/image/download?imageId=57f36cc7b5dc4e1ab2af6055b0442a02&experimentKey=208016e6d69d4c608fd00c00a005956b',\n",
              " 'api': 'https://www.comet.com/api/rest/v1/image/get-image?imageId=57f36cc7b5dc4e1ab2af6055b0442a02&experimentKey=208016e6d69d4c608fd00c00a005956b',\n",
              " 'imageId': '57f36cc7b5dc4e1ab2af6055b0442a02'}"
            ]
          },
          "metadata": {},
          "execution_count": 37
        }
      ],
      "source": [
        "disp = CalibrationDisplay.from_estimator(search_logR, X_train, y_train, name='Logistic Regression')\n",
        "plt.title(\"Reliability diagram \")\n",
        "plt.savefig('Reliability diagram.png')\n",
        "plt.show()\n",
        "#experiment.log_curve(f\"Reliability diagram Logistic Regression\",disp)\n",
        "experiment.log_image('Reliability diagram.png')"
      ]
    },
    {
      "cell_type": "code",
      "source": [
        "experiment.end()"
      ],
      "metadata": {
        "colab": {
          "base_uri": "https://localhost:8080/"
        },
        "id": "b2xlASp-QF7q",
        "outputId": "ac32bc70-8eb2-461b-c85c-befc6fd65f9a"
      },
      "id": "b2xlASp-QF7q",
      "execution_count": 38,
      "outputs": [
        {
          "output_type": "stream",
          "name": "stderr",
          "text": [
            "COMET INFO: ---------------------------\n",
            "COMET INFO: Comet.ml Experiment Summary\n",
            "COMET INFO: ---------------------------\n",
            "COMET INFO:   Data:\n",
            "COMET INFO:     display_summary_level : 1\n",
            "COMET INFO:     url                   : https://www.comet.com/ift-6758-2/ift-6758/208016e6d69d4c608fd00c00a005956b\n",
            "COMET INFO:   Metrics:\n",
            "COMET INFO:     Accuracy score Logistic Regression : 0.9034887026683093\n",
            "COMET INFO:   Others:\n",
            "COMET INFO:     notebook_url : https://colab.research.google.com/notebook#fileId=1A6U0XzL0axSkXI5zJ09cR7pEjgmQaPJ7\n",
            "COMET INFO:   Uploads:\n",
            "COMET INFO:     confusion-matrix    : 1\n",
            "COMET INFO:     curve               : 1\n",
            "COMET INFO:     environment details : 1\n",
            "COMET INFO:     filename            : 1\n",
            "COMET INFO:     images              : 3\n",
            "COMET INFO:     installed packages  : 1\n",
            "COMET INFO:     notebook            : 2\n",
            "COMET INFO:     os packages         : 1\n",
            "COMET INFO:     source_code         : 1\n",
            "COMET INFO: ---------------------------\n",
            "COMET WARNING: Comet has disabled auto-logging functionality as it has been imported after the following ML modules: sklearn. Metrics and hyperparameters can still be logged using comet_ml.log_metrics() and comet_ml.log_parameters()\n",
            "COMET INFO: Uploading metrics, params, and assets to Comet before program termination (may take several seconds)\n",
            "COMET INFO: The Python SDK has 3600 seconds to finish before aborting...\n"
          ]
        }
      ]
    },
    {
      "cell_type": "markdown",
      "id": "c8676e14",
      "metadata": {
        "id": "c8676e14"
      },
      "source": [
        "# SVC"
      ]
    },
    {
      "cell_type": "code",
      "execution_count": null,
      "id": "2721ded9",
      "metadata": {
        "id": "2721ded9"
      },
      "outputs": [],
      "source": [
        "from sklearn.svm import SVC"
      ]
    },
    {
      "cell_type": "code",
      "execution_count": null,
      "id": "3bd0804a",
      "metadata": {
        "id": "3bd0804a",
        "colab": {
          "base_uri": "https://localhost:8080/",
          "height": 300
        },
        "outputId": "b1f0795c-e60f-4e23-98e7-b23d76913d7e"
      },
      "outputs": [
        {
          "output_type": "stream",
          "name": "stdout",
          "text": [
            "0.9100512404393755\n"
          ]
        },
        {
          "output_type": "display_data",
          "data": {
            "text/plain": [
              "<Figure size 432x288 with 2 Axes>"
            ],
            "image/png": "[encoded data removed]"
          },
          "metadata": {
            "needs_background": "light"
          }
        }
      ],
      "source": [
        "from sklearn.svm import SVC\n",
        "\n",
        "search_svc = Pipeline(steps=[('scaler', StandardScaler()), (\"pca\", PCA(n_components = 15)), (\"svc\", SVC(kernel='rbf',C=10))])\n",
        "\n",
        "\n",
        "\n",
        "X_train_svm, X_test_svm, y_train_svm, y_test_svm = train_test_split(X_train, y_train, stratify=y_train, test_size=0.10, random_state=0)\n",
        "\n",
        "search_svc.fit(X_test_svm, y_test_svm)\n",
        "\n",
        "\n",
        "\n",
        "print(search_svc.score(X_test, y_test))\n",
        "ConfusionMatrixDisplay.from_estimator(search_svc, X_test, y_test,\n",
        "                                display_labels=['No_Goal','Goal'],\n",
        "                                cmap=plt.cm.Blues)\n",
        "plt.show()"
      ]
    },
    {
      "cell_type": "code",
      "execution_count": null,
      "id": "17b0e128",
      "metadata": {
        "colab": {
          "base_uri": "https://localhost:8080/"
        },
        "id": "17b0e128",
        "outputId": "fb02144e-67a0-4106-c0e2-876bf669014e"
      },
      "outputs": [
        {
          "output_type": "execute_result",
          "data": {
            "text/plain": [
              "0.907468829111782"
            ]
          },
          "metadata": {},
          "execution_count": 17
        }
      ],
      "source": [
        "search_svc.score(test_data,test_label)"
      ]
    },
    {
      "cell_type": "code",
      "source": [
        "lr_probs = search_svc.predict(X_test)\n",
        "lr_probs"
      ],
      "metadata": {
        "id": "WFF9tY6Lyd6q"
      },
      "id": "WFF9tY6Lyd6q",
      "execution_count": null,
      "outputs": []
    },
    {
      "cell_type": "code",
      "source": [
        "#model percentile\n",
        "#lr_probs = search_svc.predict(X_test)\n",
        "n = len(lr_probs)\n",
        "x_axis = np.arange(n)[::-1]*(100/n)\n",
        "#print(x_axis)\n",
        "\n",
        "# print(lr_probs)\n",
        "lr_probs_y = lr_probs\n",
        "lr_probs_y[::-1].sort()\n",
        "# print(sum(lr_probs_y))\n",
        "#print(lr_probs_y)\n",
        "lr_probs_y_sum = np.cumsum(lr_probs_y)\n",
        "#lr_probs_x = ((sum(lr_probs_y)-lr_probs_y_sum[:])/sum(lr_probs_y))*100\n",
        "\n",
        "#print(lr_probs_y_sum)\n",
        "#goal rate\n",
        "\n",
        "plt.figure()\n",
        "plt.plot(\n",
        "    x_axis,\n",
        "    lr_probs_y,\n",
        ")\n",
        "plt.xlim([101, 0])\n",
        "plt.ylim([-0.01, 1.0])\n",
        "plt.xlabel(\"Shot prob model percentile\")\n",
        "plt.ylabel(\"Goals / (Shots + Goals)\")\n",
        "plt.title(\"Goal Rate for random forest\")\n",
        "plt.show()\n",
        "\n",
        "#cumulative plot\n",
        "plt.figure()\n",
        "ax = plt.plot(\n",
        "    x_axis,\n",
        "    lr_probs_y_sum/sum(lr_probs_y),\n",
        ")\n",
        "plt.xlim([101, 0])\n",
        "plt.ylim([-0.01, 1.01])\n",
        "plt.xlabel(\"Shot prob model percentile\")\n",
        "plt.ylabel(\"Proportion\")\n",
        "plt.title(\"Cumulative % of goals\")\n",
        "plt.show()"
      ],
      "metadata": {
        "colab": {
          "base_uri": "https://localhost:8080/",
          "height": 573
        },
        "id": "SECZiXX8xZPC",
        "outputId": "56ee4f2d-1cae-41ab-e803-1165d12a2b7a"
      },
      "id": "SECZiXX8xZPC",
      "execution_count": null,
      "outputs": [
        {
          "output_type": "display_data",
          "data": {
            "text/plain": [
              "<Figure size 432x288 with 1 Axes>"
            ],
            "image/png": "[encoded data removed]"
          },
          "metadata": {
            "needs_background": "light"
          }
        },
        {
          "output_type": "display_data",
          "data": {
            "text/plain": [
              "<Figure size 432x288 with 1 Axes>"
            ],
            "image/png": "[encoded data removed]"
          },
          "metadata": {
            "needs_background": "light"
          }
        }
      ]
    },
    {
      "cell_type": "code",
      "source": [
        "from sklearn.metrics import roc_curve, auc\n",
        "\n",
        "y_score = search_svc.predict(X_train)\n",
        "fpr, tpr, _ = roc_curve(y_train, y_score)\n",
        "roc_auc = auc(fpr, tpr)\n",
        "\n",
        "plt.figure()\n",
        "lw = 2\n",
        "plt.plot(\n",
        "    fpr,\n",
        "    tpr,\n",
        "    color=\"darkorange\",\n",
        "    lw=lw,\n",
        "    label=\"ROC curve (area = %0.2f)\" % roc_auc,\n",
        ")\n",
        "plt.plot([0, 1], [0, 1], color=\"navy\", lw=lw, linestyle=\"--\")\n",
        "plt.xlim([0.0, 1.0])\n",
        "plt.ylim([0.0, 1.05])\n",
        "plt.xlabel(\"False Positive Rate\")\n",
        "plt.ylabel(\"True Positive Rate\")\n",
        "plt.title(\"ROC for random forest\")\n",
        "plt.legend(loc=\"lower right\")\n",
        "\n",
        "\n",
        "plt.show()"
      ],
      "metadata": {
        "colab": {
          "base_uri": "https://localhost:8080/",
          "height": 295
        },
        "id": "yvEcJIj-xbUK",
        "outputId": "bbcef4ef-c841-492f-9d5a-20e16cfac686"
      },
      "id": "yvEcJIj-xbUK",
      "execution_count": null,
      "outputs": [
        {
          "output_type": "display_data",
          "data": {
            "text/plain": [
              "<Figure size 432x288 with 1 Axes>"
            ],
            "image/png": "[encoded data removed]"
          },
          "metadata": {
            "needs_background": "light"
          }
        }
      ]
    },
    {
      "cell_type": "code",
      "source": [
        "disp = CalibrationDisplay.from_estimator(search_svc, X_train, y_train, name='SVC ')\n",
        "plt.title(\"Reliability diagram\")\n",
        "plt.show()"
      ],
      "metadata": {
        "id": "QP7r-lmE0wPJ"
      },
      "id": "QP7r-lmE0wPJ",
      "execution_count": null,
      "outputs": []
    },
    {
      "cell_type": "markdown",
      "id": "2e6c545c",
      "metadata": {
        "id": "2e6c545c"
      },
      "source": [
        "# Random Forest"
      ]
    },
    {
      "cell_type": "code",
      "execution_count": null,
      "id": "c3a0de6b",
      "metadata": {
        "id": "c3a0de6b"
      },
      "outputs": [],
      "source": [
        "from sklearn.ensemble import RandomForestClassifier"
      ]
    },
    {
      "cell_type": "code",
      "execution_count": null,
      "id": "8230cc68",
      "metadata": {
        "id": "8230cc68",
        "outputId": "c115a90a-4e93-47af-fe20-9806ae095e50",
        "colab": {
          "base_uri": "https://localhost:8080/",
          "height": 387
        }
      },
      "outputs": [
        {
          "output_type": "stream",
          "name": "stderr",
          "text": [
            "/usr/local/lib/python3.7/dist-packages/sklearn/base.py:444: UserWarning: X has feature names, but StandardScaler was fitted without feature names\n",
            "  f\"X has feature names, but {self.__class__.__name__} was fitted without\"\n"
          ]
        },
        {
          "output_type": "stream",
          "name": "stdout",
          "text": [
            "0.6034951689732377\n"
          ]
        },
        {
          "output_type": "stream",
          "name": "stderr",
          "text": [
            "/usr/local/lib/python3.7/dist-packages/sklearn/base.py:444: UserWarning: X has feature names, but StandardScaler was fitted without feature names\n",
            "  f\"X has feature names, but {self.__class__.__name__} was fitted without\"\n"
          ]
        },
        {
          "output_type": "display_data",
          "data": {
            "text/plain": [
              "<Figure size 432x288 with 2 Axes>"
            ],
            "image/png": "[encoded data removed]"
          },
          "metadata": {
            "needs_background": "light"
          }
        }
      ],
      "source": [
        "rfc = RandomForestClassifier(n_jobs=-1, n_estimators = 200, max_features = 'sqrt', oob_score = True) \n",
        "\n",
        "search_rf = Pipeline(steps=[('scaler', StandardScaler()), (\"pca\", PCA(n_components = 13)), (\"rfc\",rfc)])\n",
        "\n",
        "\n",
        "search_rf.fit(X_train, y_train)\n",
        "\n",
        "print(search_rf.score(X_test, y_test))\n",
        "ConfusionMatrixDisplay.from_estimator(search_rf, X_test, y_test,\n",
        "                                display_labels=['No_Goal','Goal'],\n",
        "                                cmap=plt.cm.Blues)\n",
        "plt.show()"
      ]
    },
    {
      "cell_type": "code",
      "execution_count": null,
      "id": "8a10a849",
      "metadata": {
        "id": "8a10a849",
        "outputId": "a0a7c18f-4fc5-4d54-dba4-ce0ba43d27c5",
        "colab": {
          "base_uri": "https://localhost:8080/"
        }
      },
      "outputs": [
        {
          "output_type": "stream",
          "name": "stderr",
          "text": [
            "/usr/local/lib/python3.7/dist-packages/sklearn/base.py:444: UserWarning: X has feature names, but StandardScaler was fitted without feature names\n",
            "  f\"X has feature names, but {self.__class__.__name__} was fitted without\"\n"
          ]
        },
        {
          "output_type": "execute_result",
          "data": {
            "text/plain": [
              "0.6106380386370097"
            ]
          },
          "metadata": {},
          "execution_count": 53
        }
      ],
      "source": [
        "search_rf.score(test_data,test_label)"
      ]
    },
    {
      "cell_type": "code",
      "source": [
        "#model percentile\n",
        "lr_probs = search_rf.predict_proba(X_test)\n",
        "n = len(lr_probs)\n",
        "x_axis = np.arange(n)[::-1]*(100/n)\n",
        "#print(x_axis)\n",
        "\n",
        "# print(lr_probs)\n",
        "lr_probs_y = lr_probs[:, 1]\n",
        "lr_probs_y[::-1].sort()\n",
        "# print(sum(lr_probs_y))\n",
        "#print(lr_probs_y)\n",
        "lr_probs_y_sum = np.cumsum(lr_probs_y)\n",
        "#lr_probs_x = ((sum(lr_probs_y)-lr_probs_y_sum[:])/sum(lr_probs_y))*100\n",
        "\n",
        "#print(lr_probs_y_sum)\n",
        "#goal rate\n",
        "\n",
        "plt.figure()\n",
        "plt.plot(\n",
        "    x_axis,\n",
        "    lr_probs_y,\n",
        ")\n",
        "plt.xlim([101, 0])\n",
        "plt.ylim([-0.01, 1.0])\n",
        "plt.xlabel(\"Shot prob model percentile\")\n",
        "plt.ylabel(\"Goals / (Shots + Goals)\")\n",
        "plt.title(\"Goal Rate for random forest\")\n",
        "plt.show()\n",
        "\n",
        "#cumulative plot\n",
        "plt.figure()\n",
        "ax = plt.plot(\n",
        "    x_axis,\n",
        "    lr_probs_y_sum/sum(lr_probs_y),\n",
        ")\n",
        "plt.xlim([101, 0])\n",
        "plt.ylim([-0.01, 1.01])\n",
        "plt.xlabel(\"Shot prob model percentile\")\n",
        "plt.ylabel(\"Proportion\")\n",
        "plt.title(\"Cumulative % of goals\")\n",
        "plt.show()"
      ],
      "metadata": {
        "colab": {
          "base_uri": "https://localhost:8080/",
          "height": 628
        },
        "id": "E4JyRGN8nERi",
        "outputId": "12c87d80-9db8-4817-e0c4-76a5c9ba5652"
      },
      "id": "E4JyRGN8nERi",
      "execution_count": null,
      "outputs": [
        {
          "output_type": "stream",
          "name": "stderr",
          "text": [
            "/usr/local/lib/python3.7/dist-packages/sklearn/base.py:444: UserWarning: X has feature names, but StandardScaler was fitted without feature names\n",
            "  f\"X has feature names, but {self.__class__.__name__} was fitted without\"\n"
          ]
        },
        {
          "output_type": "display_data",
          "data": {
            "text/plain": [
              "<Figure size 432x288 with 1 Axes>"
            ],
            "image/png": "[encoded data removed]"
          },
          "metadata": {
            "needs_background": "light"
          }
        },
        {
          "output_type": "display_data",
          "data": {
            "text/plain": [
              "<Figure size 432x288 with 1 Axes>"
            ],
            "image/png": "[encoded data removed]"
          },
          "metadata": {
            "needs_background": "light"
          }
        }
      ]
    },
    {
      "cell_type": "code",
      "source": [
        "#plot roc\n",
        "from sklearn.metrics import roc_curve, auc\n",
        "\n",
        "y_score = search_rf.predict(X_train)\n",
        "fpr, tpr, _ = roc_curve(y_train, y_score)\n",
        "roc_auc = auc(fpr, tpr)\n",
        "\n",
        "plt.figure()\n",
        "lw = 2\n",
        "plt.plot(\n",
        "    fpr,\n",
        "    tpr,\n",
        "    color=\"darkorange\",\n",
        "    lw=lw,\n",
        "    label=\"ROC curve (area = %0.2f)\" % roc_auc,\n",
        ")\n",
        "plt.plot([0, 1], [0, 1], color=\"navy\", lw=lw, linestyle=\"--\")\n",
        "plt.xlim([0.0, 1.0])\n",
        "plt.ylim([0.0, 1.05])\n",
        "plt.xlabel(\"False Positive Rate\")\n",
        "plt.ylabel(\"True Positive Rate\")\n",
        "plt.title(\"ROC for random forest\")\n",
        "plt.legend(loc=\"lower right\")\n",
        "\n",
        "\n",
        "plt.show()"
      ],
      "metadata": {
        "colab": {
          "base_uri": "https://localhost:8080/",
          "height": 295
        },
        "id": "GzpEadkBh0jG",
        "outputId": "51202fc1-bb1a-4265-ee24-493435225332"
      },
      "id": "GzpEadkBh0jG",
      "execution_count": null,
      "outputs": [
        {
          "output_type": "display_data",
          "data": {
            "text/plain": [
              "<Figure size 432x288 with 1 Axes>"
            ],
            "image/png": "[encoded data removed]"
          },
          "metadata": {
            "needs_background": "light"
          }
        }
      ]
    },
    {
      "cell_type": "code",
      "source": [
        "disp = CalibrationDisplay.from_estimator(search_rf, X_train, y_train, name='random forest ')\n",
        "plt.title(\"Reliability diagram\")\n",
        "plt.show()"
      ],
      "metadata": {
        "colab": {
          "base_uri": "https://localhost:8080/",
          "height": 295
        },
        "id": "NLCISGo9hZed",
        "outputId": "661dad95-3695-4767-bc6e-6613dd5ed823"
      },
      "id": "NLCISGo9hZed",
      "execution_count": null,
      "outputs": [
        {
          "output_type": "display_data",
          "data": {
            "text/plain": [
              "<Figure size 432x288 with 1 Axes>"
            ],
            "image/png": "[encoded data removed]"
          },
          "metadata": {
            "needs_background": "light"
          }
        }
      ]
    },
    {
      "cell_type": "markdown",
      "id": "9c33d969",
      "metadata": {
        "id": "9c33d969"
      },
      "source": [
        "# ada boost"
      ]
    },
    {
      "cell_type": "code",
      "execution_count": null,
      "id": "d99768a5",
      "metadata": {
        "id": "d99768a5"
      },
      "outputs": [],
      "source": [
        "from sklearn.ensemble import AdaBoostClassifier"
      ]
    },
    {
      "cell_type": "code",
      "execution_count": null,
      "id": "4d6d9be9",
      "metadata": {
        "id": "4d6d9be9",
        "outputId": "61348cfe-2d47-4e05-880c-5d6778228140",
        "colab": {
          "base_uri": "https://localhost:8080/",
          "height": 581
        }
      },
      "outputs": [
        {
          "output_type": "stream",
          "name": "stdout",
          "text": [
            "Fitting 5 folds for each of 9 candidates, totalling 45 fits\n",
            "Best parameter (CV score=0.911):\n",
            "{'ada__learning_rate': 0.01, 'ada__n_estimators': 10}\n",
            "Grid scores on development set:\n",
            "\n",
            "0.911 (+/-0.001) for {'ada__learning_rate': 0.01, 'ada__n_estimators': 10}\n",
            "0.911 (+/-0.001) for {'ada__learning_rate': 0.01, 'ada__n_estimators': 12}\n",
            "0.911 (+/-0.001) for {'ada__learning_rate': 0.01, 'ada__n_estimators': 15}\n",
            "0.911 (+/-0.001) for {'ada__learning_rate': 0.1, 'ada__n_estimators': 10}\n",
            "0.911 (+/-0.001) for {'ada__learning_rate': 0.1, 'ada__n_estimators': 12}\n",
            "0.911 (+/-0.001) for {'ada__learning_rate': 0.1, 'ada__n_estimators': 15}\n",
            "0.911 (+/-0.002) for {'ada__learning_rate': 1, 'ada__n_estimators': 10}\n",
            "0.911 (+/-0.001) for {'ada__learning_rate': 1, 'ada__n_estimators': 12}\n",
            "0.911 (+/-0.001) for {'ada__learning_rate': 1, 'ada__n_estimators': 15}\n"
          ]
        },
        {
          "output_type": "stream",
          "name": "stderr",
          "text": [
            "/usr/local/lib/python3.7/dist-packages/sklearn/base.py:444: UserWarning: X has feature names, but StandardScaler was fitted without feature names\n",
            "  f\"X has feature names, but {self.__class__.__name__} was fitted without\"\n"
          ]
        },
        {
          "output_type": "display_data",
          "data": {
            "text/plain": [
              "<Figure size 432x288 with 2 Axes>"
            ],
            "image/png": "[encoded data removed]"
          },
          "metadata": {
            "needs_background": "light"
          }
        }
      ],
      "source": [
        "ada = AdaBoostClassifier()\n",
        "\n",
        "pipe = Pipeline(steps=[('scaler', StandardScaler()), (\"pca\", PCA(n_components = 14)), (\"ada\",ada)])\n",
        "\n",
        "# Parameters of pipelines can be set using ‘__’ separated parameter names:\n",
        "param_grid = { \n",
        "    'ada__n_estimators': [10,12,15],\n",
        "    'ada__learning_rate': [0.01,0.1,1]\n",
        "}\n",
        "\n",
        "\n",
        "search_ada = GridSearchCV(pipe, param_grid, n_jobs=-1,verbose=10)\n",
        "search_ada.fit(X_train, y_train)\n",
        "print(\"Best parameter (CV score=%0.3f):\" % search_ada.best_score_)\n",
        "print(search_ada.best_params_)\n",
        "\n",
        "\n",
        "means = search_ada.cv_results_['mean_test_score']\n",
        "stds = search_ada.cv_results_['std_test_score']\n",
        "for mean, std, params in zip(means, stds, search_ada.cv_results_['params']):\n",
        "    print(\"%0.3f (+/-%0.03f) for %r\"\n",
        "          % (mean, std * 2, params))\n",
        "\n",
        "ConfusionMatrixDisplay.from_estimator(search_ada, X_test, y_test,\n",
        "                                display_labels=['No_Goal','Goal'],\n",
        "                                cmap=plt.cm.Blues)\n",
        "plt.show()"
      ]
    },
    {
      "cell_type": "code",
      "source": [
        "#model percentile\n",
        "lr_probs = search_ada.predict_proba(X_test)\n",
        "n = len(lr_probs)\n",
        "x_axis = np.arange(n)[::-1]*(100/n)\n",
        "#print(x_axis)\n",
        "\n",
        "# print(lr_probs)\n",
        "lr_probs_y = lr_probs[:, 1]\n",
        "lr_probs_y[::-1].sort()\n",
        "# print(sum(lr_probs_y))\n",
        "#print(lr_probs_y)\n",
        "lr_probs_y_sum = np.cumsum(lr_probs_y)\n",
        "#lr_probs_x = ((sum(lr_probs_y)-lr_probs_y_sum[:])/sum(lr_probs_y))*100\n",
        "\n",
        "#print(lr_probs_y_sum)\n",
        "#goal rate\n",
        "\n",
        "plt.figure()\n",
        "plt.plot(\n",
        "    x_axis,\n",
        "    lr_probs_y,\n",
        ")\n",
        "plt.xlim([101, 0])\n",
        "plt.ylim([-0.01, 1.0])\n",
        "plt.xlabel(\"Shot prob model percentile\")\n",
        "plt.ylabel(\"Goals / (Shots + Goals)\")\n",
        "plt.title(\"Goal Rate of ADA\")\n",
        "plt.show()\n",
        "\n",
        "#cumulative plot\n",
        "plt.figure()\n",
        "ax = plt.plot(\n",
        "    x_axis,\n",
        "    lr_probs_y_sum/sum(lr_probs_y),\n",
        ")\n",
        "plt.xlim([101, 0])\n",
        "plt.ylim([-0.01, 1.01])\n",
        "plt.xlabel(\"Shot prob model percentile\")\n",
        "plt.ylabel(\"Proportion\")\n",
        "plt.title(\"Cumulative % of goals\")\n",
        "plt.show()"
      ],
      "metadata": {
        "colab": {
          "base_uri": "https://localhost:8080/",
          "height": 628
        },
        "id": "VHnEoLZRmxMo",
        "outputId": "6e68f144-b3f7-4485-8687-fa9778ed0c65"
      },
      "id": "VHnEoLZRmxMo",
      "execution_count": null,
      "outputs": [
        {
          "output_type": "stream",
          "name": "stderr",
          "text": [
            "/usr/local/lib/python3.7/dist-packages/sklearn/base.py:444: UserWarning: X has feature names, but StandardScaler was fitted without feature names\n",
            "  f\"X has feature names, but {self.__class__.__name__} was fitted without\"\n"
          ]
        },
        {
          "output_type": "display_data",
          "data": {
            "text/plain": [
              "<Figure size 432x288 with 1 Axes>"
            ],
            "image/png": "[encoded data removed]"
          },
          "metadata": {
            "needs_background": "light"
          }
        },
        {
          "output_type": "display_data",
          "data": {
            "text/plain": [
              "<Figure size 432x288 with 1 Axes>"
            ],
            "image/png": "[encoded data removed]"
          },
          "metadata": {
            "needs_background": "light"
          }
        }
      ]
    },
    {
      "cell_type": "code",
      "source": [
        "#plot roc\n",
        "from sklearn.metrics import roc_curve, auc\n",
        "\n",
        "y_score = search_ada.predict(X_train)\n",
        "fpr, tpr, _ = roc_curve(y_train, y_score)\n",
        "roc_auc = auc(fpr, tpr)\n",
        "\n",
        "plt.figure()\n",
        "lw = 2\n",
        "plt.plot(\n",
        "    fpr,\n",
        "    tpr,\n",
        "    color=\"darkorange\",\n",
        "    lw=lw,\n",
        "    label=\"ROC curve (area = %0.2f)\" % roc_auc,\n",
        ")\n",
        "plt.plot([0, 1], [0, 1], color=\"navy\", lw=lw, linestyle=\"--\")\n",
        "plt.xlim([0.0, 1.0])\n",
        "plt.ylim([0.0, 1.05])\n",
        "plt.xlabel(\"False Positive Rate\")\n",
        "plt.ylabel(\"True Positive Rate\")\n",
        "plt.title(\"ROC of ADA\")\n",
        "plt.legend(loc=\"lower right\")\n",
        "\n",
        "\n",
        "plt.show()"
      ],
      "metadata": {
        "colab": {
          "base_uri": "https://localhost:8080/",
          "height": 295
        },
        "id": "HfK-jugbjlTS",
        "outputId": "3176cd59-9191-49cd-c5dc-0eaa0f6540f6"
      },
      "id": "HfK-jugbjlTS",
      "execution_count": null,
      "outputs": [
        {
          "output_type": "display_data",
          "data": {
            "text/plain": [
              "<Figure size 432x288 with 1 Axes>"
            ],
            "image/png": "[encoded data removed]"
          },
          "metadata": {
            "needs_background": "light"
          }
        }
      ]
    },
    {
      "cell_type": "code",
      "source": [
        "disp = CalibrationDisplay.from_estimator(search_ada, X_train, y_train, name='ada')\n",
        "plt.title(\"Reliability diagram\")\n",
        "plt.show()"
      ],
      "metadata": {
        "colab": {
          "base_uri": "https://localhost:8080/",
          "height": 295
        },
        "id": "-M_GGHg3kWMi",
        "outputId": "03148187-91e9-43e6-e7a1-53e8884aceca"
      },
      "id": "-M_GGHg3kWMi",
      "execution_count": null,
      "outputs": [
        {
          "output_type": "display_data",
          "data": {
            "text/plain": [
              "<Figure size 432x288 with 1 Axes>"
            ],
            "image/png": "[encoded data removed]"
          },
          "metadata": {
            "needs_background": "light"
          }
        }
      ]
    },
    {
      "cell_type": "code",
      "execution_count": null,
      "id": "3cff82a8",
      "metadata": {
        "id": "3cff82a8",
        "outputId": "f4141749-5978-4119-9ac9-005a5d28ba78",
        "colab": {
          "base_uri": "https://localhost:8080/"
        }
      },
      "outputs": [
        {
          "output_type": "stream",
          "name": "stderr",
          "text": [
            "/usr/local/lib/python3.7/dist-packages/sklearn/base.py:444: UserWarning: X has feature names, but StandardScaler was fitted without feature names\n",
            "  f\"X has feature names, but {self.__class__.__name__} was fitted without\"\n"
          ]
        },
        {
          "output_type": "execute_result",
          "data": {
            "text/plain": [
              "0.9023921372195974"
            ]
          },
          "metadata": {},
          "execution_count": 62
        }
      ],
      "source": [
        "search_ada.score(test_data,test_label)"
      ]
    },
    {
      "cell_type": "markdown",
      "id": "73f12cd5",
      "metadata": {
        "id": "73f12cd5"
      },
      "source": [
        "# NN"
      ]
    },
    {
      "cell_type": "code",
      "source": [
        "experiment_NN = Experiment(\n",
        "    api_key=COMET_API_KEY,\n",
        "    project_name=\"ift-6758\",\n",
        "    workspace=\"ift-6758-2\",\n",
        ")"
      ],
      "metadata": {
        "colab": {
          "base_uri": "https://localhost:8080/"
        },
        "id": "NDztfIBsSvrf",
        "outputId": "122cd5b9-523f-4518-b535-4e4582273067"
      },
      "id": "NDztfIBsSvrf",
      "execution_count": 45,
      "outputs": [
        {
          "output_type": "stream",
          "name": "stderr",
          "text": [
            "COMET WARNING: Comet has disabled auto-logging functionality as it has been imported after the following ML modules: sklearn. Metrics and hyperparameters can still be logged using comet_ml.log_metrics() and comet_ml.log_parameters()\n",
            "COMET WARNING: As you are running in a Jupyter environment, you will need to call `experiment.end()` when finished to ensure all metrics and code are logged before exiting.\n",
            "COMET ERROR: Failed to calculate active processors count. Fall back to default CPU count 1\n",
            "COMET INFO: Couldn't find a Git repository in '/content' nor in any parent directory. You can override where Comet is looking for a Git Patch by setting the configuration `COMET_GIT_DIRECTORY`\n",
            "COMET INFO: Experiment is live on comet.com https://www.comet.com/ift-6758-2/ift-6758/9079de8588a74001b6b6c4c379994abc\n",
            "\n"
          ]
        }
      ]
    },
    {
      "cell_type": "code",
      "execution_count": 39,
      "id": "3c0a2fab",
      "metadata": {
        "id": "3c0a2fab"
      },
      "outputs": [],
      "source": [
        "from sklearn.neural_network import MLPClassifier"
      ]
    },
    {
      "cell_type": "code",
      "execution_count": 40,
      "id": "2880e8c7",
      "metadata": {
        "colab": {
          "base_uri": "https://localhost:8080/",
          "height": 928
        },
        "id": "2880e8c7",
        "outputId": "860da7c6-7fe4-446b-a479-2fb6afc9e2ba"
      },
      "outputs": [
        {
          "output_type": "stream",
          "name": "stdout",
          "text": [
            "Fitting 5 folds for each of 4 candidates, totalling 20 fits\n",
            "Iteration 1, loss = 0.29865589\n",
            "Validation score: 0.910669\n",
            "Iteration 2, loss = 0.27094373\n",
            "Validation score: 0.910669\n",
            "Iteration 3, loss = 0.26982597\n",
            "Validation score: 0.910669\n",
            "Iteration 4, loss = 0.26939256\n",
            "Validation score: 0.910669\n",
            "Iteration 5, loss = 0.26911523\n",
            "Validation score: 0.910669\n",
            "Iteration 6, loss = 0.26897999\n",
            "Validation score: 0.910669\n",
            "Iteration 7, loss = 0.26886802\n",
            "Validation score: 0.910669\n",
            "Iteration 8, loss = 0.26867571\n",
            "Validation score: 0.910744\n",
            "Iteration 9, loss = 0.26857672\n",
            "Validation score: 0.910669\n",
            "Iteration 10, loss = 0.26854865\n",
            "Validation score: 0.910669\n",
            "Iteration 11, loss = 0.26844731\n",
            "Validation score: 0.910669\n",
            "Iteration 12, loss = 0.26841346\n",
            "Validation score: 0.910669\n",
            "Validation score did not improve more than tol=0.000100 for 10 consecutive epochs. Stopping.\n",
            "Best parameter (CV score=0.911):\n",
            "{'mlp__hidden_layer_sizes': (20, 20, 20)}\n",
            "Grid scores on development set:\n",
            "\n",
            "0.911 (+/-0.001) for {'mlp__hidden_layer_sizes': (60, 60)}\n",
            "0.911 (+/-0.001) for {'mlp__hidden_layer_sizes': (20, 20, 20)}\n",
            "0.911 (+/-0.001) for {'mlp__hidden_layer_sizes': (100, 100)}\n",
            "0.911 (+/-0.001) for {'mlp__hidden_layer_sizes': 200}\n"
          ]
        },
        {
          "output_type": "stream",
          "name": "stderr",
          "text": [
            "/usr/local/lib/python3.7/dist-packages/sklearn/base.py:444: UserWarning: X has feature names, but StandardScaler was fitted without feature names\n",
            "  f\"X has feature names, but {self.__class__.__name__} was fitted without\"\n"
          ]
        },
        {
          "output_type": "display_data",
          "data": {
            "text/plain": [
              "<Figure size 432x288 with 2 Axes>"
            ],
            "image/png": "[encoded data removed]"
          },
          "metadata": {
            "needs_background": "light"
          }
        }
      ],
      "source": [
        "mlp = MLPClassifier(batch_size=500, activation = 'relu', learning_rate='adaptive', max_iter=200, verbose=True,  early_stopping=True)\n",
        "\n",
        "\n",
        "pipe = Pipeline(steps=[('scaler', StandardScaler()), (\"pca\", PCA(n_components = 13)), (\"mlp\",mlp)])\n",
        "\n",
        "# Parameters of pipelines can be set using ‘__’ separated parameter names:\n",
        "parameter_space = {\n",
        "    'mlp__hidden_layer_sizes': [(60,60),(20,20,20),(100,100),(200)],\n",
        "}\n",
        "\n",
        "\n",
        "search_mlp = GridSearchCV(pipe, parameter_space, n_jobs=-1, verbose=10)\n",
        "search_mlp.fit(X_train, y_train)\n",
        "print(\"Best parameter (CV score=%0.3f):\" % search_mlp.best_score_)\n",
        "print(search_mlp.best_params_)\n",
        "\n",
        "print(\"Grid scores on development set:\")\n",
        "print()\n",
        "means = search_mlp.cv_results_['mean_test_score']\n",
        "stds = search_mlp.cv_results_['std_test_score']\n",
        "for mean, std, params in zip(means, stds, search_mlp.cv_results_['params']):\n",
        "    print(\"%0.3f (+/-%0.03f) for %r\"\n",
        "          % (mean, std * 2, params))\n",
        "\n",
        "ConfusionMatrixDisplay.from_estimator(search_mlp, X_test, y_test,\n",
        "                                display_labels=['No_Goal','Goal'],\n",
        "                                cmap=plt.cm.Blues)\n",
        "plt.show()"
      ]
    },
    {
      "cell_type": "code",
      "source": [
        "acc_NN = search_mlp.score(test_data,test_label)\n",
        "pred_NN = search_mlp.predict(test_data)"
      ],
      "metadata": {
        "colab": {
          "base_uri": "https://localhost:8080/"
        },
        "id": "3uCBj-HIR2Bf",
        "outputId": "62f3cdae-171c-4230-a0d8-b9614d2574e0"
      },
      "id": "3uCBj-HIR2Bf",
      "execution_count": 49,
      "outputs": [
        {
          "output_type": "stream",
          "name": "stderr",
          "text": [
            "/usr/local/lib/python3.7/dist-packages/sklearn/base.py:444: UserWarning: X has feature names, but StandardScaler was fitted without feature names\n",
            "  f\"X has feature names, but {self.__class__.__name__} was fitted without\"\n",
            "/usr/local/lib/python3.7/dist-packages/sklearn/base.py:444: UserWarning: X has feature names, but StandardScaler was fitted without feature names\n",
            "  f\"X has feature names, but {self.__class__.__name__} was fitted without\"\n"
          ]
        }
      ]
    },
    {
      "cell_type": "code",
      "source": [
        "acc_NN"
      ],
      "metadata": {
        "colab": {
          "base_uri": "https://localhost:8080/"
        },
        "id": "RLFLKalBYzRg",
        "outputId": "99afe0c0-d058-4a4f-8bd3-68a28c39d781"
      },
      "id": "RLFLKalBYzRg",
      "execution_count": 61,
      "outputs": [
        {
          "output_type": "execute_result",
          "data": {
            "text/plain": [
              "0.9032720971475761"
            ]
          },
          "metadata": {},
          "execution_count": 61
        }
      ]
    },
    {
      "cell_type": "code",
      "source": [
        "experiment_NN.log_metric(\"Accuracy score Neural Networks\", acc_NN)\n",
        "experiment_NN.log_confusion_matrix(test_label,pred_NN)"
      ],
      "metadata": {
        "colab": {
          "base_uri": "https://localhost:8080/"
        },
        "id": "xBiBTdPpTKpl",
        "outputId": "3aa0b01d-04d2-4a12-a237-3c20542b947e"
      },
      "id": "xBiBTdPpTKpl",
      "execution_count": 51,
      "outputs": [
        {
          "output_type": "execute_result",
          "data": {
            "text/plain": [
              "{'web': 'https://www.comet.com/api/asset/download?assetId=6beb2b2c87d348298922b6e548fdf513&experimentKey=9079de8588a74001b6b6c4c379994abc',\n",
              " 'api': 'https://www.comet.com/api/rest/v2/experiment/asset/get-asset?assetId=6beb2b2c87d348298922b6e548fdf513&experimentKey=9079de8588a74001b6b6c4c379994abc',\n",
              " 'assetId': '6beb2b2c87d348298922b6e548fdf513'}"
            ]
          },
          "metadata": {},
          "execution_count": 51
        }
      ]
    },
    {
      "cell_type": "code",
      "source": [
        "#model percentile\n",
        "lr_probs = search_mlp.predict_proba(X_test)\n",
        "n = len(lr_probs)\n",
        "x_axis = np.arange(n)[::-1]*(100/n)\n",
        "#print(x_axis)\n",
        "\n",
        "# print(lr_probs)\n",
        "lr_probs_y = lr_probs[:, 1]\n",
        "lr_probs_y[::-1].sort()\n",
        "# print(sum(lr_probs_y))\n",
        "#print(lr_probs_y)\n",
        "lr_probs_y_sum = np.cumsum(lr_probs_y)\n",
        "#lr_probs_x = ((sum(lr_probs_y)-lr_probs_y_sum[:])/sum(lr_probs_y))*100\n",
        "\n",
        "#print(lr_probs_y_sum)\n",
        "#goal rate\n",
        "\n",
        "plt.figure()\n",
        "plt.plot(\n",
        "    x_axis,\n",
        "    lr_probs_y,\n",
        ")\n",
        "plt.xlim([101, 0])\n",
        "plt.ylim([-0.01, 1.0])\n",
        "plt.xlabel(\"Shot prob model percentile\")\n",
        "plt.ylabel(\"Goals / (Shots + Goals)\")\n",
        "plt.title(\"Goal Rate of MLP\")\n",
        "plt.savefig('Goal Rate of MLP.png')\n",
        "plt.show()\n",
        "\n",
        "#cumulative plot\n",
        "plt.figure()\n",
        "ax = plt.plot(\n",
        "    x_axis,\n",
        "    lr_probs_y_sum/sum(lr_probs_y),\n",
        ")\n",
        "plt.xlim([101, 0])\n",
        "plt.ylim([-0.01, 1.01])\n",
        "plt.xlabel(\"Shot prob model percentile\")\n",
        "plt.ylabel(\"Proportion\")\n",
        "plt.title(\"Cumulative % of goals\")\n",
        "plt.savefig(\"Cumulative % of goals MLP\")\n",
        "plt.show()"
      ],
      "metadata": {
        "colab": {
          "base_uri": "https://localhost:8080/",
          "height": 628
        },
        "id": "NXsIq2gNmUxg",
        "outputId": "361ccf7e-47f4-4108-d91c-fd0269e08d7f"
      },
      "id": "NXsIq2gNmUxg",
      "execution_count": 52,
      "outputs": [
        {
          "output_type": "stream",
          "name": "stderr",
          "text": [
            "/usr/local/lib/python3.7/dist-packages/sklearn/base.py:444: UserWarning: X has feature names, but StandardScaler was fitted without feature names\n",
            "  f\"X has feature names, but {self.__class__.__name__} was fitted without\"\n"
          ]
        },
        {
          "output_type": "display_data",
          "data": {
            "text/plain": [
              "<Figure size 432x288 with 1 Axes>"
            ],
            "image/png": "[encoded data removed]"
          },
          "metadata": {
            "needs_background": "light"
          }
        },
        {
          "output_type": "display_data",
          "data": {
            "text/plain": [
              "<Figure size 432x288 with 1 Axes>"
            ],
            "image/png": "[encoded data removed]"
          },
          "metadata": {
            "needs_background": "light"
          }
        }
      ]
    },
    {
      "cell_type": "code",
      "source": [
        "experiment.log_image('Goal Rate of MLP.png')\n",
        "experiment.log_image('Cumulative % of goals MLP.png')"
      ],
      "metadata": {
        "id": "xqoAcxtPUzOZ"
      },
      "id": "xqoAcxtPUzOZ",
      "execution_count": 53,
      "outputs": []
    },
    {
      "cell_type": "code",
      "source": [
        "#plot roc\n",
        "from sklearn.metrics import roc_curve, auc\n",
        "\n",
        "y_score = search_mlp.predict(X_train)\n",
        "fpr_nn, tpr_nn, _ = roc_curve(y_train, y_score)\n",
        "roc_auc = auc(fpr_nn, tpr_nn)\n",
        "\n",
        "plt.figure()\n",
        "lw = 2\n",
        "plt.plot(\n",
        "    fpr_nn,\n",
        "    tpr_nn,\n",
        "    color=\"darkorange\",\n",
        "    lw=lw,\n",
        "    label=\"ROC curve (area = %0.2f)\" % roc_auc,\n",
        ")\n",
        "plt.plot([0, 1], [0, 1], color=\"navy\", lw=lw, linestyle=\"--\")\n",
        "plt.xlim([0.0, 1.0])\n",
        "plt.ylim([0.0, 1.05])\n",
        "plt.xlabel(\"False Positive Rate\")\n",
        "plt.ylabel(\"True Positive Rate\")\n",
        "plt.title(\"ROC of MLP\")\n",
        "plt.legend(loc=\"lower right\")\n",
        "\n",
        "\n",
        "plt.show()"
      ],
      "metadata": {
        "id": "6UcP580UT2al",
        "colab": {
          "base_uri": "https://localhost:8080/",
          "height": 295
        },
        "outputId": "f746e2a0-3115-40cc-fa0f-52907267807d"
      },
      "id": "6UcP580UT2al",
      "execution_count": 54,
      "outputs": [
        {
          "output_type": "display_data",
          "data": {
            "text/plain": [
              "<Figure size 432x288 with 1 Axes>"
            ],
            "image/png": "[encoded data removed]"
          },
          "metadata": {
            "needs_background": "light"
          }
        }
      ]
    },
    {
      "cell_type": "code",
      "execution_count": 55,
      "id": "7925fbff",
      "metadata": {
        "id": "7925fbff"
      },
      "outputs": [],
      "source": [
        "experiment.log_curve(f\"ROC - MLP\",fpr_nn, tpr_nn)"
      ]
    },
    {
      "cell_type": "code",
      "execution_count": 56,
      "id": "830dcc8d",
      "metadata": {
        "colab": {
          "base_uri": "https://localhost:8080/",
          "height": 295
        },
        "id": "830dcc8d",
        "outputId": "84e11ad9-7bc7-474b-9ab6-02531ff1d06c"
      },
      "outputs": [
        {
          "output_type": "display_data",
          "data": {
            "text/plain": [
              "<Figure size 432x288 with 1 Axes>"
            ],
            "image/png": "[encoded data removed]"
          },
          "metadata": {
            "needs_background": "light"
          }
        }
      ],
      "source": [
        "disp = CalibrationDisplay.from_estimator(search_mlp, X_train, y_train, name='Multilayer')\n",
        "plt.title(\"Reliability diagram\")\n",
        "plt.savefig(\"Reliability diagram_MLP\")\n",
        "plt.show()"
      ]
    },
    {
      "cell_type": "code",
      "source": [
        "experiment.log_image('Reliability diagram.png')"
      ],
      "metadata": {
        "id": "AwSMKesMR1L8"
      },
      "id": "AwSMKesMR1L8",
      "execution_count": 57,
      "outputs": []
    },
    {
      "cell_type": "code",
      "source": [
        "experiment_NN.end()"
      ],
      "metadata": {
        "id": "DHnGJdf0lUJY",
        "colab": {
          "base_uri": "https://localhost:8080/"
        },
        "outputId": "b21de534-6e31-49ce-f315-f6bd0ff7ba21"
      },
      "id": "DHnGJdf0lUJY",
      "execution_count": 58,
      "outputs": [
        {
          "output_type": "stream",
          "name": "stderr",
          "text": [
            "COMET INFO: ---------------------------\n",
            "COMET INFO: Comet.ml Experiment Summary\n",
            "COMET INFO: ---------------------------\n",
            "COMET INFO:   Data:\n",
            "COMET INFO:     display_summary_level : 1\n",
            "COMET INFO:     url                   : https://www.comet.com/ift-6758-2/ift-6758/9079de8588a74001b6b6c4c379994abc\n",
            "COMET INFO:   Metrics:\n",
            "COMET INFO:     Accuracy score Neural Networks : 0.9032720971475761\n",
            "COMET INFO:   Others:\n",
            "COMET INFO:     notebook_url : https://colab.research.google.com/notebook#fileId=1A6U0XzL0axSkXI5zJ09cR7pEjgmQaPJ7\n",
            "COMET INFO:   Uploads:\n",
            "COMET INFO:     confusion-matrix    : 1\n",
            "COMET INFO:     environment details : 1\n",
            "COMET INFO:     filename            : 1\n",
            "COMET INFO:     installed packages  : 1\n",
            "COMET INFO:     notebook            : 2\n",
            "COMET INFO:     os packages         : 1\n",
            "COMET INFO:     source_code         : 1\n",
            "COMET INFO: ---------------------------\n",
            "COMET WARNING: Comet has disabled auto-logging functionality as it has been imported after the following ML modules: sklearn. Metrics and hyperparameters can still be logged using comet_ml.log_metrics() and comet_ml.log_parameters()\n",
            "COMET INFO: Uploading 1 metrics, params and output messages\n",
            "COMET INFO: Waiting for completion of the file uploads (may take several seconds)\n",
            "COMET INFO: The Python SDK has 10800 seconds to finish before aborting...\n",
            "COMET INFO: Still uploading 1 file(s), remaining 499.13 KB/548.07 KB\n"
          ]
        }
      ]
    },
    {
      "cell_type": "code",
      "source": [],
      "metadata": {
        "id": "WfzZTNlDV_FT"
      },
      "id": "WfzZTNlDV_FT",
      "execution_count": null,
      "outputs": []
    }
  ],
  "metadata": {
    "kernelspec": {
      "display_name": "Python 3 (ipykernel)",
      "language": "python",
      "name": "python3"
    },
    "language_info": {
      "codemirror_mode": {
        "name": "ipython",
        "version": 3
      },
      "file_extension": ".py",
      "mimetype": "text/x-python",
      "name": "python",
      "nbconvert_exporter": "python",
      "pygments_lexer": "ipython3",
      "version": "3.9.6"
    },
    "colab": {
      "provenance": [],
      "collapsed_sections": [
        "945d0140",
        "2e6c545c",
        "9c33d969",
        "73f12cd5"
      ]
    }
  },
  "nbformat": 4,
  "nbformat_minor": 5
}